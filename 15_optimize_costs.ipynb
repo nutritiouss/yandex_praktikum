{
 "cells": [
  {
   "cell_type": "markdown",
   "metadata": {},
   "source": [
    "## Описание обьекта"
   ]
  },
  {
   "cell_type": "markdown",
   "metadata": {},
   "source": [
    "Чтобы оптимизировать производственные расходы, металлургический комбинат ООО «Так закаляем сталь» решил уменьшить потребление электроэнергии на этапе обработки стали. Вам предстоит построить модель, которая предскажет температуру стали.\n",
    "\n",
    "- Критерии оценки проекта «Промышленность»\n",
    "\n",
    "    Целевой признак: последняя измеренная температура.\n",
    "\n",
    "    Метрика: MAE\n",
    "\n",
    "    Критерии оценки\n",
    "\n",
    "    - MAE > 8.7 — 0 sp\n",
    "    - 7.6 < MAE ≤ 8.7 — 4 sp\n",
    "    - 6.8 < MAE ≤ 7.6 — 4.5 sp\n",
    "    - 6.3 < MAE ≤ 6.8 — 5 sp\n",
    "    - 6.0 < MAE ≤ 6.3 — 5.5 sp\n",
    "    - MAE ≤ 6.0 — 6 sp"
   ]
  },
  {
   "cell_type": "markdown",
   "metadata": {},
   "source": [
    "### Описание этапа обработки"
   ]
  },
  {
   "cell_type": "markdown",
   "metadata": {},
   "source": [
    "Сталь обрабатывают в металлическом ковше вместимостью около 100 тонн. Чтобы ковш выдерживал высокие температуры, изнутри его облицовывают огнеупорным кирпичом. Расплавленную сталь заливают в ковш и подогревают до нужной температуры графитовыми электродами. Они установлены в крышке ковша. \n",
    "\n",
    "Из сплава выводится сера (десульфурация), добавлением примесей корректируется химический состав и отбираются пробы. Сталь легируют — изменяют её состав — подавая куски сплава из бункера для сыпучих материалов или проволоку через специальный трайб-аппарат (англ. tribe, «масса»).\n",
    "\n",
    "Перед тем как первый раз ввести легирующие добавки, измеряют температуру стали и производят её химический анализ. Потом температуру на несколько минут повышают, добавляют легирующие материалы и продувают сплав инертным газом. Затем его перемешивают и снова проводят измерения. Такой цикл повторяется до достижения целевого химического состава и оптимальной температуры плавки.\n",
    "\n",
    "Тогда расплавленная сталь отправляется на доводку металла или поступает в машину непрерывной разливки. Оттуда готовый продукт выходит в виде заготовок-слябов (англ. *slab*, «плита»)."
   ]
  },
  {
   "cell_type": "markdown",
   "metadata": {},
   "source": [
    "### Описание данных"
   ]
  },
  {
   "cell_type": "markdown",
   "metadata": {},
   "source": [
    "Данные состоят из файлов, полученных из разных источников:\n",
    "\n",
    "- `data_arc.csv` — данные об электродах;\n",
    "- `data_bulk.csv` — данные о подаче сыпучих материалов (объём);\n",
    "- `data_bulk_time.csv` *—* данные о подаче сыпучих материалов (время);\n",
    "- `data_gas.csv` — данные о продувке сплава газом;\n",
    "- `data_temp.csv` — результаты измерения температуры;\n",
    "- `data_wire.csv` — данные о проволочных материалах (объём);\n",
    "- `data_wire_time.csv` — данные о проволочных материалах (время).\n",
    "\n",
    "Во всех файлах столбец `key` содержит номер партии. В файлах может быть несколько строк с одинаковым значением `key`: они соответствуют разным итерациям обработки."
   ]
  },
  {
   "cell_type": "markdown",
   "metadata": {},
   "source": [
    "## Исследовательский анализ данных"
   ]
  },
  {
   "cell_type": "markdown",
   "metadata": {},
   "source": [
    "Вам поручили изучить характеристики процесса обработки стали. Для каждого значения столбца key найдите:\n",
    "\n",
    "- Длительность времени между первым и последним замером температуры.\n",
    "- Суммарное время нагрева электродами, то есть сумму значений по всем промежуткам между запусками нагрева электродов.\n",
    "<br>Количество запусков нагрева электродами.\n",
    "<br>Среднее соотношение потребления активной и реактивной мощности.\n",
    "<br>По всем полученным столбцам вычислите статистики: средние, минимальные и максимальные значения, медиану и величины 25%- и 75%-квартилей."
   ]
  },
  {
   "cell_type": "code",
   "execution_count": 1,
   "metadata": {
    "collapsed": true
   },
   "outputs": [
    {
     "name": "stdout",
     "output_type": "stream",
     "text": [
      "Defaulting to user installation because normal site-packages is not writeable\n",
      "Requirement already up-to-date: seaborn in /home/jovyan/.local/lib/python3.7/site-packages (0.11.1)\n",
      "Requirement already up-to-date: lightgbm in /home/jovyan/.local/lib/python3.7/site-packages (3.2.1)\n",
      "Requirement already satisfied, skipping upgrade: pandas>=0.23 in /opt/conda/lib/python3.7/site-packages (from seaborn) (0.25.1)\n",
      "Requirement already satisfied, skipping upgrade: numpy>=1.15 in /opt/conda/lib/python3.7/site-packages (from seaborn) (1.19.5)\n",
      "Requirement already satisfied, skipping upgrade: scipy>=1.0 in /opt/conda/lib/python3.7/site-packages (from seaborn) (1.4.1)\n",
      "Requirement already satisfied, skipping upgrade: matplotlib>=2.2 in /opt/conda/lib/python3.7/site-packages (from seaborn) (3.1.0)\n",
      "Requirement already satisfied, skipping upgrade: scikit-learn!=0.22.0 in /opt/conda/lib/python3.7/site-packages (from lightgbm) (0.21.2)\n",
      "Requirement already satisfied, skipping upgrade: wheel in /opt/conda/lib/python3.7/site-packages (from lightgbm) (0.35.1)\n",
      "Requirement already satisfied, skipping upgrade: python-dateutil>=2.6.1 in /opt/conda/lib/python3.7/site-packages (from pandas>=0.23->seaborn) (2.8.1)\n",
      "Requirement already satisfied, skipping upgrade: pytz>=2017.2 in /opt/conda/lib/python3.7/site-packages (from pandas>=0.23->seaborn) (2021.1)\n",
      "Requirement already satisfied, skipping upgrade: pyparsing!=2.0.4,!=2.1.2,!=2.1.6,>=2.0.1 in /opt/conda/lib/python3.7/site-packages (from matplotlib>=2.2->seaborn) (2.4.7)\n",
      "Requirement already satisfied, skipping upgrade: cycler>=0.10 in /opt/conda/lib/python3.7/site-packages (from matplotlib>=2.2->seaborn) (0.10.0)\n",
      "Requirement already satisfied, skipping upgrade: kiwisolver>=1.0.1 in /opt/conda/lib/python3.7/site-packages (from matplotlib>=2.2->seaborn) (1.3.1)\n",
      "Requirement already satisfied, skipping upgrade: joblib>=0.11 in /opt/conda/lib/python3.7/site-packages (from scikit-learn!=0.22.0->lightgbm) (1.0.1)\n",
      "Requirement already satisfied, skipping upgrade: six>=1.5 in /opt/conda/lib/python3.7/site-packages (from python-dateutil>=2.6.1->pandas>=0.23->seaborn) (1.15.0)\n"
     ]
    }
   ],
   "source": [
    "!pip install seaborn lightgbm --upgrade"
   ]
  },
  {
   "cell_type": "code",
   "execution_count": 2,
   "metadata": {},
   "outputs": [],
   "source": [
    "import pandas as pd\n",
    "import numpy as np\n",
    "\n",
    "\n",
    "from IPython.display import display\n",
    "\n",
    "import seaborn as sns\n",
    "import matplotlib.pyplot as plt\n",
    "\n",
    "\n",
    "from sklearn.model_selection import train_test_split,cross_val_score\n",
    "from  sklearn.linear_model import LinearRegression\n",
    "\n",
    "import time\n",
    "from sklearn.tree import DecisionTreeRegressor\n",
    "from sklearn.metrics import mean_squared_error,mean_absolute_error\n",
    "from sklearn.metrics import make_scorer\n",
    "from lightgbm import LGBMRegressor\n",
    "from sklearn.dummy import DummyRegressor\n",
    "\n",
    "import warnings\n",
    "warnings.simplefilter(action='ignore', category=FutureWarning)\n",
    "\n",
    "\n",
    "\n",
    "\n",
    "#Будем отображать 2 знака после запятой\n",
    "pd.set_option(\"precision\", 2)"
   ]
  },
  {
   "cell_type": "markdown",
   "metadata": {},
   "source": [
    "## Подготовка данных"
   ]
  },
  {
   "cell_type": "raw",
   "metadata": {},
   "source": [
    "df_arc = pd.read_csv('data_arc.csv')\n",
    "df_bulk = pd.read_csv('data_bulk.csv')\n",
    "df_bulk_time = pd.read_csv('data_bulk_time.csv')\n",
    "df_gas = pd.read_csv('data_gas.csv')\n",
    "df_wire = pd.read_csv('data_wire.csv')\n",
    "df_wire_time = pd.read_csv('data_wire_time.csv')\n",
    "df_temp = pd.read_csv('data_temp.csv')"
   ]
  },
  {
   "cell_type": "code",
   "execution_count": 3,
   "metadata": {},
   "outputs": [],
   "source": [
    "df_arc = pd.read_csv('/datasets/final_steel/data_arc.csv')\n",
    "df_bulk = pd.read_csv('/datasets/final_steel/data_bulk.csv')\n",
    "df_bulk_time = pd.read_csv('/datasets/final_steel/data_bulk_time.csv')\n",
    "df_gas = pd.read_csv('/datasets/final_steel/data_gas.csv')\n",
    "df_temp = pd.read_csv('/datasets/final_steel/data_temp.csv')\n",
    "df_wire = pd.read_csv('/datasets/final_steel/data_wire.csv')\n",
    "df_wire_time = pd.read_csv('/datasets/final_steel/data_wire_time.csv')"
   ]
  },
  {
   "cell_type": "markdown",
   "metadata": {},
   "source": [
    "### Таблица arc "
   ]
  },
  {
   "cell_type": "code",
   "execution_count": 4,
   "metadata": {},
   "outputs": [
    {
     "data": {
      "text/html": [
       "<div>\n",
       "<style scoped>\n",
       "    .dataframe tbody tr th:only-of-type {\n",
       "        vertical-align: middle;\n",
       "    }\n",
       "\n",
       "    .dataframe tbody tr th {\n",
       "        vertical-align: top;\n",
       "    }\n",
       "\n",
       "    .dataframe thead th {\n",
       "        text-align: right;\n",
       "    }\n",
       "</style>\n",
       "<table border=\"1\" class=\"dataframe\">\n",
       "  <thead>\n",
       "    <tr style=\"text-align: right;\">\n",
       "      <th></th>\n",
       "      <th>key</th>\n",
       "      <th>Начало нагрева дугой</th>\n",
       "      <th>Конец нагрева дугой</th>\n",
       "      <th>Активная мощность</th>\n",
       "      <th>Реактивная мощность</th>\n",
       "    </tr>\n",
       "  </thead>\n",
       "  <tbody>\n",
       "    <tr>\n",
       "      <td>14869</td>\n",
       "      <td>3240</td>\n",
       "      <td>2019-09-01 03:12:34</td>\n",
       "      <td>2019-09-01 03:17:08</td>\n",
       "      <td>0.98</td>\n",
       "      <td>0.88</td>\n",
       "    </tr>\n",
       "    <tr>\n",
       "      <td>14870</td>\n",
       "      <td>3240</td>\n",
       "      <td>2019-09-01 03:31:47</td>\n",
       "      <td>2019-09-01 03:34:08</td>\n",
       "      <td>0.55</td>\n",
       "      <td>0.42</td>\n",
       "    </tr>\n",
       "    <tr>\n",
       "      <td>14871</td>\n",
       "      <td>3241</td>\n",
       "      <td>2019-09-01 03:58:58</td>\n",
       "      <td>2019-09-01 04:01:35</td>\n",
       "      <td>0.53</td>\n",
       "      <td>0.35</td>\n",
       "    </tr>\n",
       "    <tr>\n",
       "      <td>14872</td>\n",
       "      <td>3241</td>\n",
       "      <td>2019-09-01 04:05:04</td>\n",
       "      <td>2019-09-01 04:08:04</td>\n",
       "      <td>0.68</td>\n",
       "      <td>0.52</td>\n",
       "    </tr>\n",
       "    <tr>\n",
       "      <td>14873</td>\n",
       "      <td>3241</td>\n",
       "      <td>2019-09-01 04:16:41</td>\n",
       "      <td>2019-09-01 04:19:45</td>\n",
       "      <td>0.73</td>\n",
       "      <td>0.48</td>\n",
       "    </tr>\n",
       "    <tr>\n",
       "      <td>14874</td>\n",
       "      <td>3241</td>\n",
       "      <td>2019-09-01 04:31:51</td>\n",
       "      <td>2019-09-01 04:32:48</td>\n",
       "      <td>0.22</td>\n",
       "      <td>0.15</td>\n",
       "    </tr>\n",
       "    <tr>\n",
       "      <td>14875</td>\n",
       "      <td>3241</td>\n",
       "      <td>2019-09-01 04:34:47</td>\n",
       "      <td>2019-09-01 04:36:08</td>\n",
       "      <td>0.31</td>\n",
       "      <td>0.20</td>\n",
       "    </tr>\n",
       "  </tbody>\n",
       "</table>\n",
       "</div>"
      ],
      "text/plain": [
       "        key Начало нагрева дугой  Конец нагрева дугой  Активная мощность  \\\n",
       "14869  3240  2019-09-01 03:12:34  2019-09-01 03:17:08               0.98   \n",
       "14870  3240  2019-09-01 03:31:47  2019-09-01 03:34:08               0.55   \n",
       "14871  3241  2019-09-01 03:58:58  2019-09-01 04:01:35               0.53   \n",
       "14872  3241  2019-09-01 04:05:04  2019-09-01 04:08:04               0.68   \n",
       "14873  3241  2019-09-01 04:16:41  2019-09-01 04:19:45               0.73   \n",
       "14874  3241  2019-09-01 04:31:51  2019-09-01 04:32:48               0.22   \n",
       "14875  3241  2019-09-01 04:34:47  2019-09-01 04:36:08               0.31   \n",
       "\n",
       "       Реактивная мощность  \n",
       "14869                 0.88  \n",
       "14870                 0.42  \n",
       "14871                 0.35  \n",
       "14872                 0.52  \n",
       "14873                 0.48  \n",
       "14874                 0.15  \n",
       "14875                 0.20  "
      ]
     },
     "metadata": {},
     "output_type": "display_data"
    },
    {
     "name": "stdout",
     "output_type": "stream",
     "text": [
      "<class 'pandas.core.frame.DataFrame'>\n",
      "RangeIndex: 14876 entries, 0 to 14875\n",
      "Data columns (total 5 columns):\n",
      "key                     14876 non-null int64\n",
      "Начало нагрева дугой    14876 non-null object\n",
      "Конец нагрева дугой     14876 non-null object\n",
      "Активная мощность       14876 non-null float64\n",
      "Реактивная мощность     14876 non-null float64\n",
      "dtypes: float64(2), int64(1), object(2)\n",
      "memory usage: 581.2+ KB\n"
     ]
    },
    {
     "data": {
      "text/html": [
       "<div>\n",
       "<style scoped>\n",
       "    .dataframe tbody tr th:only-of-type {\n",
       "        vertical-align: middle;\n",
       "    }\n",
       "\n",
       "    .dataframe tbody tr th {\n",
       "        vertical-align: top;\n",
       "    }\n",
       "\n",
       "    .dataframe thead th {\n",
       "        text-align: right;\n",
       "    }\n",
       "</style>\n",
       "<table border=\"1\" class=\"dataframe\">\n",
       "  <thead>\n",
       "    <tr style=\"text-align: right;\">\n",
       "      <th></th>\n",
       "      <th>key</th>\n",
       "      <th>Активная мощность</th>\n",
       "      <th>Реактивная мощность</th>\n",
       "    </tr>\n",
       "  </thead>\n",
       "  <tbody>\n",
       "    <tr>\n",
       "      <td>count</td>\n",
       "      <td>14876.00</td>\n",
       "      <td>14876.00</td>\n",
       "      <td>14876.00</td>\n",
       "    </tr>\n",
       "    <tr>\n",
       "      <td>mean</td>\n",
       "      <td>1615.22</td>\n",
       "      <td>0.67</td>\n",
       "      <td>0.45</td>\n",
       "    </tr>\n",
       "    <tr>\n",
       "      <td>std</td>\n",
       "      <td>934.57</td>\n",
       "      <td>0.41</td>\n",
       "      <td>5.88</td>\n",
       "    </tr>\n",
       "    <tr>\n",
       "      <td>min</td>\n",
       "      <td>1.00</td>\n",
       "      <td>0.03</td>\n",
       "      <td>-715.50</td>\n",
       "    </tr>\n",
       "    <tr>\n",
       "      <td>25%</td>\n",
       "      <td>806.00</td>\n",
       "      <td>0.40</td>\n",
       "      <td>0.29</td>\n",
       "    </tr>\n",
       "    <tr>\n",
       "      <td>50%</td>\n",
       "      <td>1617.00</td>\n",
       "      <td>0.56</td>\n",
       "      <td>0.42</td>\n",
       "    </tr>\n",
       "    <tr>\n",
       "      <td>75%</td>\n",
       "      <td>2429.00</td>\n",
       "      <td>0.86</td>\n",
       "      <td>0.64</td>\n",
       "    </tr>\n",
       "    <tr>\n",
       "      <td>max</td>\n",
       "      <td>3241.00</td>\n",
       "      <td>3.73</td>\n",
       "      <td>2.68</td>\n",
       "    </tr>\n",
       "  </tbody>\n",
       "</table>\n",
       "</div>"
      ],
      "text/plain": [
       "            key  Активная мощность  Реактивная мощность\n",
       "count  14876.00           14876.00             14876.00\n",
       "mean    1615.22               0.67                 0.45\n",
       "std      934.57               0.41                 5.88\n",
       "min        1.00               0.03              -715.50\n",
       "25%      806.00               0.40                 0.29\n",
       "50%     1617.00               0.56                 0.42\n",
       "75%     2429.00               0.86                 0.64\n",
       "max     3241.00               3.73                 2.68"
      ]
     },
     "execution_count": 4,
     "metadata": {},
     "output_type": "execute_result"
    }
   ],
   "source": [
    "display(df_arc.tail(7))\n",
    "df_arc.info()\n",
    "df_arc.describe()"
   ]
  },
  {
   "cell_type": "code",
   "execution_count": 5,
   "metadata": {},
   "outputs": [
    {
     "name": "stdout",
     "output_type": "stream",
     "text": [
      "False\n"
     ]
    },
    {
     "data": {
      "text/plain": [
       "False"
      ]
     },
     "execution_count": 5,
     "metadata": {},
     "output_type": "execute_result"
    }
   ],
   "source": [
    "# провереим верменной ряд на монотонность\n",
    "print(df_arc['Начало нагрева дугой'].is_monotonic)\n",
    "df_arc['Конец нагрева дугой'].is_monotonic"
   ]
  },
  {
   "cell_type": "code",
   "execution_count": 6,
   "metadata": {},
   "outputs": [
    {
     "name": "stdout",
     "output_type": "stream",
     "text": [
      "True\n"
     ]
    },
    {
     "data": {
      "text/plain": [
       "False"
      ]
     },
     "execution_count": 6,
     "metadata": {},
     "output_type": "execute_result"
    }
   ],
   "source": [
    "df_arc = df_arc.sort_values(by='Начало нагрева дугой')\n",
    "print(df_arc['Начало нагрева дугой'].is_monotonic_increasing)\n",
    "df_arc['Конец нагрева дугой'].is_monotonic_increasing"
   ]
  },
  {
   "cell_type": "markdown",
   "metadata": {},
   "source": [
    "После сортировки, данные по концу нагрева не монотонны. Предположим что это  данные с нескольких партий, взятых с разных установок."
   ]
  },
  {
   "cell_type": "code",
   "execution_count": 7,
   "metadata": {},
   "outputs": [
    {
     "data": {
      "text/html": [
       "<div>\n",
       "<style scoped>\n",
       "    .dataframe tbody tr th:only-of-type {\n",
       "        vertical-align: middle;\n",
       "    }\n",
       "\n",
       "    .dataframe tbody tr th {\n",
       "        vertical-align: top;\n",
       "    }\n",
       "\n",
       "    .dataframe thead th {\n",
       "        text-align: right;\n",
       "    }\n",
       "</style>\n",
       "<table border=\"1\" class=\"dataframe\">\n",
       "  <thead>\n",
       "    <tr style=\"text-align: right;\">\n",
       "      <th></th>\n",
       "      <th>key</th>\n",
       "      <th>Начало нагрева дугой</th>\n",
       "      <th>Конец нагрева дугой</th>\n",
       "      <th>Активная мощность</th>\n",
       "      <th>Реактивная мощность</th>\n",
       "    </tr>\n",
       "  </thead>\n",
       "  <tbody>\n",
       "    <tr>\n",
       "      <td>9780</td>\n",
       "      <td>2116</td>\n",
       "      <td>2019-07-24 00:44:48</td>\n",
       "      <td>2019-07-24 00:46:37</td>\n",
       "      <td>0.5</td>\n",
       "      <td>-715.5</td>\n",
       "    </tr>\n",
       "  </tbody>\n",
       "</table>\n",
       "</div>"
      ],
      "text/plain": [
       "       key Начало нагрева дугой  Конец нагрева дугой  Активная мощность  \\\n",
       "9780  2116  2019-07-24 00:44:48  2019-07-24 00:46:37                0.5   \n",
       "\n",
       "      Реактивная мощность  \n",
       "9780               -715.5  "
      ]
     },
     "execution_count": 7,
     "metadata": {},
     "output_type": "execute_result"
    }
   ],
   "source": [
    "df_arc[df_arc['Реактивная мощность'] <= 0]"
   ]
  },
  {
   "cell_type": "code",
   "execution_count": 8,
   "metadata": {},
   "outputs": [],
   "source": [
    "# удалим обнаруженные выбросы\n",
    "df_arc = df_arc[df_arc['Реактивная мощность'] > 0]"
   ]
  },
  {
   "cell_type": "code",
   "execution_count": 9,
   "metadata": {},
   "outputs": [
    {
     "data": {
      "text/html": [
       "<div>\n",
       "<style scoped>\n",
       "    .dataframe tbody tr th:only-of-type {\n",
       "        vertical-align: middle;\n",
       "    }\n",
       "\n",
       "    .dataframe tbody tr th {\n",
       "        vertical-align: top;\n",
       "    }\n",
       "\n",
       "    .dataframe thead th {\n",
       "        text-align: right;\n",
       "    }\n",
       "</style>\n",
       "<table border=\"1\" class=\"dataframe\">\n",
       "  <thead>\n",
       "    <tr style=\"text-align: right;\">\n",
       "      <th></th>\n",
       "      <th>key</th>\n",
       "      <th>Активная мощность</th>\n",
       "      <th>Реактивная мощность</th>\n",
       "    </tr>\n",
       "  </thead>\n",
       "  <tbody>\n",
       "    <tr>\n",
       "      <td>count</td>\n",
       "      <td>14875.00</td>\n",
       "      <td>14875.00</td>\n",
       "      <td>14875.00</td>\n",
       "    </tr>\n",
       "    <tr>\n",
       "      <td>mean</td>\n",
       "      <td>1615.19</td>\n",
       "      <td>0.67</td>\n",
       "      <td>0.50</td>\n",
       "    </tr>\n",
       "    <tr>\n",
       "      <td>std</td>\n",
       "      <td>934.59</td>\n",
       "      <td>0.41</td>\n",
       "      <td>0.31</td>\n",
       "    </tr>\n",
       "    <tr>\n",
       "      <td>min</td>\n",
       "      <td>1.00</td>\n",
       "      <td>0.03</td>\n",
       "      <td>0.02</td>\n",
       "    </tr>\n",
       "    <tr>\n",
       "      <td>25%</td>\n",
       "      <td>806.00</td>\n",
       "      <td>0.40</td>\n",
       "      <td>0.29</td>\n",
       "    </tr>\n",
       "    <tr>\n",
       "      <td>50%</td>\n",
       "      <td>1617.00</td>\n",
       "      <td>0.56</td>\n",
       "      <td>0.42</td>\n",
       "    </tr>\n",
       "    <tr>\n",
       "      <td>75%</td>\n",
       "      <td>2429.00</td>\n",
       "      <td>0.86</td>\n",
       "      <td>0.64</td>\n",
       "    </tr>\n",
       "    <tr>\n",
       "      <td>max</td>\n",
       "      <td>3241.00</td>\n",
       "      <td>3.73</td>\n",
       "      <td>2.68</td>\n",
       "    </tr>\n",
       "  </tbody>\n",
       "</table>\n",
       "</div>"
      ],
      "text/plain": [
       "            key  Активная мощность  Реактивная мощность\n",
       "count  14875.00           14875.00             14875.00\n",
       "mean    1615.19               0.67                 0.50\n",
       "std      934.59               0.41                 0.31\n",
       "min        1.00               0.03                 0.02\n",
       "25%      806.00               0.40                 0.29\n",
       "50%     1617.00               0.56                 0.42\n",
       "75%     2429.00               0.86                 0.64\n",
       "max     3241.00               3.73                 2.68"
      ]
     },
     "execution_count": 9,
     "metadata": {},
     "output_type": "execute_result"
    }
   ],
   "source": [
    "df_arc.describe()"
   ]
  },
  {
   "cell_type": "markdown",
   "metadata": {},
   "source": [
    "#### Суммарное время нагрева электродами"
   ]
  },
  {
   "cell_type": "code",
   "execution_count": 10,
   "metadata": {},
   "outputs": [],
   "source": [
    "# приведем тип для работы с датой\n",
    "df_arc['Начало нагрева дугой'] = pd.to_datetime(df_arc['Начало нагрева дугой'] )\n",
    "df_arc['Конец нагрева дугой'] = pd.to_datetime(df_arc['Конец нагрева дугой'] )\n",
    "\n",
    "# найдем сколько каждая итерация длилась в секундах\n",
    "df_arc['Время нагрева'] = df_arc['Конец нагрева дугой'] - df_arc['Начало нагрева дугой']\n",
    "df_arc['Время_нагрева_ceк'] = df_arc['Время нагрева'].apply(lambda x:x.seconds)"
   ]
  },
  {
   "cell_type": "code",
   "execution_count": 11,
   "metadata": {},
   "outputs": [
    {
     "data": {
      "image/png": "[encoded data removed]",
      "text/plain": [
       "<Figure size 360x360 with 1 Axes>"
      ]
     },
     "metadata": {
      "needs_background": "light"
     },
     "output_type": "display_data"
    }
   ],
   "source": [
    "sns.displot(df_arc['Время_нагрева_ceк']);"
   ]
  },
  {
   "cell_type": "markdown",
   "metadata": {},
   "source": [
    "Видно длинный хвост, будем чистить но нужно спросить у бизнеса."
   ]
  },
  {
   "cell_type": "code",
   "execution_count": 12,
   "metadata": {},
   "outputs": [
    {
     "data": {
      "text/plain": [
       "count    3214.00\n",
       "mean        4.63\n",
       "std         1.61\n",
       "min         1.00\n",
       "25%         4.00\n",
       "50%         4.00\n",
       "75%         6.00\n",
       "max        16.00\n",
       "Name: Начало нагрева дугой, dtype: float64"
      ]
     },
     "execution_count": 12,
     "metadata": {},
     "output_type": "execute_result"
    }
   ],
   "source": [
    "df_arc.groupby(by='key').count()['Начало нагрева дугой'].describe()"
   ]
  },
  {
   "cell_type": "code",
   "execution_count": 13,
   "metadata": {},
   "outputs": [
    {
     "data": {
      "text/plain": [
       "count    3214.00\n",
       "mean      794.55\n",
       "std       332.49\n",
       "min        57.00\n",
       "25%       571.00\n",
       "50%       770.00\n",
       "75%       983.00\n",
       "max      4189.00\n",
       "Name: Время_нагрева_ceк, dtype: float64"
      ]
     },
     "execution_count": 13,
     "metadata": {},
     "output_type": "execute_result"
    }
   ],
   "source": [
    "df_arc.groupby(by='key').sum()['Время_нагрева_ceк'].describe()"
   ]
  },
  {
   "cell_type": "markdown",
   "metadata": {},
   "source": [
    "Посчитаем потребленную мощнгость за каждое время включения печи. \n",
    "Возьмем полную мощность как корень из квадратов активной и реактивной и умножим на время работы ковша.\n",
    "\n",
    "$$ S=\\sqrt{P^2+Q^2} $$\n",
    " \n",
    "P — активная ,  Q — реактивная \n",
    "\n"
   ]
  },
  {
   "cell_type": "code",
   "execution_count": 14,
   "metadata": {},
   "outputs": [],
   "source": [
    "df_arc['Потребленная_мощность'] = np.sqrt(df_arc['Активная мощность']**2 + df_arc['Реактивная мощность']**2)*df_arc['Время_нагрева_ceк']"
   ]
  },
  {
   "cell_type": "markdown",
   "metadata": {},
   "source": [
    "#### Количество запусков нагрева электродами."
   ]
  },
  {
   "cell_type": "code",
   "execution_count": 15,
   "metadata": {
    "scrolled": true
   },
   "outputs": [
    {
     "data": {
      "text/html": [
       "<div>\n",
       "<style scoped>\n",
       "    .dataframe tbody tr th:only-of-type {\n",
       "        vertical-align: middle;\n",
       "    }\n",
       "\n",
       "    .dataframe tbody tr th {\n",
       "        vertical-align: top;\n",
       "    }\n",
       "\n",
       "    .dataframe thead th {\n",
       "        text-align: right;\n",
       "    }\n",
       "</style>\n",
       "<table border=\"1\" class=\"dataframe\">\n",
       "  <thead>\n",
       "    <tr style=\"text-align: right;\">\n",
       "      <th></th>\n",
       "      <th>key</th>\n",
       "      <th>Количество_запусков_нагрева</th>\n",
       "    </tr>\n",
       "  </thead>\n",
       "  <tbody>\n",
       "    <tr>\n",
       "      <td>0</td>\n",
       "      <td>1</td>\n",
       "      <td>5</td>\n",
       "    </tr>\n",
       "    <tr>\n",
       "      <td>1</td>\n",
       "      <td>2</td>\n",
       "      <td>4</td>\n",
       "    </tr>\n",
       "    <tr>\n",
       "      <td>2</td>\n",
       "      <td>3</td>\n",
       "      <td>5</td>\n",
       "    </tr>\n",
       "    <tr>\n",
       "      <td>3</td>\n",
       "      <td>4</td>\n",
       "      <td>4</td>\n",
       "    </tr>\n",
       "    <tr>\n",
       "      <td>4</td>\n",
       "      <td>5</td>\n",
       "      <td>4</td>\n",
       "    </tr>\n",
       "    <tr>\n",
       "      <td>...</td>\n",
       "      <td>...</td>\n",
       "      <td>...</td>\n",
       "    </tr>\n",
       "    <tr>\n",
       "      <td>3209</td>\n",
       "      <td>3237</td>\n",
       "      <td>5</td>\n",
       "    </tr>\n",
       "    <tr>\n",
       "      <td>3210</td>\n",
       "      <td>3238</td>\n",
       "      <td>3</td>\n",
       "    </tr>\n",
       "    <tr>\n",
       "      <td>3211</td>\n",
       "      <td>3239</td>\n",
       "      <td>8</td>\n",
       "    </tr>\n",
       "    <tr>\n",
       "      <td>3212</td>\n",
       "      <td>3240</td>\n",
       "      <td>5</td>\n",
       "    </tr>\n",
       "    <tr>\n",
       "      <td>3213</td>\n",
       "      <td>3241</td>\n",
       "      <td>5</td>\n",
       "    </tr>\n",
       "  </tbody>\n",
       "</table>\n",
       "<p>3214 rows × 2 columns</p>\n",
       "</div>"
      ],
      "text/plain": [
       "       key  Количество_запусков_нагрева\n",
       "0        1                            5\n",
       "1        2                            4\n",
       "2        3                            5\n",
       "3        4                            4\n",
       "4        5                            4\n",
       "...    ...                          ...\n",
       "3209  3237                            5\n",
       "3210  3238                            3\n",
       "3211  3239                            8\n",
       "3212  3240                            5\n",
       "3213  3241                            5\n",
       "\n",
       "[3214 rows x 2 columns]"
      ]
     },
     "metadata": {},
     "output_type": "display_data"
    },
    {
     "data": {
      "text/html": [
       "<div>\n",
       "<style scoped>\n",
       "    .dataframe tbody tr th:only-of-type {\n",
       "        vertical-align: middle;\n",
       "    }\n",
       "\n",
       "    .dataframe tbody tr th {\n",
       "        vertical-align: top;\n",
       "    }\n",
       "\n",
       "    .dataframe thead th {\n",
       "        text-align: right;\n",
       "    }\n",
       "</style>\n",
       "<table border=\"1\" class=\"dataframe\">\n",
       "  <thead>\n",
       "    <tr style=\"text-align: right;\">\n",
       "      <th></th>\n",
       "      <th>key</th>\n",
       "      <th>Количество_запусков_нагрева</th>\n",
       "    </tr>\n",
       "  </thead>\n",
       "  <tbody>\n",
       "    <tr>\n",
       "      <td>count</td>\n",
       "      <td>3214.00</td>\n",
       "      <td>3214.00</td>\n",
       "    </tr>\n",
       "    <tr>\n",
       "      <td>mean</td>\n",
       "      <td>1623.06</td>\n",
       "      <td>4.63</td>\n",
       "    </tr>\n",
       "    <tr>\n",
       "      <td>std</td>\n",
       "      <td>934.74</td>\n",
       "      <td>1.61</td>\n",
       "    </tr>\n",
       "    <tr>\n",
       "      <td>min</td>\n",
       "      <td>1.00</td>\n",
       "      <td>1.00</td>\n",
       "    </tr>\n",
       "    <tr>\n",
       "      <td>25%</td>\n",
       "      <td>817.25</td>\n",
       "      <td>4.00</td>\n",
       "    </tr>\n",
       "    <tr>\n",
       "      <td>50%</td>\n",
       "      <td>1623.50</td>\n",
       "      <td>4.00</td>\n",
       "    </tr>\n",
       "    <tr>\n",
       "      <td>75%</td>\n",
       "      <td>2431.75</td>\n",
       "      <td>6.00</td>\n",
       "    </tr>\n",
       "    <tr>\n",
       "      <td>max</td>\n",
       "      <td>3241.00</td>\n",
       "      <td>16.00</td>\n",
       "    </tr>\n",
       "  </tbody>\n",
       "</table>\n",
       "</div>"
      ],
      "text/plain": [
       "           key  Количество_запусков_нагрева\n",
       "count  3214.00                      3214.00\n",
       "mean   1623.06                         4.63\n",
       "std     934.74                         1.61\n",
       "min       1.00                         1.00\n",
       "25%     817.25                         4.00\n",
       "50%    1623.50                         4.00\n",
       "75%    2431.75                         6.00\n",
       "max    3241.00                        16.00"
      ]
     },
     "execution_count": 15,
     "metadata": {},
     "output_type": "execute_result"
    }
   ],
   "source": [
    "count_electrod = df_arc.groupby(by='key').count().reset_index()[['key','Время_нагрева_ceк']]\n",
    "count_electrod = count_electrod.rename(columns={\"Время_нагрева_ceк\":\"Количество_запусков_нагрева\"})\n",
    "display(count_electrod)\n",
    "count_electrod.describe()"
   ]
  },
  {
   "cell_type": "code",
   "execution_count": 16,
   "metadata": {},
   "outputs": [
    {
     "data": {
      "image/png": "[encoded data removed]",
      "text/plain": [
       "<Figure size 720x360 with 1 Axes>"
      ]
     },
     "metadata": {
      "needs_background": "light"
     },
     "output_type": "display_data"
    }
   ],
   "source": [
    "plt.figure(figsize=(10,5))\n",
    "ax = plt.bar(count_electrod['key'].to_list(),count_electrod['Количество_запусков_нагрева'].to_list());\n",
    "plt.xlabel('Количество количество партий')\n",
    "plt.ylabel('Количество запускаов нагрева')\n",
    "plt.title(f'Количество запуска в разрезе по партиям');"
   ]
  },
  {
   "cell_type": "markdown",
   "metadata": {},
   "source": [
    "#### Среднее соотношение потребления активной и реактивной мощности."
   ]
  },
  {
   "cell_type": "code",
   "execution_count": 17,
   "metadata": {},
   "outputs": [
    {
     "data": {
      "text/plain": [
       "1.3606755817252463"
      ]
     },
     "execution_count": 17,
     "metadata": {},
     "output_type": "execute_result"
    }
   ],
   "source": [
    "df_arc['power_diff'] = df_arc['Активная мощность']/df_arc['Реактивная мощность']\n",
    "df_arc['power_diff'].mean()"
   ]
  },
  {
   "cell_type": "code",
   "execution_count": 18,
   "metadata": {},
   "outputs": [
    {
     "data": {
      "image/png": "[encoded data removed]",
      "text/plain": [
       "<Figure size 720x360 with 1 Axes>"
      ]
     },
     "metadata": {
      "needs_background": "light"
     },
     "output_type": "display_data"
    }
   ],
   "source": [
    "plt.figure(figsize=(10,5))\n",
    "plt.plot(df_arc['power_diff']);"
   ]
  },
  {
   "cell_type": "markdown",
   "metadata": {},
   "source": [
    "Как видим активной мощности потребляется больше при технологическом процессе."
   ]
  },
  {
   "cell_type": "code",
   "execution_count": 19,
   "metadata": {},
   "outputs": [
    {
     "data": {
      "text/plain": [
       "count    14875.00\n",
       "mean         1.36\n",
       "std          0.17\n",
       "min          0.46\n",
       "25%          1.26\n",
       "50%          1.38\n",
       "75%          1.48\n",
       "max          1.95\n",
       "Name: power_diff, dtype: float64"
      ]
     },
     "execution_count": 19,
     "metadata": {},
     "output_type": "execute_result"
    }
   ],
   "source": [
    "df_arc['power_diff'].describe()"
   ]
  },
  {
   "cell_type": "code",
   "execution_count": 20,
   "metadata": {},
   "outputs": [],
   "source": [
    "df_arc_sum = df_arc.groupby(by='key').sum().reset_index().drop(['power_diff'],axis=1)"
   ]
  },
  {
   "cell_type": "code",
   "execution_count": 21,
   "metadata": {},
   "outputs": [
    {
     "data": {
      "text/html": [
       "<div>\n",
       "<style scoped>\n",
       "    .dataframe tbody tr th:only-of-type {\n",
       "        vertical-align: middle;\n",
       "    }\n",
       "\n",
       "    .dataframe tbody tr th {\n",
       "        vertical-align: top;\n",
       "    }\n",
       "\n",
       "    .dataframe thead th {\n",
       "        text-align: right;\n",
       "    }\n",
       "</style>\n",
       "<table border=\"1\" class=\"dataframe\">\n",
       "  <thead>\n",
       "    <tr style=\"text-align: right;\">\n",
       "      <th></th>\n",
       "      <th>key</th>\n",
       "      <th>Количество_запусков_нагрева</th>\n",
       "      <th>Активная мощность</th>\n",
       "      <th>Реактивная мощность</th>\n",
       "      <th>Время_нагрева_ceк</th>\n",
       "      <th>Потребленная_мощность</th>\n",
       "    </tr>\n",
       "  </thead>\n",
       "  <tbody>\n",
       "    <tr>\n",
       "      <td>0</td>\n",
       "      <td>1</td>\n",
       "      <td>5</td>\n",
       "      <td>4.88</td>\n",
       "      <td>3.18</td>\n",
       "      <td>1098</td>\n",
       "      <td>1442.38</td>\n",
       "    </tr>\n",
       "    <tr>\n",
       "      <td>1</td>\n",
       "      <td>2</td>\n",
       "      <td>4</td>\n",
       "      <td>3.05</td>\n",
       "      <td>2.00</td>\n",
       "      <td>811</td>\n",
       "      <td>881.23</td>\n",
       "    </tr>\n",
       "    <tr>\n",
       "      <td>2</td>\n",
       "      <td>3</td>\n",
       "      <td>5</td>\n",
       "      <td>2.53</td>\n",
       "      <td>1.60</td>\n",
       "      <td>655</td>\n",
       "      <td>525.07</td>\n",
       "    </tr>\n",
       "    <tr>\n",
       "      <td>3</td>\n",
       "      <td>4</td>\n",
       "      <td>4</td>\n",
       "      <td>3.21</td>\n",
       "      <td>2.06</td>\n",
       "      <td>741</td>\n",
       "      <td>796.91</td>\n",
       "    </tr>\n",
       "    <tr>\n",
       "      <td>4</td>\n",
       "      <td>5</td>\n",
       "      <td>4</td>\n",
       "      <td>3.35</td>\n",
       "      <td>2.25</td>\n",
       "      <td>869</td>\n",
       "      <td>1199.14</td>\n",
       "    </tr>\n",
       "    <tr>\n",
       "      <td>...</td>\n",
       "      <td>...</td>\n",
       "      <td>...</td>\n",
       "      <td>...</td>\n",
       "      <td>...</td>\n",
       "      <td>...</td>\n",
       "      <td>...</td>\n",
       "    </tr>\n",
       "    <tr>\n",
       "      <td>3209</td>\n",
       "      <td>3237</td>\n",
       "      <td>5</td>\n",
       "      <td>3.93</td>\n",
       "      <td>2.83</td>\n",
       "      <td>909</td>\n",
       "      <td>958.34</td>\n",
       "    </tr>\n",
       "    <tr>\n",
       "      <td>3210</td>\n",
       "      <td>3238</td>\n",
       "      <td>3</td>\n",
       "      <td>2.11</td>\n",
       "      <td>1.68</td>\n",
       "      <td>546</td>\n",
       "      <td>555.87</td>\n",
       "    </tr>\n",
       "    <tr>\n",
       "      <td>3211</td>\n",
       "      <td>3239</td>\n",
       "      <td>8</td>\n",
       "      <td>4.67</td>\n",
       "      <td>3.11</td>\n",
       "      <td>1216</td>\n",
       "      <td>1013.07</td>\n",
       "    </tr>\n",
       "    <tr>\n",
       "      <td>3212</td>\n",
       "      <td>3240</td>\n",
       "      <td>5</td>\n",
       "      <td>2.98</td>\n",
       "      <td>2.48</td>\n",
       "      <td>839</td>\n",
       "      <td>729.21</td>\n",
       "    </tr>\n",
       "    <tr>\n",
       "      <td>3213</td>\n",
       "      <td>3241</td>\n",
       "      <td>5</td>\n",
       "      <td>2.47</td>\n",
       "      <td>1.70</td>\n",
       "      <td>659</td>\n",
       "      <td>460.08</td>\n",
       "    </tr>\n",
       "  </tbody>\n",
       "</table>\n",
       "<p>3214 rows × 6 columns</p>\n",
       "</div>"
      ],
      "text/plain": [
       "       key  Количество_запусков_нагрева  Активная мощность  \\\n",
       "0        1                            5               4.88   \n",
       "1        2                            4               3.05   \n",
       "2        3                            5               2.53   \n",
       "3        4                            4               3.21   \n",
       "4        5                            4               3.35   \n",
       "...    ...                          ...                ...   \n",
       "3209  3237                            5               3.93   \n",
       "3210  3238                            3               2.11   \n",
       "3211  3239                            8               4.67   \n",
       "3212  3240                            5               2.98   \n",
       "3213  3241                            5               2.47   \n",
       "\n",
       "      Реактивная мощность  Время_нагрева_ceк  Потребленная_мощность  \n",
       "0                    3.18               1098                1442.38  \n",
       "1                    2.00                811                 881.23  \n",
       "2                    1.60                655                 525.07  \n",
       "3                    2.06                741                 796.91  \n",
       "4                    2.25                869                1199.14  \n",
       "...                   ...                ...                    ...  \n",
       "3209                 2.83                909                 958.34  \n",
       "3210                 1.68                546                 555.87  \n",
       "3211                 3.11               1216                1013.07  \n",
       "3212                 2.48                839                 729.21  \n",
       "3213                 1.70                659                 460.08  \n",
       "\n",
       "[3214 rows x 6 columns]"
      ]
     },
     "execution_count": 21,
     "metadata": {},
     "output_type": "execute_result"
    }
   ],
   "source": [
    "df_arc_join = count_electrod.merge(df_arc_sum,how='inner', on='key')\n",
    "df_arc_join"
   ]
  },
  {
   "cell_type": "markdown",
   "metadata": {},
   "source": [
    "**Вывод:**  По данной таблице были проведены следующие действия:\n",
    "\n",
    "- Проверен временной ряд на монотонность. Предположительно данные с разных ковшей\n",
    "- Удалили отридцательные значения по мощности\n",
    "- Вычислили суммарное время нагрева в каждой партии\n",
    "- Вычислили количество запусков для каждой партии\n",
    "- Среднее соотношение потребления активной и реактивной мощности \n",
    "- сгруппировали "
   ]
  },
  {
   "cell_type": "markdown",
   "metadata": {},
   "source": [
    "### Таблица temperature"
   ]
  },
  {
   "cell_type": "code",
   "execution_count": 22,
   "metadata": {},
   "outputs": [
    {
     "data": {
      "text/plain": [
       "count    13006.00\n",
       "mean      1591.84\n",
       "std         21.38\n",
       "min       1191.00\n",
       "25%       1581.00\n",
       "50%       1591.00\n",
       "75%       1601.00\n",
       "max       1705.00\n",
       "Name: Температура, dtype: float64"
      ]
     },
     "execution_count": 22,
     "metadata": {},
     "output_type": "execute_result"
    }
   ],
   "source": [
    "df_temp['Температура'].describe()"
   ]
  },
  {
   "cell_type": "code",
   "execution_count": 23,
   "metadata": {},
   "outputs": [
    {
     "data": {
      "text/html": [
       "<div>\n",
       "<style scoped>\n",
       "    .dataframe tbody tr th:only-of-type {\n",
       "        vertical-align: middle;\n",
       "    }\n",
       "\n",
       "    .dataframe tbody tr th {\n",
       "        vertical-align: top;\n",
       "    }\n",
       "\n",
       "    .dataframe thead th {\n",
       "        text-align: right;\n",
       "    }\n",
       "</style>\n",
       "<table border=\"1\" class=\"dataframe\">\n",
       "  <thead>\n",
       "    <tr style=\"text-align: right;\">\n",
       "      <th></th>\n",
       "      <th>key</th>\n",
       "      <th>Время замера</th>\n",
       "      <th>Температура</th>\n",
       "    </tr>\n",
       "  </thead>\n",
       "  <tbody>\n",
       "    <tr>\n",
       "      <td>15900</td>\n",
       "      <td>3240</td>\n",
       "      <td>2019-09-01 03:34:31</td>\n",
       "      <td>NaN</td>\n",
       "    </tr>\n",
       "    <tr>\n",
       "      <td>15901</td>\n",
       "      <td>3240</td>\n",
       "      <td>2019-09-01 03:35:16</td>\n",
       "      <td>NaN</td>\n",
       "    </tr>\n",
       "    <tr>\n",
       "      <td>15902</td>\n",
       "      <td>3241</td>\n",
       "      <td>2019-09-01 04:03:30</td>\n",
       "      <td>1586.0</td>\n",
       "    </tr>\n",
       "    <tr>\n",
       "      <td>15903</td>\n",
       "      <td>3241</td>\n",
       "      <td>2019-09-01 04:16:12</td>\n",
       "      <td>NaN</td>\n",
       "    </tr>\n",
       "    <tr>\n",
       "      <td>15904</td>\n",
       "      <td>3241</td>\n",
       "      <td>2019-09-01 04:22:39</td>\n",
       "      <td>NaN</td>\n",
       "    </tr>\n",
       "    <tr>\n",
       "      <td>15905</td>\n",
       "      <td>3241</td>\n",
       "      <td>2019-09-01 04:33:42</td>\n",
       "      <td>NaN</td>\n",
       "    </tr>\n",
       "    <tr>\n",
       "      <td>15906</td>\n",
       "      <td>3241</td>\n",
       "      <td>2019-09-01 04:38:08</td>\n",
       "      <td>NaN</td>\n",
       "    </tr>\n",
       "  </tbody>\n",
       "</table>\n",
       "</div>"
      ],
      "text/plain": [
       "        key         Время замера  Температура\n",
       "15900  3240  2019-09-01 03:34:31          NaN\n",
       "15901  3240  2019-09-01 03:35:16          NaN\n",
       "15902  3241  2019-09-01 04:03:30       1586.0\n",
       "15903  3241  2019-09-01 04:16:12          NaN\n",
       "15904  3241  2019-09-01 04:22:39          NaN\n",
       "15905  3241  2019-09-01 04:33:42          NaN\n",
       "15906  3241  2019-09-01 04:38:08          NaN"
      ]
     },
     "execution_count": 23,
     "metadata": {},
     "output_type": "execute_result"
    }
   ],
   "source": [
    "df_temp.tail(7)"
   ]
  },
  {
   "cell_type": "code",
   "execution_count": 24,
   "metadata": {},
   "outputs": [
    {
     "name": "stdout",
     "output_type": "stream",
     "text": [
      "20.0 1581.0 1601.0\n",
      "1521.0\n",
      "1661.0\n"
     ]
    }
   ],
   "source": [
    "# Первый квартиль (Q1)\n",
    "Q1 = np.percentile(df_temp['Температура'].dropna(), 25, interpolation = 'midpoint')\n",
    "# Третий квартиль (Q3)\n",
    "Q3 = np.percentile(df_temp['Температура'].dropna(), 75, interpolation = 'midpoint')  \n",
    "# Межквартирный диапазон (IQR)\n",
    "median =  df_temp['Температура'].median()\n",
    "IQR = Q3 - Q1\n",
    "print(IQR, Q1, Q3)\n",
    "print(Q1 - 3*IQR)\n",
    "print(Q3 + 3*IQR)"
   ]
  },
  {
   "cell_type": "markdown",
   "metadata": {},
   "source": [
    "Удалим выбросы, которыхе находятся за 3-х кратным пределом интерквантильного размаха"
   ]
  },
  {
   "cell_type": "code",
   "execution_count": 25,
   "metadata": {},
   "outputs": [
    {
     "name": "stdout",
     "output_type": "stream",
     "text": [
      "Количество удаленных строк 241\n",
      "Количество удаленных партий 42\n"
     ]
    }
   ],
   "source": [
    "_index_del_temp = df_temp[(df_temp['Температура']<(Q1 - 3*IQR)) |(df_temp['Температура']>(Q3 + 3*IQR))]['key'].unique()\n",
    "_index_drop_temp = df_temp.query('key in @_index_del_temp').index\n",
    "print('Количество удаленных строк',len(_index_drop_temp))\n",
    "print('Количество удаленных партий',len(_index_del_temp))\n",
    "df_temperature_join =  df_temp.drop(index=_index_drop_temp)"
   ]
  },
  {
   "cell_type": "markdown",
   "metadata": {},
   "source": [
    "Мы удалили 241 строку со значениями по температуре по 42 партиям , которые находятся за 3-х кратным пределом интерквантильного размаха"
   ]
  },
  {
   "cell_type": "code",
   "execution_count": 26,
   "metadata": {},
   "outputs": [
    {
     "data": {
      "image/png": "[encoded data removed]",
      "text/plain": [
       "<Figure size 360x360 with 1 Axes>"
      ]
     },
     "metadata": {
      "needs_background": "light"
     },
     "output_type": "display_data"
    }
   ],
   "source": [
    "sns.displot(df_temperature_join['Температура'] );"
   ]
  },
  {
   "cell_type": "markdown",
   "metadata": {},
   "source": [
    "#### Посчитаем количество замеров температуры для каждой партии"
   ]
  },
  {
   "cell_type": "code",
   "execution_count": 27,
   "metadata": {},
   "outputs": [],
   "source": [
    "df_temp_quant = df_temperature_join.groupby(by='key').count().reset_index()\\\n",
    ".rename(columns={\"Время замера\":\"Количество_замеров температуры\"})\\\n",
    ".drop('Температура',axis=1)"
   ]
  },
  {
   "cell_type": "code",
   "execution_count": 28,
   "metadata": {},
   "outputs": [],
   "source": [
    "_tmp_temperature = df_temperature_join.groupby(by='key').count().reset_index()['Время замера'].value_counts()\n",
    "#display(_tmp_temperature)\n",
    "# Посмотрим количество измерений в местах где есть пропуски\n",
    "_tmp_temperature_na = df_temperature_join[df_temperature_join.isna().any(axis=1)].groupby(by='key').count().reset_index()['Время замера'].value_counts()\n",
    "#display(_tmp_temperature_na)                    "
   ]
  },
  {
   "cell_type": "markdown",
   "metadata": {},
   "source": [
    "Построим гистограмм - отношение количества измерений температуры и агрегация этих данных по партиям"
   ]
  },
  {
   "cell_type": "code",
   "execution_count": 29,
   "metadata": {},
   "outputs": [
    {
     "data": {
      "image/png": "[encoded data removed]",
      "text/plain": [
       "<Figure size 720x360 with 1 Axes>"
      ]
     },
     "metadata": {
      "needs_background": "light"
     },
     "output_type": "display_data"
    },
    {
     "data": {
      "image/png": "[encoded data removed]",
      "text/plain": [
       "<Figure size 720x360 with 1 Axes>"
      ]
     },
     "metadata": {
      "needs_background": "light"
     },
     "output_type": "display_data"
    }
   ],
   "source": [
    "for df in [_tmp_temperature,_tmp_temperature_na]:\n",
    "    df = df.reset_index().rename(columns={\"index\":\"Temperature_in_key\",\"Время замера\":\"Quantity_key\"})\n",
    "    plt.figure(figsize=(10,5))\n",
    "    ax = plt.bar(df['Temperature_in_key'].to_list(),df['Quantity_key'].to_list());\n",
    "    plt.xlabel('Количество измерений в партии')\n",
    "    plt.ylabel('Количество партий')\n",
    "    plt.title(f'Количество измерений в разрезе по партии')"
   ]
  },
  {
   "cell_type": "markdown",
   "metadata": {},
   "source": [
    "Видим что в рамках одной партии проходит от 1 до 16 измерений температуры, но в основном 3-6 измерений. Так же мы посмотрели измерения для температуры с пропущенными значениями."
   ]
  },
  {
   "cell_type": "code",
   "execution_count": 30,
   "metadata": {},
   "outputs": [
    {
     "data": {
      "text/html": [
       "<div>\n",
       "<style scoped>\n",
       "    .dataframe tbody tr th:only-of-type {\n",
       "        vertical-align: middle;\n",
       "    }\n",
       "\n",
       "    .dataframe tbody tr th {\n",
       "        vertical-align: top;\n",
       "    }\n",
       "\n",
       "    .dataframe thead th {\n",
       "        text-align: right;\n",
       "    }\n",
       "</style>\n",
       "<table border=\"1\" class=\"dataframe\">\n",
       "  <thead>\n",
       "    <tr style=\"text-align: right;\">\n",
       "      <th></th>\n",
       "      <th>key</th>\n",
       "      <th>Время замера</th>\n",
       "      <th>Температура</th>\n",
       "    </tr>\n",
       "  </thead>\n",
       "  <tbody>\n",
       "    <tr>\n",
       "      <td>0</td>\n",
       "      <td>1</td>\n",
       "      <td>2019-05-03 11:16:18</td>\n",
       "      <td>1571.0</td>\n",
       "    </tr>\n",
       "    <tr>\n",
       "      <td>1</td>\n",
       "      <td>1</td>\n",
       "      <td>2019-05-03 11:25:53</td>\n",
       "      <td>1604.0</td>\n",
       "    </tr>\n",
       "    <tr>\n",
       "      <td>2</td>\n",
       "      <td>1</td>\n",
       "      <td>2019-05-03 11:29:11</td>\n",
       "      <td>1618.0</td>\n",
       "    </tr>\n",
       "    <tr>\n",
       "      <td>3</td>\n",
       "      <td>1</td>\n",
       "      <td>2019-05-03 11:30:01</td>\n",
       "      <td>1601.0</td>\n",
       "    </tr>\n",
       "    <tr>\n",
       "      <td>4</td>\n",
       "      <td>1</td>\n",
       "      <td>2019-05-03 11:30:39</td>\n",
       "      <td>1613.0</td>\n",
       "    </tr>\n",
       "    <tr>\n",
       "      <td>...</td>\n",
       "      <td>...</td>\n",
       "      <td>...</td>\n",
       "      <td>...</td>\n",
       "    </tr>\n",
       "    <tr>\n",
       "      <td>15902</td>\n",
       "      <td>3241</td>\n",
       "      <td>2019-09-01 04:03:30</td>\n",
       "      <td>1586.0</td>\n",
       "    </tr>\n",
       "    <tr>\n",
       "      <td>15903</td>\n",
       "      <td>3241</td>\n",
       "      <td>2019-09-01 04:16:12</td>\n",
       "      <td>NaN</td>\n",
       "    </tr>\n",
       "    <tr>\n",
       "      <td>15904</td>\n",
       "      <td>3241</td>\n",
       "      <td>2019-09-01 04:22:39</td>\n",
       "      <td>NaN</td>\n",
       "    </tr>\n",
       "    <tr>\n",
       "      <td>15905</td>\n",
       "      <td>3241</td>\n",
       "      <td>2019-09-01 04:33:42</td>\n",
       "      <td>NaN</td>\n",
       "    </tr>\n",
       "    <tr>\n",
       "      <td>15906</td>\n",
       "      <td>3241</td>\n",
       "      <td>2019-09-01 04:38:08</td>\n",
       "      <td>NaN</td>\n",
       "    </tr>\n",
       "  </tbody>\n",
       "</table>\n",
       "<p>15666 rows × 3 columns</p>\n",
       "</div>"
      ],
      "text/plain": [
       "        key         Время замера  Температура\n",
       "0         1  2019-05-03 11:16:18       1571.0\n",
       "1         1  2019-05-03 11:25:53       1604.0\n",
       "2         1  2019-05-03 11:29:11       1618.0\n",
       "3         1  2019-05-03 11:30:01       1601.0\n",
       "4         1  2019-05-03 11:30:39       1613.0\n",
       "...     ...                  ...          ...\n",
       "15902  3241  2019-09-01 04:03:30       1586.0\n",
       "15903  3241  2019-09-01 04:16:12          NaN\n",
       "15904  3241  2019-09-01 04:22:39          NaN\n",
       "15905  3241  2019-09-01 04:33:42          NaN\n",
       "15906  3241  2019-09-01 04:38:08          NaN\n",
       "\n",
       "[15666 rows x 3 columns]"
      ]
     },
     "execution_count": 30,
     "metadata": {},
     "output_type": "execute_result"
    }
   ],
   "source": [
    "df_temperature_join"
   ]
  },
  {
   "cell_type": "code",
   "execution_count": 31,
   "metadata": {},
   "outputs": [],
   "source": [
    "# Приведем типы данных\n",
    "df_temperature_join['Время замера'] =df_temperature_join['Время замера'].astype('datetime64[ns]')"
   ]
  },
  {
   "cell_type": "markdown",
   "metadata": {},
   "source": [
    "#### Длительность времени между первым и последним замером температуры"
   ]
  },
  {
   "cell_type": "code",
   "execution_count": 32,
   "metadata": {},
   "outputs": [],
   "source": [
    "key_unique = df_temperature_join['key'].unique()\n",
    "time_measure_temp = []\n",
    "for key in key_unique:\n",
    "    _df =df_temperature_join[df_temperature_join['key']==key]\n",
    "    dfiff_time =_df['Время замера'].max()-_df['Время замера'].min()\n",
    "    time_measure_temp.append([key,dfiff_time.seconds])\n",
    "temp_gap = pd.DataFrame(time_measure_temp,columns = ['key','time_gap'])"
   ]
  },
  {
   "cell_type": "code",
   "execution_count": 33,
   "metadata": {},
   "outputs": [
    {
     "data": {
      "image/png": "[encoded data removed]",
      "text/plain": [
       "<Figure size 720x360 with 1 Axes>"
      ]
     },
     "metadata": {
      "needs_background": "light"
     },
     "output_type": "display_data"
    }
   ],
   "source": [
    "plt.figure(figsize=(10,5))\n",
    "plt.plot(temp_gap['time_gap']);\n",
    "plt.title('Длительность времени между первым и последним замером температуры')\n",
    "plt.xlabel('Количество партий')\n",
    "plt.ylabel('Время между измерениями температуры');"
   ]
  },
  {
   "cell_type": "code",
   "execution_count": 34,
   "metadata": {},
   "outputs": [],
   "source": [
    "for key in key_unique:\n",
    "    df_temperature_join[df_temperature_join['key']==key]    "
   ]
  },
  {
   "cell_type": "code",
   "execution_count": 35,
   "metadata": {},
   "outputs": [],
   "source": [
    "# приведем тип для работы с датой\n",
    "df_arc['Начало нагрева дугой'] = pd.to_datetime(df_arc['Начало нагрева дугой'] )\n",
    "df_arc['Конец нагрева дугой'] = pd.to_datetime(df_arc['Конец нагрева дугой'] )\n",
    "\n",
    "# найдем сколько каждая итерация длилась в секундах\n",
    "df_arc['Время нагрева'] = df_arc['Конец нагрева дугой'] - df_arc['Начало нагрева дугой']\n",
    "df_arc['Время_нагрева_ceк'] = df_arc['Время нагрева'].apply(lambda x:x.seconds)"
   ]
  },
  {
   "cell_type": "markdown",
   "metadata": {},
   "source": [
    "Найдем все значения выплавок, где последнее значение температуры было пропущено"
   ]
  },
  {
   "cell_type": "code",
   "execution_count": 36,
   "metadata": {},
   "outputs": [
    {
     "data": {
      "text/html": [
       "<div>\n",
       "<style scoped>\n",
       "    .dataframe tbody tr th:only-of-type {\n",
       "        vertical-align: middle;\n",
       "    }\n",
       "\n",
       "    .dataframe tbody tr th {\n",
       "        vertical-align: top;\n",
       "    }\n",
       "\n",
       "    .dataframe thead th {\n",
       "        text-align: right;\n",
       "    }\n",
       "</style>\n",
       "<table border=\"1\" class=\"dataframe\">\n",
       "  <thead>\n",
       "    <tr style=\"text-align: right;\">\n",
       "      <th></th>\n",
       "      <th>key</th>\n",
       "      <th>Время замера</th>\n",
       "      <th>Температура</th>\n",
       "    </tr>\n",
       "  </thead>\n",
       "  <tbody>\n",
       "    <tr>\n",
       "      <td>12267</td>\n",
       "      <td>2500</td>\n",
       "      <td>2019-08-06 03:11:31</td>\n",
       "      <td>1539.0</td>\n",
       "    </tr>\n",
       "    <tr>\n",
       "      <td>12268</td>\n",
       "      <td>2500</td>\n",
       "      <td>2019-08-06 03:24:43</td>\n",
       "      <td>NaN</td>\n",
       "    </tr>\n",
       "    <tr>\n",
       "      <td>12269</td>\n",
       "      <td>2500</td>\n",
       "      <td>2019-08-06 03:25:16</td>\n",
       "      <td>NaN</td>\n",
       "    </tr>\n",
       "    <tr>\n",
       "      <td>12270</td>\n",
       "      <td>2500</td>\n",
       "      <td>2019-08-06 03:28:21</td>\n",
       "      <td>NaN</td>\n",
       "    </tr>\n",
       "    <tr>\n",
       "      <td>12271</td>\n",
       "      <td>2501</td>\n",
       "      <td>2019-08-06 03:44:42</td>\n",
       "      <td>1587.0</td>\n",
       "    </tr>\n",
       "    <tr>\n",
       "      <td>...</td>\n",
       "      <td>...</td>\n",
       "      <td>...</td>\n",
       "      <td>...</td>\n",
       "    </tr>\n",
       "    <tr>\n",
       "      <td>15902</td>\n",
       "      <td>3241</td>\n",
       "      <td>2019-09-01 04:03:30</td>\n",
       "      <td>1586.0</td>\n",
       "    </tr>\n",
       "    <tr>\n",
       "      <td>15903</td>\n",
       "      <td>3241</td>\n",
       "      <td>2019-09-01 04:16:12</td>\n",
       "      <td>NaN</td>\n",
       "    </tr>\n",
       "    <tr>\n",
       "      <td>15904</td>\n",
       "      <td>3241</td>\n",
       "      <td>2019-09-01 04:22:39</td>\n",
       "      <td>NaN</td>\n",
       "    </tr>\n",
       "    <tr>\n",
       "      <td>15905</td>\n",
       "      <td>3241</td>\n",
       "      <td>2019-09-01 04:33:42</td>\n",
       "      <td>NaN</td>\n",
       "    </tr>\n",
       "    <tr>\n",
       "      <td>15906</td>\n",
       "      <td>3241</td>\n",
       "      <td>2019-09-01 04:38:08</td>\n",
       "      <td>NaN</td>\n",
       "    </tr>\n",
       "  </tbody>\n",
       "</table>\n",
       "<p>3629 rows × 3 columns</p>\n",
       "</div>"
      ],
      "text/plain": [
       "        key        Время замера  Температура\n",
       "12267  2500 2019-08-06 03:11:31       1539.0\n",
       "12268  2500 2019-08-06 03:24:43          NaN\n",
       "12269  2500 2019-08-06 03:25:16          NaN\n",
       "12270  2500 2019-08-06 03:28:21          NaN\n",
       "12271  2501 2019-08-06 03:44:42       1587.0\n",
       "...     ...                 ...          ...\n",
       "15902  3241 2019-09-01 04:03:30       1586.0\n",
       "15903  3241 2019-09-01 04:16:12          NaN\n",
       "15904  3241 2019-09-01 04:22:39          NaN\n",
       "15905  3241 2019-09-01 04:33:42          NaN\n",
       "15906  3241 2019-09-01 04:38:08          NaN\n",
       "\n",
       "[3629 rows x 3 columns]"
      ]
     },
     "execution_count": 36,
     "metadata": {},
     "output_type": "execute_result"
    }
   ],
   "source": [
    "key_unique = df_temperature_join['key'].unique()\n",
    "last_nan_key = []\n",
    "for key in key_unique:\n",
    "    len_key_df = df_temperature_join[df_temperature_join['key']==key]['key'].count()\n",
    "    if pd.isna(df_temperature_join[df_temperature_join['key']==key].iloc[len_key_df-1]['Температура']):  \n",
    "        last_nan_key.append(key)\n",
    "df_temperature_join.query('key in @last_nan_key ')"
   ]
  },
  {
   "cell_type": "code",
   "execution_count": 37,
   "metadata": {},
   "outputs": [
    {
     "name": "stdout",
     "output_type": "stream",
     "text": [
      "<class 'pandas.core.frame.DataFrame'>\n",
      "Int64Index: 12037 entries, 0 to 12266\n",
      "Data columns (total 3 columns):\n",
      "key             12037 non-null int64\n",
      "Время замера    12037 non-null datetime64[ns]\n",
      "Температура     12037 non-null float64\n",
      "dtypes: datetime64[ns](1), float64(1), int64(1)\n",
      "memory usage: 376.2 KB\n",
      "Количество удаленных партий 737\n"
     ]
    }
   ],
   "source": [
    "df_temperature_join_not_na = df_temperature_join.drop(index=df_temperature_join.query('key in @last_nan_key ').index)\n",
    "df_temperature_join_not_na.info()\n",
    "print ('Количество удаленных партий',len(last_nan_key))"
   ]
  },
  {
   "cell_type": "markdown",
   "metadata": {},
   "source": [
    "Как оказалось, если пропущено последнее значение, значит и пропущены все предыдущиие. Теперь в датасэте нет пропусков, мы удалили 737 партий"
   ]
  },
  {
   "cell_type": "code",
   "execution_count": 38,
   "metadata": {},
   "outputs": [
    {
     "data": {
      "text/html": [
       "<div>\n",
       "<style scoped>\n",
       "    .dataframe tbody tr th:only-of-type {\n",
       "        vertical-align: middle;\n",
       "    }\n",
       "\n",
       "    .dataframe tbody tr th {\n",
       "        vertical-align: top;\n",
       "    }\n",
       "\n",
       "    .dataframe thead th {\n",
       "        text-align: right;\n",
       "    }\n",
       "</style>\n",
       "<table border=\"1\" class=\"dataframe\">\n",
       "  <thead>\n",
       "    <tr style=\"text-align: right;\">\n",
       "      <th></th>\n",
       "      <th>key</th>\n",
       "      <th>Время замера</th>\n",
       "      <th>Температура</th>\n",
       "    </tr>\n",
       "  </thead>\n",
       "  <tbody>\n",
       "    <tr>\n",
       "      <td>162</td>\n",
       "      <td>30</td>\n",
       "      <td>2019-05-04 09:35:25</td>\n",
       "      <td>1567.0</td>\n",
       "    </tr>\n",
       "    <tr>\n",
       "      <td>163</td>\n",
       "      <td>30</td>\n",
       "      <td>2019-05-04 09:35:57</td>\n",
       "      <td>1567.0</td>\n",
       "    </tr>\n",
       "    <tr>\n",
       "      <td>164</td>\n",
       "      <td>30</td>\n",
       "      <td>2019-05-04 09:36:32</td>\n",
       "      <td>1562.0</td>\n",
       "    </tr>\n",
       "    <tr>\n",
       "      <td>165</td>\n",
       "      <td>30</td>\n",
       "      <td>2019-05-04 09:46:48</td>\n",
       "      <td>1587.0</td>\n",
       "    </tr>\n",
       "    <tr>\n",
       "      <td>166</td>\n",
       "      <td>30</td>\n",
       "      <td>2019-05-04 09:58:56</td>\n",
       "      <td>1605.0</td>\n",
       "    </tr>\n",
       "    <tr>\n",
       "      <td>167</td>\n",
       "      <td>30</td>\n",
       "      <td>2019-05-04 10:02:30</td>\n",
       "      <td>1606.0</td>\n",
       "    </tr>\n",
       "    <tr>\n",
       "      <td>168</td>\n",
       "      <td>30</td>\n",
       "      <td>2019-05-04 10:09:14</td>\n",
       "      <td>1606.0</td>\n",
       "    </tr>\n",
       "    <tr>\n",
       "      <td>169</td>\n",
       "      <td>30</td>\n",
       "      <td>2019-05-04 10:09:50</td>\n",
       "      <td>1598.0</td>\n",
       "    </tr>\n",
       "  </tbody>\n",
       "</table>\n",
       "</div>"
      ],
      "text/plain": [
       "     key        Время замера  Температура\n",
       "162   30 2019-05-04 09:35:25       1567.0\n",
       "163   30 2019-05-04 09:35:57       1567.0\n",
       "164   30 2019-05-04 09:36:32       1562.0\n",
       "165   30 2019-05-04 09:46:48       1587.0\n",
       "166   30 2019-05-04 09:58:56       1605.0\n",
       "167   30 2019-05-04 10:02:30       1606.0\n",
       "168   30 2019-05-04 10:09:14       1606.0\n",
       "169   30 2019-05-04 10:09:50       1598.0"
      ]
     },
     "execution_count": 38,
     "metadata": {},
     "output_type": "execute_result"
    }
   ],
   "source": [
    "df_temperature_join_not_na[df_temperature_join_not_na['key']==30]"
   ]
  },
  {
   "cell_type": "code",
   "execution_count": 39,
   "metadata": {},
   "outputs": [
    {
     "name": "stdout",
     "output_type": "stream",
     "text": [
      "8\n"
     ]
    },
    {
     "data": {
      "text/plain": [
       "1598.0"
      ]
     },
     "execution_count": 39,
     "metadata": {},
     "output_type": "execute_result"
    }
   ],
   "source": [
    "len_key_df = df_temperature_join_not_na[df_temperature_join_not_na['key']==30]['key'].count()\n",
    "print (len_key_df)\n",
    "df_temperature_join[df_temperature_join['key']==30]['Температура'].iloc[len_key_df-1]"
   ]
  },
  {
   "cell_type": "markdown",
   "metadata": {},
   "source": [
    "Вычислили СКО по температуре по каждой партии(не беря последнее значение), удалили 2 пропуска, т.к. они образовались при делении на 0."
   ]
  },
  {
   "cell_type": "markdown",
   "metadata": {},
   "source": []
  },
  {
   "cell_type": "markdown",
   "metadata": {},
   "source": [
    "##### Длительность времени между первым и последним замером температуры"
   ]
  },
  {
   "cell_type": "code",
   "execution_count": 40,
   "metadata": {},
   "outputs": [
    {
     "data": {
      "text/html": [
       "<div>\n",
       "<style scoped>\n",
       "    .dataframe tbody tr th:only-of-type {\n",
       "        vertical-align: middle;\n",
       "    }\n",
       "\n",
       "    .dataframe tbody tr th {\n",
       "        vertical-align: top;\n",
       "    }\n",
       "\n",
       "    .dataframe thead th {\n",
       "        text-align: right;\n",
       "    }\n",
       "</style>\n",
       "<table border=\"1\" class=\"dataframe\">\n",
       "  <thead>\n",
       "    <tr style=\"text-align: right;\">\n",
       "      <th></th>\n",
       "      <th>key</th>\n",
       "      <th>Время замера</th>\n",
       "      <th>Температура</th>\n",
       "    </tr>\n",
       "  </thead>\n",
       "  <tbody>\n",
       "    <tr>\n",
       "      <td>12267</td>\n",
       "      <td>2500</td>\n",
       "      <td>2019-08-06 03:11:31</td>\n",
       "      <td>1539.0</td>\n",
       "    </tr>\n",
       "    <tr>\n",
       "      <td>12268</td>\n",
       "      <td>2500</td>\n",
       "      <td>2019-08-06 03:24:43</td>\n",
       "      <td>NaN</td>\n",
       "    </tr>\n",
       "    <tr>\n",
       "      <td>12269</td>\n",
       "      <td>2500</td>\n",
       "      <td>2019-08-06 03:25:16</td>\n",
       "      <td>NaN</td>\n",
       "    </tr>\n",
       "    <tr>\n",
       "      <td>12270</td>\n",
       "      <td>2500</td>\n",
       "      <td>2019-08-06 03:28:21</td>\n",
       "      <td>NaN</td>\n",
       "    </tr>\n",
       "    <tr>\n",
       "      <td>12271</td>\n",
       "      <td>2501</td>\n",
       "      <td>2019-08-06 03:44:42</td>\n",
       "      <td>1587.0</td>\n",
       "    </tr>\n",
       "    <tr>\n",
       "      <td>...</td>\n",
       "      <td>...</td>\n",
       "      <td>...</td>\n",
       "      <td>...</td>\n",
       "    </tr>\n",
       "    <tr>\n",
       "      <td>15902</td>\n",
       "      <td>3241</td>\n",
       "      <td>2019-09-01 04:03:30</td>\n",
       "      <td>1586.0</td>\n",
       "    </tr>\n",
       "    <tr>\n",
       "      <td>15903</td>\n",
       "      <td>3241</td>\n",
       "      <td>2019-09-01 04:16:12</td>\n",
       "      <td>NaN</td>\n",
       "    </tr>\n",
       "    <tr>\n",
       "      <td>15904</td>\n",
       "      <td>3241</td>\n",
       "      <td>2019-09-01 04:22:39</td>\n",
       "      <td>NaN</td>\n",
       "    </tr>\n",
       "    <tr>\n",
       "      <td>15905</td>\n",
       "      <td>3241</td>\n",
       "      <td>2019-09-01 04:33:42</td>\n",
       "      <td>NaN</td>\n",
       "    </tr>\n",
       "    <tr>\n",
       "      <td>15906</td>\n",
       "      <td>3241</td>\n",
       "      <td>2019-09-01 04:38:08</td>\n",
       "      <td>NaN</td>\n",
       "    </tr>\n",
       "  </tbody>\n",
       "</table>\n",
       "<p>3629 rows × 3 columns</p>\n",
       "</div>"
      ],
      "text/plain": [
       "        key        Время замера  Температура\n",
       "12267  2500 2019-08-06 03:11:31       1539.0\n",
       "12268  2500 2019-08-06 03:24:43          NaN\n",
       "12269  2500 2019-08-06 03:25:16          NaN\n",
       "12270  2500 2019-08-06 03:28:21          NaN\n",
       "12271  2501 2019-08-06 03:44:42       1587.0\n",
       "...     ...                 ...          ...\n",
       "15902  3241 2019-09-01 04:03:30       1586.0\n",
       "15903  3241 2019-09-01 04:16:12          NaN\n",
       "15904  3241 2019-09-01 04:22:39          NaN\n",
       "15905  3241 2019-09-01 04:33:42          NaN\n",
       "15906  3241 2019-09-01 04:38:08          NaN\n",
       "\n",
       "[3629 rows x 3 columns]"
      ]
     },
     "execution_count": 40,
     "metadata": {},
     "output_type": "execute_result"
    }
   ],
   "source": [
    "key_unique = df_temperature_join['key'].unique()\n",
    "last_nan_key = []\n",
    "for key in key_unique:\n",
    "    len_key_df = df_temperature_join[df_temperature_join['key']==key]['key'].count()\n",
    "    if pd.isna(df_temperature_join[df_temperature_join['key']==key].iloc[len_key_df-1]['Температура']):  \n",
    "        last_nan_key.append(key)\n",
    "df_temperature_join.query('key in @last_nan_key ')"
   ]
  },
  {
   "cell_type": "code",
   "execution_count": 41,
   "metadata": {},
   "outputs": [],
   "source": [
    "key_unique = df_temperature_join['key'].unique()\n",
    "time_measure_temp = []\n",
    "for key in key_unique:\n",
    "    _df =df_temperature_join[df_temperature_join['key']==key]\n",
    "    dfiff_time =_df['Время замера'].max()-_df['Время замера'].min()\n",
    "    time_measure_temp.append([key,dfiff_time.seconds])\n",
    "temp_gap = pd.DataFrame(time_measure_temp,columns = ['key','time_gap'])"
   ]
  },
  {
   "cell_type": "code",
   "execution_count": 42,
   "metadata": {},
   "outputs": [
    {
     "data": {
      "text/html": [
       "<div>\n",
       "<style scoped>\n",
       "    .dataframe tbody tr th:only-of-type {\n",
       "        vertical-align: middle;\n",
       "    }\n",
       "\n",
       "    .dataframe tbody tr th {\n",
       "        vertical-align: top;\n",
       "    }\n",
       "\n",
       "    .dataframe thead th {\n",
       "        text-align: right;\n",
       "    }\n",
       "</style>\n",
       "<table border=\"1\" class=\"dataframe\">\n",
       "  <thead>\n",
       "    <tr style=\"text-align: right;\">\n",
       "      <th></th>\n",
       "      <th>key</th>\n",
       "      <th>time_gap</th>\n",
       "    </tr>\n",
       "  </thead>\n",
       "  <tbody>\n",
       "    <tr>\n",
       "      <td>0</td>\n",
       "      <td>1</td>\n",
       "      <td>861</td>\n",
       "    </tr>\n",
       "    <tr>\n",
       "      <td>1</td>\n",
       "      <td>2</td>\n",
       "      <td>1305</td>\n",
       "    </tr>\n",
       "    <tr>\n",
       "      <td>2</td>\n",
       "      <td>3</td>\n",
       "      <td>1300</td>\n",
       "    </tr>\n",
       "    <tr>\n",
       "      <td>3</td>\n",
       "      <td>4</td>\n",
       "      <td>388</td>\n",
       "    </tr>\n",
       "    <tr>\n",
       "      <td>4</td>\n",
       "      <td>5</td>\n",
       "      <td>762</td>\n",
       "    </tr>\n",
       "    <tr>\n",
       "      <td>...</td>\n",
       "      <td>...</td>\n",
       "      <td>...</td>\n",
       "    </tr>\n",
       "    <tr>\n",
       "      <td>3169</td>\n",
       "      <td>3237</td>\n",
       "      <td>1299</td>\n",
       "    </tr>\n",
       "    <tr>\n",
       "      <td>3170</td>\n",
       "      <td>3238</td>\n",
       "      <td>749</td>\n",
       "    </tr>\n",
       "    <tr>\n",
       "      <td>3171</td>\n",
       "      <td>3239</td>\n",
       "      <td>3148</td>\n",
       "    </tr>\n",
       "    <tr>\n",
       "      <td>3172</td>\n",
       "      <td>3240</td>\n",
       "      <td>3375</td>\n",
       "    </tr>\n",
       "    <tr>\n",
       "      <td>3173</td>\n",
       "      <td>3241</td>\n",
       "      <td>2078</td>\n",
       "    </tr>\n",
       "  </tbody>\n",
       "</table>\n",
       "<p>3174 rows × 2 columns</p>\n",
       "</div>"
      ],
      "text/plain": [
       "       key  time_gap\n",
       "0        1       861\n",
       "1        2      1305\n",
       "2        3      1300\n",
       "3        4       388\n",
       "4        5       762\n",
       "...    ...       ...\n",
       "3169  3237      1299\n",
       "3170  3238       749\n",
       "3171  3239      3148\n",
       "3172  3240      3375\n",
       "3173  3241      2078\n",
       "\n",
       "[3174 rows x 2 columns]"
      ]
     },
     "execution_count": 42,
     "metadata": {},
     "output_type": "execute_result"
    }
   ],
   "source": [
    "temp_gap"
   ]
  },
  {
   "cell_type": "markdown",
   "metadata": {},
   "source": [
    "Есть идея взять СКО у всех температур кроме последней, в рамках одной партии - **сделаем это!**"
   ]
  },
  {
   "cell_type": "code",
   "execution_count": 43,
   "metadata": {},
   "outputs": [
    {
     "name": "stderr",
     "output_type": "stream",
     "text": [
      "/opt/conda/lib/python3.7/site-packages/numpy/core/_methods.py:234: RuntimeWarning: Degrees of freedom <= 0 for slice\n",
      "  keepdims=keepdims)\n",
      "/opt/conda/lib/python3.7/site-packages/numpy/core/_methods.py:195: RuntimeWarning: invalid value encountered in true_divide\n",
      "  arrmean, rcount, out=arrmean, casting='unsafe', subok=False)\n",
      "/opt/conda/lib/python3.7/site-packages/numpy/core/_methods.py:226: RuntimeWarning: invalid value encountered in double_scalars\n",
      "  ret = ret.dtype.type(ret / rcount)\n"
     ]
    }
   ],
   "source": [
    "key_unique = df_temperature_join_not_na['key'].unique()\n",
    "std_key = []\n",
    "for key in key_unique:\n",
    "    len_key_df = df_temperature_join_not_na[df_temperature_join_not_na['key']==key]['key'].count()\n",
    "    std = df_temperature_join[df_temperature_join['key']==key]['Температура'][:len_key_df-1].values.std()\n",
    "    last_temperature = df_temperature_join[df_temperature_join['key']==key]['Температура'].iloc[len_key_df-1]\n",
    "    first_temperature = df_temperature_join[df_temperature_join['key']==key]['Температура'].iloc[0]\n",
    "    std_key.append([key,std,last_temperature,first_temperature])     "
   ]
  },
  {
   "cell_type": "code",
   "execution_count": 44,
   "metadata": {},
   "outputs": [
    {
     "name": "stdout",
     "output_type": "stream",
     "text": [
      "<class 'pandas.core.frame.DataFrame'>\n",
      "RangeIndex: 2437 entries, 0 to 2436\n",
      "Data columns (total 4 columns):\n",
      "key                  2437 non-null int64\n",
      "std_temp             2435 non-null float64\n",
      "last_temperature     2437 non-null float64\n",
      "first_temperature    2437 non-null float64\n",
      "dtypes: float64(3), int64(1)\n",
      "memory usage: 76.3 KB\n"
     ]
    },
    {
     "data": {
      "text/html": [
       "<div>\n",
       "<style scoped>\n",
       "    .dataframe tbody tr th:only-of-type {\n",
       "        vertical-align: middle;\n",
       "    }\n",
       "\n",
       "    .dataframe tbody tr th {\n",
       "        vertical-align: top;\n",
       "    }\n",
       "\n",
       "    .dataframe thead th {\n",
       "        text-align: right;\n",
       "    }\n",
       "</style>\n",
       "<table border=\"1\" class=\"dataframe\">\n",
       "  <thead>\n",
       "    <tr style=\"text-align: right;\">\n",
       "      <th></th>\n",
       "      <th>key</th>\n",
       "      <th>std_temp</th>\n",
       "      <th>last_temperature</th>\n",
       "      <th>first_temperature</th>\n",
       "    </tr>\n",
       "  </thead>\n",
       "  <tbody>\n",
       "    <tr>\n",
       "      <td>2430</td>\n",
       "      <td>2493</td>\n",
       "      <td>6.50</td>\n",
       "      <td>1594.0</td>\n",
       "      <td>1599.0</td>\n",
       "    </tr>\n",
       "    <tr>\n",
       "      <td>2431</td>\n",
       "      <td>2494</td>\n",
       "      <td>3.50</td>\n",
       "      <td>1591.0</td>\n",
       "      <td>1585.0</td>\n",
       "    </tr>\n",
       "    <tr>\n",
       "      <td>2432</td>\n",
       "      <td>2495</td>\n",
       "      <td>10.00</td>\n",
       "      <td>1591.0</td>\n",
       "      <td>1570.0</td>\n",
       "    </tr>\n",
       "    <tr>\n",
       "      <td>2433</td>\n",
       "      <td>2496</td>\n",
       "      <td>16.75</td>\n",
       "      <td>1591.0</td>\n",
       "      <td>1554.0</td>\n",
       "    </tr>\n",
       "    <tr>\n",
       "      <td>2434</td>\n",
       "      <td>2497</td>\n",
       "      <td>0.00</td>\n",
       "      <td>1589.0</td>\n",
       "      <td>1571.0</td>\n",
       "    </tr>\n",
       "    <tr>\n",
       "      <td>2435</td>\n",
       "      <td>2498</td>\n",
       "      <td>9.23</td>\n",
       "      <td>1594.0</td>\n",
       "      <td>1591.0</td>\n",
       "    </tr>\n",
       "    <tr>\n",
       "      <td>2436</td>\n",
       "      <td>2499</td>\n",
       "      <td>17.50</td>\n",
       "      <td>1603.0</td>\n",
       "      <td>1569.0</td>\n",
       "    </tr>\n",
       "  </tbody>\n",
       "</table>\n",
       "</div>"
      ],
      "text/plain": [
       "       key  std_temp  last_temperature  first_temperature\n",
       "2430  2493      6.50            1594.0             1599.0\n",
       "2431  2494      3.50            1591.0             1585.0\n",
       "2432  2495     10.00            1591.0             1570.0\n",
       "2433  2496     16.75            1591.0             1554.0\n",
       "2434  2497      0.00            1589.0             1571.0\n",
       "2435  2498      9.23            1594.0             1591.0\n",
       "2436  2499     17.50            1603.0             1569.0"
      ]
     },
     "execution_count": 44,
     "metadata": {},
     "output_type": "execute_result"
    }
   ],
   "source": [
    "std_key = pd.DataFrame(std_key,columns=['key','std_temp','last_temperature','first_temperature'])\n",
    "std_key.info()\n",
    "std_key = std_key.dropna()\n",
    "std_key.tail(7)"
   ]
  },
  {
   "cell_type": "code",
   "execution_count": 45,
   "metadata": {},
   "outputs": [
    {
     "data": {
      "text/html": [
       "<div>\n",
       "<style scoped>\n",
       "    .dataframe tbody tr th:only-of-type {\n",
       "        vertical-align: middle;\n",
       "    }\n",
       "\n",
       "    .dataframe tbody tr th {\n",
       "        vertical-align: top;\n",
       "    }\n",
       "\n",
       "    .dataframe thead th {\n",
       "        text-align: right;\n",
       "    }\n",
       "</style>\n",
       "<table border=\"1\" class=\"dataframe\">\n",
       "  <thead>\n",
       "    <tr style=\"text-align: right;\">\n",
       "      <th></th>\n",
       "      <th>key</th>\n",
       "      <th>Количество_замеров температуры</th>\n",
       "      <th>time_gap</th>\n",
       "      <th>std_temp</th>\n",
       "      <th>last_temperature</th>\n",
       "      <th>first_temperature</th>\n",
       "    </tr>\n",
       "  </thead>\n",
       "  <tbody>\n",
       "    <tr>\n",
       "      <td>0</td>\n",
       "      <td>1</td>\n",
       "      <td>5</td>\n",
       "      <td>861</td>\n",
       "      <td>17.12</td>\n",
       "      <td>1613.0</td>\n",
       "      <td>1571.0</td>\n",
       "    </tr>\n",
       "    <tr>\n",
       "      <td>1</td>\n",
       "      <td>2</td>\n",
       "      <td>6</td>\n",
       "      <td>1305</td>\n",
       "      <td>12.29</td>\n",
       "      <td>1602.0</td>\n",
       "      <td>1581.0</td>\n",
       "    </tr>\n",
       "    <tr>\n",
       "      <td>2</td>\n",
       "      <td>3</td>\n",
       "      <td>5</td>\n",
       "      <td>1300</td>\n",
       "      <td>1.12</td>\n",
       "      <td>1599.0</td>\n",
       "      <td>1596.0</td>\n",
       "    </tr>\n",
       "    <tr>\n",
       "      <td>3</td>\n",
       "      <td>4</td>\n",
       "      <td>3</td>\n",
       "      <td>388</td>\n",
       "      <td>11.00</td>\n",
       "      <td>1625.0</td>\n",
       "      <td>1601.0</td>\n",
       "    </tr>\n",
       "    <tr>\n",
       "      <td>4</td>\n",
       "      <td>5</td>\n",
       "      <td>2</td>\n",
       "      <td>762</td>\n",
       "      <td>0.00</td>\n",
       "      <td>1602.0</td>\n",
       "      <td>1576.0</td>\n",
       "    </tr>\n",
       "    <tr>\n",
       "      <td>...</td>\n",
       "      <td>...</td>\n",
       "      <td>...</td>\n",
       "      <td>...</td>\n",
       "      <td>...</td>\n",
       "      <td>...</td>\n",
       "      <td>...</td>\n",
       "    </tr>\n",
       "    <tr>\n",
       "      <td>2430</td>\n",
       "      <td>2495</td>\n",
       "      <td>3</td>\n",
       "      <td>1137</td>\n",
       "      <td>10.00</td>\n",
       "      <td>1591.0</td>\n",
       "      <td>1570.0</td>\n",
       "    </tr>\n",
       "    <tr>\n",
       "      <td>2431</td>\n",
       "      <td>2496</td>\n",
       "      <td>4</td>\n",
       "      <td>1618</td>\n",
       "      <td>16.75</td>\n",
       "      <td>1591.0</td>\n",
       "      <td>1554.0</td>\n",
       "    </tr>\n",
       "    <tr>\n",
       "      <td>2432</td>\n",
       "      <td>2497</td>\n",
       "      <td>2</td>\n",
       "      <td>717</td>\n",
       "      <td>0.00</td>\n",
       "      <td>1589.0</td>\n",
       "      <td>1571.0</td>\n",
       "    </tr>\n",
       "    <tr>\n",
       "      <td>2433</td>\n",
       "      <td>2498</td>\n",
       "      <td>5</td>\n",
       "      <td>1302</td>\n",
       "      <td>9.23</td>\n",
       "      <td>1594.0</td>\n",
       "      <td>1591.0</td>\n",
       "    </tr>\n",
       "    <tr>\n",
       "      <td>2434</td>\n",
       "      <td>2499</td>\n",
       "      <td>3</td>\n",
       "      <td>1203</td>\n",
       "      <td>17.50</td>\n",
       "      <td>1603.0</td>\n",
       "      <td>1569.0</td>\n",
       "    </tr>\n",
       "  </tbody>\n",
       "</table>\n",
       "<p>2435 rows × 6 columns</p>\n",
       "</div>"
      ],
      "text/plain": [
       "       key  Количество_замеров температуры  time_gap  std_temp  \\\n",
       "0        1                               5       861     17.12   \n",
       "1        2                               6      1305     12.29   \n",
       "2        3                               5      1300      1.12   \n",
       "3        4                               3       388     11.00   \n",
       "4        5                               2       762      0.00   \n",
       "...    ...                             ...       ...       ...   \n",
       "2430  2495                               3      1137     10.00   \n",
       "2431  2496                               4      1618     16.75   \n",
       "2432  2497                               2       717      0.00   \n",
       "2433  2498                               5      1302      9.23   \n",
       "2434  2499                               3      1203     17.50   \n",
       "\n",
       "      last_temperature  first_temperature  \n",
       "0               1613.0             1571.0  \n",
       "1               1602.0             1581.0  \n",
       "2               1599.0             1596.0  \n",
       "3               1625.0             1601.0  \n",
       "4               1602.0             1576.0  \n",
       "...                ...                ...  \n",
       "2430            1591.0             1570.0  \n",
       "2431            1591.0             1554.0  \n",
       "2432            1589.0             1571.0  \n",
       "2433            1594.0             1591.0  \n",
       "2434            1603.0             1569.0  \n",
       "\n",
       "[2435 rows x 6 columns]"
      ]
     },
     "execution_count": 45,
     "metadata": {},
     "output_type": "execute_result"
    }
   ],
   "source": [
    "df_temperature_final= temp_gap.merge(std_key,how='inner',on='key')\n",
    "df_temperature_final=  df_temp_quant.merge(df_temperature_final,how='inner',on='key')\n",
    "df_temperature_final"
   ]
  },
  {
   "cell_type": "markdown",
   "metadata": {},
   "source": [
    "\n",
    "**Вывод:**  По данной таблице были проведены следующие действия:\n",
    "\n",
    "- Удалили выбросы за пределами 3-х интерквантильных размахов\n",
    "- Удалили партии, где отсутствует последнее значение температуры\n",
    "- Посчитали количество измерений температур в рамках партии\n",
    "- Посмотрели распределение по количеству измерений\n",
    "- Вычислили разницу между первым и последним измерением(секунды)\n",
    "- Для каждой партии собрали целевой признак ``last_temperature```\n",
    "- Для каждой партии рассчитали СКО по температурам, не учитывая целевой признак"
   ]
  },
  {
   "cell_type": "markdown",
   "metadata": {},
   "source": [
    "### Таблица gas"
   ]
  },
  {
   "cell_type": "code",
   "execution_count": 46,
   "metadata": {},
   "outputs": [
    {
     "name": "stdout",
     "output_type": "stream",
     "text": [
      "<class 'pandas.core.frame.DataFrame'>\n",
      "RangeIndex: 3239 entries, 0 to 3238\n",
      "Data columns (total 2 columns):\n",
      "key      3239 non-null int64\n",
      "Газ 1    3239 non-null float64\n",
      "dtypes: float64(1), int64(1)\n",
      "memory usage: 50.7 KB\n"
     ]
    }
   ],
   "source": [
    "df_gas.info()"
   ]
  },
  {
   "cell_type": "code",
   "execution_count": 47,
   "metadata": {},
   "outputs": [
    {
     "data": {
      "text/plain": [
       "count    3.24e+03\n",
       "mean     1.10e+01\n",
       "std      6.22e+00\n",
       "min      8.40e-03\n",
       "25%      7.04e+00\n",
       "50%      9.84e+00\n",
       "75%      1.38e+01\n",
       "max      7.80e+01\n",
       "Name: Газ 1, dtype: float64"
      ]
     },
     "execution_count": 47,
     "metadata": {},
     "output_type": "execute_result"
    },
    {
     "data": {
      "image/png": "[encoded data removed]",
      "text/plain": [
       "<Figure size 360x360 with 1 Axes>"
      ]
     },
     "metadata": {
      "needs_background": "light"
     },
     "output_type": "display_data"
    }
   ],
   "source": [
    "sns.displot(df_gas['Газ 1']);\n",
    "df_gas['Газ 1'].describe()"
   ]
  },
  {
   "cell_type": "code",
   "execution_count": 48,
   "metadata": {},
   "outputs": [
    {
     "data": {
      "text/plain": [
       "key      True\n",
       "Газ 1    True\n",
       "dtype: bool"
      ]
     },
     "execution_count": 48,
     "metadata": {},
     "output_type": "execute_result"
    }
   ],
   "source": [
    "df_gas.any()"
   ]
  },
  {
   "cell_type": "code",
   "execution_count": 49,
   "metadata": {},
   "outputs": [
    {
     "data": {
      "image/png": "[encoded data removed]",
      "text/plain": [
       "<Figure size 432x288 with 1 Axes>"
      ]
     },
     "metadata": {
      "needs_background": "light"
     },
     "output_type": "display_data"
    }
   ],
   "source": [
    "box_plot = sns.boxplot(df_gas['Газ 1'],whis=3)\n",
    "plt.title('Соотношение количества партий и величины газа')\n",
    "plt.xlabel('Величина газа')\n",
    "plt.ylabel('Количество партий');"
   ]
  },
  {
   "cell_type": "code",
   "execution_count": 50,
   "metadata": {},
   "outputs": [],
   "source": [
    "df_gas = df_gas.rename(columns = {'Газ 1':'gas'})"
   ]
  },
  {
   "cell_type": "markdown",
   "metadata": {},
   "source": [
    "Удалим явные выбросы по газу"
   ]
  },
  {
   "cell_type": "code",
   "execution_count": 51,
   "metadata": {},
   "outputs": [
    {
     "data": {
      "text/html": [
       "<div>\n",
       "<style scoped>\n",
       "    .dataframe tbody tr th:only-of-type {\n",
       "        vertical-align: middle;\n",
       "    }\n",
       "\n",
       "    .dataframe tbody tr th {\n",
       "        vertical-align: top;\n",
       "    }\n",
       "\n",
       "    .dataframe thead th {\n",
       "        text-align: right;\n",
       "    }\n",
       "</style>\n",
       "<table border=\"1\" class=\"dataframe\">\n",
       "  <thead>\n",
       "    <tr style=\"text-align: right;\">\n",
       "      <th></th>\n",
       "      <th>key</th>\n",
       "      <th>gas</th>\n",
       "    </tr>\n",
       "  </thead>\n",
       "  <tbody>\n",
       "    <tr>\n",
       "      <td>0</td>\n",
       "      <td>1</td>\n",
       "      <td>29.75</td>\n",
       "    </tr>\n",
       "    <tr>\n",
       "      <td>1</td>\n",
       "      <td>2</td>\n",
       "      <td>12.56</td>\n",
       "    </tr>\n",
       "    <tr>\n",
       "      <td>2</td>\n",
       "      <td>3</td>\n",
       "      <td>28.55</td>\n",
       "    </tr>\n",
       "    <tr>\n",
       "      <td>3</td>\n",
       "      <td>4</td>\n",
       "      <td>18.84</td>\n",
       "    </tr>\n",
       "    <tr>\n",
       "      <td>4</td>\n",
       "      <td>5</td>\n",
       "      <td>5.41</td>\n",
       "    </tr>\n",
       "    <tr>\n",
       "      <td>...</td>\n",
       "      <td>...</td>\n",
       "      <td>...</td>\n",
       "    </tr>\n",
       "    <tr>\n",
       "      <td>3234</td>\n",
       "      <td>3237</td>\n",
       "      <td>5.54</td>\n",
       "    </tr>\n",
       "    <tr>\n",
       "      <td>3235</td>\n",
       "      <td>3238</td>\n",
       "      <td>6.75</td>\n",
       "    </tr>\n",
       "    <tr>\n",
       "      <td>3236</td>\n",
       "      <td>3239</td>\n",
       "      <td>16.02</td>\n",
       "    </tr>\n",
       "    <tr>\n",
       "      <td>3237</td>\n",
       "      <td>3240</td>\n",
       "      <td>11.86</td>\n",
       "    </tr>\n",
       "    <tr>\n",
       "      <td>3238</td>\n",
       "      <td>3241</td>\n",
       "      <td>12.68</td>\n",
       "    </tr>\n",
       "  </tbody>\n",
       "</table>\n",
       "<p>3231 rows × 2 columns</p>\n",
       "</div>"
      ],
      "text/plain": [
       "       key    gas\n",
       "0        1  29.75\n",
       "1        2  12.56\n",
       "2        3  28.55\n",
       "3        4  18.84\n",
       "4        5   5.41\n",
       "...    ...    ...\n",
       "3234  3237   5.54\n",
       "3235  3238   6.75\n",
       "3236  3239  16.02\n",
       "3237  3240  11.86\n",
       "3238  3241  12.68\n",
       "\n",
       "[3231 rows x 2 columns]"
      ]
     },
     "execution_count": 51,
     "metadata": {},
     "output_type": "execute_result"
    }
   ],
   "source": [
    "df_gas_join = df_gas[df_gas['gas']<40]\n",
    "df_gas_join"
   ]
  },
  {
   "cell_type": "markdown",
   "metadata": {},
   "source": [
    "**Вывод:** По данной таблице пропусков нет, мы удалили выбросы находящиеся за пределами 3-х кратного интерквантильного размаха. Подготовили данные к обьединению"
   ]
  },
  {
   "cell_type": "markdown",
   "metadata": {},
   "source": [
    "### Таблица bulk и df_bulk_time"
   ]
  },
  {
   "cell_type": "markdown",
   "metadata": {},
   "source": [
    "1. Не во всех процессах используются все материалы, для упрощения модели мы предположим что материал есть True или его нет False. Отсутствие материала будем считать пропуском NaN.\n",
    "<br>  2.Что качсается времени загрузки, eсть идея брать время начала каждого процесса ``\"key\"`` (из ``data_arc``) потом брать разницу в секундах между началом процесса и загрузкой определенного сыпучего материала ``bulk``."
   ]
  },
  {
   "cell_type": "code",
   "execution_count": 52,
   "metadata": {},
   "outputs": [
    {
     "name": "stdout",
     "output_type": "stream",
     "text": [
      "<class 'pandas.core.frame.DataFrame'>\n",
      "RangeIndex: 3129 entries, 0 to 3128\n",
      "Data columns (total 16 columns):\n",
      "key        3129 non-null int64\n",
      "Bulk 1     252 non-null float64\n",
      "Bulk 2     22 non-null float64\n",
      "Bulk 3     1298 non-null float64\n",
      "Bulk 4     1014 non-null float64\n",
      "Bulk 5     77 non-null float64\n",
      "Bulk 6     576 non-null float64\n",
      "Bulk 7     25 non-null float64\n",
      "Bulk 8     1 non-null float64\n",
      "Bulk 9     19 non-null float64\n",
      "Bulk 10    176 non-null float64\n",
      "Bulk 11    177 non-null float64\n",
      "Bulk 12    2450 non-null float64\n",
      "Bulk 13    18 non-null float64\n",
      "Bulk 14    2806 non-null float64\n",
      "Bulk 15    2248 non-null float64\n",
      "dtypes: float64(15), int64(1)\n",
      "memory usage: 391.2 KB\n",
      "<class 'pandas.core.frame.DataFrame'>\n",
      "RangeIndex: 3129 entries, 0 to 3128\n",
      "Data columns (total 16 columns):\n",
      "key        3129 non-null int64\n",
      "Bulk 1     252 non-null object\n",
      "Bulk 2     22 non-null object\n",
      "Bulk 3     1298 non-null object\n",
      "Bulk 4     1014 non-null object\n",
      "Bulk 5     77 non-null object\n",
      "Bulk 6     576 non-null object\n",
      "Bulk 7     25 non-null object\n",
      "Bulk 8     1 non-null object\n",
      "Bulk 9     19 non-null object\n",
      "Bulk 10    176 non-null object\n",
      "Bulk 11    177 non-null object\n",
      "Bulk 12    2450 non-null object\n",
      "Bulk 13    18 non-null object\n",
      "Bulk 14    2806 non-null object\n",
      "Bulk 15    2248 non-null object\n",
      "dtypes: int64(1), object(15)\n",
      "memory usage: 391.2+ KB\n"
     ]
    }
   ],
   "source": [
    "# визуально взклянем, есть ли различия по пропускам в таблицах\n",
    "df_bulk.info()\n",
    "df_bulk_time.info()"
   ]
  },
  {
   "cell_type": "raw",
   "metadata": {},
   "source": [
    "# Заполнять значения плохая идея\n",
    "drop_bulk = ['Bulk 1','Bulk 2','Bulk 5','Bulk 6','Bulk 7','Bulk 8','Bulk 9','Bulk 10','Bulk 11','Bulk 13']\n",
    "df_bulk_drop = df_bulk.drop(drop_bulk,axis=1)\n",
    "df_bulk_drop.info()"
   ]
  },
  {
   "cell_type": "code",
   "execution_count": 53,
   "metadata": {},
   "outputs": [
    {
     "data": {
      "text/html": [
       "<div>\n",
       "<style scoped>\n",
       "    .dataframe tbody tr th:only-of-type {\n",
       "        vertical-align: middle;\n",
       "    }\n",
       "\n",
       "    .dataframe tbody tr th {\n",
       "        vertical-align: top;\n",
       "    }\n",
       "\n",
       "    .dataframe thead th {\n",
       "        text-align: right;\n",
       "    }\n",
       "</style>\n",
       "<table border=\"1\" class=\"dataframe\">\n",
       "  <thead>\n",
       "    <tr style=\"text-align: right;\">\n",
       "      <th></th>\n",
       "      <th>Bulk 1</th>\n",
       "      <th>Bulk 2</th>\n",
       "      <th>Bulk 3</th>\n",
       "      <th>Bulk 4</th>\n",
       "      <th>Bulk 5</th>\n",
       "      <th>Bulk 6</th>\n",
       "      <th>Bulk 7</th>\n",
       "      <th>Bulk 8</th>\n",
       "      <th>Bulk 9</th>\n",
       "      <th>Bulk 10</th>\n",
       "      <th>Bulk 11</th>\n",
       "      <th>Bulk 12</th>\n",
       "      <th>Bulk 13</th>\n",
       "      <th>Bulk 14</th>\n",
       "      <th>Bulk 15</th>\n",
       "    </tr>\n",
       "  </thead>\n",
       "  <tbody>\n",
       "    <tr>\n",
       "      <td>0</td>\n",
       "      <td>0.0</td>\n",
       "      <td>0.0</td>\n",
       "      <td>0.0</td>\n",
       "      <td>43.0</td>\n",
       "      <td>0.0</td>\n",
       "      <td>0.0</td>\n",
       "      <td>0.0</td>\n",
       "      <td>0.0</td>\n",
       "      <td>0.0</td>\n",
       "      <td>0.0</td>\n",
       "      <td>0.0</td>\n",
       "      <td>206.0</td>\n",
       "      <td>0.0</td>\n",
       "      <td>150.0</td>\n",
       "      <td>154.0</td>\n",
       "    </tr>\n",
       "    <tr>\n",
       "      <td>1</td>\n",
       "      <td>0.0</td>\n",
       "      <td>0.0</td>\n",
       "      <td>0.0</td>\n",
       "      <td>73.0</td>\n",
       "      <td>0.0</td>\n",
       "      <td>0.0</td>\n",
       "      <td>0.0</td>\n",
       "      <td>0.0</td>\n",
       "      <td>0.0</td>\n",
       "      <td>0.0</td>\n",
       "      <td>0.0</td>\n",
       "      <td>206.0</td>\n",
       "      <td>0.0</td>\n",
       "      <td>149.0</td>\n",
       "      <td>154.0</td>\n",
       "    </tr>\n",
       "    <tr>\n",
       "      <td>2</td>\n",
       "      <td>0.0</td>\n",
       "      <td>0.0</td>\n",
       "      <td>0.0</td>\n",
       "      <td>34.0</td>\n",
       "      <td>0.0</td>\n",
       "      <td>0.0</td>\n",
       "      <td>0.0</td>\n",
       "      <td>0.0</td>\n",
       "      <td>0.0</td>\n",
       "      <td>0.0</td>\n",
       "      <td>0.0</td>\n",
       "      <td>205.0</td>\n",
       "      <td>0.0</td>\n",
       "      <td>152.0</td>\n",
       "      <td>153.0</td>\n",
       "    </tr>\n",
       "    <tr>\n",
       "      <td>3</td>\n",
       "      <td>0.0</td>\n",
       "      <td>0.0</td>\n",
       "      <td>0.0</td>\n",
       "      <td>81.0</td>\n",
       "      <td>0.0</td>\n",
       "      <td>0.0</td>\n",
       "      <td>0.0</td>\n",
       "      <td>0.0</td>\n",
       "      <td>0.0</td>\n",
       "      <td>0.0</td>\n",
       "      <td>0.0</td>\n",
       "      <td>207.0</td>\n",
       "      <td>0.0</td>\n",
       "      <td>153.0</td>\n",
       "      <td>154.0</td>\n",
       "    </tr>\n",
       "    <tr>\n",
       "      <td>4</td>\n",
       "      <td>0.0</td>\n",
       "      <td>0.0</td>\n",
       "      <td>0.0</td>\n",
       "      <td>78.0</td>\n",
       "      <td>0.0</td>\n",
       "      <td>0.0</td>\n",
       "      <td>0.0</td>\n",
       "      <td>0.0</td>\n",
       "      <td>0.0</td>\n",
       "      <td>0.0</td>\n",
       "      <td>0.0</td>\n",
       "      <td>203.0</td>\n",
       "      <td>0.0</td>\n",
       "      <td>151.0</td>\n",
       "      <td>152.0</td>\n",
       "    </tr>\n",
       "    <tr>\n",
       "      <td>...</td>\n",
       "      <td>...</td>\n",
       "      <td>...</td>\n",
       "      <td>...</td>\n",
       "      <td>...</td>\n",
       "      <td>...</td>\n",
       "      <td>...</td>\n",
       "      <td>...</td>\n",
       "      <td>...</td>\n",
       "      <td>...</td>\n",
       "      <td>...</td>\n",
       "      <td>...</td>\n",
       "      <td>...</td>\n",
       "      <td>...</td>\n",
       "      <td>...</td>\n",
       "      <td>...</td>\n",
       "    </tr>\n",
       "    <tr>\n",
       "      <td>3124</td>\n",
       "      <td>0.0</td>\n",
       "      <td>0.0</td>\n",
       "      <td>170.0</td>\n",
       "      <td>0.0</td>\n",
       "      <td>0.0</td>\n",
       "      <td>0.0</td>\n",
       "      <td>0.0</td>\n",
       "      <td>0.0</td>\n",
       "      <td>0.0</td>\n",
       "      <td>0.0</td>\n",
       "      <td>0.0</td>\n",
       "      <td>252.0</td>\n",
       "      <td>0.0</td>\n",
       "      <td>130.0</td>\n",
       "      <td>206.0</td>\n",
       "    </tr>\n",
       "    <tr>\n",
       "      <td>3125</td>\n",
       "      <td>0.0</td>\n",
       "      <td>0.0</td>\n",
       "      <td>126.0</td>\n",
       "      <td>0.0</td>\n",
       "      <td>0.0</td>\n",
       "      <td>0.0</td>\n",
       "      <td>0.0</td>\n",
       "      <td>0.0</td>\n",
       "      <td>0.0</td>\n",
       "      <td>0.0</td>\n",
       "      <td>0.0</td>\n",
       "      <td>254.0</td>\n",
       "      <td>0.0</td>\n",
       "      <td>108.0</td>\n",
       "      <td>106.0</td>\n",
       "    </tr>\n",
       "    <tr>\n",
       "      <td>3126</td>\n",
       "      <td>0.0</td>\n",
       "      <td>0.0</td>\n",
       "      <td>0.0</td>\n",
       "      <td>0.0</td>\n",
       "      <td>0.0</td>\n",
       "      <td>114.0</td>\n",
       "      <td>0.0</td>\n",
       "      <td>0.0</td>\n",
       "      <td>0.0</td>\n",
       "      <td>0.0</td>\n",
       "      <td>0.0</td>\n",
       "      <td>158.0</td>\n",
       "      <td>0.0</td>\n",
       "      <td>270.0</td>\n",
       "      <td>88.0</td>\n",
       "    </tr>\n",
       "    <tr>\n",
       "      <td>3127</td>\n",
       "      <td>0.0</td>\n",
       "      <td>0.0</td>\n",
       "      <td>0.0</td>\n",
       "      <td>0.0</td>\n",
       "      <td>0.0</td>\n",
       "      <td>26.0</td>\n",
       "      <td>0.0</td>\n",
       "      <td>0.0</td>\n",
       "      <td>0.0</td>\n",
       "      <td>0.0</td>\n",
       "      <td>0.0</td>\n",
       "      <td>0.0</td>\n",
       "      <td>0.0</td>\n",
       "      <td>192.0</td>\n",
       "      <td>54.0</td>\n",
       "    </tr>\n",
       "    <tr>\n",
       "      <td>3128</td>\n",
       "      <td>0.0</td>\n",
       "      <td>0.0</td>\n",
       "      <td>0.0</td>\n",
       "      <td>0.0</td>\n",
       "      <td>0.0</td>\n",
       "      <td>0.0</td>\n",
       "      <td>0.0</td>\n",
       "      <td>0.0</td>\n",
       "      <td>0.0</td>\n",
       "      <td>0.0</td>\n",
       "      <td>0.0</td>\n",
       "      <td>0.0</td>\n",
       "      <td>0.0</td>\n",
       "      <td>180.0</td>\n",
       "      <td>52.0</td>\n",
       "    </tr>\n",
       "  </tbody>\n",
       "</table>\n",
       "<p>3129 rows × 15 columns</p>\n",
       "</div>"
      ],
      "text/plain": [
       "      Bulk 1  Bulk 2  Bulk 3  Bulk 4  Bulk 5  Bulk 6  Bulk 7  Bulk 8  Bulk 9  \\\n",
       "0        0.0     0.0     0.0    43.0     0.0     0.0     0.0     0.0     0.0   \n",
       "1        0.0     0.0     0.0    73.0     0.0     0.0     0.0     0.0     0.0   \n",
       "2        0.0     0.0     0.0    34.0     0.0     0.0     0.0     0.0     0.0   \n",
       "3        0.0     0.0     0.0    81.0     0.0     0.0     0.0     0.0     0.0   \n",
       "4        0.0     0.0     0.0    78.0     0.0     0.0     0.0     0.0     0.0   \n",
       "...      ...     ...     ...     ...     ...     ...     ...     ...     ...   \n",
       "3124     0.0     0.0   170.0     0.0     0.0     0.0     0.0     0.0     0.0   \n",
       "3125     0.0     0.0   126.0     0.0     0.0     0.0     0.0     0.0     0.0   \n",
       "3126     0.0     0.0     0.0     0.0     0.0   114.0     0.0     0.0     0.0   \n",
       "3127     0.0     0.0     0.0     0.0     0.0    26.0     0.0     0.0     0.0   \n",
       "3128     0.0     0.0     0.0     0.0     0.0     0.0     0.0     0.0     0.0   \n",
       "\n",
       "      Bulk 10  Bulk 11  Bulk 12  Bulk 13  Bulk 14  Bulk 15  \n",
       "0         0.0      0.0    206.0      0.0    150.0    154.0  \n",
       "1         0.0      0.0    206.0      0.0    149.0    154.0  \n",
       "2         0.0      0.0    205.0      0.0    152.0    153.0  \n",
       "3         0.0      0.0    207.0      0.0    153.0    154.0  \n",
       "4         0.0      0.0    203.0      0.0    151.0    152.0  \n",
       "...       ...      ...      ...      ...      ...      ...  \n",
       "3124      0.0      0.0    252.0      0.0    130.0    206.0  \n",
       "3125      0.0      0.0    254.0      0.0    108.0    106.0  \n",
       "3126      0.0      0.0    158.0      0.0    270.0     88.0  \n",
       "3127      0.0      0.0      0.0      0.0    192.0     54.0  \n",
       "3128      0.0      0.0      0.0      0.0    180.0     52.0  \n",
       "\n",
       "[3129 rows x 15 columns]"
      ]
     },
     "execution_count": 53,
     "metadata": {},
     "output_type": "execute_result"
    }
   ],
   "source": [
    "df_bulk_bool = df_bulk[['Bulk 1', 'Bulk 2', 'Bulk 3', 'Bulk 4', 'Bulk 5', 'Bulk 6',\n",
    "       'Bulk 7', 'Bulk 8', 'Bulk 9', 'Bulk 10', 'Bulk 11', 'Bulk 12',\n",
    "       'Bulk 13', 'Bulk 14', 'Bulk 15']].fillna(0)\n",
    "df_bulk_bool"
   ]
  },
  {
   "cell_type": "markdown",
   "metadata": {},
   "source": [
    "<div style=\"background: #cceeaa; padding: 5px; border: 1px solid green; border-radius: 5px;\">\n",
    "    <font color='green'> <b><u>КОММЕНТАРИЙ РЕВЬЮЕРА</u></b>\n",
    "</font>\n",
    "<font color='green'><br>\n",
    "ок, заполяем нулём)"
   ]
  },
  {
   "cell_type": "code",
   "execution_count": 54,
   "metadata": {},
   "outputs": [
    {
     "data": {
      "text/html": [
       "<div>\n",
       "<style scoped>\n",
       "    .dataframe tbody tr th:only-of-type {\n",
       "        vertical-align: middle;\n",
       "    }\n",
       "\n",
       "    .dataframe tbody tr th {\n",
       "        vertical-align: top;\n",
       "    }\n",
       "\n",
       "    .dataframe thead th {\n",
       "        text-align: right;\n",
       "    }\n",
       "</style>\n",
       "<table border=\"1\" class=\"dataframe\">\n",
       "  <thead>\n",
       "    <tr style=\"text-align: right;\">\n",
       "      <th></th>\n",
       "      <th>key</th>\n",
       "      <th>Bulk 1</th>\n",
       "      <th>Bulk 2</th>\n",
       "      <th>Bulk 3</th>\n",
       "      <th>Bulk 4</th>\n",
       "      <th>Bulk 5</th>\n",
       "      <th>Bulk 6</th>\n",
       "      <th>Bulk 7</th>\n",
       "      <th>Bulk 8</th>\n",
       "      <th>Bulk 9</th>\n",
       "      <th>Bulk 10</th>\n",
       "      <th>Bulk 11</th>\n",
       "      <th>Bulk 12</th>\n",
       "      <th>Bulk 13</th>\n",
       "      <th>Bulk 14</th>\n",
       "      <th>Bulk 15</th>\n",
       "    </tr>\n",
       "  </thead>\n",
       "  <tbody>\n",
       "    <tr>\n",
       "      <td>3124</td>\n",
       "      <td>3237</td>\n",
       "      <td>0.0</td>\n",
       "      <td>0.0</td>\n",
       "      <td>170.0</td>\n",
       "      <td>0.0</td>\n",
       "      <td>0.0</td>\n",
       "      <td>0.0</td>\n",
       "      <td>0.0</td>\n",
       "      <td>0.0</td>\n",
       "      <td>0.0</td>\n",
       "      <td>0.0</td>\n",
       "      <td>0.0</td>\n",
       "      <td>252.0</td>\n",
       "      <td>0.0</td>\n",
       "      <td>130.0</td>\n",
       "      <td>206.0</td>\n",
       "    </tr>\n",
       "    <tr>\n",
       "      <td>3125</td>\n",
       "      <td>3238</td>\n",
       "      <td>0.0</td>\n",
       "      <td>0.0</td>\n",
       "      <td>126.0</td>\n",
       "      <td>0.0</td>\n",
       "      <td>0.0</td>\n",
       "      <td>0.0</td>\n",
       "      <td>0.0</td>\n",
       "      <td>0.0</td>\n",
       "      <td>0.0</td>\n",
       "      <td>0.0</td>\n",
       "      <td>0.0</td>\n",
       "      <td>254.0</td>\n",
       "      <td>0.0</td>\n",
       "      <td>108.0</td>\n",
       "      <td>106.0</td>\n",
       "    </tr>\n",
       "    <tr>\n",
       "      <td>3126</td>\n",
       "      <td>3239</td>\n",
       "      <td>0.0</td>\n",
       "      <td>0.0</td>\n",
       "      <td>0.0</td>\n",
       "      <td>0.0</td>\n",
       "      <td>0.0</td>\n",
       "      <td>114.0</td>\n",
       "      <td>0.0</td>\n",
       "      <td>0.0</td>\n",
       "      <td>0.0</td>\n",
       "      <td>0.0</td>\n",
       "      <td>0.0</td>\n",
       "      <td>158.0</td>\n",
       "      <td>0.0</td>\n",
       "      <td>270.0</td>\n",
       "      <td>88.0</td>\n",
       "    </tr>\n",
       "    <tr>\n",
       "      <td>3127</td>\n",
       "      <td>3240</td>\n",
       "      <td>0.0</td>\n",
       "      <td>0.0</td>\n",
       "      <td>0.0</td>\n",
       "      <td>0.0</td>\n",
       "      <td>0.0</td>\n",
       "      <td>26.0</td>\n",
       "      <td>0.0</td>\n",
       "      <td>0.0</td>\n",
       "      <td>0.0</td>\n",
       "      <td>0.0</td>\n",
       "      <td>0.0</td>\n",
       "      <td>0.0</td>\n",
       "      <td>0.0</td>\n",
       "      <td>192.0</td>\n",
       "      <td>54.0</td>\n",
       "    </tr>\n",
       "    <tr>\n",
       "      <td>3128</td>\n",
       "      <td>3241</td>\n",
       "      <td>0.0</td>\n",
       "      <td>0.0</td>\n",
       "      <td>0.0</td>\n",
       "      <td>0.0</td>\n",
       "      <td>0.0</td>\n",
       "      <td>0.0</td>\n",
       "      <td>0.0</td>\n",
       "      <td>0.0</td>\n",
       "      <td>0.0</td>\n",
       "      <td>0.0</td>\n",
       "      <td>0.0</td>\n",
       "      <td>0.0</td>\n",
       "      <td>0.0</td>\n",
       "      <td>180.0</td>\n",
       "      <td>52.0</td>\n",
       "    </tr>\n",
       "  </tbody>\n",
       "</table>\n",
       "</div>"
      ],
      "text/plain": [
       "       key  Bulk 1  Bulk 2  Bulk 3  Bulk 4  Bulk 5  Bulk 6  Bulk 7  Bulk 8  \\\n",
       "3124  3237     0.0     0.0   170.0     0.0     0.0     0.0     0.0     0.0   \n",
       "3125  3238     0.0     0.0   126.0     0.0     0.0     0.0     0.0     0.0   \n",
       "3126  3239     0.0     0.0     0.0     0.0     0.0   114.0     0.0     0.0   \n",
       "3127  3240     0.0     0.0     0.0     0.0     0.0    26.0     0.0     0.0   \n",
       "3128  3241     0.0     0.0     0.0     0.0     0.0     0.0     0.0     0.0   \n",
       "\n",
       "      Bulk 9  Bulk 10  Bulk 11  Bulk 12  Bulk 13  Bulk 14  Bulk 15  \n",
       "3124     0.0      0.0      0.0    252.0      0.0    130.0    206.0  \n",
       "3125     0.0      0.0      0.0    254.0      0.0    108.0    106.0  \n",
       "3126     0.0      0.0      0.0    158.0      0.0    270.0     88.0  \n",
       "3127     0.0      0.0      0.0      0.0      0.0    192.0     54.0  \n",
       "3128     0.0      0.0      0.0      0.0      0.0    180.0     52.0  "
      ]
     },
     "execution_count": 54,
     "metadata": {},
     "output_type": "execute_result"
    }
   ],
   "source": [
    "df_bulk_join = pd.merge(df_bulk['key'],df_bulk_bool, right_index = True,\n",
    "               left_index = True)\n",
    "df_bulk_join.tail()"
   ]
  },
  {
   "cell_type": "markdown",
   "metadata": {},
   "source": [
    "### Таблица bulk и df_bulk_time"
   ]
  },
  {
   "cell_type": "markdown",
   "metadata": {},
   "source": [
    "Ситуация по таблице схожа с 'bulk', проведем аналогичные операции."
   ]
  },
  {
   "cell_type": "code",
   "execution_count": 55,
   "metadata": {},
   "outputs": [
    {
     "name": "stdout",
     "output_type": "stream",
     "text": [
      "<class 'pandas.core.frame.DataFrame'>\n",
      "RangeIndex: 3081 entries, 0 to 3080\n",
      "Data columns (total 10 columns):\n",
      "key       3081 non-null int64\n",
      "Wire 1    3055 non-null float64\n",
      "Wire 2    1079 non-null float64\n",
      "Wire 3    63 non-null float64\n",
      "Wire 4    14 non-null float64\n",
      "Wire 5    1 non-null float64\n",
      "Wire 6    73 non-null float64\n",
      "Wire 7    11 non-null float64\n",
      "Wire 8    19 non-null float64\n",
      "Wire 9    29 non-null float64\n",
      "dtypes: float64(9), int64(1)\n",
      "memory usage: 240.8 KB\n",
      "<class 'pandas.core.frame.DataFrame'>\n",
      "RangeIndex: 3081 entries, 0 to 3080\n",
      "Data columns (total 10 columns):\n",
      "key       3081 non-null int64\n",
      "Wire 1    3055 non-null object\n",
      "Wire 2    1079 non-null object\n",
      "Wire 3    63 non-null object\n",
      "Wire 4    14 non-null object\n",
      "Wire 5    1 non-null object\n",
      "Wire 6    73 non-null object\n",
      "Wire 7    11 non-null object\n",
      "Wire 8    19 non-null object\n",
      "Wire 9    29 non-null object\n",
      "dtypes: int64(1), object(9)\n",
      "memory usage: 240.8+ KB\n"
     ]
    }
   ],
   "source": [
    "df_wire.info()\n",
    "df_wire_time.info()"
   ]
  },
  {
   "cell_type": "code",
   "execution_count": 56,
   "metadata": {},
   "outputs": [],
   "source": [
    "df_wire_join = df_wire.fillna(0)"
   ]
  },
  {
   "cell_type": "markdown",
   "metadata": {},
   "source": [
    "### Обьединение данных"
   ]
  },
  {
   "cell_type": "code",
   "execution_count": 57,
   "metadata": {},
   "outputs": [
    {
     "data": {
      "text/html": [
       "<div>\n",
       "<style scoped>\n",
       "    .dataframe tbody tr th:only-of-type {\n",
       "        vertical-align: middle;\n",
       "    }\n",
       "\n",
       "    .dataframe tbody tr th {\n",
       "        vertical-align: top;\n",
       "    }\n",
       "\n",
       "    .dataframe thead th {\n",
       "        text-align: right;\n",
       "    }\n",
       "</style>\n",
       "<table border=\"1\" class=\"dataframe\">\n",
       "  <thead>\n",
       "    <tr style=\"text-align: right;\">\n",
       "      <th></th>\n",
       "      <th>key</th>\n",
       "      <th>Wire 1</th>\n",
       "      <th>Wire 2</th>\n",
       "      <th>Wire 3</th>\n",
       "      <th>Wire 4</th>\n",
       "      <th>Wire 5</th>\n",
       "      <th>Wire 6</th>\n",
       "      <th>Wire 7</th>\n",
       "      <th>Wire 8</th>\n",
       "      <th>Wire 9</th>\n",
       "      <th>...</th>\n",
       "      <th>Активная мощность</th>\n",
       "      <th>Реактивная мощность</th>\n",
       "      <th>Время_нагрева_ceк</th>\n",
       "      <th>Потребленная_мощность</th>\n",
       "      <th>gas</th>\n",
       "      <th>Количество_замеров температуры</th>\n",
       "      <th>time_gap</th>\n",
       "      <th>std_temp</th>\n",
       "      <th>last_temperature</th>\n",
       "      <th>first_temperature</th>\n",
       "    </tr>\n",
       "  </thead>\n",
       "  <tbody>\n",
       "    <tr>\n",
       "      <td>0</td>\n",
       "      <td>1</td>\n",
       "      <td>60.06</td>\n",
       "      <td>0.00</td>\n",
       "      <td>0.0</td>\n",
       "      <td>0.0</td>\n",
       "      <td>0.0</td>\n",
       "      <td>0.0</td>\n",
       "      <td>0.0</td>\n",
       "      <td>0.0</td>\n",
       "      <td>0.0</td>\n",
       "      <td>...</td>\n",
       "      <td>4.88</td>\n",
       "      <td>3.18</td>\n",
       "      <td>1098</td>\n",
       "      <td>1442.38</td>\n",
       "      <td>29.75</td>\n",
       "      <td>5</td>\n",
       "      <td>861</td>\n",
       "      <td>17.12</td>\n",
       "      <td>1613.0</td>\n",
       "      <td>1571.0</td>\n",
       "    </tr>\n",
       "    <tr>\n",
       "      <td>1</td>\n",
       "      <td>2</td>\n",
       "      <td>96.05</td>\n",
       "      <td>0.00</td>\n",
       "      <td>0.0</td>\n",
       "      <td>0.0</td>\n",
       "      <td>0.0</td>\n",
       "      <td>0.0</td>\n",
       "      <td>0.0</td>\n",
       "      <td>0.0</td>\n",
       "      <td>0.0</td>\n",
       "      <td>...</td>\n",
       "      <td>3.05</td>\n",
       "      <td>2.00</td>\n",
       "      <td>811</td>\n",
       "      <td>881.23</td>\n",
       "      <td>12.56</td>\n",
       "      <td>6</td>\n",
       "      <td>1305</td>\n",
       "      <td>12.29</td>\n",
       "      <td>1602.0</td>\n",
       "      <td>1581.0</td>\n",
       "    </tr>\n",
       "    <tr>\n",
       "      <td>2</td>\n",
       "      <td>3</td>\n",
       "      <td>91.16</td>\n",
       "      <td>0.00</td>\n",
       "      <td>0.0</td>\n",
       "      <td>0.0</td>\n",
       "      <td>0.0</td>\n",
       "      <td>0.0</td>\n",
       "      <td>0.0</td>\n",
       "      <td>0.0</td>\n",
       "      <td>0.0</td>\n",
       "      <td>...</td>\n",
       "      <td>2.53</td>\n",
       "      <td>1.60</td>\n",
       "      <td>655</td>\n",
       "      <td>525.07</td>\n",
       "      <td>28.55</td>\n",
       "      <td>5</td>\n",
       "      <td>1300</td>\n",
       "      <td>1.12</td>\n",
       "      <td>1599.0</td>\n",
       "      <td>1596.0</td>\n",
       "    </tr>\n",
       "    <tr>\n",
       "      <td>3</td>\n",
       "      <td>4</td>\n",
       "      <td>89.06</td>\n",
       "      <td>0.00</td>\n",
       "      <td>0.0</td>\n",
       "      <td>0.0</td>\n",
       "      <td>0.0</td>\n",
       "      <td>0.0</td>\n",
       "      <td>0.0</td>\n",
       "      <td>0.0</td>\n",
       "      <td>0.0</td>\n",
       "      <td>...</td>\n",
       "      <td>3.21</td>\n",
       "      <td>2.06</td>\n",
       "      <td>741</td>\n",
       "      <td>796.91</td>\n",
       "      <td>18.84</td>\n",
       "      <td>3</td>\n",
       "      <td>388</td>\n",
       "      <td>11.00</td>\n",
       "      <td>1625.0</td>\n",
       "      <td>1601.0</td>\n",
       "    </tr>\n",
       "    <tr>\n",
       "      <td>4</td>\n",
       "      <td>5</td>\n",
       "      <td>89.24</td>\n",
       "      <td>9.11</td>\n",
       "      <td>0.0</td>\n",
       "      <td>0.0</td>\n",
       "      <td>0.0</td>\n",
       "      <td>0.0</td>\n",
       "      <td>0.0</td>\n",
       "      <td>0.0</td>\n",
       "      <td>0.0</td>\n",
       "      <td>...</td>\n",
       "      <td>3.35</td>\n",
       "      <td>2.25</td>\n",
       "      <td>869</td>\n",
       "      <td>1199.14</td>\n",
       "      <td>5.41</td>\n",
       "      <td>2</td>\n",
       "      <td>762</td>\n",
       "      <td>0.00</td>\n",
       "      <td>1602.0</td>\n",
       "      <td>1576.0</td>\n",
       "    </tr>\n",
       "    <tr>\n",
       "      <td>...</td>\n",
       "      <td>...</td>\n",
       "      <td>...</td>\n",
       "      <td>...</td>\n",
       "      <td>...</td>\n",
       "      <td>...</td>\n",
       "      <td>...</td>\n",
       "      <td>...</td>\n",
       "      <td>...</td>\n",
       "      <td>...</td>\n",
       "      <td>...</td>\n",
       "      <td>...</td>\n",
       "      <td>...</td>\n",
       "      <td>...</td>\n",
       "      <td>...</td>\n",
       "      <td>...</td>\n",
       "      <td>...</td>\n",
       "      <td>...</td>\n",
       "      <td>...</td>\n",
       "      <td>...</td>\n",
       "      <td>...</td>\n",
       "      <td>...</td>\n",
       "    </tr>\n",
       "    <tr>\n",
       "      <td>2308</td>\n",
       "      <td>2495</td>\n",
       "      <td>89.15</td>\n",
       "      <td>0.00</td>\n",
       "      <td>0.0</td>\n",
       "      <td>0.0</td>\n",
       "      <td>0.0</td>\n",
       "      <td>0.0</td>\n",
       "      <td>0.0</td>\n",
       "      <td>0.0</td>\n",
       "      <td>0.0</td>\n",
       "      <td>...</td>\n",
       "      <td>3.21</td>\n",
       "      <td>2.36</td>\n",
       "      <td>723</td>\n",
       "      <td>778.82</td>\n",
       "      <td>7.13</td>\n",
       "      <td>3</td>\n",
       "      <td>1137</td>\n",
       "      <td>10.00</td>\n",
       "      <td>1591.0</td>\n",
       "      <td>1570.0</td>\n",
       "    </tr>\n",
       "    <tr>\n",
       "      <td>2309</td>\n",
       "      <td>2496</td>\n",
       "      <td>114.18</td>\n",
       "      <td>0.00</td>\n",
       "      <td>0.0</td>\n",
       "      <td>0.0</td>\n",
       "      <td>0.0</td>\n",
       "      <td>0.0</td>\n",
       "      <td>0.0</td>\n",
       "      <td>0.0</td>\n",
       "      <td>0.0</td>\n",
       "      <td>...</td>\n",
       "      <td>4.20</td>\n",
       "      <td>2.81</td>\n",
       "      <td>940</td>\n",
       "      <td>875.26</td>\n",
       "      <td>9.41</td>\n",
       "      <td>4</td>\n",
       "      <td>1618</td>\n",
       "      <td>16.75</td>\n",
       "      <td>1591.0</td>\n",
       "      <td>1554.0</td>\n",
       "    </tr>\n",
       "    <tr>\n",
       "      <td>2310</td>\n",
       "      <td>2497</td>\n",
       "      <td>94.09</td>\n",
       "      <td>9.05</td>\n",
       "      <td>0.0</td>\n",
       "      <td>0.0</td>\n",
       "      <td>0.0</td>\n",
       "      <td>0.0</td>\n",
       "      <td>0.0</td>\n",
       "      <td>0.0</td>\n",
       "      <td>0.0</td>\n",
       "      <td>...</td>\n",
       "      <td>2.21</td>\n",
       "      <td>1.85</td>\n",
       "      <td>569</td>\n",
       "      <td>556.93</td>\n",
       "      <td>6.27</td>\n",
       "      <td>2</td>\n",
       "      <td>717</td>\n",
       "      <td>0.00</td>\n",
       "      <td>1589.0</td>\n",
       "      <td>1571.0</td>\n",
       "    </tr>\n",
       "    <tr>\n",
       "      <td>2311</td>\n",
       "      <td>2498</td>\n",
       "      <td>118.11</td>\n",
       "      <td>0.00</td>\n",
       "      <td>0.0</td>\n",
       "      <td>0.0</td>\n",
       "      <td>0.0</td>\n",
       "      <td>0.0</td>\n",
       "      <td>0.0</td>\n",
       "      <td>0.0</td>\n",
       "      <td>0.0</td>\n",
       "      <td>...</td>\n",
       "      <td>3.41</td>\n",
       "      <td>2.36</td>\n",
       "      <td>750</td>\n",
       "      <td>767.82</td>\n",
       "      <td>14.95</td>\n",
       "      <td>5</td>\n",
       "      <td>1302</td>\n",
       "      <td>9.23</td>\n",
       "      <td>1594.0</td>\n",
       "      <td>1591.0</td>\n",
       "    </tr>\n",
       "    <tr>\n",
       "      <td>2312</td>\n",
       "      <td>2499</td>\n",
       "      <td>110.16</td>\n",
       "      <td>50.01</td>\n",
       "      <td>0.0</td>\n",
       "      <td>0.0</td>\n",
       "      <td>0.0</td>\n",
       "      <td>0.0</td>\n",
       "      <td>0.0</td>\n",
       "      <td>0.0</td>\n",
       "      <td>0.0</td>\n",
       "      <td>...</td>\n",
       "      <td>4.10</td>\n",
       "      <td>2.78</td>\n",
       "      <td>883</td>\n",
       "      <td>1301.83</td>\n",
       "      <td>11.34</td>\n",
       "      <td>3</td>\n",
       "      <td>1203</td>\n",
       "      <td>17.50</td>\n",
       "      <td>1603.0</td>\n",
       "      <td>1569.0</td>\n",
       "    </tr>\n",
       "  </tbody>\n",
       "</table>\n",
       "<p>2313 rows × 36 columns</p>\n",
       "</div>"
      ],
      "text/plain": [
       "       key  Wire 1  Wire 2  Wire 3  Wire 4  Wire 5  Wire 6  Wire 7  Wire 8  \\\n",
       "0        1   60.06    0.00     0.0     0.0     0.0     0.0     0.0     0.0   \n",
       "1        2   96.05    0.00     0.0     0.0     0.0     0.0     0.0     0.0   \n",
       "2        3   91.16    0.00     0.0     0.0     0.0     0.0     0.0     0.0   \n",
       "3        4   89.06    0.00     0.0     0.0     0.0     0.0     0.0     0.0   \n",
       "4        5   89.24    9.11     0.0     0.0     0.0     0.0     0.0     0.0   \n",
       "...    ...     ...     ...     ...     ...     ...     ...     ...     ...   \n",
       "2308  2495   89.15    0.00     0.0     0.0     0.0     0.0     0.0     0.0   \n",
       "2309  2496  114.18    0.00     0.0     0.0     0.0     0.0     0.0     0.0   \n",
       "2310  2497   94.09    9.05     0.0     0.0     0.0     0.0     0.0     0.0   \n",
       "2311  2498  118.11    0.00     0.0     0.0     0.0     0.0     0.0     0.0   \n",
       "2312  2499  110.16   50.01     0.0     0.0     0.0     0.0     0.0     0.0   \n",
       "\n",
       "      Wire 9  ...  Активная мощность  Реактивная мощность  Время_нагрева_ceк  \\\n",
       "0        0.0  ...               4.88                 3.18               1098   \n",
       "1        0.0  ...               3.05                 2.00                811   \n",
       "2        0.0  ...               2.53                 1.60                655   \n",
       "3        0.0  ...               3.21                 2.06                741   \n",
       "4        0.0  ...               3.35                 2.25                869   \n",
       "...      ...  ...                ...                  ...                ...   \n",
       "2308     0.0  ...               3.21                 2.36                723   \n",
       "2309     0.0  ...               4.20                 2.81                940   \n",
       "2310     0.0  ...               2.21                 1.85                569   \n",
       "2311     0.0  ...               3.41                 2.36                750   \n",
       "2312     0.0  ...               4.10                 2.78                883   \n",
       "\n",
       "      Потребленная_мощность    gas  Количество_замеров температуры  time_gap  \\\n",
       "0                   1442.38  29.75                               5       861   \n",
       "1                    881.23  12.56                               6      1305   \n",
       "2                    525.07  28.55                               5      1300   \n",
       "3                    796.91  18.84                               3       388   \n",
       "4                   1199.14   5.41                               2       762   \n",
       "...                     ...    ...                             ...       ...   \n",
       "2308                 778.82   7.13                               3      1137   \n",
       "2309                 875.26   9.41                               4      1618   \n",
       "2310                 556.93   6.27                               2       717   \n",
       "2311                 767.82  14.95                               5      1302   \n",
       "2312                1301.83  11.34                               3      1203   \n",
       "\n",
       "      std_temp  last_temperature  first_temperature  \n",
       "0        17.12            1613.0             1571.0  \n",
       "1        12.29            1602.0             1581.0  \n",
       "2         1.12            1599.0             1596.0  \n",
       "3        11.00            1625.0             1601.0  \n",
       "4         0.00            1602.0             1576.0  \n",
       "...        ...               ...                ...  \n",
       "2308     10.00            1591.0             1570.0  \n",
       "2309     16.75            1591.0             1554.0  \n",
       "2310      0.00            1589.0             1571.0  \n",
       "2311      9.23            1594.0             1591.0  \n",
       "2312     17.50            1603.0             1569.0  \n",
       "\n",
       "[2313 rows x 36 columns]"
      ]
     },
     "execution_count": 57,
     "metadata": {},
     "output_type": "execute_result"
    }
   ],
   "source": [
    "df = (df_wire_join.merge(df_bulk_join, how = 'inner', on = 'key')\n",
    "                 .merge(df_arc_join, how = 'inner', on = 'key')\n",
    "                 .merge(df_gas_join, how = 'inner', on = 'key')\n",
    "                 .merge(df_temperature_final, how = 'inner', on = 'key')\n",
    "       )\n",
    "df"
   ]
  },
  {
   "cell_type": "markdown",
   "metadata": {},
   "source": [
    "<div style=\"background: #cceeaa; padding: 5px; border: 1px solid green; border-radius: 5px;\">\n",
    "    <font color='green'> <b><u>КОММЕНТАРИЙ РЕВЬЮЕРА</u></b>\n",
    "</font>\n",
    "<font color='green'><br>\n",
    "ок."
   ]
  },
  {
   "cell_type": "code",
   "execution_count": 58,
   "metadata": {},
   "outputs": [
    {
     "name": "stdout",
     "output_type": "stream",
     "text": [
      "<class 'pandas.core.frame.DataFrame'>\n",
      "Int64Index: 2313 entries, 0 to 2312\n",
      "Data columns (total 36 columns):\n",
      "key                               2313 non-null int64\n",
      "Wire 1                            2313 non-null float64\n",
      "Wire 2                            2313 non-null float64\n",
      "Wire 3                            2313 non-null float64\n",
      "Wire 4                            2313 non-null float64\n",
      "Wire 5                            2313 non-null float64\n",
      "Wire 6                            2313 non-null float64\n",
      "Wire 7                            2313 non-null float64\n",
      "Wire 8                            2313 non-null float64\n",
      "Wire 9                            2313 non-null float64\n",
      "Bulk 1                            2313 non-null float64\n",
      "Bulk 2                            2313 non-null float64\n",
      "Bulk 3                            2313 non-null float64\n",
      "Bulk 4                            2313 non-null float64\n",
      "Bulk 5                            2313 non-null float64\n",
      "Bulk 6                            2313 non-null float64\n",
      "Bulk 7                            2313 non-null float64\n",
      "Bulk 8                            2313 non-null float64\n",
      "Bulk 9                            2313 non-null float64\n",
      "Bulk 10                           2313 non-null float64\n",
      "Bulk 11                           2313 non-null float64\n",
      "Bulk 12                           2313 non-null float64\n",
      "Bulk 13                           2313 non-null float64\n",
      "Bulk 14                           2313 non-null float64\n",
      "Bulk 15                           2313 non-null float64\n",
      "Количество_запусков_нагрева       2313 non-null int64\n",
      "Активная мощность                 2313 non-null float64\n",
      "Реактивная мощность               2313 non-null float64\n",
      "Время_нагрева_ceк                 2313 non-null int64\n",
      "Потребленная_мощность             2313 non-null float64\n",
      "gas                               2313 non-null float64\n",
      "Количество_замеров температуры    2313 non-null int64\n",
      "time_gap                          2313 non-null int64\n",
      "std_temp                          2313 non-null float64\n",
      "last_temperature                  2313 non-null float64\n",
      "first_temperature                 2313 non-null float64\n",
      "dtypes: float64(31), int64(5)\n",
      "memory usage: 668.6 KB\n"
     ]
    }
   ],
   "source": [
    "df.info()"
   ]
  },
  {
   "cell_type": "markdown",
   "metadata": {},
   "source": [
    "Проверим данные на мультиколлинеарность"
   ]
  },
  {
   "cell_type": "code",
   "execution_count": 59,
   "metadata": {},
   "outputs": [
    {
     "data": {
      "text/plain": [
       "Wire 6                       Wire 6                         1.00\n",
       "Wire 4                       Wire 4                         1.00\n",
       "Wire 3                       Wire 3                         1.00\n",
       "Wire 2                       Wire 2                         1.00\n",
       "Wire 1                       Wire 1                         1.00\n",
       "std_temp                     std_temp                       1.00\n",
       "Bulk 9                       Bulk 9                         1.00\n",
       "key                          key                            1.00\n",
       "Время_нагрева_ceк            Активная мощность              0.98\n",
       "Активная мощность            Время_нагрева_ceк              0.98\n",
       "Bulk 9                       Wire 8                         0.97\n",
       "Wire 8                       Bulk 9                         0.97\n",
       "Время_нагрева_ceк            Реактивная мощность            0.96\n",
       "Реактивная мощность          Время_нагрева_ceк              0.96\n",
       "                             Активная мощность              0.96\n",
       "Активная мощность            Реактивная мощность            0.96\n",
       "                             Потребленная_мощность          0.91\n",
       "Потребленная_мощность        Активная мощность              0.91\n",
       "                             Время_нагрева_ceк              0.90\n",
       "Время_нагрева_ceк            Потребленная_мощность          0.90\n",
       "Реактивная мощность          Потребленная_мощность          0.89\n",
       "Потребленная_мощность        Реактивная мощность            0.89\n",
       "Время_нагрева_ceк            Количество_запусков_нагрева    0.79\n",
       "Количество_запусков_нагрева  Время_нагрева_ceк              0.79\n",
       "                             Активная мощность              0.76\n",
       "Активная мощность            Количество_запусков_нагрева    0.76\n",
       "Количество_запусков_нагрева  Реактивная мощность            0.75\n",
       "Реактивная мощность          Количество_запусков_нагрева    0.75\n",
       "Bulk 7                       Wire 4                         0.71\n",
       "Wire 4                       Bulk 7                         0.71\n",
       "dtype: float64"
      ]
     },
     "metadata": {},
     "output_type": "display_data"
    },
    {
     "data": {
      "text/plain": [
       "last_temperature             Wire 7                        -0.13\n",
       "Wire 7                       last_temperature              -0.13\n",
       "Wire 1                       Wire 4                        -0.13\n",
       "Wire 4                       Wire 1                        -0.13\n",
       "Bulk 2                       Wire 1                        -0.15\n",
       "Wire 1                       Bulk 2                        -0.15\n",
       "Bulk 14                      first_temperature             -0.18\n",
       "first_temperature            Bulk 14                       -0.18\n",
       "last_temperature             Bulk 6                        -0.18\n",
       "Bulk 6                       last_temperature              -0.18\n",
       "Количество_запусков_нагрева  first_temperature             -0.19\n",
       "first_temperature            Количество_запусков_нагрева   -0.19\n",
       "Wire 2                       last_temperature              -0.22\n",
       "last_temperature             Wire 2                        -0.22\n",
       "Wire 1                       Bulk 6                        -0.24\n",
       "Bulk 6                       Wire 1                        -0.24\n",
       "                             Bulk 4                        -0.25\n",
       "Bulk 4                       Bulk 6                        -0.25\n",
       "                             Wire 2                        -0.27\n",
       "Wire 2                       Bulk 4                        -0.27\n",
       "Bulk 3                       Bulk 4                        -0.29\n",
       "Bulk 4                       Bulk 3                        -0.29\n",
       "Время_нагрева_ceк            first_temperature             -0.40\n",
       "first_temperature            Время_нагрева_ceк             -0.40\n",
       "Реактивная мощность          first_temperature             -0.42\n",
       "first_temperature            Реактивная мощность           -0.42\n",
       "Потребленная_мощность        first_temperature             -0.42\n",
       "first_temperature            Потребленная_мощность         -0.42\n",
       "Активная мощность            first_temperature             -0.44\n",
       "first_temperature            Активная мощность             -0.44\n",
       "dtype: float64"
      ]
     },
     "metadata": {},
     "output_type": "display_data"
    }
   ],
   "source": [
    "corr_table = df.corr().unstack().sort_values(ascending=False)\n",
    "corr_table = corr_table.dropna()\n",
    "display( corr_table[27:57])\n",
    "#топ 15 по отридцательным корреляциям\n",
    "display( corr_table[-30:])\n"
   ]
  },
  {
   "cell_type": "markdown",
   "metadata": {},
   "source": [
    "Удалим столбцы ``'Bulk 9','Активная мощность','Реактивная мощность','Время_нагрева_ceк'``"
   ]
  },
  {
   "cell_type": "code",
   "execution_count": 60,
   "metadata": {},
   "outputs": [
    {
     "data": {
      "text/html": [
       "<div>\n",
       "<style scoped>\n",
       "    .dataframe tbody tr th:only-of-type {\n",
       "        vertical-align: middle;\n",
       "    }\n",
       "\n",
       "    .dataframe tbody tr th {\n",
       "        vertical-align: top;\n",
       "    }\n",
       "\n",
       "    .dataframe thead th {\n",
       "        text-align: right;\n",
       "    }\n",
       "</style>\n",
       "<table border=\"1\" class=\"dataframe\">\n",
       "  <thead>\n",
       "    <tr style=\"text-align: right;\">\n",
       "      <th></th>\n",
       "      <th>key</th>\n",
       "      <th>Wire 1</th>\n",
       "      <th>Wire 2</th>\n",
       "      <th>Wire 3</th>\n",
       "      <th>Wire 4</th>\n",
       "      <th>Wire 5</th>\n",
       "      <th>Wire 6</th>\n",
       "      <th>Wire 7</th>\n",
       "      <th>Wire 8</th>\n",
       "      <th>Wire 9</th>\n",
       "      <th>...</th>\n",
       "      <th>Bulk 14</th>\n",
       "      <th>Bulk 15</th>\n",
       "      <th>Количество_запусков_нагрева</th>\n",
       "      <th>Потребленная_мощность</th>\n",
       "      <th>gas</th>\n",
       "      <th>Количество_замеров температуры</th>\n",
       "      <th>time_gap</th>\n",
       "      <th>std_temp</th>\n",
       "      <th>last_temperature</th>\n",
       "      <th>first_temperature</th>\n",
       "    </tr>\n",
       "  </thead>\n",
       "  <tbody>\n",
       "    <tr>\n",
       "      <td>0</td>\n",
       "      <td>1</td>\n",
       "      <td>60.06</td>\n",
       "      <td>0.00</td>\n",
       "      <td>0.0</td>\n",
       "      <td>0.0</td>\n",
       "      <td>0.0</td>\n",
       "      <td>0.0</td>\n",
       "      <td>0.0</td>\n",
       "      <td>0.0</td>\n",
       "      <td>0.0</td>\n",
       "      <td>...</td>\n",
       "      <td>150.0</td>\n",
       "      <td>154.0</td>\n",
       "      <td>5</td>\n",
       "      <td>1442.38</td>\n",
       "      <td>29.75</td>\n",
       "      <td>5</td>\n",
       "      <td>861</td>\n",
       "      <td>17.12</td>\n",
       "      <td>1613.0</td>\n",
       "      <td>1571.0</td>\n",
       "    </tr>\n",
       "    <tr>\n",
       "      <td>1</td>\n",
       "      <td>2</td>\n",
       "      <td>96.05</td>\n",
       "      <td>0.00</td>\n",
       "      <td>0.0</td>\n",
       "      <td>0.0</td>\n",
       "      <td>0.0</td>\n",
       "      <td>0.0</td>\n",
       "      <td>0.0</td>\n",
       "      <td>0.0</td>\n",
       "      <td>0.0</td>\n",
       "      <td>...</td>\n",
       "      <td>149.0</td>\n",
       "      <td>154.0</td>\n",
       "      <td>4</td>\n",
       "      <td>881.23</td>\n",
       "      <td>12.56</td>\n",
       "      <td>6</td>\n",
       "      <td>1305</td>\n",
       "      <td>12.29</td>\n",
       "      <td>1602.0</td>\n",
       "      <td>1581.0</td>\n",
       "    </tr>\n",
       "    <tr>\n",
       "      <td>2</td>\n",
       "      <td>3</td>\n",
       "      <td>91.16</td>\n",
       "      <td>0.00</td>\n",
       "      <td>0.0</td>\n",
       "      <td>0.0</td>\n",
       "      <td>0.0</td>\n",
       "      <td>0.0</td>\n",
       "      <td>0.0</td>\n",
       "      <td>0.0</td>\n",
       "      <td>0.0</td>\n",
       "      <td>...</td>\n",
       "      <td>152.0</td>\n",
       "      <td>153.0</td>\n",
       "      <td>5</td>\n",
       "      <td>525.07</td>\n",
       "      <td>28.55</td>\n",
       "      <td>5</td>\n",
       "      <td>1300</td>\n",
       "      <td>1.12</td>\n",
       "      <td>1599.0</td>\n",
       "      <td>1596.0</td>\n",
       "    </tr>\n",
       "    <tr>\n",
       "      <td>3</td>\n",
       "      <td>4</td>\n",
       "      <td>89.06</td>\n",
       "      <td>0.00</td>\n",
       "      <td>0.0</td>\n",
       "      <td>0.0</td>\n",
       "      <td>0.0</td>\n",
       "      <td>0.0</td>\n",
       "      <td>0.0</td>\n",
       "      <td>0.0</td>\n",
       "      <td>0.0</td>\n",
       "      <td>...</td>\n",
       "      <td>153.0</td>\n",
       "      <td>154.0</td>\n",
       "      <td>4</td>\n",
       "      <td>796.91</td>\n",
       "      <td>18.84</td>\n",
       "      <td>3</td>\n",
       "      <td>388</td>\n",
       "      <td>11.00</td>\n",
       "      <td>1625.0</td>\n",
       "      <td>1601.0</td>\n",
       "    </tr>\n",
       "    <tr>\n",
       "      <td>4</td>\n",
       "      <td>5</td>\n",
       "      <td>89.24</td>\n",
       "      <td>9.11</td>\n",
       "      <td>0.0</td>\n",
       "      <td>0.0</td>\n",
       "      <td>0.0</td>\n",
       "      <td>0.0</td>\n",
       "      <td>0.0</td>\n",
       "      <td>0.0</td>\n",
       "      <td>0.0</td>\n",
       "      <td>...</td>\n",
       "      <td>151.0</td>\n",
       "      <td>152.0</td>\n",
       "      <td>4</td>\n",
       "      <td>1199.14</td>\n",
       "      <td>5.41</td>\n",
       "      <td>2</td>\n",
       "      <td>762</td>\n",
       "      <td>0.00</td>\n",
       "      <td>1602.0</td>\n",
       "      <td>1576.0</td>\n",
       "    </tr>\n",
       "    <tr>\n",
       "      <td>...</td>\n",
       "      <td>...</td>\n",
       "      <td>...</td>\n",
       "      <td>...</td>\n",
       "      <td>...</td>\n",
       "      <td>...</td>\n",
       "      <td>...</td>\n",
       "      <td>...</td>\n",
       "      <td>...</td>\n",
       "      <td>...</td>\n",
       "      <td>...</td>\n",
       "      <td>...</td>\n",
       "      <td>...</td>\n",
       "      <td>...</td>\n",
       "      <td>...</td>\n",
       "      <td>...</td>\n",
       "      <td>...</td>\n",
       "      <td>...</td>\n",
       "      <td>...</td>\n",
       "      <td>...</td>\n",
       "      <td>...</td>\n",
       "      <td>...</td>\n",
       "    </tr>\n",
       "    <tr>\n",
       "      <td>2308</td>\n",
       "      <td>2495</td>\n",
       "      <td>89.15</td>\n",
       "      <td>0.00</td>\n",
       "      <td>0.0</td>\n",
       "      <td>0.0</td>\n",
       "      <td>0.0</td>\n",
       "      <td>0.0</td>\n",
       "      <td>0.0</td>\n",
       "      <td>0.0</td>\n",
       "      <td>0.0</td>\n",
       "      <td>...</td>\n",
       "      <td>129.0</td>\n",
       "      <td>223.0</td>\n",
       "      <td>4</td>\n",
       "      <td>778.82</td>\n",
       "      <td>7.13</td>\n",
       "      <td>3</td>\n",
       "      <td>1137</td>\n",
       "      <td>10.00</td>\n",
       "      <td>1591.0</td>\n",
       "      <td>1570.0</td>\n",
       "    </tr>\n",
       "    <tr>\n",
       "      <td>2309</td>\n",
       "      <td>2496</td>\n",
       "      <td>114.18</td>\n",
       "      <td>0.00</td>\n",
       "      <td>0.0</td>\n",
       "      <td>0.0</td>\n",
       "      <td>0.0</td>\n",
       "      <td>0.0</td>\n",
       "      <td>0.0</td>\n",
       "      <td>0.0</td>\n",
       "      <td>0.0</td>\n",
       "      <td>...</td>\n",
       "      <td>129.0</td>\n",
       "      <td>226.0</td>\n",
       "      <td>6</td>\n",
       "      <td>875.26</td>\n",
       "      <td>9.41</td>\n",
       "      <td>4</td>\n",
       "      <td>1618</td>\n",
       "      <td>16.75</td>\n",
       "      <td>1591.0</td>\n",
       "      <td>1554.0</td>\n",
       "    </tr>\n",
       "    <tr>\n",
       "      <td>2310</td>\n",
       "      <td>2497</td>\n",
       "      <td>94.09</td>\n",
       "      <td>9.05</td>\n",
       "      <td>0.0</td>\n",
       "      <td>0.0</td>\n",
       "      <td>0.0</td>\n",
       "      <td>0.0</td>\n",
       "      <td>0.0</td>\n",
       "      <td>0.0</td>\n",
       "      <td>0.0</td>\n",
       "      <td>...</td>\n",
       "      <td>124.0</td>\n",
       "      <td>226.0</td>\n",
       "      <td>3</td>\n",
       "      <td>556.93</td>\n",
       "      <td>6.27</td>\n",
       "      <td>2</td>\n",
       "      <td>717</td>\n",
       "      <td>0.00</td>\n",
       "      <td>1589.0</td>\n",
       "      <td>1571.0</td>\n",
       "    </tr>\n",
       "    <tr>\n",
       "      <td>2311</td>\n",
       "      <td>2498</td>\n",
       "      <td>118.11</td>\n",
       "      <td>0.00</td>\n",
       "      <td>0.0</td>\n",
       "      <td>0.0</td>\n",
       "      <td>0.0</td>\n",
       "      <td>0.0</td>\n",
       "      <td>0.0</td>\n",
       "      <td>0.0</td>\n",
       "      <td>0.0</td>\n",
       "      <td>...</td>\n",
       "      <td>129.0</td>\n",
       "      <td>207.0</td>\n",
       "      <td>5</td>\n",
       "      <td>767.82</td>\n",
       "      <td>14.95</td>\n",
       "      <td>5</td>\n",
       "      <td>1302</td>\n",
       "      <td>9.23</td>\n",
       "      <td>1594.0</td>\n",
       "      <td>1591.0</td>\n",
       "    </tr>\n",
       "    <tr>\n",
       "      <td>2312</td>\n",
       "      <td>2499</td>\n",
       "      <td>110.16</td>\n",
       "      <td>50.01</td>\n",
       "      <td>0.0</td>\n",
       "      <td>0.0</td>\n",
       "      <td>0.0</td>\n",
       "      <td>0.0</td>\n",
       "      <td>0.0</td>\n",
       "      <td>0.0</td>\n",
       "      <td>0.0</td>\n",
       "      <td>...</td>\n",
       "      <td>126.0</td>\n",
       "      <td>227.0</td>\n",
       "      <td>4</td>\n",
       "      <td>1301.83</td>\n",
       "      <td>11.34</td>\n",
       "      <td>3</td>\n",
       "      <td>1203</td>\n",
       "      <td>17.50</td>\n",
       "      <td>1603.0</td>\n",
       "      <td>1569.0</td>\n",
       "    </tr>\n",
       "  </tbody>\n",
       "</table>\n",
       "<p>2313 rows × 32 columns</p>\n",
       "</div>"
      ],
      "text/plain": [
       "       key  Wire 1  Wire 2  Wire 3  Wire 4  Wire 5  Wire 6  Wire 7  Wire 8  \\\n",
       "0        1   60.06    0.00     0.0     0.0     0.0     0.0     0.0     0.0   \n",
       "1        2   96.05    0.00     0.0     0.0     0.0     0.0     0.0     0.0   \n",
       "2        3   91.16    0.00     0.0     0.0     0.0     0.0     0.0     0.0   \n",
       "3        4   89.06    0.00     0.0     0.0     0.0     0.0     0.0     0.0   \n",
       "4        5   89.24    9.11     0.0     0.0     0.0     0.0     0.0     0.0   \n",
       "...    ...     ...     ...     ...     ...     ...     ...     ...     ...   \n",
       "2308  2495   89.15    0.00     0.0     0.0     0.0     0.0     0.0     0.0   \n",
       "2309  2496  114.18    0.00     0.0     0.0     0.0     0.0     0.0     0.0   \n",
       "2310  2497   94.09    9.05     0.0     0.0     0.0     0.0     0.0     0.0   \n",
       "2311  2498  118.11    0.00     0.0     0.0     0.0     0.0     0.0     0.0   \n",
       "2312  2499  110.16   50.01     0.0     0.0     0.0     0.0     0.0     0.0   \n",
       "\n",
       "      Wire 9  ...  Bulk 14  Bulk 15  Количество_запусков_нагрева  \\\n",
       "0        0.0  ...    150.0    154.0                            5   \n",
       "1        0.0  ...    149.0    154.0                            4   \n",
       "2        0.0  ...    152.0    153.0                            5   \n",
       "3        0.0  ...    153.0    154.0                            4   \n",
       "4        0.0  ...    151.0    152.0                            4   \n",
       "...      ...  ...      ...      ...                          ...   \n",
       "2308     0.0  ...    129.0    223.0                            4   \n",
       "2309     0.0  ...    129.0    226.0                            6   \n",
       "2310     0.0  ...    124.0    226.0                            3   \n",
       "2311     0.0  ...    129.0    207.0                            5   \n",
       "2312     0.0  ...    126.0    227.0                            4   \n",
       "\n",
       "      Потребленная_мощность    gas  Количество_замеров температуры  time_gap  \\\n",
       "0                   1442.38  29.75                               5       861   \n",
       "1                    881.23  12.56                               6      1305   \n",
       "2                    525.07  28.55                               5      1300   \n",
       "3                    796.91  18.84                               3       388   \n",
       "4                   1199.14   5.41                               2       762   \n",
       "...                     ...    ...                             ...       ...   \n",
       "2308                 778.82   7.13                               3      1137   \n",
       "2309                 875.26   9.41                               4      1618   \n",
       "2310                 556.93   6.27                               2       717   \n",
       "2311                 767.82  14.95                               5      1302   \n",
       "2312                1301.83  11.34                               3      1203   \n",
       "\n",
       "      std_temp  last_temperature  first_temperature  \n",
       "0        17.12            1613.0             1571.0  \n",
       "1        12.29            1602.0             1581.0  \n",
       "2         1.12            1599.0             1596.0  \n",
       "3        11.00            1625.0             1601.0  \n",
       "4         0.00            1602.0             1576.0  \n",
       "...        ...               ...                ...  \n",
       "2308     10.00            1591.0             1570.0  \n",
       "2309     16.75            1591.0             1554.0  \n",
       "2310      0.00            1589.0             1571.0  \n",
       "2311      9.23            1594.0             1591.0  \n",
       "2312     17.50            1603.0             1569.0  \n",
       "\n",
       "[2313 rows x 32 columns]"
      ]
     },
     "execution_count": 60,
     "metadata": {},
     "output_type": "execute_result"
    }
   ],
   "source": [
    "df.drop(['Bulk 9','Активная мощность','Реактивная мощность','Время_нагрева_ceк'],axis=1)"
   ]
  },
  {
   "cell_type": "code",
   "execution_count": 61,
   "metadata": {},
   "outputs": [],
   "source": [
    "# Проверим, что не осталось сильно коррелирующих признаков"
   ]
  },
  {
   "cell_type": "code",
   "execution_count": 62,
   "metadata": {},
   "outputs": [
    {
     "data": {
      "text/plain": [
       "Wire 1                          Wire 1                            1.00\n",
       "std_temp                        std_temp                          1.00\n",
       "Bulk 7                          Bulk 7                            1.00\n",
       "key                             key                               1.00\n",
       "Wire 4                          Bulk 7                            0.71\n",
       "Bulk 7                          Wire 4                            0.71\n",
       "                                Bulk 2                            0.70\n",
       "Bulk 2                          Bulk 7                            0.70\n",
       "Wire 4                          Bulk 2                            0.70\n",
       "Bulk 2                          Wire 4                            0.70\n",
       "Bulk 15                         Bulk 12                           0.64\n",
       "Bulk 12                         Bulk 15                           0.64\n",
       "Wire 7                          Wire 4                            0.63\n",
       "Wire 4                          Wire 7                            0.63\n",
       "time_gap                        Количество_запусков_нагрева       0.57\n",
       "Количество_запусков_нагрева     time_gap                          0.57\n",
       "time_gap                        Количество_замеров температуры    0.54\n",
       "Количество_замеров температуры  time_gap                          0.54\n",
       "Wire 6                          Bulk 2                            0.53\n",
       "Bulk 2                          Wire 6                            0.53\n",
       "Количество_запусков_нагрева     Потребленная_мощность             0.53\n",
       "Потребленная_мощность           Количество_запусков_нагрева       0.53\n",
       "Количество_замеров температуры  Количество_запусков_нагрева       0.49\n",
       "Количество_запусков_нагрева     Количество_замеров температуры    0.49\n",
       "Потребленная_мощность           time_gap                          0.48\n",
       "time_gap                        Потребленная_мощность             0.48\n",
       "Потребленная_мощность           Bulk 12                           0.48\n",
       "Bulk 12                         Потребленная_мощность             0.48\n",
       "Bulk 2                          Wire 7                            0.47\n",
       "Wire 7                          Bulk 2                            0.47\n",
       "dtype: float64"
      ]
     },
     "metadata": {},
     "output_type": "display_data"
    },
    {
     "data": {
      "text/plain": [
       "Bulk 7                       Wire 1                        -0.12\n",
       "Wire 1                       Bulk 7                        -0.12\n",
       "Wire 2                       Bulk 12                       -0.12\n",
       "Bulk 12                      Wire 2                        -0.12\n",
       "Bulk 2                       Bulk 14                       -0.13\n",
       "Bulk 14                      Bulk 2                        -0.13\n",
       "Wire 7                       last_temperature              -0.13\n",
       "last_temperature             Wire 7                        -0.13\n",
       "Wire 1                       Wire 4                        -0.13\n",
       "Wire 4                       Wire 1                        -0.13\n",
       "Bulk 2                       Wire 1                        -0.15\n",
       "Wire 1                       Bulk 2                        -0.15\n",
       "first_temperature            Bulk 14                       -0.18\n",
       "Bulk 14                      first_temperature             -0.18\n",
       "Bulk 6                       last_temperature              -0.18\n",
       "last_temperature             Bulk 6                        -0.18\n",
       "Количество_запусков_нагрева  first_temperature             -0.19\n",
       "first_temperature            Количество_запусков_нагрева   -0.19\n",
       "Wire 2                       last_temperature              -0.22\n",
       "last_temperature             Wire 2                        -0.22\n",
       "Bulk 6                       Wire 1                        -0.24\n",
       "Wire 1                       Bulk 6                        -0.24\n",
       "Bulk 6                       Bulk 4                        -0.25\n",
       "Bulk 4                       Bulk 6                        -0.25\n",
       "                             Wire 2                        -0.27\n",
       "Wire 2                       Bulk 4                        -0.27\n",
       "Bulk 4                       Bulk 3                        -0.29\n",
       "Bulk 3                       Bulk 4                        -0.29\n",
       "first_temperature            Потребленная_мощность         -0.42\n",
       "Потребленная_мощность        first_temperature             -0.42\n",
       "dtype: float64"
      ]
     },
     "metadata": {},
     "output_type": "display_data"
    }
   ],
   "source": [
    "corr_table = df.drop(['Bulk 9','Активная мощность','Реактивная мощность','Время_нагрева_ceк'],axis=1)\\\n",
    "                     .corr().unstack().sort_values(ascending=False).dropna()\n",
    "display( corr_table[27:57])\n",
    "#топ 15 по отридцательным корреляциям\n",
    "display( corr_table[-30:])\n"
   ]
  },
  {
   "cell_type": "code",
   "execution_count": 63,
   "metadata": {},
   "outputs": [],
   "source": [
    "df = df.drop(['std_temp','key','Bulk 9','Активная мощность','Реактивная мощность','Время_нагрева_ceк'],axis=1)"
   ]
  },
  {
   "cell_type": "markdown",
   "metadata": {},
   "source": [
    "### Посмотрим выбросы на таргете"
   ]
  },
  {
   "cell_type": "code",
   "execution_count": 64,
   "metadata": {},
   "outputs": [
    {
     "data": {
      "image/png": "[encoded data removed]",
      "text/plain": [
       "<Figure size 432x288 with 1 Axes>"
      ]
     },
     "metadata": {
      "needs_background": "light"
     },
     "output_type": "display_data"
    }
   ],
   "source": [
    "boxplot =   plt.boxplot(df['last_temperature'].values,whis=3);\n",
    "outliers = boxplot[\"fliers\"][0].get_data()[1]\n",
    "df_outliers = df[df[\"last_temperature\"].isin(outliers)] \n",
    "df_outliers\n",
    "df = df.drop(index= df_outliers.index)"
   ]
  },
  {
   "cell_type": "markdown",
   "metadata": {},
   "source": [
    "### Итоговая таблица после обработки"
   ]
  },
  {
   "cell_type": "code",
   "execution_count": 65,
   "metadata": {},
   "outputs": [
    {
     "data": {
      "text/html": [
       "<div>\n",
       "<style scoped>\n",
       "    .dataframe tbody tr th:only-of-type {\n",
       "        vertical-align: middle;\n",
       "    }\n",
       "\n",
       "    .dataframe tbody tr th {\n",
       "        vertical-align: top;\n",
       "    }\n",
       "\n",
       "    .dataframe thead th {\n",
       "        text-align: right;\n",
       "    }\n",
       "</style>\n",
       "<table border=\"1\" class=\"dataframe\">\n",
       "  <thead>\n",
       "    <tr style=\"text-align: right;\">\n",
       "      <th></th>\n",
       "      <th>Wire 1</th>\n",
       "      <th>Wire 2</th>\n",
       "      <th>Wire 3</th>\n",
       "      <th>Wire 4</th>\n",
       "      <th>Wire 5</th>\n",
       "      <th>Wire 6</th>\n",
       "      <th>Wire 7</th>\n",
       "      <th>Wire 8</th>\n",
       "      <th>Wire 9</th>\n",
       "      <th>Bulk 1</th>\n",
       "      <th>...</th>\n",
       "      <th>Bulk 13</th>\n",
       "      <th>Bulk 14</th>\n",
       "      <th>Bulk 15</th>\n",
       "      <th>Количество_запусков_нагрева</th>\n",
       "      <th>Потребленная_мощность</th>\n",
       "      <th>gas</th>\n",
       "      <th>Количество_замеров температуры</th>\n",
       "      <th>time_gap</th>\n",
       "      <th>last_temperature</th>\n",
       "      <th>first_temperature</th>\n",
       "    </tr>\n",
       "  </thead>\n",
       "  <tbody>\n",
       "    <tr>\n",
       "      <td>0</td>\n",
       "      <td>60.06</td>\n",
       "      <td>0.00</td>\n",
       "      <td>0.0</td>\n",
       "      <td>0.0</td>\n",
       "      <td>0.0</td>\n",
       "      <td>0.0</td>\n",
       "      <td>0.0</td>\n",
       "      <td>0.0</td>\n",
       "      <td>0.0</td>\n",
       "      <td>0.0</td>\n",
       "      <td>...</td>\n",
       "      <td>0.0</td>\n",
       "      <td>150.0</td>\n",
       "      <td>154.0</td>\n",
       "      <td>5</td>\n",
       "      <td>1442.38</td>\n",
       "      <td>29.75</td>\n",
       "      <td>5</td>\n",
       "      <td>861</td>\n",
       "      <td>1613.0</td>\n",
       "      <td>1571.0</td>\n",
       "    </tr>\n",
       "    <tr>\n",
       "      <td>1</td>\n",
       "      <td>96.05</td>\n",
       "      <td>0.00</td>\n",
       "      <td>0.0</td>\n",
       "      <td>0.0</td>\n",
       "      <td>0.0</td>\n",
       "      <td>0.0</td>\n",
       "      <td>0.0</td>\n",
       "      <td>0.0</td>\n",
       "      <td>0.0</td>\n",
       "      <td>0.0</td>\n",
       "      <td>...</td>\n",
       "      <td>0.0</td>\n",
       "      <td>149.0</td>\n",
       "      <td>154.0</td>\n",
       "      <td>4</td>\n",
       "      <td>881.23</td>\n",
       "      <td>12.56</td>\n",
       "      <td>6</td>\n",
       "      <td>1305</td>\n",
       "      <td>1602.0</td>\n",
       "      <td>1581.0</td>\n",
       "    </tr>\n",
       "    <tr>\n",
       "      <td>2</td>\n",
       "      <td>91.16</td>\n",
       "      <td>0.00</td>\n",
       "      <td>0.0</td>\n",
       "      <td>0.0</td>\n",
       "      <td>0.0</td>\n",
       "      <td>0.0</td>\n",
       "      <td>0.0</td>\n",
       "      <td>0.0</td>\n",
       "      <td>0.0</td>\n",
       "      <td>0.0</td>\n",
       "      <td>...</td>\n",
       "      <td>0.0</td>\n",
       "      <td>152.0</td>\n",
       "      <td>153.0</td>\n",
       "      <td>5</td>\n",
       "      <td>525.07</td>\n",
       "      <td>28.55</td>\n",
       "      <td>5</td>\n",
       "      <td>1300</td>\n",
       "      <td>1599.0</td>\n",
       "      <td>1596.0</td>\n",
       "    </tr>\n",
       "    <tr>\n",
       "      <td>3</td>\n",
       "      <td>89.06</td>\n",
       "      <td>0.00</td>\n",
       "      <td>0.0</td>\n",
       "      <td>0.0</td>\n",
       "      <td>0.0</td>\n",
       "      <td>0.0</td>\n",
       "      <td>0.0</td>\n",
       "      <td>0.0</td>\n",
       "      <td>0.0</td>\n",
       "      <td>0.0</td>\n",
       "      <td>...</td>\n",
       "      <td>0.0</td>\n",
       "      <td>153.0</td>\n",
       "      <td>154.0</td>\n",
       "      <td>4</td>\n",
       "      <td>796.91</td>\n",
       "      <td>18.84</td>\n",
       "      <td>3</td>\n",
       "      <td>388</td>\n",
       "      <td>1625.0</td>\n",
       "      <td>1601.0</td>\n",
       "    </tr>\n",
       "    <tr>\n",
       "      <td>4</td>\n",
       "      <td>89.24</td>\n",
       "      <td>9.11</td>\n",
       "      <td>0.0</td>\n",
       "      <td>0.0</td>\n",
       "      <td>0.0</td>\n",
       "      <td>0.0</td>\n",
       "      <td>0.0</td>\n",
       "      <td>0.0</td>\n",
       "      <td>0.0</td>\n",
       "      <td>0.0</td>\n",
       "      <td>...</td>\n",
       "      <td>0.0</td>\n",
       "      <td>151.0</td>\n",
       "      <td>152.0</td>\n",
       "      <td>4</td>\n",
       "      <td>1199.14</td>\n",
       "      <td>5.41</td>\n",
       "      <td>2</td>\n",
       "      <td>762</td>\n",
       "      <td>1602.0</td>\n",
       "      <td>1576.0</td>\n",
       "    </tr>\n",
       "    <tr>\n",
       "      <td>...</td>\n",
       "      <td>...</td>\n",
       "      <td>...</td>\n",
       "      <td>...</td>\n",
       "      <td>...</td>\n",
       "      <td>...</td>\n",
       "      <td>...</td>\n",
       "      <td>...</td>\n",
       "      <td>...</td>\n",
       "      <td>...</td>\n",
       "      <td>...</td>\n",
       "      <td>...</td>\n",
       "      <td>...</td>\n",
       "      <td>...</td>\n",
       "      <td>...</td>\n",
       "      <td>...</td>\n",
       "      <td>...</td>\n",
       "      <td>...</td>\n",
       "      <td>...</td>\n",
       "      <td>...</td>\n",
       "      <td>...</td>\n",
       "      <td>...</td>\n",
       "    </tr>\n",
       "    <tr>\n",
       "      <td>2308</td>\n",
       "      <td>89.15</td>\n",
       "      <td>0.00</td>\n",
       "      <td>0.0</td>\n",
       "      <td>0.0</td>\n",
       "      <td>0.0</td>\n",
       "      <td>0.0</td>\n",
       "      <td>0.0</td>\n",
       "      <td>0.0</td>\n",
       "      <td>0.0</td>\n",
       "      <td>0.0</td>\n",
       "      <td>...</td>\n",
       "      <td>0.0</td>\n",
       "      <td>129.0</td>\n",
       "      <td>223.0</td>\n",
       "      <td>4</td>\n",
       "      <td>778.82</td>\n",
       "      <td>7.13</td>\n",
       "      <td>3</td>\n",
       "      <td>1137</td>\n",
       "      <td>1591.0</td>\n",
       "      <td>1570.0</td>\n",
       "    </tr>\n",
       "    <tr>\n",
       "      <td>2309</td>\n",
       "      <td>114.18</td>\n",
       "      <td>0.00</td>\n",
       "      <td>0.0</td>\n",
       "      <td>0.0</td>\n",
       "      <td>0.0</td>\n",
       "      <td>0.0</td>\n",
       "      <td>0.0</td>\n",
       "      <td>0.0</td>\n",
       "      <td>0.0</td>\n",
       "      <td>0.0</td>\n",
       "      <td>...</td>\n",
       "      <td>0.0</td>\n",
       "      <td>129.0</td>\n",
       "      <td>226.0</td>\n",
       "      <td>6</td>\n",
       "      <td>875.26</td>\n",
       "      <td>9.41</td>\n",
       "      <td>4</td>\n",
       "      <td>1618</td>\n",
       "      <td>1591.0</td>\n",
       "      <td>1554.0</td>\n",
       "    </tr>\n",
       "    <tr>\n",
       "      <td>2310</td>\n",
       "      <td>94.09</td>\n",
       "      <td>9.05</td>\n",
       "      <td>0.0</td>\n",
       "      <td>0.0</td>\n",
       "      <td>0.0</td>\n",
       "      <td>0.0</td>\n",
       "      <td>0.0</td>\n",
       "      <td>0.0</td>\n",
       "      <td>0.0</td>\n",
       "      <td>0.0</td>\n",
       "      <td>...</td>\n",
       "      <td>0.0</td>\n",
       "      <td>124.0</td>\n",
       "      <td>226.0</td>\n",
       "      <td>3</td>\n",
       "      <td>556.93</td>\n",
       "      <td>6.27</td>\n",
       "      <td>2</td>\n",
       "      <td>717</td>\n",
       "      <td>1589.0</td>\n",
       "      <td>1571.0</td>\n",
       "    </tr>\n",
       "    <tr>\n",
       "      <td>2311</td>\n",
       "      <td>118.11</td>\n",
       "      <td>0.00</td>\n",
       "      <td>0.0</td>\n",
       "      <td>0.0</td>\n",
       "      <td>0.0</td>\n",
       "      <td>0.0</td>\n",
       "      <td>0.0</td>\n",
       "      <td>0.0</td>\n",
       "      <td>0.0</td>\n",
       "      <td>0.0</td>\n",
       "      <td>...</td>\n",
       "      <td>0.0</td>\n",
       "      <td>129.0</td>\n",
       "      <td>207.0</td>\n",
       "      <td>5</td>\n",
       "      <td>767.82</td>\n",
       "      <td>14.95</td>\n",
       "      <td>5</td>\n",
       "      <td>1302</td>\n",
       "      <td>1594.0</td>\n",
       "      <td>1591.0</td>\n",
       "    </tr>\n",
       "    <tr>\n",
       "      <td>2312</td>\n",
       "      <td>110.16</td>\n",
       "      <td>50.01</td>\n",
       "      <td>0.0</td>\n",
       "      <td>0.0</td>\n",
       "      <td>0.0</td>\n",
       "      <td>0.0</td>\n",
       "      <td>0.0</td>\n",
       "      <td>0.0</td>\n",
       "      <td>0.0</td>\n",
       "      <td>0.0</td>\n",
       "      <td>...</td>\n",
       "      <td>0.0</td>\n",
       "      <td>126.0</td>\n",
       "      <td>227.0</td>\n",
       "      <td>4</td>\n",
       "      <td>1301.83</td>\n",
       "      <td>11.34</td>\n",
       "      <td>3</td>\n",
       "      <td>1203</td>\n",
       "      <td>1603.0</td>\n",
       "      <td>1569.0</td>\n",
       "    </tr>\n",
       "  </tbody>\n",
       "</table>\n",
       "<p>2306 rows × 30 columns</p>\n",
       "</div>"
      ],
      "text/plain": [
       "      Wire 1  Wire 2  Wire 3  Wire 4  Wire 5  Wire 6  Wire 7  Wire 8  Wire 9  \\\n",
       "0      60.06    0.00     0.0     0.0     0.0     0.0     0.0     0.0     0.0   \n",
       "1      96.05    0.00     0.0     0.0     0.0     0.0     0.0     0.0     0.0   \n",
       "2      91.16    0.00     0.0     0.0     0.0     0.0     0.0     0.0     0.0   \n",
       "3      89.06    0.00     0.0     0.0     0.0     0.0     0.0     0.0     0.0   \n",
       "4      89.24    9.11     0.0     0.0     0.0     0.0     0.0     0.0     0.0   \n",
       "...      ...     ...     ...     ...     ...     ...     ...     ...     ...   \n",
       "2308   89.15    0.00     0.0     0.0     0.0     0.0     0.0     0.0     0.0   \n",
       "2309  114.18    0.00     0.0     0.0     0.0     0.0     0.0     0.0     0.0   \n",
       "2310   94.09    9.05     0.0     0.0     0.0     0.0     0.0     0.0     0.0   \n",
       "2311  118.11    0.00     0.0     0.0     0.0     0.0     0.0     0.0     0.0   \n",
       "2312  110.16   50.01     0.0     0.0     0.0     0.0     0.0     0.0     0.0   \n",
       "\n",
       "      Bulk 1  ...  Bulk 13  Bulk 14  Bulk 15  Количество_запусков_нагрева  \\\n",
       "0        0.0  ...      0.0    150.0    154.0                            5   \n",
       "1        0.0  ...      0.0    149.0    154.0                            4   \n",
       "2        0.0  ...      0.0    152.0    153.0                            5   \n",
       "3        0.0  ...      0.0    153.0    154.0                            4   \n",
       "4        0.0  ...      0.0    151.0    152.0                            4   \n",
       "...      ...  ...      ...      ...      ...                          ...   \n",
       "2308     0.0  ...      0.0    129.0    223.0                            4   \n",
       "2309     0.0  ...      0.0    129.0    226.0                            6   \n",
       "2310     0.0  ...      0.0    124.0    226.0                            3   \n",
       "2311     0.0  ...      0.0    129.0    207.0                            5   \n",
       "2312     0.0  ...      0.0    126.0    227.0                            4   \n",
       "\n",
       "      Потребленная_мощность    gas  Количество_замеров температуры  time_gap  \\\n",
       "0                   1442.38  29.75                               5       861   \n",
       "1                    881.23  12.56                               6      1305   \n",
       "2                    525.07  28.55                               5      1300   \n",
       "3                    796.91  18.84                               3       388   \n",
       "4                   1199.14   5.41                               2       762   \n",
       "...                     ...    ...                             ...       ...   \n",
       "2308                 778.82   7.13                               3      1137   \n",
       "2309                 875.26   9.41                               4      1618   \n",
       "2310                 556.93   6.27                               2       717   \n",
       "2311                 767.82  14.95                               5      1302   \n",
       "2312                1301.83  11.34                               3      1203   \n",
       "\n",
       "      last_temperature  first_temperature  \n",
       "0               1613.0             1571.0  \n",
       "1               1602.0             1581.0  \n",
       "2               1599.0             1596.0  \n",
       "3               1625.0             1601.0  \n",
       "4               1602.0             1576.0  \n",
       "...                ...                ...  \n",
       "2308            1591.0             1570.0  \n",
       "2309            1591.0             1554.0  \n",
       "2310            1589.0             1571.0  \n",
       "2311            1594.0             1591.0  \n",
       "2312            1603.0             1569.0  \n",
       "\n",
       "[2306 rows x 30 columns]"
      ]
     },
     "execution_count": 65,
     "metadata": {},
     "output_type": "execute_result"
    }
   ],
   "source": [
    "df"
   ]
  },
  {
   "cell_type": "markdown",
   "metadata": {},
   "source": [
    "План действий :\n",
    "1. Подготовить все данные к объединению по столбцу ``key``\n",
    "2. Максимально нагенерить фич в каждой таблице, не забываю про п.1\n",
    "3. Убрать аномалии в каждой таблице\n",
    "3. Выделить таргет - в качестве последней температуры. Удалить данные где отсутствует таргет. \n",
    "4. Обьединить данные и проверить на мультиколлинеарность\n",
    "5. Строить модели, смотреть FeatureImportance, побить целевую метрику MAE\n"
   ]
  },
  {
   "cell_type": "markdown",
   "metadata": {},
   "source": [
    "### Transform Features\n"
   ]
  },
  {
   "cell_type": "code",
   "execution_count": 66,
   "metadata": {},
   "outputs": [],
   "source": [
    "features = df.drop(['last_temperature'],axis=1) \n",
    "target = df['last_temperature']\n",
    "X_train, X_test, y_train, y_test= train_test_split(\n",
    "features, target, test_size=0.25,shuffle=True, random_state=890)"
   ]
  },
  {
   "cell_type": "markdown",
   "metadata": {},
   "source": [
    "#### Scaler"
   ]
  },
  {
   "cell_type": "code",
   "execution_count": 67,
   "metadata": {},
   "outputs": [],
   "source": [
    "from sklearn.preprocessing import StandardScaler\n",
    "scaler = StandardScaler()\n",
    "X_train = pd.DataFrame(scaler.fit_transform(X_train), columns = X_train.columns)\n",
    "X_test = pd.DataFrame(scaler.transform(X_test), columns = X_train.columns)"
   ]
  },
  {
   "cell_type": "markdown",
   "metadata": {},
   "source": [
    "###  ML models"
   ]
  },
  {
   "cell_type": "markdown",
   "metadata": {},
   "source": [
    "#### Baseline "
   ]
  },
  {
   "cell_type": "code",
   "execution_count": 68,
   "metadata": {},
   "outputs": [
    {
     "name": "stdout",
     "output_type": "stream",
     "text": [
      "MAE: 7.883720242589574\n",
      "CPU times: user 18.9 ms, sys: 54 µs, total: 18.9 ms\n",
      "Wall time: 16.6 ms\n"
     ]
    }
   ],
   "source": [
    "%%time \n",
    "dummy_regr = DummyRegressor(strategy=\"mean\")\n",
    "scores = cross_val_score(dummy_regr, X_train, y_train, cv=5, scoring='neg_mean_absolute_error')\n",
    "print('MAE:',np.mean(np.abs(scores)))"
   ]
  },
  {
   "cell_type": "markdown",
   "metadata": {},
   "source": [
    "#### LinearRegression"
   ]
  },
  {
   "cell_type": "code",
   "execution_count": 69,
   "metadata": {},
   "outputs": [
    {
     "name": "stdout",
     "output_type": "stream",
     "text": [
      "MAE: 62627247.3697271\n",
      "CPU times: user 438 ms, sys: 567 ms, total: 1 s\n",
      "Wall time: 1.03 s\n"
     ]
    }
   ],
   "source": [
    "%%time \n",
    "model_LR = LinearRegression()\n",
    "scores = cross_val_score(model_LR, X_train, y_train, cv=5, scoring='neg_mean_absolute_error')\n",
    "print('MAE:',np.abs(np.mean(scores)))"
   ]
  },
  {
   "cell_type": "markdown",
   "metadata": {},
   "source": [
    "#### DecisionTreeRegressor"
   ]
  },
  {
   "cell_type": "code",
   "execution_count": 70,
   "metadata": {},
   "outputs": [
    {
     "name": "stdout",
     "output_type": "stream",
     "text": [
      "MAE: 7.118532371301315\n",
      "CPU times: user 80.4 ms, sys: 40.2 ms, total: 121 ms\n",
      "Wall time: 110 ms\n"
     ]
    }
   ],
   "source": [
    "%%time\n",
    "\n",
    "start_time = time.time()\n",
    "start = time.time()\n",
    "model=DecisionTreeRegressor(max_depth=5)\n",
    "scores = cross_val_score(model, X_train, y_train, cv=5, scoring='neg_mean_absolute_error')\n",
    "print('MAE:',np.mean(np.abs(scores)))\n",
    "\n",
    "end = time.time()\n",
    "#print('The time of execution:',end - start)"
   ]
  },
  {
   "cell_type": "code",
   "execution_count": 71,
   "metadata": {},
   "outputs": [
    {
     "data": {
      "text/html": [
       "<div>\n",
       "<style scoped>\n",
       "    .dataframe tbody tr th:only-of-type {\n",
       "        vertical-align: middle;\n",
       "    }\n",
       "\n",
       "    .dataframe tbody tr th {\n",
       "        vertical-align: top;\n",
       "    }\n",
       "\n",
       "    .dataframe thead th {\n",
       "        text-align: right;\n",
       "    }\n",
       "</style>\n",
       "<table border=\"1\" class=\"dataframe\">\n",
       "  <thead>\n",
       "    <tr style=\"text-align: right;\">\n",
       "      <th></th>\n",
       "      <th>learning_rate</th>\n",
       "      <th>MAE</th>\n",
       "    </tr>\n",
       "  </thead>\n",
       "  <tbody>\n",
       "    <tr>\n",
       "      <td>0</td>\n",
       "      <td>0.05</td>\n",
       "      <td>5.94</td>\n",
       "    </tr>\n",
       "    <tr>\n",
       "      <td>1</td>\n",
       "      <td>0.10</td>\n",
       "      <td>6.06</td>\n",
       "    </tr>\n",
       "    <tr>\n",
       "      <td>2</td>\n",
       "      <td>0.15</td>\n",
       "      <td>6.13</td>\n",
       "    </tr>\n",
       "    <tr>\n",
       "      <td>3</td>\n",
       "      <td>0.20</td>\n",
       "      <td>6.21</td>\n",
       "    </tr>\n",
       "    <tr>\n",
       "      <td>4</td>\n",
       "      <td>0.25</td>\n",
       "      <td>6.37</td>\n",
       "    </tr>\n",
       "    <tr>\n",
       "      <td>6</td>\n",
       "      <td>0.35</td>\n",
       "      <td>6.40</td>\n",
       "    </tr>\n",
       "    <tr>\n",
       "      <td>5</td>\n",
       "      <td>0.30</td>\n",
       "      <td>6.44</td>\n",
       "    </tr>\n",
       "    <tr>\n",
       "      <td>7</td>\n",
       "      <td>0.40</td>\n",
       "      <td>6.59</td>\n",
       "    </tr>\n",
       "    <tr>\n",
       "      <td>8</td>\n",
       "      <td>0.45</td>\n",
       "      <td>6.70</td>\n",
       "    </tr>\n",
       "    <tr>\n",
       "      <td>9</td>\n",
       "      <td>0.50</td>\n",
       "      <td>6.77</td>\n",
       "    </tr>\n",
       "  </tbody>\n",
       "</table>\n",
       "</div>"
      ],
      "text/plain": [
       "   learning_rate   MAE\n",
       "0           0.05  5.94\n",
       "1           0.10  6.06\n",
       "2           0.15  6.13\n",
       "3           0.20  6.21\n",
       "4           0.25  6.37\n",
       "6           0.35  6.40\n",
       "5           0.30  6.44\n",
       "7           0.40  6.59\n",
       "8           0.45  6.70\n",
       "9           0.50  6.77"
      ]
     },
     "metadata": {},
     "output_type": "display_data"
    },
    {
     "name": "stdout",
     "output_type": "stream",
     "text": [
      "CPU times: user 8min 20s, sys: 3.67 s, total: 8min 24s\n",
      "Wall time: 8min 27s\n"
     ]
    }
   ],
   "source": [
    "%%time \n",
    "\n",
    "hyper_param_list = []\n",
    "\n",
    "def calc_mae(learning_rate):\n",
    "    \n",
    "    def mae(y_true, y_pred):\n",
    "        return mean_absolute_error(y_true,y_pred)\n",
    "      \n",
    "    learning_rate = round(learning_rate,2)\n",
    "    mae = make_scorer(mae, greater_is_better=False)\n",
    "    sgb = LGBMRegressor(metric='auc',random_state = 890,\n",
    "                        n_jobs = -1,learning_rate = round(learning_rate,2), silent = True)\n",
    "    _mae = np.mean(np.abs(cross_val_score(sgb,X_train,y_train,scoring=mae,error_score='raise')))\n",
    "    return learning_rate,_mae\n",
    "    #print('The mae is: ',_mae)\n",
    "    \n",
    "for learning_rate in np.linspace(0.05, 1.0, num=20):\n",
    "    learning_rate,_mae = calc_mae(learning_rate)\n",
    "    hyper_param_list.append([learning_rate,_mae])    \n",
    "    \n",
    "hyper_param_list = pd.DataFrame(hyper_param_list,columns=['learning_rate','MAE'])\n",
    "display(hyper_param_list.sort_values(by='MAE')[:10])"
   ]
  },
  {
   "cell_type": "markdown",
   "metadata": {},
   "source": [
    "### Проверка лучшей модели на тесте"
   ]
  },
  {
   "cell_type": "code",
   "execution_count": 72,
   "metadata": {},
   "outputs": [
    {
     "name": "stdout",
     "output_type": "stream",
     "text": [
      "MAE: 6.662764915915808\n"
     ]
    }
   ],
   "source": [
    "LGBM = LGBMRegressor(metric='auc',random_state = 890,\n",
    "                        n_jobs = -1,learning_rate = 0.01, silent = True)\n",
    "model.fit(X_train,y_train)\n",
    "predict = model.predict(X_test)\n",
    "print('MAE:',mean_absolute_error(y_test, predict))"
   ]
  },
  {
   "cell_type": "markdown",
   "metadata": {},
   "source": [
    "### Feature Importances"
   ]
  },
  {
   "cell_type": "code",
   "execution_count": 73,
   "metadata": {},
   "outputs": [
    {
     "data": {
      "image/png": "[encoded data removed]",
      "text/plain": [
       "<Figure size 2880x1440 with 1 Axes>"
      ]
     },
     "metadata": {
      "needs_background": "light"
     },
     "output_type": "display_data"
    }
   ],
   "source": [
    "def plotImp(model, X , num = 20, fig_size = (12, 8)):\n",
    "    feature_imp = pd.DataFrame({'Value':model.feature_importances_,'Feature':X.columns})\n",
    "    plt.figure(figsize=fig_size)\n",
    "    sns.set(font_scale = 5)\n",
    "    sns.barplot(x=\"Value\", y=\"Feature\", data=feature_imp.sort_values(by=\"Value\", \n",
    "                                                        ascending=False)[0:num])\n",
    "    plt.title('LightGBM Features (avg over folds)')\n",
    "    plt.tight_layout()\n",
    "    plt.savefig('lgbm_importances-01.png')\n",
    "    plt.show()\n",
    "plotImp(model, pd.DataFrame(X_test), num = 10, fig_size = (40, 20))"
   ]
  },
  {
   "cell_type": "markdown",
   "metadata": {},
   "source": [
    "**Вывод:**\n",
    "- Подготовленные фичи разделили на трейнувую и тестувую выборки в соотношении 75-25.\n",
    "- Провели масштабирование модели. Кодирование не потребовалось, т.к. все фичи были числовые.\n",
    "- Запустили \"Глупую модель\", предсказывющую случайным образом. Не ней MAE вышло 8, это был наш бейзлайн.\n",
    "- Мы попробовали 3 типа моделей : линейные, деревянные и бустинги(анасамбли). Во избежания переобучения моделей, использовали кросс-валидацию.\n",
    "- Самой лучшей вышла ансамблевая модель градиентного бустинга с метрикой `` 6.48``"
   ]
  },
  {
   "cell_type": "markdown",
   "metadata": {},
   "source": [
    "### Вывод по работе в целом:"
   ]
  },
  {
   "cell_type": "markdown",
   "metadata": {},
   "source": [
    "В целях оптимизации расхода энергии заказчику неодимо предсказывать последнюю температуру нагрева тех. процесса плавления. Он будет использовать эти данные и корректировать процесс.\n",
    "\n",
    "Заказчиком было предложено использовать метрику абсолютных ошибок MAE. Заказчику важно знать, как ошибается модель в абсолютном выражении, чтобы интерпретировать значения для бизнеса.\n",
    "\n",
    "Были получены данные от заказчика, обьяснен тех процесс работы. Выяснена природа пропуска в данных.\n",
    "\n",
    "Для повышения последующей точности моделей были удалены нерелевантные данные(выбросы), не соответствующие статистическим критериям или физическим свойствам тех. процесса.\n",
    "\n",
    "После обработки данных мы протестировали разные типы моделей машинного обучения, по точности оказалось случшая ансамблевая модель градиентного бустинга с метрикой ``MAE:  6.48``, это значит что наша модель ошибкается в предсказаниях всего на 6,5 градусов, что перекрывает его ожидания.`` 6 градусов для него был идеальный результат.``"
   ]
  }
 ],
 "metadata": {
  "ExecuteTimeLog": [
   {
    "duration": 1595,
    "start_time": "2021-08-02T14:26:01.830Z"
   },
   {
    "duration": 2216,
    "start_time": "2021-08-02T14:26:03.427Z"
   },
   {
    "duration": 215,
    "start_time": "2021-08-02T14:26:27.798Z"
   },
   {
    "duration": 261,
    "start_time": "2021-08-02T14:27:10.281Z"
   },
   {
    "duration": 207,
    "start_time": "2021-08-02T14:27:40.631Z"
   },
   {
    "duration": 51,
    "start_time": "2021-08-02T14:27:43.068Z"
   },
   {
    "duration": 8,
    "start_time": "2021-08-02T14:27:43.868Z"
   },
   {
    "duration": 23,
    "start_time": "2021-08-02T14:27:44.558Z"
   },
   {
    "duration": 13,
    "start_time": "2021-08-02T14:27:44.938Z"
   },
   {
    "duration": 7,
    "start_time": "2021-08-02T14:27:45.138Z"
   },
   {
    "duration": 31,
    "start_time": "2021-08-02T14:27:45.659Z"
   },
   {
    "duration": 204,
    "start_time": "2021-08-02T14:27:47.430Z"
   },
   {
    "duration": 365,
    "start_time": "2021-08-02T14:27:48.385Z"
   },
   {
    "duration": 16,
    "start_time": "2021-08-02T14:27:52.592Z"
   },
   {
    "duration": 16,
    "start_time": "2021-08-02T14:27:53.379Z"
   },
   {
    "duration": 11,
    "start_time": "2021-08-02T14:27:54.808Z"
   },
   {
    "duration": 40,
    "start_time": "2021-08-02T14:27:55.534Z"
   },
   {
    "duration": 10471,
    "start_time": "2021-08-02T14:27:56.032Z"
   },
   {
    "duration": 9,
    "start_time": "2021-08-02T14:28:06.507Z"
   },
   {
    "duration": 538,
    "start_time": "2021-08-02T14:28:06.520Z"
   },
   {
    "duration": 13,
    "start_time": "2021-08-02T14:28:07.061Z"
   },
   {
    "duration": 14,
    "start_time": "2021-08-02T14:28:07.077Z"
   },
   {
    "duration": 26,
    "start_time": "2021-08-02T14:28:07.094Z"
   },
   {
    "duration": 41,
    "start_time": "2021-08-02T14:28:07.122Z"
   },
   {
    "duration": 18,
    "start_time": "2021-08-02T14:28:07.167Z"
   },
   {
    "duration": 11,
    "start_time": "2021-08-02T14:28:07.188Z"
   },
   {
    "duration": 54,
    "start_time": "2021-08-02T14:28:07.201Z"
   },
   {
    "duration": 260,
    "start_time": "2021-08-02T14:28:07.471Z"
   },
   {
    "duration": 12,
    "start_time": "2021-08-02T14:28:07.942Z"
   },
   {
    "duration": 20,
    "start_time": "2021-08-02T14:28:08.142Z"
   },
   {
    "duration": 883,
    "start_time": "2021-08-02T14:28:08.728Z"
   },
   {
    "duration": 19,
    "start_time": "2021-08-02T14:28:09.615Z"
   },
   {
    "duration": 13,
    "start_time": "2021-08-02T14:28:09.657Z"
   },
   {
    "duration": 5386,
    "start_time": "2021-08-02T14:28:09.959Z"
   },
   {
    "duration": 736,
    "start_time": "2021-08-02T14:28:15.347Z"
   },
   {
    "duration": 3336,
    "start_time": "2021-08-02T14:28:16.086Z"
   },
   {
    "duration": 195,
    "start_time": "2021-08-02T14:28:19.424Z"
   },
   {
    "duration": 8434,
    "start_time": "2021-08-02T14:28:19.622Z"
   },
   {
    "duration": 19,
    "start_time": "2021-08-02T14:28:28.059Z"
   },
   {
    "duration": 13,
    "start_time": "2021-08-02T14:28:28.081Z"
   },
   {
    "duration": 16,
    "start_time": "2021-08-02T14:28:28.097Z"
   },
   {
    "duration": 8597,
    "start_time": "2021-08-02T14:28:28.155Z"
   },
   {
    "duration": 5105,
    "start_time": "2021-08-02T14:28:36.755Z"
   },
   {
    "duration": 13,
    "start_time": "2021-08-02T14:28:41.863Z"
   },
   {
    "duration": 12397,
    "start_time": "2021-08-02T14:28:41.878Z"
   },
   {
    "duration": 29,
    "start_time": "2021-08-02T14:28:54.278Z"
   },
   {
    "duration": 59,
    "start_time": "2021-08-02T14:28:54.310Z"
   },
   {
    "duration": 10,
    "start_time": "2021-08-02T14:28:54.372Z"
   },
   {
    "duration": 276,
    "start_time": "2021-08-02T14:28:54.385Z"
   },
   {
    "duration": 334,
    "start_time": "2021-08-02T14:28:54.331Z"
   },
   {
    "duration": 326,
    "start_time": "2021-08-02T14:28:54.341Z"
   },
   {
    "duration": 299,
    "start_time": "2021-08-02T14:28:54.370Z"
   },
   {
    "duration": 292,
    "start_time": "2021-08-02T14:28:54.378Z"
   },
   {
    "duration": 289,
    "start_time": "2021-08-02T14:28:54.383Z"
   },
   {
    "duration": 273,
    "start_time": "2021-08-02T14:28:54.401Z"
   },
   {
    "duration": 271,
    "start_time": "2021-08-02T14:28:54.406Z"
   },
   {
    "duration": 266,
    "start_time": "2021-08-02T14:28:54.412Z"
   },
   {
    "duration": 211,
    "start_time": "2021-08-02T14:28:54.469Z"
   },
   {
    "duration": 208,
    "start_time": "2021-08-02T14:28:54.474Z"
   },
   {
    "duration": 127,
    "start_time": "2021-08-02T14:28:54.557Z"
   },
   {
    "duration": 122,
    "start_time": "2021-08-02T14:28:54.563Z"
   },
   {
    "duration": 119,
    "start_time": "2021-08-02T14:28:54.568Z"
   },
   {
    "duration": 115,
    "start_time": "2021-08-02T14:28:54.574Z"
   },
   {
    "duration": 112,
    "start_time": "2021-08-02T14:28:54.578Z"
   },
   {
    "duration": 92,
    "start_time": "2021-08-02T14:28:54.600Z"
   },
   {
    "duration": 87,
    "start_time": "2021-08-02T14:28:54.606Z"
   },
   {
    "duration": 78,
    "start_time": "2021-08-02T14:28:54.617Z"
   },
   {
    "duration": 6,
    "start_time": "2021-08-02T14:29:02.810Z"
   },
   {
    "duration": 238,
    "start_time": "2021-08-02T14:29:03.483Z"
   },
   {
    "duration": 6,
    "start_time": "2021-08-02T14:29:04.021Z"
   },
   {
    "duration": 15,
    "start_time": "2021-08-02T14:29:05.688Z"
   },
   {
    "duration": 17,
    "start_time": "2021-08-02T14:29:07.022Z"
   },
   {
    "duration": 36,
    "start_time": "2021-08-02T14:29:08.558Z"
   },
   {
    "duration": 27,
    "start_time": "2021-08-02T14:29:08.911Z"
   },
   {
    "duration": 15,
    "start_time": "2021-08-02T14:29:09.630Z"
   },
   {
    "duration": 6,
    "start_time": "2021-08-02T14:29:10.218Z"
   },
   {
    "duration": 75,
    "start_time": "2021-08-02T14:29:10.908Z"
   },
   {
    "duration": 16,
    "start_time": "2021-08-02T14:29:11.429Z"
   },
   {
    "duration": 29,
    "start_time": "2021-08-02T14:29:13.060Z"
   },
   {
    "duration": 48,
    "start_time": "2021-08-02T14:29:13.971Z"
   },
   {
    "duration": 3,
    "start_time": "2021-08-02T14:29:14.527Z"
   },
   {
    "duration": 25,
    "start_time": "2021-08-02T14:29:15.299Z"
   },
   {
    "duration": 5,
    "start_time": "2021-08-02T14:29:16.227Z"
   },
   {
    "duration": 206,
    "start_time": "2021-08-02T14:29:17.360Z"
   },
   {
    "duration": 49,
    "start_time": "2021-08-02T14:29:18.034Z"
   },
   {
    "duration": 11,
    "start_time": "2021-08-02T14:29:19.224Z"
   },
   {
    "duration": 14,
    "start_time": "2021-08-02T14:29:20.954Z"
   },
   {
    "duration": 23,
    "start_time": "2021-08-02T14:29:25.948Z"
   },
   {
    "duration": 872,
    "start_time": "2021-08-02T14:29:52.891Z"
   },
   {
    "duration": 70,
    "start_time": "2021-08-02T14:30:31.736Z"
   },
   {
    "duration": 417,
    "start_time": "2021-08-02T14:30:40.245Z"
   },
   {
    "duration": 1651,
    "start_time": "2021-08-03T12:20:59.038Z"
   },
   {
    "duration": 275,
    "start_time": "2021-08-03T12:21:00.692Z"
   },
   {
    "duration": 50,
    "start_time": "2021-08-03T12:21:00.971Z"
   },
   {
    "duration": 8,
    "start_time": "2021-08-03T12:21:01.023Z"
   },
   {
    "duration": 52,
    "start_time": "2021-08-03T12:21:01.034Z"
   },
   {
    "duration": 29,
    "start_time": "2021-08-03T12:21:01.089Z"
   },
   {
    "duration": 21,
    "start_time": "2021-08-03T12:21:01.121Z"
   },
   {
    "duration": 67,
    "start_time": "2021-08-03T12:21:01.146Z"
   },
   {
    "duration": 197,
    "start_time": "2021-08-03T12:21:01.217Z"
   },
   {
    "duration": 689,
    "start_time": "2021-08-03T12:21:01.416Z"
   },
   {
    "duration": 23587,
    "start_time": "2021-08-03T12:20:38.524Z"
   },
   {
    "duration": 23585,
    "start_time": "2021-08-03T12:20:38.527Z"
   },
   {
    "duration": 23583,
    "start_time": "2021-08-03T12:20:38.531Z"
   },
   {
    "duration": 23580,
    "start_time": "2021-08-03T12:20:38.535Z"
   },
   {
    "duration": 23578,
    "start_time": "2021-08-03T12:20:38.539Z"
   },
   {
    "duration": 23575,
    "start_time": "2021-08-03T12:20:38.543Z"
   },
   {
    "duration": 23574,
    "start_time": "2021-08-03T12:20:38.546Z"
   },
   {
    "duration": 23572,
    "start_time": "2021-08-03T12:20:38.550Z"
   },
   {
    "duration": 23570,
    "start_time": "2021-08-03T12:20:38.553Z"
   },
   {
    "duration": 23567,
    "start_time": "2021-08-03T12:20:38.557Z"
   },
   {
    "duration": 23565,
    "start_time": "2021-08-03T12:20:38.561Z"
   },
   {
    "duration": 23562,
    "start_time": "2021-08-03T12:20:38.565Z"
   },
   {
    "duration": 23560,
    "start_time": "2021-08-03T12:20:38.568Z"
   },
   {
    "duration": 23559,
    "start_time": "2021-08-03T12:20:38.571Z"
   },
   {
    "duration": 23557,
    "start_time": "2021-08-03T12:20:38.575Z"
   },
   {
    "duration": 23555,
    "start_time": "2021-08-03T12:20:38.578Z"
   },
   {
    "duration": 23548,
    "start_time": "2021-08-03T12:20:38.586Z"
   },
   {
    "duration": 23546,
    "start_time": "2021-08-03T12:20:38.590Z"
   },
   {
    "duration": 23541,
    "start_time": "2021-08-03T12:20:38.596Z"
   },
   {
    "duration": 23537,
    "start_time": "2021-08-03T12:20:38.602Z"
   },
   {
    "duration": 23534,
    "start_time": "2021-08-03T12:20:38.606Z"
   },
   {
    "duration": 23533,
    "start_time": "2021-08-03T12:20:38.609Z"
   },
   {
    "duration": 23530,
    "start_time": "2021-08-03T12:20:38.613Z"
   },
   {
    "duration": 23528,
    "start_time": "2021-08-03T12:20:38.617Z"
   },
   {
    "duration": 23525,
    "start_time": "2021-08-03T12:20:38.621Z"
   },
   {
    "duration": 23523,
    "start_time": "2021-08-03T12:20:38.625Z"
   },
   {
    "duration": 23557,
    "start_time": "2021-08-03T12:20:38.629Z"
   },
   {
    "duration": 23556,
    "start_time": "2021-08-03T12:20:38.632Z"
   },
   {
    "duration": 23553,
    "start_time": "2021-08-03T12:20:38.636Z"
   },
   {
    "duration": 23552,
    "start_time": "2021-08-03T12:20:38.639Z"
   },
   {
    "duration": 23545,
    "start_time": "2021-08-03T12:20:38.647Z"
   },
   {
    "duration": 23543,
    "start_time": "2021-08-03T12:20:38.650Z"
   },
   {
    "duration": 23541,
    "start_time": "2021-08-03T12:20:38.653Z"
   },
   {
    "duration": 23252,
    "start_time": "2021-08-03T12:20:38.944Z"
   },
   {
    "duration": 22890,
    "start_time": "2021-08-03T12:20:39.307Z"
   },
   {
    "duration": 22887,
    "start_time": "2021-08-03T12:20:39.311Z"
   },
   {
    "duration": 22885,
    "start_time": "2021-08-03T12:20:39.314Z"
   },
   {
    "duration": 22884,
    "start_time": "2021-08-03T12:20:39.317Z"
   },
   {
    "duration": 22881,
    "start_time": "2021-08-03T12:20:39.321Z"
   },
   {
    "duration": 22879,
    "start_time": "2021-08-03T12:20:39.324Z"
   },
   {
    "duration": 22877,
    "start_time": "2021-08-03T12:20:39.328Z"
   },
   {
    "duration": 22875,
    "start_time": "2021-08-03T12:20:39.331Z"
   },
   {
    "duration": 22872,
    "start_time": "2021-08-03T12:20:39.335Z"
   },
   {
    "duration": 22870,
    "start_time": "2021-08-03T12:20:39.338Z"
   },
   {
    "duration": 22868,
    "start_time": "2021-08-03T12:20:39.342Z"
   },
   {
    "duration": 22866,
    "start_time": "2021-08-03T12:20:39.345Z"
   },
   {
    "duration": 22864,
    "start_time": "2021-08-03T12:20:39.348Z"
   },
   {
    "duration": 22861,
    "start_time": "2021-08-03T12:20:39.352Z"
   },
   {
    "duration": 22860,
    "start_time": "2021-08-03T12:20:39.355Z"
   },
   {
    "duration": 22858,
    "start_time": "2021-08-03T12:20:39.358Z"
   },
   {
    "duration": 22855,
    "start_time": "2021-08-03T12:20:39.362Z"
   },
   {
    "duration": 22853,
    "start_time": "2021-08-03T12:20:39.365Z"
   },
   {
    "duration": 22851,
    "start_time": "2021-08-03T12:20:39.369Z"
   },
   {
    "duration": 22849,
    "start_time": "2021-08-03T12:20:39.372Z"
   },
   {
    "duration": 22841,
    "start_time": "2021-08-03T12:20:39.381Z"
   },
   {
    "duration": 22840,
    "start_time": "2021-08-03T12:20:39.384Z"
   },
   {
    "duration": 22900,
    "start_time": "2021-08-03T12:20:39.388Z"
   },
   {
    "duration": 22899,
    "start_time": "2021-08-03T12:20:39.391Z"
   },
   {
    "duration": 22896,
    "start_time": "2021-08-03T12:20:39.395Z"
   },
   {
    "duration": 22895,
    "start_time": "2021-08-03T12:20:39.398Z"
   },
   {
    "duration": 22892,
    "start_time": "2021-08-03T12:20:39.402Z"
   },
   {
    "duration": 22891,
    "start_time": "2021-08-03T12:20:39.405Z"
   },
   {
    "duration": 5530,
    "start_time": "2021-08-03T12:29:52.138Z"
   },
   {
    "duration": 5284,
    "start_time": "2021-08-03T12:30:22.594Z"
   },
   {
    "duration": 3935,
    "start_time": "2021-08-03T12:30:44.845Z"
   },
   {
    "duration": 1682,
    "start_time": "2021-08-03T12:30:48.783Z"
   },
   {
    "duration": 236,
    "start_time": "2021-08-03T12:30:50.468Z"
   },
   {
    "duration": 49,
    "start_time": "2021-08-03T12:30:50.707Z"
   },
   {
    "duration": 8,
    "start_time": "2021-08-03T12:30:50.758Z"
   },
   {
    "duration": 39,
    "start_time": "2021-08-03T12:30:50.784Z"
   },
   {
    "duration": 13,
    "start_time": "2021-08-03T12:30:50.826Z"
   },
   {
    "duration": 15,
    "start_time": "2021-08-03T12:30:50.843Z"
   },
   {
    "duration": 36,
    "start_time": "2021-08-03T12:30:50.861Z"
   },
   {
    "duration": 188,
    "start_time": "2021-08-03T12:30:50.899Z"
   },
   {
    "duration": 969,
    "start_time": "2021-08-03T12:30:51.090Z"
   },
   {
    "duration": 29,
    "start_time": "2021-08-03T12:30:52.062Z"
   },
   {
    "duration": 17,
    "start_time": "2021-08-03T12:30:52.094Z"
   },
   {
    "duration": 8,
    "start_time": "2021-08-03T12:30:52.113Z"
   },
   {
    "duration": 71,
    "start_time": "2021-08-03T12:30:52.123Z"
   },
   {
    "duration": 9527,
    "start_time": "2021-08-03T12:30:52.196Z"
   },
   {
    "duration": 8,
    "start_time": "2021-08-03T12:31:01.726Z"
   },
   {
    "duration": 468,
    "start_time": "2021-08-03T12:31:01.737Z"
   },
   {
    "duration": 11,
    "start_time": "2021-08-03T12:31:02.207Z"
   },
   {
    "duration": 15,
    "start_time": "2021-08-03T12:31:02.220Z"
   },
   {
    "duration": 49,
    "start_time": "2021-08-03T12:31:02.238Z"
   },
   {
    "duration": 11,
    "start_time": "2021-08-03T12:31:02.290Z"
   },
   {
    "duration": 10,
    "start_time": "2021-08-03T12:31:02.309Z"
   },
   {
    "duration": 26,
    "start_time": "2021-08-03T12:31:02.323Z"
   },
   {
    "duration": 44,
    "start_time": "2021-08-03T12:31:02.352Z"
   },
   {
    "duration": 1163,
    "start_time": "2021-08-03T12:31:02.399Z"
   },
   {
    "duration": 12,
    "start_time": "2021-08-03T12:31:03.565Z"
   },
   {
    "duration": 27,
    "start_time": "2021-08-03T12:31:03.586Z"
   },
   {
    "duration": 779,
    "start_time": "2021-08-03T12:31:03.616Z"
   },
   {
    "duration": 16,
    "start_time": "2021-08-03T12:31:04.397Z"
   },
   {
    "duration": 41,
    "start_time": "2021-08-03T12:31:04.415Z"
   },
   {
    "duration": 4704,
    "start_time": "2021-08-03T12:31:04.459Z"
   },
   {
    "duration": 352,
    "start_time": "2021-08-03T12:31:09.165Z"
   },
   {
    "duration": 3255,
    "start_time": "2021-08-03T12:31:09.520Z"
   },
   {
    "duration": 178,
    "start_time": "2021-08-03T12:31:12.777Z"
   },
   {
    "duration": 8077,
    "start_time": "2021-08-03T12:31:12.958Z"
   },
   {
    "duration": 16,
    "start_time": "2021-08-03T12:31:21.037Z"
   },
   {
    "duration": 33,
    "start_time": "2021-08-03T12:31:21.055Z"
   },
   {
    "duration": 16,
    "start_time": "2021-08-03T12:31:21.090Z"
   },
   {
    "duration": 8241,
    "start_time": "2021-08-03T12:31:21.108Z"
   },
   {
    "duration": 4720,
    "start_time": "2021-08-03T12:31:29.351Z"
   },
   {
    "duration": 15,
    "start_time": "2021-08-03T12:31:34.073Z"
   },
   {
    "duration": 12037,
    "start_time": "2021-08-03T12:31:34.091Z"
   },
   {
    "duration": 26,
    "start_time": "2021-08-03T12:31:46.131Z"
   },
   {
    "duration": 45,
    "start_time": "2021-08-03T12:31:46.159Z"
   },
   {
    "duration": 9,
    "start_time": "2021-08-03T12:31:46.206Z"
   },
   {
    "duration": 905,
    "start_time": "2021-08-03T12:31:46.217Z"
   },
   {
    "duration": 8,
    "start_time": "2021-08-03T12:31:47.124Z"
   },
   {
    "duration": 258,
    "start_time": "2021-08-03T12:31:47.134Z"
   },
   {
    "duration": 5,
    "start_time": "2021-08-03T12:31:47.395Z"
   },
   {
    "duration": 18,
    "start_time": "2021-08-03T12:31:47.403Z"
   },
   {
    "duration": 20,
    "start_time": "2021-08-03T12:31:47.424Z"
   },
   {
    "duration": 62,
    "start_time": "2021-08-03T12:31:47.447Z"
   },
   {
    "duration": 26,
    "start_time": "2021-08-03T12:31:47.511Z"
   },
   {
    "duration": 16,
    "start_time": "2021-08-03T12:31:47.539Z"
   },
   {
    "duration": 5,
    "start_time": "2021-08-03T12:31:47.586Z"
   },
   {
    "duration": 73,
    "start_time": "2021-08-03T12:31:47.593Z"
   },
   {
    "duration": 27,
    "start_time": "2021-08-03T12:31:47.669Z"
   },
   {
    "duration": 25,
    "start_time": "2021-08-03T12:31:47.698Z"
   },
   {
    "duration": 82,
    "start_time": "2021-08-03T12:31:47.725Z"
   },
   {
    "duration": 3,
    "start_time": "2021-08-03T12:31:47.809Z"
   },
   {
    "duration": 35,
    "start_time": "2021-08-03T12:31:47.815Z"
   },
   {
    "duration": 5,
    "start_time": "2021-08-03T12:31:47.853Z"
   },
   {
    "duration": 227,
    "start_time": "2021-08-03T12:31:47.861Z"
   },
   {
    "duration": 45,
    "start_time": "2021-08-03T12:31:48.090Z"
   },
   {
    "duration": 9,
    "start_time": "2021-08-03T12:31:48.138Z"
   },
   {
    "duration": 44,
    "start_time": "2021-08-03T12:31:48.150Z"
   },
   {
    "duration": 21,
    "start_time": "2021-08-03T12:31:48.201Z"
   },
   {
    "duration": 566,
    "start_time": "2021-08-03T12:31:48.224Z"
   },
   {
    "duration": 211,
    "start_time": "2021-08-03T12:31:48.794Z"
   },
   {
    "duration": 425979,
    "start_time": "2021-08-03T12:31:49.008Z"
   },
   {
    "duration": 25,
    "start_time": "2021-08-03T12:38:54.990Z"
   },
   {
    "duration": 3906,
    "start_time": "2021-08-03T12:38:55.018Z"
   },
   {
    "duration": 548,
    "start_time": "2021-08-03T12:40:10.891Z"
   },
   {
    "duration": 4373,
    "start_time": "2021-08-03T12:40:34.838Z"
   },
   {
    "duration": 1649,
    "start_time": "2021-08-03T12:40:39.215Z"
   },
   {
    "duration": 230,
    "start_time": "2021-08-03T12:40:40.868Z"
   },
   {
    "duration": 48,
    "start_time": "2021-08-03T12:40:41.101Z"
   },
   {
    "duration": 9,
    "start_time": "2021-08-03T12:40:41.151Z"
   },
   {
    "duration": 44,
    "start_time": "2021-08-03T12:40:41.163Z"
   },
   {
    "duration": 15,
    "start_time": "2021-08-03T12:40:41.210Z"
   },
   {
    "duration": 20,
    "start_time": "2021-08-03T12:40:41.229Z"
   },
   {
    "duration": 51,
    "start_time": "2021-08-03T12:40:41.252Z"
   },
   {
    "duration": 210,
    "start_time": "2021-08-03T12:40:41.306Z"
   },
   {
    "duration": 979,
    "start_time": "2021-08-03T12:40:41.518Z"
   },
   {
    "duration": 17,
    "start_time": "2021-08-03T12:40:42.501Z"
   },
   {
    "duration": 16,
    "start_time": "2021-08-03T12:40:42.521Z"
   },
   {
    "duration": 7,
    "start_time": "2021-08-03T12:40:42.540Z"
   },
   {
    "duration": 74,
    "start_time": "2021-08-03T12:40:42.549Z"
   },
   {
    "duration": 10306,
    "start_time": "2021-08-03T12:40:42.626Z"
   },
   {
    "duration": 8,
    "start_time": "2021-08-03T12:40:52.935Z"
   },
   {
    "duration": 510,
    "start_time": "2021-08-03T12:40:52.945Z"
   },
   {
    "duration": 28,
    "start_time": "2021-08-03T12:40:53.458Z"
   },
   {
    "duration": 16,
    "start_time": "2021-08-03T12:40:53.495Z"
   },
   {
    "duration": 31,
    "start_time": "2021-08-03T12:40:53.514Z"
   },
   {
    "duration": 49,
    "start_time": "2021-08-03T12:40:53.549Z"
   },
   {
    "duration": 11,
    "start_time": "2021-08-03T12:40:53.606Z"
   },
   {
    "duration": 12,
    "start_time": "2021-08-03T12:40:53.622Z"
   },
   {
    "duration": 56,
    "start_time": "2021-08-03T12:40:53.636Z"
   },
   {
    "duration": 1252,
    "start_time": "2021-08-03T12:40:53.695Z"
   },
   {
    "duration": 14,
    "start_time": "2021-08-03T12:40:54.949Z"
   },
   {
    "duration": 42,
    "start_time": "2021-08-03T12:40:54.967Z"
   },
   {
    "duration": 813,
    "start_time": "2021-08-03T12:40:55.012Z"
   },
   {
    "duration": 17,
    "start_time": "2021-08-03T12:40:55.828Z"
   },
   {
    "duration": 45,
    "start_time": "2021-08-03T12:40:55.848Z"
   },
   {
    "duration": 4947,
    "start_time": "2021-08-03T12:40:55.896Z"
   },
   {
    "duration": 370,
    "start_time": "2021-08-03T12:41:00.845Z"
   },
   {
    "duration": 3483,
    "start_time": "2021-08-03T12:41:01.218Z"
   },
   {
    "duration": 189,
    "start_time": "2021-08-03T12:41:04.704Z"
   },
   {
    "duration": 8381,
    "start_time": "2021-08-03T12:41:04.896Z"
   },
   {
    "duration": 19,
    "start_time": "2021-08-03T12:41:13.285Z"
   },
   {
    "duration": 12,
    "start_time": "2021-08-03T12:41:13.307Z"
   },
   {
    "duration": 13,
    "start_time": "2021-08-03T12:41:13.322Z"
   },
   {
    "duration": 8393,
    "start_time": "2021-08-03T12:41:13.337Z"
   },
   {
    "duration": 4940,
    "start_time": "2021-08-03T12:41:21.732Z"
   },
   {
    "duration": 20,
    "start_time": "2021-08-03T12:41:26.674Z"
   },
   {
    "duration": 12317,
    "start_time": "2021-08-03T12:41:26.697Z"
   },
   {
    "duration": 25,
    "start_time": "2021-08-03T12:41:39.016Z"
   },
   {
    "duration": 58,
    "start_time": "2021-08-03T12:41:39.044Z"
   },
   {
    "duration": 9,
    "start_time": "2021-08-03T12:41:39.105Z"
   },
   {
    "duration": 948,
    "start_time": "2021-08-03T12:41:39.116Z"
   },
   {
    "duration": 9,
    "start_time": "2021-08-03T12:41:40.066Z"
   },
   {
    "duration": 303,
    "start_time": "2021-08-03T12:41:40.088Z"
   },
   {
    "duration": 7,
    "start_time": "2021-08-03T12:41:40.393Z"
   },
   {
    "duration": 18,
    "start_time": "2021-08-03T12:41:40.403Z"
   },
   {
    "duration": 20,
    "start_time": "2021-08-03T12:41:40.423Z"
   },
   {
    "duration": 68,
    "start_time": "2021-08-03T12:41:40.445Z"
   },
   {
    "duration": 26,
    "start_time": "2021-08-03T12:41:40.515Z"
   },
   {
    "duration": 18,
    "start_time": "2021-08-03T12:41:40.543Z"
   },
   {
    "duration": 7,
    "start_time": "2021-08-03T12:41:40.593Z"
   },
   {
    "duration": 73,
    "start_time": "2021-08-03T12:41:40.602Z"
   },
   {
    "duration": 16,
    "start_time": "2021-08-03T12:41:40.694Z"
   },
   {
    "duration": 25,
    "start_time": "2021-08-03T12:41:40.713Z"
   },
   {
    "duration": 82,
    "start_time": "2021-08-03T12:41:40.740Z"
   },
   {
    "duration": 3,
    "start_time": "2021-08-03T12:41:40.825Z"
   },
   {
    "duration": 30,
    "start_time": "2021-08-03T12:41:40.830Z"
   },
   {
    "duration": 27,
    "start_time": "2021-08-03T12:41:40.863Z"
   },
   {
    "duration": 211,
    "start_time": "2021-08-03T12:41:40.893Z"
   },
   {
    "duration": 47,
    "start_time": "2021-08-03T12:41:41.107Z"
   },
   {
    "duration": 38,
    "start_time": "2021-08-03T12:41:41.157Z"
   },
   {
    "duration": 19,
    "start_time": "2021-08-03T12:41:41.198Z"
   },
   {
    "duration": 21,
    "start_time": "2021-08-03T12:41:41.227Z"
   },
   {
    "duration": 1039,
    "start_time": "2021-08-03T12:41:41.252Z"
   },
   {
    "duration": 116,
    "start_time": "2021-08-03T12:41:42.295Z"
   },
   {
    "duration": 507777,
    "start_time": "2021-08-03T12:41:42.414Z"
   },
   {
    "duration": 19,
    "start_time": "2021-08-03T12:50:10.194Z"
   },
   {
    "duration": 3353,
    "start_time": "2021-08-03T12:50:10.216Z"
   }
  ],
  "kernelspec": {
   "display_name": "Python 3 (ipykernel)",
   "language": "python",
   "name": "python3"
  },
  "language_info": {
   "codemirror_mode": {
    "name": "ipython",
    "version": 3
   },
   "file_extension": ".py",
   "mimetype": "text/x-python",
   "name": "python",
   "nbconvert_exporter": "python",
   "pygments_lexer": "ipython3",
   "version": "3.8.8"
  },
  "toc": {
   "base_numbering": 1,
   "nav_menu": {},
   "number_sections": true,
   "sideBar": true,
   "skip_h1_title": true,
   "title_cell": "Table of Contents",
   "title_sidebar": "Contents",
   "toc_cell": false,
   "toc_position": {},
   "toc_section_display": true,
   "toc_window_display": false
  }
 },
 "nbformat": 4,
 "nbformat_minor": 4
}
