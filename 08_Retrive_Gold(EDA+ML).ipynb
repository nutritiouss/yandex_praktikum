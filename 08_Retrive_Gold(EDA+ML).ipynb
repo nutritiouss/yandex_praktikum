{
 "cells": [
  {
   "cell_type": "markdown",
   "metadata": {},
   "source": [
    "# Восстановление золота из руды"
   ]
  },
  {
   "cell_type": "markdown",
   "metadata": {},
   "source": [
    "Подготовьте прототип модели машинного обучения для «Цифры». Компания разрабатывает решения для эффективной работы промышленных предприятий.\n",
    "\n",
    "Модель должна предсказать коэффициент восстановления золота из золотосодержащей руды. Используйте данные с параметрами добычи и очистки. \n",
    "\n",
    "Модель поможет оптимизировать производство, чтобы не запускать предприятие с убыточными характеристиками.\n",
    "\n",
    "Вам нужно:\n",
    "\n",
    "1. Подготовить данные;\n",
    "2. Провести исследовательский анализ данных;\n",
    "3. Построить и обучить модель.\n",
    "\n",
    "Чтобы выполнить проект, обращайтесь к библиотекам *pandas*, *matplotlib* и *sklearn.* Вам поможет их документация.\n",
    "\n",
    "### Описание данных\n",
    "Данные индексируются датой и временем получения информации (признак date). Соседние по времени параметры часто похожи.\n",
    "Некоторые параметры недоступны, потому что замеряются и/или рассчитываются значительно позже. Из-за этого в тестовой выборке отсутствуют некоторые признаки, которые могут быть в обучающей. Также в тестовом наборе нет целевых признаков.\n",
    "Исходный датасет содержит обучающую и тестовую выборки со всеми признаками.\n",
    "В вашем распоряжении сырые данные: их просто выгрузили из хранилища. Прежде чем приступить к построению модели, проверьте по нашей инструкции их на корректность.\n",
    "\n"
   ]
  },
  {
   "cell_type": "markdown",
   "metadata": {},
   "source": [
    "## Подготовка данных"
   ]
  },
  {
   "cell_type": "markdown",
   "metadata": {},
   "source": [
    "### Откроем данные, посмотрим на них в разных разрезах"
   ]
  },
  {
   "cell_type": "code",
   "execution_count": 2,
   "metadata": {},
   "outputs": [],
   "source": [
    "import pandas as pd\n",
    "import numpy as np\n",
    "from IPython.display import display \n",
    "\n",
    "import matplotlib.pyplot as plt\n",
    "from datetime import date\n",
    "import seaborn as sns\n",
    "%matplotlib inline\n",
    "\n",
    "from sklearn.metrics import roc_auc_score,f1_score,precision_score,recall_score,accuracy_score\n",
    "from sklearn.metrics import mean_absolute_error,r2_score\n",
    "from sklearn.model_selection import cross_val_score\n",
    "from sklearn.linear_model  import LinearRegression\n",
    "from sklearn.tree import DecisionTreeRegressor\n",
    "from sklearn.ensemble import RandomForestRegressor\n",
    "from sklearn.metrics import make_scorer\n",
    "from sklearn.dummy import DummyRegressor\n",
    "from sklearn.impute import KNNImputer\n",
    "\n",
    "# Формат представления чисел с плавающей точкой в таблицах\n",
    "pd.options.display.float_format = '{:,.2f}'.format\n",
    "\n",
    "# увеличим дефолтный размер графиков\n",
    "from pylab import rcParams\n",
    "rcParams[\"figure.figsize\"] = 8, 5\n",
    "\n",
    "#Осуществим подавление вывода  ошибок FutureWarning на этапе 2.1 нашей работы\n",
    "import warnings\n",
    "warnings.simplefilter(action='ignore', category=FutureWarning)"
   ]
  },
  {
   "cell_type": "code",
   "execution_count": 3,
   "metadata": {},
   "outputs": [
    {
     "name": "stdout",
     "output_type": "stream",
     "text": [
      "(16860, 87)\n",
      "(5856, 53)\n",
      "(22716, 87)\n"
     ]
    }
   ],
   "source": [
    "#считаем данные\n",
    "full = pd.read_csv('/datasets/gold_recovery_full.csv')\n",
    "test = pd.read_csv('/datasets/gold_recovery_test.csv')\n",
    "train = pd.read_csv('/datasets/gold_recovery_train.csv')\n",
    "\n",
    "#посмотрим размер датасэтов\n",
    "for df in train,test,full:\n",
    "    print(df.shape)"
   ]
  },
  {
   "cell_type": "code",
   "execution_count": 4,
   "metadata": {
    "scrolled": true
   },
   "outputs": [
    {
     "name": "stdout",
     "output_type": "stream",
     "text": [
      "0\n",
      "0\n",
      "0\n"
     ]
    }
   ],
   "source": [
    "#проверим на дубликаты датасэты\n",
    "for df in train,test,full:\n",
    "    print(df.duplicated().sum())   "
   ]
  },
  {
   "cell_type": "code",
   "execution_count": 5,
   "metadata": {},
   "outputs": [
    {
     "name": "stdout",
     "output_type": "stream",
     "text": [
      "['date', 'primary_cleaner.input.feed_size']\n"
     ]
    }
   ],
   "source": [
    "#посмотрим какие колоники у нас без пропусков\n",
    "def na_columns(df):\n",
    "    na_columns=[]\n",
    "    for column in df.columns:\n",
    "        if df[column].isna().sum()==0:\n",
    "            na_columns.append(column)\n",
    "    print(na_columns)\n",
    "    return na_columns\n",
    "na_columns_train = na_columns(train)   "
   ]
  },
  {
   "cell_type": "markdown",
   "metadata": {},
   "source": [
    "Дубликаты в датасэтах не найдены не найдены. У нас всего 2 колонки без пропусков ['date', 'primary_cleaner.input.feed_size']"
   ]
  },
  {
   "cell_type": "markdown",
   "metadata": {},
   "source": [
    "### 1.2 Проверим, что эффективность обогащения рассчитана правильно.\n",
    "Вычислим её на обучающей выборке для признака ``rougher.output.recovery``. Найдем MAE между вашими расчётами и значением признака. Опишем выводы."
   ]
  },
  {
   "cell_type": "code",
   "execution_count": 6,
   "metadata": {},
   "outputs": [
    {
     "name": "stdout",
     "output_type": "stream",
     "text": [
      "Количество делений на ноль составило  63\n",
      "Количество прогнозов с NaN получилось 2313\n",
      "Количество NaN в эффективноси обогащения чернового концентрата  2573\n"
     ]
    }
   ],
   "source": [
    "def recovery_calc(row):\n",
    "    C,F,T = row['rougher.output.concentrate_au'],row['rougher.input.feed_au'],row['rougher.output.tail_au']\n",
    "    if F*(C-T) !=0: \n",
    "        recovery = (C*(F-T))/(F*(C-T))*100\n",
    "    else:\n",
    "        recovery = np.nan\n",
    "        global CONUNT\n",
    "        CONUNT+=1\n",
    "    return recovery\n",
    "CONUNT = 0 \n",
    "train['rougher.output.recovery_calc'] = train.apply(recovery_calc,axis=1)\n",
    "print('Количество делений на ноль составило ',CONUNT)\n",
    "# количество прогнозов с NaN получилось\n",
    "print ('Количество прогнозов с NaN получилось',train['rougher.output.recovery_calc'].isna().sum())\n",
    "print ('Количество NaN в эффективноси обогащения чернового концентрата ',train['rougher.output.recovery'].isna().sum())"
   ]
  },
  {
   "cell_type": "code",
   "execution_count": 7,
   "metadata": {},
   "outputs": [
    {
     "name": "stdout",
     "output_type": "stream",
     "text": [
      "Количество прогнозов с NaN получилось 0\n",
      "Количество NaN в эффективноси обогащения чернового концентрата  0\n"
     ]
    },
    {
     "data": {
      "text/plain": [
       "9.444891926100695e-15"
      ]
     },
     "execution_count": 7,
     "metadata": {},
     "output_type": "execute_result"
    }
   ],
   "source": [
    "recovery_calc = train.copy()\n",
    "recovery_calc.dropna(subset = ['rougher.output.recovery_calc','rougher.output.recovery'],inplace=True)\n",
    "print ('Количество прогнозов с NaN получилось',recovery_calc['rougher.output.recovery_calc'].isna().sum())\n",
    "print ('Количество NaN в эффективноси обогащения чернового концентрата ',recovery_calc['rougher.output.recovery'].isna().sum())\n",
    "recovery_calc[['rougher.output.recovery','rougher.output.recovery_calc']]\n",
    "# вычислим значение метрики МАЕ, посмотрим на сколько точно была вычислена эффективность обогащения чернового концентрата \n",
    "mean_absolute_error(recovery_calc['rougher.output.recovery'],recovery_calc['rougher.output.recovery_calc'])"
   ]
  },
  {
   "cell_type": "markdown",
   "metadata": {},
   "source": [
    "Значение МАЕ очень невысокое, значит в исходных данных эффективность обогащения цернового концентрата посчитана верно. Можно продолжать дальше. "
   ]
  },
  {
   "cell_type": "markdown",
   "metadata": {},
   "source": [
    "### 1.3. Проанализируем признаки, недоступные в тестовой выборке. \n"
   ]
  },
  {
   "cell_type": "code",
   "execution_count": 8,
   "metadata": {},
   "outputs": [
    {
     "data": {
      "text/html": [
       "<div>\n",
       "<style scoped>\n",
       "    .dataframe tbody tr th:only-of-type {\n",
       "        vertical-align: middle;\n",
       "    }\n",
       "\n",
       "    .dataframe tbody tr th {\n",
       "        vertical-align: top;\n",
       "    }\n",
       "\n",
       "    .dataframe thead th {\n",
       "        text-align: right;\n",
       "    }\n",
       "</style>\n",
       "<table border=\"1\" class=\"dataframe\">\n",
       "  <thead>\n",
       "    <tr style=\"text-align: right;\">\n",
       "      <th></th>\n",
       "      <th>rougher.output.recovery_calc</th>\n",
       "    </tr>\n",
       "  </thead>\n",
       "  <tbody>\n",
       "    <tr>\n",
       "      <td>0</td>\n",
       "      <td>87.11</td>\n",
       "    </tr>\n",
       "    <tr>\n",
       "      <td>1</td>\n",
       "      <td>86.84</td>\n",
       "    </tr>\n",
       "    <tr>\n",
       "      <td>2</td>\n",
       "      <td>86.84</td>\n",
       "    </tr>\n",
       "    <tr>\n",
       "      <td>3</td>\n",
       "      <td>87.23</td>\n",
       "    </tr>\n",
       "    <tr>\n",
       "      <td>4</td>\n",
       "      <td>86.69</td>\n",
       "    </tr>\n",
       "    <tr>\n",
       "      <td>...</td>\n",
       "      <td>...</td>\n",
       "    </tr>\n",
       "    <tr>\n",
       "      <td>16855</td>\n",
       "      <td>89.57</td>\n",
       "    </tr>\n",
       "    <tr>\n",
       "      <td>16856</td>\n",
       "      <td>87.72</td>\n",
       "    </tr>\n",
       "    <tr>\n",
       "      <td>16857</td>\n",
       "      <td>88.89</td>\n",
       "    </tr>\n",
       "    <tr>\n",
       "      <td>16858</td>\n",
       "      <td>89.86</td>\n",
       "    </tr>\n",
       "    <tr>\n",
       "      <td>16859</td>\n",
       "      <td>89.51</td>\n",
       "    </tr>\n",
       "  </tbody>\n",
       "</table>\n",
       "<p>16860 rows × 1 columns</p>\n",
       "</div>"
      ],
      "text/plain": [
       "       rougher.output.recovery_calc\n",
       "0                             87.11\n",
       "1                             86.84\n",
       "2                             86.84\n",
       "3                             87.23\n",
       "4                             86.69\n",
       "...                             ...\n",
       "16855                         89.57\n",
       "16856                         87.72\n",
       "16857                         88.89\n",
       "16858                         89.86\n",
       "16859                         89.51\n",
       "\n",
       "[16860 rows x 1 columns]"
      ]
     },
     "metadata": {},
     "output_type": "display_data"
    },
    {
     "data": {
      "text/html": [
       "<div>\n",
       "<style scoped>\n",
       "    .dataframe tbody tr th:only-of-type {\n",
       "        vertical-align: middle;\n",
       "    }\n",
       "\n",
       "    .dataframe tbody tr th {\n",
       "        vertical-align: top;\n",
       "    }\n",
       "\n",
       "    .dataframe thead th {\n",
       "        text-align: right;\n",
       "    }\n",
       "</style>\n",
       "<table border=\"1\" class=\"dataframe\">\n",
       "  <thead>\n",
       "    <tr style=\"text-align: right;\">\n",
       "      <th></th>\n",
       "      <th>rougher.calculation.floatbank11_sulfate_to_au_feed</th>\n",
       "      <th>rougher.output.tail_pb</th>\n",
       "      <th>rougher.output.recovery_calc</th>\n",
       "      <th>rougher.calculation.au_pb_ratio</th>\n",
       "      <th>primary_cleaner.output.concentrate_ag</th>\n",
       "      <th>primary_cleaner.output.tail_pb</th>\n",
       "      <th>final.output.tail_sol</th>\n",
       "      <th>final.output.concentrate_ag</th>\n",
       "      <th>final.output.tail_au</th>\n",
       "      <th>final.output.tail_pb</th>\n",
       "      <th>...</th>\n",
       "      <th>rougher.calculation.floatbank10_sulfate_to_au_feed</th>\n",
       "      <th>final.output.recovery</th>\n",
       "      <th>final.output.concentrate_pb</th>\n",
       "      <th>rougher.output.recovery</th>\n",
       "      <th>secondary_cleaner.output.tail_au</th>\n",
       "      <th>secondary_cleaner.output.tail_ag</th>\n",
       "      <th>primary_cleaner.output.tail_ag</th>\n",
       "      <th>rougher.output.tail_au</th>\n",
       "      <th>rougher.output.tail_sol</th>\n",
       "      <th>primary_cleaner.output.tail_sol</th>\n",
       "    </tr>\n",
       "  </thead>\n",
       "  <tbody>\n",
       "    <tr>\n",
       "      <td>0</td>\n",
       "      <td>3,520.34</td>\n",
       "      <td>0.51</td>\n",
       "      <td>87.11</td>\n",
       "      <td>2.84</td>\n",
       "      <td>8.55</td>\n",
       "      <td>2.53</td>\n",
       "      <td>16.90</td>\n",
       "      <td>6.06</td>\n",
       "      <td>2.14</td>\n",
       "      <td>0.90</td>\n",
       "      <td>...</td>\n",
       "      <td>3,481.78</td>\n",
       "      <td>70.54</td>\n",
       "      <td>9.89</td>\n",
       "      <td>87.11</td>\n",
       "      <td>2.61</td>\n",
       "      <td>14.50</td>\n",
       "      <td>14.94</td>\n",
       "      <td>1.17</td>\n",
       "      <td>19.15</td>\n",
       "      <td>7.48</td>\n",
       "    </tr>\n",
       "    <tr>\n",
       "      <td>1</td>\n",
       "      <td>3,489.98</td>\n",
       "      <td>0.54</td>\n",
       "      <td>86.84</td>\n",
       "      <td>2.86</td>\n",
       "      <td>8.56</td>\n",
       "      <td>3.05</td>\n",
       "      <td>16.63</td>\n",
       "      <td>6.03</td>\n",
       "      <td>2.22</td>\n",
       "      <td>0.93</td>\n",
       "      <td>...</td>\n",
       "      <td>3,498.37</td>\n",
       "      <td>69.27</td>\n",
       "      <td>9.97</td>\n",
       "      <td>86.84</td>\n",
       "      <td>2.49</td>\n",
       "      <td>14.27</td>\n",
       "      <td>16.25</td>\n",
       "      <td>1.18</td>\n",
       "      <td>18.97</td>\n",
       "      <td>6.73</td>\n",
       "    </tr>\n",
       "    <tr>\n",
       "      <td>2</td>\n",
       "      <td>3,502.36</td>\n",
       "      <td>0.55</td>\n",
       "      <td>86.84</td>\n",
       "      <td>2.95</td>\n",
       "      <td>8.60</td>\n",
       "      <td>3.12</td>\n",
       "      <td>16.21</td>\n",
       "      <td>6.06</td>\n",
       "      <td>2.26</td>\n",
       "      <td>0.95</td>\n",
       "      <td>...</td>\n",
       "      <td>3,495.35</td>\n",
       "      <td>68.12</td>\n",
       "      <td>10.21</td>\n",
       "      <td>86.84</td>\n",
       "      <td>2.46</td>\n",
       "      <td>14.12</td>\n",
       "      <td>16.49</td>\n",
       "      <td>1.16</td>\n",
       "      <td>18.81</td>\n",
       "      <td>6.47</td>\n",
       "    </tr>\n",
       "    <tr>\n",
       "      <td>3</td>\n",
       "      <td>3,499.16</td>\n",
       "      <td>0.54</td>\n",
       "      <td>87.23</td>\n",
       "      <td>3.00</td>\n",
       "      <td>7.22</td>\n",
       "      <td>2.96</td>\n",
       "      <td>16.53</td>\n",
       "      <td>6.05</td>\n",
       "      <td>2.15</td>\n",
       "      <td>0.88</td>\n",
       "      <td>...</td>\n",
       "      <td>3,498.58</td>\n",
       "      <td>68.35</td>\n",
       "      <td>9.98</td>\n",
       "      <td>87.23</td>\n",
       "      <td>2.32</td>\n",
       "      <td>13.73</td>\n",
       "      <td>16.02</td>\n",
       "      <td>1.08</td>\n",
       "      <td>19.33</td>\n",
       "      <td>6.84</td>\n",
       "    </tr>\n",
       "    <tr>\n",
       "      <td>4</td>\n",
       "      <td>3,506.68</td>\n",
       "      <td>0.52</td>\n",
       "      <td>86.69</td>\n",
       "      <td>3.17</td>\n",
       "      <td>9.09</td>\n",
       "      <td>3.11</td>\n",
       "      <td>16.53</td>\n",
       "      <td>6.15</td>\n",
       "      <td>2.06</td>\n",
       "      <td>0.79</td>\n",
       "      <td>...</td>\n",
       "      <td>3,494.80</td>\n",
       "      <td>66.93</td>\n",
       "      <td>10.14</td>\n",
       "      <td>86.69</td>\n",
       "      <td>2.33</td>\n",
       "      <td>14.08</td>\n",
       "      <td>16.48</td>\n",
       "      <td>1.01</td>\n",
       "      <td>19.27</td>\n",
       "      <td>6.55</td>\n",
       "    </tr>\n",
       "    <tr>\n",
       "      <td>...</td>\n",
       "      <td>...</td>\n",
       "      <td>...</td>\n",
       "      <td>...</td>\n",
       "      <td>...</td>\n",
       "      <td>...</td>\n",
       "      <td>...</td>\n",
       "      <td>...</td>\n",
       "      <td>...</td>\n",
       "      <td>...</td>\n",
       "      <td>...</td>\n",
       "      <td>...</td>\n",
       "      <td>...</td>\n",
       "      <td>...</td>\n",
       "      <td>...</td>\n",
       "      <td>...</td>\n",
       "      <td>...</td>\n",
       "      <td>...</td>\n",
       "      <td>...</td>\n",
       "      <td>...</td>\n",
       "      <td>...</td>\n",
       "      <td>...</td>\n",
       "    </tr>\n",
       "    <tr>\n",
       "      <td>16855</td>\n",
       "      <td>2,499.18</td>\n",
       "      <td>0.61</td>\n",
       "      <td>89.57</td>\n",
       "      <td>1.16</td>\n",
       "      <td>6.56</td>\n",
       "      <td>6.53</td>\n",
       "      <td>10.40</td>\n",
       "      <td>3.22</td>\n",
       "      <td>1.53</td>\n",
       "      <td>3.14</td>\n",
       "      <td>...</td>\n",
       "      <td>2,497.65</td>\n",
       "      <td>73.76</td>\n",
       "      <td>11.36</td>\n",
       "      <td>89.57</td>\n",
       "      <td>0.00</td>\n",
       "      <td>0.00</td>\n",
       "      <td>22.85</td>\n",
       "      <td>0.75</td>\n",
       "      <td>16.67</td>\n",
       "      <td>3.93</td>\n",
       "    </tr>\n",
       "    <tr>\n",
       "      <td>16856</td>\n",
       "      <td>2,518.55</td>\n",
       "      <td>0.65</td>\n",
       "      <td>87.72</td>\n",
       "      <td>1.17</td>\n",
       "      <td>6.61</td>\n",
       "      <td>6.63</td>\n",
       "      <td>10.55</td>\n",
       "      <td>3.20</td>\n",
       "      <td>1.61</td>\n",
       "      <td>3.13</td>\n",
       "      <td>...</td>\n",
       "      <td>2,614.40</td>\n",
       "      <td>69.05</td>\n",
       "      <td>11.35</td>\n",
       "      <td>87.72</td>\n",
       "      <td>0.00</td>\n",
       "      <td>0.00</td>\n",
       "      <td>23.00</td>\n",
       "      <td>0.77</td>\n",
       "      <td>16.96</td>\n",
       "      <td>4.09</td>\n",
       "    </tr>\n",
       "    <tr>\n",
       "      <td>16857</td>\n",
       "      <td>2,510.14</td>\n",
       "      <td>0.64</td>\n",
       "      <td>88.89</td>\n",
       "      <td>1.13</td>\n",
       "      <td>7.13</td>\n",
       "      <td>6.28</td>\n",
       "      <td>11.12</td>\n",
       "      <td>3.11</td>\n",
       "      <td>1.60</td>\n",
       "      <td>2.91</td>\n",
       "      <td>...</td>\n",
       "      <td>2,510.81</td>\n",
       "      <td>67.00</td>\n",
       "      <td>11.43</td>\n",
       "      <td>88.89</td>\n",
       "      <td>0.00</td>\n",
       "      <td>0.00</td>\n",
       "      <td>22.30</td>\n",
       "      <td>0.69</td>\n",
       "      <td>18.32</td>\n",
       "      <td>4.46</td>\n",
       "    </tr>\n",
       "    <tr>\n",
       "      <td>16858</td>\n",
       "      <td>2,507.72</td>\n",
       "      <td>0.63</td>\n",
       "      <td>89.86</td>\n",
       "      <td>1.12</td>\n",
       "      <td>7.49</td>\n",
       "      <td>6.25</td>\n",
       "      <td>10.46</td>\n",
       "      <td>3.37</td>\n",
       "      <td>1.60</td>\n",
       "      <td>2.82</td>\n",
       "      <td>...</td>\n",
       "      <td>2,507.57</td>\n",
       "      <td>65.52</td>\n",
       "      <td>11.63</td>\n",
       "      <td>89.86</td>\n",
       "      <td>0.00</td>\n",
       "      <td>0.00</td>\n",
       "      <td>22.71</td>\n",
       "      <td>0.57</td>\n",
       "      <td>19.42</td>\n",
       "      <td>3.56</td>\n",
       "    </tr>\n",
       "    <tr>\n",
       "      <td>16859</td>\n",
       "      <td>2,488.63</td>\n",
       "      <td>0.64</td>\n",
       "      <td>89.51</td>\n",
       "      <td>1.13</td>\n",
       "      <td>7.54</td>\n",
       "      <td>6.08</td>\n",
       "      <td>10.65</td>\n",
       "      <td>3.60</td>\n",
       "      <td>1.39</td>\n",
       "      <td>2.52</td>\n",
       "      <td>...</td>\n",
       "      <td>2,487.48</td>\n",
       "      <td>70.28</td>\n",
       "      <td>11.74</td>\n",
       "      <td>89.51</td>\n",
       "      <td>0.00</td>\n",
       "      <td>0.00</td>\n",
       "      <td>22.74</td>\n",
       "      <td>0.59</td>\n",
       "      <td>19.95</td>\n",
       "      <td>3.03</td>\n",
       "    </tr>\n",
       "  </tbody>\n",
       "</table>\n",
       "<p>16860 rows × 35 columns</p>\n",
       "</div>"
      ],
      "text/plain": [
       "       rougher.calculation.floatbank11_sulfate_to_au_feed  \\\n",
       "0                                               3,520.34    \n",
       "1                                               3,489.98    \n",
       "2                                               3,502.36    \n",
       "3                                               3,499.16    \n",
       "4                                               3,506.68    \n",
       "...                                                  ...    \n",
       "16855                                           2,499.18    \n",
       "16856                                           2,518.55    \n",
       "16857                                           2,510.14    \n",
       "16858                                           2,507.72    \n",
       "16859                                           2,488.63    \n",
       "\n",
       "       rougher.output.tail_pb  rougher.output.recovery_calc  \\\n",
       "0                        0.51                         87.11   \n",
       "1                        0.54                         86.84   \n",
       "2                        0.55                         86.84   \n",
       "3                        0.54                         87.23   \n",
       "4                        0.52                         86.69   \n",
       "...                       ...                           ...   \n",
       "16855                    0.61                         89.57   \n",
       "16856                    0.65                         87.72   \n",
       "16857                    0.64                         88.89   \n",
       "16858                    0.63                         89.86   \n",
       "16859                    0.64                         89.51   \n",
       "\n",
       "       rougher.calculation.au_pb_ratio  primary_cleaner.output.concentrate_ag  \\\n",
       "0                                 2.84                                   8.55   \n",
       "1                                 2.86                                   8.56   \n",
       "2                                 2.95                                   8.60   \n",
       "3                                 3.00                                   7.22   \n",
       "4                                 3.17                                   9.09   \n",
       "...                                ...                                    ...   \n",
       "16855                             1.16                                   6.56   \n",
       "16856                             1.17                                   6.61   \n",
       "16857                             1.13                                   7.13   \n",
       "16858                             1.12                                   7.49   \n",
       "16859                             1.13                                   7.54   \n",
       "\n",
       "       primary_cleaner.output.tail_pb  final.output.tail_sol  \\\n",
       "0                                2.53                  16.90   \n",
       "1                                3.05                  16.63   \n",
       "2                                3.12                  16.21   \n",
       "3                                2.96                  16.53   \n",
       "4                                3.11                  16.53   \n",
       "...                               ...                    ...   \n",
       "16855                            6.53                  10.40   \n",
       "16856                            6.63                  10.55   \n",
       "16857                            6.28                  11.12   \n",
       "16858                            6.25                  10.46   \n",
       "16859                            6.08                  10.65   \n",
       "\n",
       "       final.output.concentrate_ag  final.output.tail_au  \\\n",
       "0                             6.06                  2.14   \n",
       "1                             6.03                  2.22   \n",
       "2                             6.06                  2.26   \n",
       "3                             6.05                  2.15   \n",
       "4                             6.15                  2.06   \n",
       "...                            ...                   ...   \n",
       "16855                         3.22                  1.53   \n",
       "16856                         3.20                  1.61   \n",
       "16857                         3.11                  1.60   \n",
       "16858                         3.37                  1.60   \n",
       "16859                         3.60                  1.39   \n",
       "\n",
       "       final.output.tail_pb  ...  \\\n",
       "0                      0.90  ...   \n",
       "1                      0.93  ...   \n",
       "2                      0.95  ...   \n",
       "3                      0.88  ...   \n",
       "4                      0.79  ...   \n",
       "...                     ...  ...   \n",
       "16855                  3.14  ...   \n",
       "16856                  3.13  ...   \n",
       "16857                  2.91  ...   \n",
       "16858                  2.82  ...   \n",
       "16859                  2.52  ...   \n",
       "\n",
       "       rougher.calculation.floatbank10_sulfate_to_au_feed  \\\n",
       "0                                               3,481.78    \n",
       "1                                               3,498.37    \n",
       "2                                               3,495.35    \n",
       "3                                               3,498.58    \n",
       "4                                               3,494.80    \n",
       "...                                                  ...    \n",
       "16855                                           2,497.65    \n",
       "16856                                           2,614.40    \n",
       "16857                                           2,510.81    \n",
       "16858                                           2,507.57    \n",
       "16859                                           2,487.48    \n",
       "\n",
       "       final.output.recovery  final.output.concentrate_pb  \\\n",
       "0                      70.54                         9.89   \n",
       "1                      69.27                         9.97   \n",
       "2                      68.12                        10.21   \n",
       "3                      68.35                         9.98   \n",
       "4                      66.93                        10.14   \n",
       "...                      ...                          ...   \n",
       "16855                  73.76                        11.36   \n",
       "16856                  69.05                        11.35   \n",
       "16857                  67.00                        11.43   \n",
       "16858                  65.52                        11.63   \n",
       "16859                  70.28                        11.74   \n",
       "\n",
       "       rougher.output.recovery  secondary_cleaner.output.tail_au  \\\n",
       "0                        87.11                              2.61   \n",
       "1                        86.84                              2.49   \n",
       "2                        86.84                              2.46   \n",
       "3                        87.23                              2.32   \n",
       "4                        86.69                              2.33   \n",
       "...                        ...                               ...   \n",
       "16855                    89.57                              0.00   \n",
       "16856                    87.72                              0.00   \n",
       "16857                    88.89                              0.00   \n",
       "16858                    89.86                              0.00   \n",
       "16859                    89.51                              0.00   \n",
       "\n",
       "       secondary_cleaner.output.tail_ag  primary_cleaner.output.tail_ag  \\\n",
       "0                                 14.50                           14.94   \n",
       "1                                 14.27                           16.25   \n",
       "2                                 14.12                           16.49   \n",
       "3                                 13.73                           16.02   \n",
       "4                                 14.08                           16.48   \n",
       "...                                 ...                             ...   \n",
       "16855                              0.00                           22.85   \n",
       "16856                              0.00                           23.00   \n",
       "16857                              0.00                           22.30   \n",
       "16858                              0.00                           22.71   \n",
       "16859                              0.00                           22.74   \n",
       "\n",
       "       rougher.output.tail_au  rougher.output.tail_sol  \\\n",
       "0                        1.17                    19.15   \n",
       "1                        1.18                    18.97   \n",
       "2                        1.16                    18.81   \n",
       "3                        1.08                    19.33   \n",
       "4                        1.01                    19.27   \n",
       "...                       ...                      ...   \n",
       "16855                    0.75                    16.67   \n",
       "16856                    0.77                    16.96   \n",
       "16857                    0.69                    18.32   \n",
       "16858                    0.57                    19.42   \n",
       "16859                    0.59                    19.95   \n",
       "\n",
       "       primary_cleaner.output.tail_sol  \n",
       "0                                 7.48  \n",
       "1                                 6.73  \n",
       "2                                 6.47  \n",
       "3                                 6.84  \n",
       "4                                 6.55  \n",
       "...                                ...  \n",
       "16855                             3.93  \n",
       "16856                             4.09  \n",
       "16857                             4.46  \n",
       "16858                             3.56  \n",
       "16859                             3.03  \n",
       "\n",
       "[16860 rows x 35 columns]"
      ]
     },
     "metadata": {},
     "output_type": "display_data"
    },
    {
     "name": "stdout",
     "output_type": "stream",
     "text": [
      "<class 'pandas.core.frame.DataFrame'>\n",
      "RangeIndex: 16860 entries, 0 to 16859\n",
      "Data columns (total 35 columns):\n",
      "final.output.concentrate_ag                           16788 non-null float64\n",
      "final.output.concentrate_au                           16789 non-null float64\n",
      "final.output.concentrate_pb                           16788 non-null float64\n",
      "final.output.concentrate_sol                          16490 non-null float64\n",
      "final.output.recovery                                 15339 non-null float64\n",
      "final.output.tail_ag                                  16794 non-null float64\n",
      "final.output.tail_au                                  16794 non-null float64\n",
      "final.output.tail_pb                                  16677 non-null float64\n",
      "final.output.tail_sol                                 16715 non-null float64\n",
      "primary_cleaner.output.concentrate_ag                 16778 non-null float64\n",
      "primary_cleaner.output.concentrate_au                 16778 non-null float64\n",
      "primary_cleaner.output.concentrate_pb                 16502 non-null float64\n",
      "primary_cleaner.output.concentrate_sol                16224 non-null float64\n",
      "primary_cleaner.output.tail_ag                        16777 non-null float64\n",
      "primary_cleaner.output.tail_au                        16777 non-null float64\n",
      "primary_cleaner.output.tail_pb                        16761 non-null float64\n",
      "primary_cleaner.output.tail_sol                       16579 non-null float64\n",
      "rougher.calculation.au_pb_ratio                       15618 non-null float64\n",
      "rougher.calculation.floatbank10_sulfate_to_au_feed    16833 non-null float64\n",
      "rougher.calculation.floatbank11_sulfate_to_au_feed    16833 non-null float64\n",
      "rougher.calculation.sulfate_to_au_concentrate         16833 non-null float64\n",
      "rougher.output.concentrate_ag                         16778 non-null float64\n",
      "rougher.output.concentrate_au                         16778 non-null float64\n",
      "rougher.output.concentrate_pb                         16778 non-null float64\n",
      "rougher.output.concentrate_sol                        16698 non-null float64\n",
      "rougher.output.recovery                               14287 non-null float64\n",
      "rougher.output.recovery_calc                          14547 non-null float64\n",
      "rougher.output.tail_ag                                14610 non-null float64\n",
      "rougher.output.tail_au                                14611 non-null float64\n",
      "rougher.output.tail_pb                                16778 non-null float64\n",
      "rougher.output.tail_sol                               14611 non-null float64\n",
      "secondary_cleaner.output.tail_ag                      16776 non-null float64\n",
      "secondary_cleaner.output.tail_au                      16778 non-null float64\n",
      "secondary_cleaner.output.tail_pb                      16764 non-null float64\n",
      "secondary_cleaner.output.tail_sol                     14874 non-null float64\n",
      "dtypes: float64(35)\n",
      "memory usage: 4.5 MB\n",
      "None\n"
     ]
    },
    {
     "data": {
      "text/plain": [
       "'Количество признаков, которые есть в трэйне и тесте равно'"
      ]
     },
     "metadata": {},
     "output_type": "display_data"
    },
    {
     "data": {
      "text/plain": [
       "53"
      ]
     },
     "metadata": {},
     "output_type": "display_data"
    }
   ],
   "source": [
    "#Посмотрим различем между трейном и тестом\n",
    "train_set = set(train.columns.to_list())\n",
    "test_set = set(test.columns.to_list())\n",
    "full_set = set(full.columns.to_list())\n",
    "\n",
    "#сравним full и тест\n",
    "test_diff_full = list(train_set ^ full_set)\n",
    "display(train[test_diff_full])\n",
    "\n",
    "#сравним столбцы с тествовой выборкой и покажем те столбыцы в трэйне, которых нет в тесте\n",
    "test_diff_train = list(train_set ^ test_set)\n",
    "display(train[test_diff_train])\n",
    "print(train[test_diff_train].sort_index(axis=1).info())\n",
    "\n",
    "# посмотрим на столбцы, которые есть в трейне и тесте\n",
    "train_and_test = list(train_set & test_set)\n",
    "display('Количество признаков, которые есть в трэйне и тесте равно',len(train_and_test))\n",
    "\n"
   ]
  },
  {
   "cell_type": "markdown",
   "metadata": {},
   "source": [
    "Проанализируем признаки, которые нам не доступны на тесте:\n",
    "-\trougher — флотация\n",
    "    - calculation — расчётные характеристики\n",
    "        - au_pb_ratio \n",
    "        - floatbank10_sulfate_to_au_feed    \n",
    "        - floatbank11_sulfate_to_au_feed \n",
    "        - sulfate_to_au_concentrate\n",
    "    - output — параметры продукта\n",
    "        - concentrate_ag\n",
    "        - concentrate_au\n",
    "        - concentrate_au_calc\n",
    "        - concentrate_pb\n",
    "        - concentrate_sol\n",
    "        - recovery\n",
    "        - tail_ag \n",
    "        - tail_au\n",
    "-\tprimary_cleaner — первичная очистка\n",
    "    - output — параметры продукта и хвосты (tail - отвальные хвосты, т.е. отходы производства)\n",
    "        - primary_cleaner.output.concentrate_ag                 \n",
    "        - primary_cleaner.output.concentrate_au                 \n",
    "        - primary_cleaner.output.concentrate_pb                 \n",
    "        - primary_cleaner.output.concentrate_sol                \n",
    "        - primary_cleaner.output.tail_ag                        \n",
    "        - primary_cleaner.output.tail_au                        \n",
    "        - primary_cleaner.output.tail_pb                        \n",
    "        - primary_cleaner.output.tail_sol  \n",
    "-\tsecondary_cleaner — вторичная очистка\n",
    "    - output — параметры продукта\n",
    "        - secondary_cleaner.output.tail_ag                      \n",
    "        - secondary_cleaner.output.tail_au                      \n",
    "        - secondary_cleaner.output.tail_pb                      \n",
    "        - secondary_cleaner.output.tail_sol \n",
    "-\tfinal — финальные характеристики\n",
    "    - output — параметры продукта\n",
    "        - final.output.concentrate_ag                           \n",
    "        - final.output.concentrate_au                           \n",
    "        - final.output.concentrate_pb                           \n",
    "        - final.output.concentrate_sol                          \n",
    "        - final.output.recovery                                 \n",
    "        - final.output.tail_ag                                 \n",
    "        - final.output.tail_au                                  \n",
    "        - final.output.tail_pb                                  \n",
    "        - final.output.tail_sol \n",
    "\n"
   ]
  },
  {
   "cell_type": "markdown",
   "metadata": {},
   "source": [
    "Мы посмотрели на различие в данных между трейном и тестом. Выявили 34 колонки. Посмотрели что нет различий в колонках между трэйном и фуллом. По условиям задачи на тесте меньше данных, т.к.часть параметров после флотации нам не известна и эти данные нельзя будет использовать для обучения модели. \n",
    "\n",
    "В основном пропущены - ``output — параметры продукта``, которые нельзя получить сразу посл флотации.\n"
   ]
  },
  {
   "cell_type": "code",
   "execution_count": 9,
   "metadata": {},
   "outputs": [
    {
     "name": "stdout",
     "output_type": "stream",
     "text": [
      "date\n",
      "primary_cleaner.input.depressant\n",
      "primary_cleaner.input.feed_size\n",
      "primary_cleaner.input.sulfate\n",
      "primary_cleaner.input.xanthate\n",
      "primary_cleaner.state.floatbank8_a_air\n",
      "primary_cleaner.state.floatbank8_a_level\n",
      "primary_cleaner.state.floatbank8_b_air\n",
      "primary_cleaner.state.floatbank8_b_level\n",
      "primary_cleaner.state.floatbank8_c_air\n",
      "primary_cleaner.state.floatbank8_c_level\n",
      "primary_cleaner.state.floatbank8_d_air\n",
      "primary_cleaner.state.floatbank8_d_level\n",
      "rougher.input.feed_ag\n",
      "rougher.input.feed_au\n",
      "rougher.input.feed_pb\n",
      "rougher.input.feed_rate\n",
      "rougher.input.feed_size\n",
      "rougher.input.feed_sol\n",
      "rougher.input.floatbank10_sulfate\n",
      "rougher.input.floatbank10_xanthate\n",
      "rougher.input.floatbank11_sulfate\n",
      "rougher.input.floatbank11_xanthate\n",
      "rougher.state.floatbank10_a_air\n",
      "rougher.state.floatbank10_a_level\n",
      "rougher.state.floatbank10_b_air\n",
      "rougher.state.floatbank10_b_level\n",
      "rougher.state.floatbank10_c_air\n",
      "rougher.state.floatbank10_c_level\n",
      "rougher.state.floatbank10_d_air\n",
      "rougher.state.floatbank10_d_level\n",
      "rougher.state.floatbank10_e_air\n",
      "rougher.state.floatbank10_e_level\n",
      "rougher.state.floatbank10_f_air\n",
      "rougher.state.floatbank10_f_level\n",
      "secondary_cleaner.state.floatbank2_a_air\n",
      "secondary_cleaner.state.floatbank2_a_level\n",
      "secondary_cleaner.state.floatbank2_b_air\n",
      "secondary_cleaner.state.floatbank2_b_level\n",
      "secondary_cleaner.state.floatbank3_a_air\n",
      "secondary_cleaner.state.floatbank3_a_level\n",
      "secondary_cleaner.state.floatbank3_b_air\n",
      "secondary_cleaner.state.floatbank3_b_level\n",
      "secondary_cleaner.state.floatbank4_a_air\n",
      "secondary_cleaner.state.floatbank4_a_level\n",
      "secondary_cleaner.state.floatbank4_b_air\n",
      "secondary_cleaner.state.floatbank4_b_level\n",
      "secondary_cleaner.state.floatbank5_a_air\n",
      "secondary_cleaner.state.floatbank5_a_level\n",
      "secondary_cleaner.state.floatbank5_b_air\n",
      "secondary_cleaner.state.floatbank5_b_level\n",
      "secondary_cleaner.state.floatbank6_a_air\n",
      "secondary_cleaner.state.floatbank6_a_level\n"
     ]
    }
   ],
   "source": [
    "for element in sorted(list(train_set & test_set)):\n",
    "                    print(element)\n",
    "#print(list(train_set & test_set))"
   ]
  },
  {
   "cell_type": "code",
   "execution_count": 10,
   "metadata": {},
   "outputs": [
    {
     "data": {
      "text/html": [
       "<div>\n",
       "<style scoped>\n",
       "    .dataframe tbody tr th:only-of-type {\n",
       "        vertical-align: middle;\n",
       "    }\n",
       "\n",
       "    .dataframe tbody tr th {\n",
       "        vertical-align: top;\n",
       "    }\n",
       "\n",
       "    .dataframe thead th {\n",
       "        text-align: right;\n",
       "    }\n",
       "</style>\n",
       "<table border=\"1\" class=\"dataframe\">\n",
       "  <thead>\n",
       "    <tr style=\"text-align: right;\">\n",
       "      <th></th>\n",
       "      <th>date</th>\n",
       "      <th>primary_cleaner.input.sulfate</th>\n",
       "      <th>primary_cleaner.input.depressant</th>\n",
       "      <th>primary_cleaner.input.feed_size</th>\n",
       "      <th>primary_cleaner.input.xanthate</th>\n",
       "      <th>primary_cleaner.state.floatbank8_a_air</th>\n",
       "      <th>primary_cleaner.state.floatbank8_a_level</th>\n",
       "      <th>primary_cleaner.state.floatbank8_b_air</th>\n",
       "      <th>primary_cleaner.state.floatbank8_b_level</th>\n",
       "      <th>primary_cleaner.state.floatbank8_c_air</th>\n",
       "      <th>...</th>\n",
       "      <th>secondary_cleaner.state.floatbank4_b_air</th>\n",
       "      <th>secondary_cleaner.state.floatbank4_b_level</th>\n",
       "      <th>secondary_cleaner.state.floatbank5_a_air</th>\n",
       "      <th>secondary_cleaner.state.floatbank5_a_level</th>\n",
       "      <th>secondary_cleaner.state.floatbank5_b_air</th>\n",
       "      <th>secondary_cleaner.state.floatbank5_b_level</th>\n",
       "      <th>secondary_cleaner.state.floatbank6_a_air</th>\n",
       "      <th>secondary_cleaner.state.floatbank6_a_level</th>\n",
       "      <th>rougher.output.recovery</th>\n",
       "      <th>final.output.recovery</th>\n",
       "    </tr>\n",
       "  </thead>\n",
       "  <tbody>\n",
       "    <tr>\n",
       "      <td>5851</td>\n",
       "      <td>2017-12-31 19:59:59</td>\n",
       "      <td>173.96</td>\n",
       "      <td>15.96</td>\n",
       "      <td>8.07</td>\n",
       "      <td>0.90</td>\n",
       "      <td>1,401.93</td>\n",
       "      <td>-499.73</td>\n",
       "      <td>1,401.44</td>\n",
       "      <td>-499.19</td>\n",
       "      <td>1,399.81</td>\n",
       "      <td>...</td>\n",
       "      <td>12.07</td>\n",
       "      <td>-499.67</td>\n",
       "      <td>7.98</td>\n",
       "      <td>-499.52</td>\n",
       "      <td>5.93</td>\n",
       "      <td>-499.97</td>\n",
       "      <td>8.99</td>\n",
       "      <td>-499.76</td>\n",
       "      <td>95.17</td>\n",
       "      <td>68.92</td>\n",
       "    </tr>\n",
       "    <tr>\n",
       "      <td>5852</td>\n",
       "      <td>2017-12-31 20:59:59</td>\n",
       "      <td>172.91</td>\n",
       "      <td>16.00</td>\n",
       "      <td>8.07</td>\n",
       "      <td>0.90</td>\n",
       "      <td>1,447.08</td>\n",
       "      <td>-494.72</td>\n",
       "      <td>1,448.85</td>\n",
       "      <td>-465.96</td>\n",
       "      <td>1,443.89</td>\n",
       "      <td>...</td>\n",
       "      <td>13.37</td>\n",
       "      <td>-499.12</td>\n",
       "      <td>9.29</td>\n",
       "      <td>-496.89</td>\n",
       "      <td>7.37</td>\n",
       "      <td>-499.94</td>\n",
       "      <td>8.99</td>\n",
       "      <td>-499.90</td>\n",
       "      <td>94.58</td>\n",
       "      <td>68.44</td>\n",
       "    </tr>\n",
       "    <tr>\n",
       "      <td>5853</td>\n",
       "      <td>2017-12-31 21:59:59</td>\n",
       "      <td>171.14</td>\n",
       "      <td>15.99</td>\n",
       "      <td>8.07</td>\n",
       "      <td>1.17</td>\n",
       "      <td>1,498.84</td>\n",
       "      <td>-501.77</td>\n",
       "      <td>1,499.57</td>\n",
       "      <td>-495.52</td>\n",
       "      <td>1,502.75</td>\n",
       "      <td>...</td>\n",
       "      <td>15.10</td>\n",
       "      <td>-499.94</td>\n",
       "      <td>10.99</td>\n",
       "      <td>-498.35</td>\n",
       "      <td>9.02</td>\n",
       "      <td>-500.04</td>\n",
       "      <td>8.98</td>\n",
       "      <td>-497.79</td>\n",
       "      <td>93.02</td>\n",
       "      <td>67.09</td>\n",
       "    </tr>\n",
       "    <tr>\n",
       "      <td>5854</td>\n",
       "      <td>2017-12-31 22:59:59</td>\n",
       "      <td>179.70</td>\n",
       "      <td>15.44</td>\n",
       "      <td>8.07</td>\n",
       "      <td>1.50</td>\n",
       "      <td>1,498.47</td>\n",
       "      <td>-500.48</td>\n",
       "      <td>1,497.99</td>\n",
       "      <td>-519.20</td>\n",
       "      <td>1,496.57</td>\n",
       "      <td>...</td>\n",
       "      <td>15.03</td>\n",
       "      <td>-499.72</td>\n",
       "      <td>11.01</td>\n",
       "      <td>-499.99</td>\n",
       "      <td>9.01</td>\n",
       "      <td>-499.94</td>\n",
       "      <td>9.01</td>\n",
       "      <td>-500.15</td>\n",
       "      <td>92.60</td>\n",
       "      <td>68.06</td>\n",
       "    </tr>\n",
       "    <tr>\n",
       "      <td>5855</td>\n",
       "      <td>2017-12-31 23:59:59</td>\n",
       "      <td>181.56</td>\n",
       "      <td>15.00</td>\n",
       "      <td>8.07</td>\n",
       "      <td>1.62</td>\n",
       "      <td>1,498.10</td>\n",
       "      <td>-499.80</td>\n",
       "      <td>1,501.74</td>\n",
       "      <td>-505.15</td>\n",
       "      <td>1,499.54</td>\n",
       "      <td>...</td>\n",
       "      <td>14.91</td>\n",
       "      <td>-499.95</td>\n",
       "      <td>10.99</td>\n",
       "      <td>-500.66</td>\n",
       "      <td>8.99</td>\n",
       "      <td>-500.34</td>\n",
       "      <td>8.99</td>\n",
       "      <td>-500.76</td>\n",
       "      <td>91.18</td>\n",
       "      <td>71.70</td>\n",
       "    </tr>\n",
       "  </tbody>\n",
       "</table>\n",
       "<p>5 rows × 55 columns</p>\n",
       "</div>"
      ],
      "text/plain": [
       "                     date  primary_cleaner.input.sulfate  \\\n",
       "5851  2017-12-31 19:59:59                         173.96   \n",
       "5852  2017-12-31 20:59:59                         172.91   \n",
       "5853  2017-12-31 21:59:59                         171.14   \n",
       "5854  2017-12-31 22:59:59                         179.70   \n",
       "5855  2017-12-31 23:59:59                         181.56   \n",
       "\n",
       "      primary_cleaner.input.depressant  primary_cleaner.input.feed_size  \\\n",
       "5851                             15.96                             8.07   \n",
       "5852                             16.00                             8.07   \n",
       "5853                             15.99                             8.07   \n",
       "5854                             15.44                             8.07   \n",
       "5855                             15.00                             8.07   \n",
       "\n",
       "      primary_cleaner.input.xanthate  primary_cleaner.state.floatbank8_a_air  \\\n",
       "5851                            0.90                                1,401.93   \n",
       "5852                            0.90                                1,447.08   \n",
       "5853                            1.17                                1,498.84   \n",
       "5854                            1.50                                1,498.47   \n",
       "5855                            1.62                                1,498.10   \n",
       "\n",
       "      primary_cleaner.state.floatbank8_a_level  \\\n",
       "5851                                   -499.73   \n",
       "5852                                   -494.72   \n",
       "5853                                   -501.77   \n",
       "5854                                   -500.48   \n",
       "5855                                   -499.80   \n",
       "\n",
       "      primary_cleaner.state.floatbank8_b_air  \\\n",
       "5851                                1,401.44   \n",
       "5852                                1,448.85   \n",
       "5853                                1,499.57   \n",
       "5854                                1,497.99   \n",
       "5855                                1,501.74   \n",
       "\n",
       "      primary_cleaner.state.floatbank8_b_level  \\\n",
       "5851                                   -499.19   \n",
       "5852                                   -465.96   \n",
       "5853                                   -495.52   \n",
       "5854                                   -519.20   \n",
       "5855                                   -505.15   \n",
       "\n",
       "      primary_cleaner.state.floatbank8_c_air  ...  \\\n",
       "5851                                1,399.81  ...   \n",
       "5852                                1,443.89  ...   \n",
       "5853                                1,502.75  ...   \n",
       "5854                                1,496.57  ...   \n",
       "5855                                1,499.54  ...   \n",
       "\n",
       "      secondary_cleaner.state.floatbank4_b_air  \\\n",
       "5851                                     12.07   \n",
       "5852                                     13.37   \n",
       "5853                                     15.10   \n",
       "5854                                     15.03   \n",
       "5855                                     14.91   \n",
       "\n",
       "      secondary_cleaner.state.floatbank4_b_level  \\\n",
       "5851                                     -499.67   \n",
       "5852                                     -499.12   \n",
       "5853                                     -499.94   \n",
       "5854                                     -499.72   \n",
       "5855                                     -499.95   \n",
       "\n",
       "      secondary_cleaner.state.floatbank5_a_air  \\\n",
       "5851                                      7.98   \n",
       "5852                                      9.29   \n",
       "5853                                     10.99   \n",
       "5854                                     11.01   \n",
       "5855                                     10.99   \n",
       "\n",
       "      secondary_cleaner.state.floatbank5_a_level  \\\n",
       "5851                                     -499.52   \n",
       "5852                                     -496.89   \n",
       "5853                                     -498.35   \n",
       "5854                                     -499.99   \n",
       "5855                                     -500.66   \n",
       "\n",
       "      secondary_cleaner.state.floatbank5_b_air  \\\n",
       "5851                                      5.93   \n",
       "5852                                      7.37   \n",
       "5853                                      9.02   \n",
       "5854                                      9.01   \n",
       "5855                                      8.99   \n",
       "\n",
       "      secondary_cleaner.state.floatbank5_b_level  \\\n",
       "5851                                     -499.97   \n",
       "5852                                     -499.94   \n",
       "5853                                     -500.04   \n",
       "5854                                     -499.94   \n",
       "5855                                     -500.34   \n",
       "\n",
       "      secondary_cleaner.state.floatbank6_a_air  \\\n",
       "5851                                      8.99   \n",
       "5852                                      8.99   \n",
       "5853                                      8.98   \n",
       "5854                                      9.01   \n",
       "5855                                      8.99   \n",
       "\n",
       "      secondary_cleaner.state.floatbank6_a_level  rougher.output.recovery  \\\n",
       "5851                                     -499.76                    95.17   \n",
       "5852                                     -499.90                    94.58   \n",
       "5853                                     -497.79                    93.02   \n",
       "5854                                     -500.15                    92.60   \n",
       "5855                                     -500.76                    91.18   \n",
       "\n",
       "      final.output.recovery  \n",
       "5851                  68.92  \n",
       "5852                  68.44  \n",
       "5853                  67.09  \n",
       "5854                  68.06  \n",
       "5855                  71.70  \n",
       "\n",
       "[5 rows x 55 columns]"
      ]
     },
     "metadata": {},
     "output_type": "display_data"
    }
   ],
   "source": [
    "#исходя из условий задачи, добвим данные из таблицы фулл\n",
    "full_recovery = full[['date','rougher.output.recovery','final.output.recovery']].copy()\n",
    "test_from_full = full_recovery.query('date in @test.date')\n",
    "\n",
    "#добавим данные recovery к тесту\n",
    "test= test.merge(test_from_full,on='date')\n",
    "display(test[-5:])"
   ]
  },
  {
   "cell_type": "markdown",
   "metadata": {},
   "source": [
    "### 1.4. Проведем предобработку данных"
   ]
  },
  {
   "cell_type": "code",
   "execution_count": 11,
   "metadata": {},
   "outputs": [
    {
     "name": "stdout",
     "output_type": "stream",
     "text": [
      "\n"
     ]
    }
   ],
   "source": [
    "#Заметим что нам попадаются нули, это очевидно пропуски, заменим их на NaN\n",
    "train = train.replace({'0':np.nan, 0:np.nan})\n",
    "test = test.replace({'0':np.nan, 0:np.nan})#,0.01:np.nan\n",
    "#train= train.replace(to_replace =0.01,value =np.nan)\n",
    "'''заметим так же что есть значения 0.01, что тоже можно считать нулем, преобразуем эти значения тоже в NaN\n",
    "def replace_value(df):\n",
    "    numeric = df.select_dtypes(include=np.float64).columns.tolist()\n",
    "    #numeric = list( set(numeric) - set(['primary_cleaner.input.sulfate','primary_cleaner.input.xanthate','rougher.input.floatbank11_xanthate']))\n",
    "    for column in df[numeric].columns:\n",
    "        #df[column] = np.where((train_copy[column]< 0.1), np.nan, df[column])\n",
    "        df.loc[train_copy[column] < 1,column] = np.nan\n",
    "       \n",
    "replace_value(train)\n",
    "replace_value(test)'''\n",
    "print()"
   ]
  },
  {
   "cell_type": "code",
   "execution_count": 12,
   "metadata": {},
   "outputs": [
    {
     "data": {
      "image/png": "[encoded data removed]",
      "text/plain": [
       "<Figure size 576x360 with 1 Axes>"
      ]
     },
     "metadata": {
      "needs_background": "light"
     },
     "output_type": "display_data"
    },
    {
     "data": {
      "image/png": "[encoded data removed]",
      "text/plain": [
       "<Figure size 576x360 with 1 Axes>"
      ]
     },
     "metadata": {
      "needs_background": "light"
     },
     "output_type": "display_data"
    }
   ],
   "source": [
    "# посмотрим зависимость количество признаков и объектов  \n",
    "def threshold_miss_value(df,suptitle):\n",
    "    threshold_miss_value = []\n",
    "    for n in range(1,80):\n",
    "        threshold_miss_value.append(df.dropna(axis=0,thresh=n).shape[0])\n",
    "    plt.plot(threshold_miss_value,color='r',linestyle='dashdot');\n",
    "    plt.xlabel('Количество призаков')\n",
    "    plt.ylabel('Количество объектов')\n",
    "    plt.suptitle(suptitle)\n",
    "    plt.show()\n",
    "# посмотрим количество признаков для трейна и теста\n",
    "threshold_miss_value(train,'Train')\n",
    "threshold_miss_value(test,'Test')"
   ]
  },
  {
   "cell_type": "markdown",
   "metadata": {},
   "source": [
    "Мы попытались найти оптимальное количество удаляемых строк. Попытались найти те строки, которые нет смысла заполнять пропусками, где пропущено слишком много признаков. Мы остановились на значении 65 столбцов для трейна и 50 столбцов для теста."
   ]
  },
  {
   "cell_type": "code",
   "execution_count": 13,
   "metadata": {},
   "outputs": [
    {
     "name": "stdout",
     "output_type": "stream",
     "text": [
      "date    datetime64[ns]\n",
      "dtype: object\n"
     ]
    },
    {
     "data": {
      "image/png": "[encoded data removed]",
      "text/plain": [
       "<Figure size 576x360 with 1 Axes>"
      ]
     },
     "metadata": {
      "needs_background": "light"
     },
     "output_type": "display_data"
    },
    {
     "data": {
      "image/png": "[encoded data removed]",
      "text/plain": [
       "<Figure size 576x360 with 1 Axes>"
      ]
     },
     "metadata": {
      "needs_background": "light"
     },
     "output_type": "display_data"
    },
    {
     "data": {
      "image/png": "[encoded data removed]",
      "text/plain": [
       "<Figure size 576x360 with 1 Axes>"
      ]
     },
     "metadata": {
      "needs_background": "light"
     },
     "output_type": "display_data"
    },
    {
     "data": {
      "image/png": "[encoded data removed]",
      "text/plain": [
       "<Figure size 576x360 with 1 Axes>"
      ]
     },
     "metadata": {
      "needs_background": "light"
     },
     "output_type": "display_data"
    },
    {
     "data": {
      "image/png": "[encoded data removed]",
      "text/plain": [
       "<Figure size 576x360 with 1 Axes>"
      ]
     },
     "metadata": {
      "needs_background": "light"
     },
     "output_type": "display_data"
    }
   ],
   "source": [
    "# переведем столбец с датой в тип datetime \"дата\"\n",
    "train['date'] = pd.to_datetime(train['date'], errors='coerce')\n",
    "print(train.dtypes[:1])\n",
    "train['hour'] = pd.DatetimeIndex(train['date']).hour\n",
    "train['day_month'] = pd.DatetimeIndex(train['date']).day\n",
    "train['month'] = pd.DatetimeIndex(train['date']).month\n",
    "train['year'] = pd.DatetimeIndex(train['date']).year\n",
    "\n",
    "# Подготовим словарь для дней недели и заполним по нему строки\n",
    "dw_mapping={\n",
    "    0: 'Monday', \n",
    "    1: 'Tuesday', \n",
    "    2: 'Wednesday', \n",
    "    3: 'Thursday', \n",
    "    4: 'Friday',\n",
    "    5: 'Saturday', \n",
    "    6: 'Sunday'\n",
    "} \n",
    "train['day_week']=pd.DatetimeIndex(train['date']).weekday.map(dw_mapping)\n",
    "\n",
    "order = ['Monday', 'Tuesday', 'Wednesday','Thursday','Friday',    'Saturday',    'Sunday']\n",
    "#посмотрим на пропущенные  данные в разрезе недли\n",
    "day_train = train[train['rougher.output.recovery'].isnull()]['day_week'].value_counts()#set_index('day_week').loc[order]['date']\n",
    "# упорядочим объект Series\n",
    "day_train = pd.Series(day_train).loc[order]\n",
    "ax =day_train.plot(kind='bar');\n",
    "plt.show()\n",
    "\n",
    "#посмотрим на пропущенные  данные в разрезе месяца\n",
    "def show_missing_values(column):\n",
    "    df= pd.Series(train[train['rougher.output.recovery'].isnull()][column].value_counts()).sort_index()\n",
    "    # упорядочим объект Series\n",
    "    ax =df.plot(kind='bar');\n",
    "    plt.show()\n",
    "\n",
    "# посмотрим на пропуски в разрезе дня,месяца и года\n",
    "show_missing_values('hour')\n",
    "show_missing_values('day_month')\n",
    "show_missing_values('month')\n",
    "show_missing_values('year')"
   ]
  },
  {
   "cell_type": "markdown",
   "metadata": {},
   "source": [
    "Годы:\n",
    "\n",
    "- Как мы видим больше всего пропусков было в 2018 году, примерно на 30% больше чем в 2016 и 2017 годах.\n",
    "\n",
    "Месяцы:\n",
    "- Пропуски в данных случались в первой половине года, особенно в январе очень много пропусков. Начиная с сенятбря пропусков небыло вообще.\n",
    "\n",
    "Дни месяца:\n",
    "- В середине месяца пропусков немного больше\n",
    "\n",
    "Дни недели \n",
    "- в начале недели пропусков тоже было больше"
   ]
  },
  {
   "cell_type": "code",
   "execution_count": 14,
   "metadata": {},
   "outputs": [],
   "source": [
    "#посмотрим столбцы в которых бльше всего пропусков \n",
    "def missing_values(df):\n",
    "    display((df.isnull().sum().sort_values(ascending=False)/len(df)*100)[:20])"
   ]
  },
  {
   "cell_type": "markdown",
   "metadata": {},
   "source": [
    "Больше всего пропусков -  в столбцах типа ``rougher.output``. Максимальное количество незаполненых пропусков  в трейне и тесте 25%."
   ]
  },
  {
   "cell_type": "code",
   "execution_count": 15,
   "metadata": {},
   "outputs": [
    {
     "name": "stdout",
     "output_type": "stream",
     "text": [
      "(16860, 93)\n",
      "(5856, 55)\n"
     ]
    },
    {
     "data": {
      "text/plain": [
       "secondary_cleaner.output.tail_sol        25.41\n",
       "rougher.output.recovery                  17.16\n",
       "rougher.output.recovery_calc             15.62\n",
       "secondary_cleaner.output.tail_pb         14.20\n",
       "secondary_cleaner.output.tail_ag         14.13\n",
       "secondary_cleaner.output.tail_au         14.12\n",
       "rougher.output.tail_ag                   13.35\n",
       "rougher.output.tail_sol                  13.34\n",
       "rougher.output.tail_au                   13.34\n",
       "rougher.input.floatbank11_xanthate       11.29\n",
       "primary_cleaner.output.concentrate_sol   11.07\n",
       "final.output.tail_pb                     10.92\n",
       "primary_cleaner.output.tail_sol          10.85\n",
       "final.output.tail_sol                    10.69\n",
       "final.output.tail_au                     10.23\n",
       "final.output.tail_ag                     10.23\n",
       "rougher.output.concentrate_sol            9.82\n",
       "primary_cleaner.output.tail_pb            9.77\n",
       "rougher.output.tail_pb                    9.76\n",
       "final.output.concentrate_sol              9.69\n",
       "dtype: float64"
      ]
     },
     "metadata": {},
     "output_type": "display_data"
    },
    {
     "data": {
      "text/plain": [
       "rougher.output.recovery                    11.01\n",
       "final.output.recovery                       8.61\n",
       "rougher.input.feed_sol                      7.45\n",
       "rougher.input.feed_au                       6.57\n",
       "rougher.input.feed_ag                       6.57\n",
       "rougher.input.feed_pb                       6.57\n",
       "rougher.input.floatbank11_xanthate          6.03\n",
       "primary_cleaner.input.sulfate               5.16\n",
       "primary_cleaner.input.depressant            4.85\n",
       "rougher.input.floatbank10_sulfate           4.39\n",
       "secondary_cleaner.state.floatbank3_a_air    2.97\n",
       "primary_cleaner.input.xanthate              2.83\n",
       "secondary_cleaner.state.floatbank2_b_air    2.75\n",
       "secondary_cleaner.state.floatbank3_b_air    2.63\n",
       "secondary_cleaner.state.floatbank4_a_air    2.63\n",
       "secondary_cleaner.state.floatbank4_b_air    2.63\n",
       "rougher.input.floatbank10_xanthate          2.10\n",
       "primary_cleaner.state.floatbank8_a_air      1.86\n",
       "primary_cleaner.state.floatbank8_b_air      1.78\n",
       "primary_cleaner.state.floatbank8_d_air      1.09\n",
       "dtype: float64"
      ]
     },
     "metadata": {},
     "output_type": "display_data"
    }
   ],
   "source": [
    "# по условиям задачи часть данных находится в таблице full. Попробуем дозаполнить данные\n",
    "#train подготовка данных к update\n",
    "train_from_full = full.query('date in @train.date').reset_index(drop=True)\n",
    "train.reset_index(drop=True,inplace=True)\n",
    "\n",
    "#test подготовка данных к update\n",
    "test_from_full = full[train_and_test].query('date in @test.date').reset_index(drop=True)\n",
    "test.reset_index(drop=True,inplace=True)\n",
    "\n",
    "#сделаем update с заполнением только NaN\n",
    "train.update(train_from_full,overwrite=False)\n",
    "test.update(test_from_full,overwrite=False)\n",
    "print(train.shape)\n",
    "print(test.shape)\n",
    "\n",
    "#можно так же пробовать #test = test.combine_first(test_from_full)\n",
    "\n",
    "#Заполним опять нули NaN\n",
    "train = train.replace({'0':np.nan, 0:np.nan})\n",
    "test = test.replace({'0':np.nan, 0:np.nan})\n",
    "\n",
    "#проверка процента пропусков\n",
    "missing_values(train)\n",
    "missing_values(test)"
   ]
  },
  {
   "cell_type": "markdown",
   "metadata": {},
   "source": [
    "Ничего не поменялось, в этом плане нам таблица full ничего не дала."
   ]
  },
  {
   "cell_type": "code",
   "execution_count": 16,
   "metadata": {},
   "outputs": [
    {
     "name": "stdout",
     "output_type": "stream",
     "text": [
      "(16860, 93)\n",
      "(16860, 93)\n",
      "(5856, 55)\n",
      "(5856, 55)\n",
      "Количество дубликатов равно 0\n",
      "Количество дубликатов равно 0\n",
      "Количество дубликатов равно 0\n"
     ]
    }
   ],
   "source": [
    "#посмотрим есть ли строки с пропусками\n",
    "print(train.shape)\n",
    "print(train.dropna(axis=0,how='all').shape)\n",
    "\n",
    "print(test.shape)\n",
    "print(test.dropna(axis=0,how='all').shape)\n",
    "\n",
    "#проверим на дубликаты датасэты\n",
    "for df in train,test,full:\n",
    "    print('Количество дубликатов равно',df.duplicated().sum())   "
   ]
  },
  {
   "cell_type": "markdown",
   "metadata": {},
   "source": [
    "Полнострочных пропусков нет, дубликатов тоже нет. "
   ]
  },
  {
   "cell_type": "code",
   "execution_count": 17,
   "metadata": {},
   "outputs": [
    {
     "data": {
      "text/html": [
       "<div>\n",
       "<style scoped>\n",
       "    .dataframe tbody tr th:only-of-type {\n",
       "        vertical-align: middle;\n",
       "    }\n",
       "\n",
       "    .dataframe tbody tr th {\n",
       "        vertical-align: top;\n",
       "    }\n",
       "\n",
       "    .dataframe thead th {\n",
       "        text-align: right;\n",
       "    }\n",
       "</style>\n",
       "<table border=\"1\" class=\"dataframe\">\n",
       "  <thead>\n",
       "    <tr style=\"text-align: right;\">\n",
       "      <th></th>\n",
       "      <th>date</th>\n",
       "      <th>rougher.output.recovery</th>\n",
       "      <th>final.output.recovery</th>\n",
       "    </tr>\n",
       "  </thead>\n",
       "  <tbody>\n",
       "    <tr>\n",
       "      <td>98</td>\n",
       "      <td>2016-01-19 02:00:00</td>\n",
       "      <td>26.28</td>\n",
       "      <td>58.02</td>\n",
       "    </tr>\n",
       "    <tr>\n",
       "      <td>99</td>\n",
       "      <td>2016-01-19 03:00:00</td>\n",
       "      <td>nan</td>\n",
       "      <td>nan</td>\n",
       "    </tr>\n",
       "    <tr>\n",
       "      <td>100</td>\n",
       "      <td>2016-01-19 04:00:00</td>\n",
       "      <td>nan</td>\n",
       "      <td>nan</td>\n",
       "    </tr>\n",
       "    <tr>\n",
       "      <td>101</td>\n",
       "      <td>2016-01-19 05:00:00</td>\n",
       "      <td>nan</td>\n",
       "      <td>nan</td>\n",
       "    </tr>\n",
       "    <tr>\n",
       "      <td>102</td>\n",
       "      <td>2016-01-19 06:00:00</td>\n",
       "      <td>nan</td>\n",
       "      <td>nan</td>\n",
       "    </tr>\n",
       "    <tr>\n",
       "      <td>103</td>\n",
       "      <td>2016-01-19 07:00:00</td>\n",
       "      <td>nan</td>\n",
       "      <td>nan</td>\n",
       "    </tr>\n",
       "    <tr>\n",
       "      <td>104</td>\n",
       "      <td>2016-01-19 08:00:00</td>\n",
       "      <td>nan</td>\n",
       "      <td>nan</td>\n",
       "    </tr>\n",
       "    <tr>\n",
       "      <td>105</td>\n",
       "      <td>2016-01-19 09:00:00</td>\n",
       "      <td>nan</td>\n",
       "      <td>nan</td>\n",
       "    </tr>\n",
       "    <tr>\n",
       "      <td>106</td>\n",
       "      <td>2016-01-19 10:00:00</td>\n",
       "      <td>nan</td>\n",
       "      <td>nan</td>\n",
       "    </tr>\n",
       "    <tr>\n",
       "      <td>107</td>\n",
       "      <td>2016-01-19 11:00:00</td>\n",
       "      <td>nan</td>\n",
       "      <td>nan</td>\n",
       "    </tr>\n",
       "    <tr>\n",
       "      <td>108</td>\n",
       "      <td>2016-01-19 12:00:00</td>\n",
       "      <td>nan</td>\n",
       "      <td>nan</td>\n",
       "    </tr>\n",
       "    <tr>\n",
       "      <td>109</td>\n",
       "      <td>2016-01-19 13:00:00</td>\n",
       "      <td>nan</td>\n",
       "      <td>nan</td>\n",
       "    </tr>\n",
       "    <tr>\n",
       "      <td>110</td>\n",
       "      <td>2016-01-19 14:00:00</td>\n",
       "      <td>nan</td>\n",
       "      <td>nan</td>\n",
       "    </tr>\n",
       "    <tr>\n",
       "      <td>111</td>\n",
       "      <td>2016-01-19 15:00:00</td>\n",
       "      <td>nan</td>\n",
       "      <td>nan</td>\n",
       "    </tr>\n",
       "    <tr>\n",
       "      <td>112</td>\n",
       "      <td>2016-01-19 16:00:00</td>\n",
       "      <td>nan</td>\n",
       "      <td>nan</td>\n",
       "    </tr>\n",
       "    <tr>\n",
       "      <td>113</td>\n",
       "      <td>2016-01-19 17:00:00</td>\n",
       "      <td>nan</td>\n",
       "      <td>nan</td>\n",
       "    </tr>\n",
       "    <tr>\n",
       "      <td>114</td>\n",
       "      <td>2016-01-19 18:00:00</td>\n",
       "      <td>nan</td>\n",
       "      <td>nan</td>\n",
       "    </tr>\n",
       "    <tr>\n",
       "      <td>115</td>\n",
       "      <td>2016-01-19 19:00:00</td>\n",
       "      <td>nan</td>\n",
       "      <td>nan</td>\n",
       "    </tr>\n",
       "    <tr>\n",
       "      <td>116</td>\n",
       "      <td>2016-01-19 20:00:00</td>\n",
       "      <td>nan</td>\n",
       "      <td>nan</td>\n",
       "    </tr>\n",
       "    <tr>\n",
       "      <td>117</td>\n",
       "      <td>2016-01-19 21:00:00</td>\n",
       "      <td>nan</td>\n",
       "      <td>nan</td>\n",
       "    </tr>\n",
       "    <tr>\n",
       "      <td>118</td>\n",
       "      <td>2016-01-19 22:00:00</td>\n",
       "      <td>nan</td>\n",
       "      <td>nan</td>\n",
       "    </tr>\n",
       "    <tr>\n",
       "      <td>119</td>\n",
       "      <td>2016-01-19 23:00:00</td>\n",
       "      <td>nan</td>\n",
       "      <td>nan</td>\n",
       "    </tr>\n",
       "    <tr>\n",
       "      <td>120</td>\n",
       "      <td>2016-01-20 00:00:00</td>\n",
       "      <td>nan</td>\n",
       "      <td>nan</td>\n",
       "    </tr>\n",
       "    <tr>\n",
       "      <td>121</td>\n",
       "      <td>2016-01-20 01:00:00</td>\n",
       "      <td>nan</td>\n",
       "      <td>nan</td>\n",
       "    </tr>\n",
       "    <tr>\n",
       "      <td>122</td>\n",
       "      <td>2016-01-20 02:00:00</td>\n",
       "      <td>nan</td>\n",
       "      <td>nan</td>\n",
       "    </tr>\n",
       "    <tr>\n",
       "      <td>123</td>\n",
       "      <td>2016-01-20 03:00:00</td>\n",
       "      <td>nan</td>\n",
       "      <td>nan</td>\n",
       "    </tr>\n",
       "    <tr>\n",
       "      <td>124</td>\n",
       "      <td>2016-01-20 04:00:00</td>\n",
       "      <td>nan</td>\n",
       "      <td>nan</td>\n",
       "    </tr>\n",
       "    <tr>\n",
       "      <td>125</td>\n",
       "      <td>2016-01-20 05:00:00</td>\n",
       "      <td>nan</td>\n",
       "      <td>nan</td>\n",
       "    </tr>\n",
       "    <tr>\n",
       "      <td>126</td>\n",
       "      <td>2016-01-20 06:00:00</td>\n",
       "      <td>nan</td>\n",
       "      <td>nan</td>\n",
       "    </tr>\n",
       "    <tr>\n",
       "      <td>127</td>\n",
       "      <td>2016-01-20 07:00:00</td>\n",
       "      <td>nan</td>\n",
       "      <td>nan</td>\n",
       "    </tr>\n",
       "    <tr>\n",
       "      <td>128</td>\n",
       "      <td>2016-01-20 08:00:00</td>\n",
       "      <td>nan</td>\n",
       "      <td>nan</td>\n",
       "    </tr>\n",
       "    <tr>\n",
       "      <td>154</td>\n",
       "      <td>2016-01-21 10:00:00</td>\n",
       "      <td>86.22</td>\n",
       "      <td>74.26</td>\n",
       "    </tr>\n",
       "    <tr>\n",
       "      <td>377</td>\n",
       "      <td>2016-01-30 17:00:00</td>\n",
       "      <td>nan</td>\n",
       "      <td>nan</td>\n",
       "    </tr>\n",
       "    <tr>\n",
       "      <td>378</td>\n",
       "      <td>2016-01-30 18:00:00</td>\n",
       "      <td>nan</td>\n",
       "      <td>nan</td>\n",
       "    </tr>\n",
       "    <tr>\n",
       "      <td>379</td>\n",
       "      <td>2016-01-30 19:00:00</td>\n",
       "      <td>nan</td>\n",
       "      <td>nan</td>\n",
       "    </tr>\n",
       "    <tr>\n",
       "      <td>746</td>\n",
       "      <td>2016-02-15 02:00:00</td>\n",
       "      <td>nan</td>\n",
       "      <td>nan</td>\n",
       "    </tr>\n",
       "    <tr>\n",
       "      <td>748</td>\n",
       "      <td>2016-02-15 04:00:00</td>\n",
       "      <td>nan</td>\n",
       "      <td>nan</td>\n",
       "    </tr>\n",
       "    <tr>\n",
       "      <td>749</td>\n",
       "      <td>2016-02-15 05:00:00</td>\n",
       "      <td>nan</td>\n",
       "      <td>nan</td>\n",
       "    </tr>\n",
       "    <tr>\n",
       "      <td>812</td>\n",
       "      <td>2016-02-17 20:00:00</td>\n",
       "      <td>nan</td>\n",
       "      <td>nan</td>\n",
       "    </tr>\n",
       "    <tr>\n",
       "      <td>813</td>\n",
       "      <td>2016-02-17 21:00:00</td>\n",
       "      <td>nan</td>\n",
       "      <td>nan</td>\n",
       "    </tr>\n",
       "    <tr>\n",
       "      <td>1139</td>\n",
       "      <td>2016-03-02 11:00:00</td>\n",
       "      <td>22.17</td>\n",
       "      <td>0.46</td>\n",
       "    </tr>\n",
       "    <tr>\n",
       "      <td>1262</td>\n",
       "      <td>2016-03-07 14:00:00</td>\n",
       "      <td>4.32</td>\n",
       "      <td>nan</td>\n",
       "    </tr>\n",
       "    <tr>\n",
       "      <td>1263</td>\n",
       "      <td>2016-03-07 15:00:00</td>\n",
       "      <td>nan</td>\n",
       "      <td>nan</td>\n",
       "    </tr>\n",
       "    <tr>\n",
       "      <td>1264</td>\n",
       "      <td>2016-03-07 16:00:00</td>\n",
       "      <td>5.51</td>\n",
       "      <td>nan</td>\n",
       "    </tr>\n",
       "    <tr>\n",
       "      <td>1310</td>\n",
       "      <td>2016-03-09 14:00:00</td>\n",
       "      <td>nan</td>\n",
       "      <td>nan</td>\n",
       "    </tr>\n",
       "    <tr>\n",
       "      <td>1311</td>\n",
       "      <td>2016-03-09 15:00:00</td>\n",
       "      <td>nan</td>\n",
       "      <td>nan</td>\n",
       "    </tr>\n",
       "    <tr>\n",
       "      <td>1312</td>\n",
       "      <td>2016-03-09 16:00:00</td>\n",
       "      <td>nan</td>\n",
       "      <td>nan</td>\n",
       "    </tr>\n",
       "    <tr>\n",
       "      <td>1313</td>\n",
       "      <td>2016-03-09 17:00:00</td>\n",
       "      <td>nan</td>\n",
       "      <td>nan</td>\n",
       "    </tr>\n",
       "    <tr>\n",
       "      <td>1314</td>\n",
       "      <td>2016-03-09 18:00:00</td>\n",
       "      <td>nan</td>\n",
       "      <td>nan</td>\n",
       "    </tr>\n",
       "    <tr>\n",
       "      <td>1315</td>\n",
       "      <td>2016-03-09 19:00:00</td>\n",
       "      <td>nan</td>\n",
       "      <td>nan</td>\n",
       "    </tr>\n",
       "  </tbody>\n",
       "</table>\n",
       "</div>"
      ],
      "text/plain": [
       "                    date  rougher.output.recovery  final.output.recovery\n",
       "98   2016-01-19 02:00:00                    26.28                  58.02\n",
       "99   2016-01-19 03:00:00                      nan                    nan\n",
       "100  2016-01-19 04:00:00                      nan                    nan\n",
       "101  2016-01-19 05:00:00                      nan                    nan\n",
       "102  2016-01-19 06:00:00                      nan                    nan\n",
       "103  2016-01-19 07:00:00                      nan                    nan\n",
       "104  2016-01-19 08:00:00                      nan                    nan\n",
       "105  2016-01-19 09:00:00                      nan                    nan\n",
       "106  2016-01-19 10:00:00                      nan                    nan\n",
       "107  2016-01-19 11:00:00                      nan                    nan\n",
       "108  2016-01-19 12:00:00                      nan                    nan\n",
       "109  2016-01-19 13:00:00                      nan                    nan\n",
       "110  2016-01-19 14:00:00                      nan                    nan\n",
       "111  2016-01-19 15:00:00                      nan                    nan\n",
       "112  2016-01-19 16:00:00                      nan                    nan\n",
       "113  2016-01-19 17:00:00                      nan                    nan\n",
       "114  2016-01-19 18:00:00                      nan                    nan\n",
       "115  2016-01-19 19:00:00                      nan                    nan\n",
       "116  2016-01-19 20:00:00                      nan                    nan\n",
       "117  2016-01-19 21:00:00                      nan                    nan\n",
       "118  2016-01-19 22:00:00                      nan                    nan\n",
       "119  2016-01-19 23:00:00                      nan                    nan\n",
       "120  2016-01-20 00:00:00                      nan                    nan\n",
       "121  2016-01-20 01:00:00                      nan                    nan\n",
       "122  2016-01-20 02:00:00                      nan                    nan\n",
       "123  2016-01-20 03:00:00                      nan                    nan\n",
       "124  2016-01-20 04:00:00                      nan                    nan\n",
       "125  2016-01-20 05:00:00                      nan                    nan\n",
       "126  2016-01-20 06:00:00                      nan                    nan\n",
       "127  2016-01-20 07:00:00                      nan                    nan\n",
       "128  2016-01-20 08:00:00                      nan                    nan\n",
       "154  2016-01-21 10:00:00                    86.22                  74.26\n",
       "377  2016-01-30 17:00:00                      nan                    nan\n",
       "378  2016-01-30 18:00:00                      nan                    nan\n",
       "379  2016-01-30 19:00:00                      nan                    nan\n",
       "746  2016-02-15 02:00:00                      nan                    nan\n",
       "748  2016-02-15 04:00:00                      nan                    nan\n",
       "749  2016-02-15 05:00:00                      nan                    nan\n",
       "812  2016-02-17 20:00:00                      nan                    nan\n",
       "813  2016-02-17 21:00:00                      nan                    nan\n",
       "1139 2016-03-02 11:00:00                    22.17                   0.46\n",
       "1262 2016-03-07 14:00:00                     4.32                    nan\n",
       "1263 2016-03-07 15:00:00                      nan                    nan\n",
       "1264 2016-03-07 16:00:00                     5.51                    nan\n",
       "1310 2016-03-09 14:00:00                      nan                    nan\n",
       "1311 2016-03-09 15:00:00                      nan                    nan\n",
       "1312 2016-03-09 16:00:00                      nan                    nan\n",
       "1313 2016-03-09 17:00:00                      nan                    nan\n",
       "1314 2016-03-09 18:00:00                      nan                    nan\n",
       "1315 2016-03-09 19:00:00                      nan                    nan"
      ]
     },
     "execution_count": 17,
     "metadata": {},
     "output_type": "execute_result"
    }
   ],
   "source": [
    "# проанализируем целевые признаки rougher и final .output.recovery\n",
    "#(train[train['rougher.output.recovery'].isna()])[['date','rougher.output.tail_ag']][200:260]\n",
    "train[train['rougher.input.floatbank11_xanthate'].isna()][['date','rougher.output.recovery','final.output.recovery']][:50]"
   ]
  },
  {
   "cell_type": "markdown",
   "metadata": {},
   "source": [
    "Посмотрев на выбросы в разных разрезах  мы заметили следующие закономерности:\n",
    "1. Пропуски в признаках (хвосты) \n",
    "    - rougher.output.tail_ag                     \n",
    "    - rougher.output.tail_sol                    \n",
    "    - rougher.output.tail_au \n",
    "связаны с пропуском в целевом признаке ``rougher.output.recovery``. Их меньше, т.к. во время переходных процессов остановки/пропадания данных выработки значения этих параметров появлялись, скорее всего они брались с предыдущего цикла расчета(часа).\n",
    "    "
   ]
  },
  {
   "cell_type": "code",
   "execution_count": 18,
   "metadata": {},
   "outputs": [],
   "source": [
    "# посмотрим сколько дней подряд простаивало производство.\n",
    "# будем записывать сколько NaN было подряд\n",
    "def count_missin_nan(values):\n",
    "    list_day_stop = []\n",
    "    previous_value = values[0]\n",
    "    count = 0 \n",
    "    for _index,value in values.items():\n",
    "        #распечатаем значения счетчика и признака\n",
    "        #print(value,count)\n",
    "        if np.isnan(value):\n",
    "            #print('f')\n",
    "            count+=1\n",
    "            previouse_value = value\n",
    "            #print(previouse_value)\n",
    "        else:            \n",
    "            #print('f')\n",
    "            \n",
    "            if count!=0:\n",
    "                list_day_stop.append(count)\n",
    "            count=0\n",
    "            previous_value = value\n",
    "            \n",
    "    return list_day_stop\n",
    "list_day_stop = pd.Series(count_missin_nan(train['rougher.output.recovery']))"
   ]
  },
  {
   "cell_type": "code",
   "execution_count": 19,
   "metadata": {},
   "outputs": [
    {
     "data": {
      "text/html": [
       "<div>\n",
       "<style scoped>\n",
       "    .dataframe tbody tr th:only-of-type {\n",
       "        vertical-align: middle;\n",
       "    }\n",
       "\n",
       "    .dataframe tbody tr th {\n",
       "        vertical-align: top;\n",
       "    }\n",
       "\n",
       "    .dataframe thead th {\n",
       "        text-align: right;\n",
       "    }\n",
       "</style>\n",
       "<table border=\"1\" class=\"dataframe\">\n",
       "  <thead>\n",
       "    <tr style=\"text-align: right;\">\n",
       "      <th></th>\n",
       "      <th>stop_day</th>\n",
       "      <th>quantity</th>\n",
       "    </tr>\n",
       "  </thead>\n",
       "  <tbody>\n",
       "    <tr>\n",
       "      <td>0</td>\n",
       "      <td>9.08</td>\n",
       "      <td>1</td>\n",
       "    </tr>\n",
       "    <tr>\n",
       "      <td>1</td>\n",
       "      <td>6.58</td>\n",
       "      <td>1</td>\n",
       "    </tr>\n",
       "    <tr>\n",
       "      <td>2</td>\n",
       "      <td>6.46</td>\n",
       "      <td>1</td>\n",
       "    </tr>\n",
       "    <tr>\n",
       "      <td>3</td>\n",
       "      <td>5.46</td>\n",
       "      <td>1</td>\n",
       "    </tr>\n",
       "    <tr>\n",
       "      <td>4</td>\n",
       "      <td>5.29</td>\n",
       "      <td>1</td>\n",
       "    </tr>\n",
       "    <tr>\n",
       "      <td>5</td>\n",
       "      <td>5.12</td>\n",
       "      <td>1</td>\n",
       "    </tr>\n",
       "    <tr>\n",
       "      <td>6</td>\n",
       "      <td>4.33</td>\n",
       "      <td>1</td>\n",
       "    </tr>\n",
       "    <tr>\n",
       "      <td>7</td>\n",
       "      <td>4.04</td>\n",
       "      <td>1</td>\n",
       "    </tr>\n",
       "    <tr>\n",
       "      <td>8</td>\n",
       "      <td>3.21</td>\n",
       "      <td>1</td>\n",
       "    </tr>\n",
       "    <tr>\n",
       "      <td>9</td>\n",
       "      <td>3.12</td>\n",
       "      <td>1</td>\n",
       "    </tr>\n",
       "    <tr>\n",
       "      <td>10</td>\n",
       "      <td>3.00</td>\n",
       "      <td>1</td>\n",
       "    </tr>\n",
       "    <tr>\n",
       "      <td>11</td>\n",
       "      <td>2.38</td>\n",
       "      <td>1</td>\n",
       "    </tr>\n",
       "    <tr>\n",
       "      <td>12</td>\n",
       "      <td>1.96</td>\n",
       "      <td>1</td>\n",
       "    </tr>\n",
       "    <tr>\n",
       "      <td>13</td>\n",
       "      <td>1.92</td>\n",
       "      <td>1</td>\n",
       "    </tr>\n",
       "    <tr>\n",
       "      <td>14</td>\n",
       "      <td>1.54</td>\n",
       "      <td>1</td>\n",
       "    </tr>\n",
       "    <tr>\n",
       "      <td>15</td>\n",
       "      <td>1.29</td>\n",
       "      <td>2</td>\n",
       "    </tr>\n",
       "    <tr>\n",
       "      <td>16</td>\n",
       "      <td>1.21</td>\n",
       "      <td>2</td>\n",
       "    </tr>\n",
       "    <tr>\n",
       "      <td>17</td>\n",
       "      <td>1.17</td>\n",
       "      <td>2</td>\n",
       "    </tr>\n",
       "    <tr>\n",
       "      <td>18</td>\n",
       "      <td>1.12</td>\n",
       "      <td>1</td>\n",
       "    </tr>\n",
       "    <tr>\n",
       "      <td>19</td>\n",
       "      <td>1.08</td>\n",
       "      <td>1</td>\n",
       "    </tr>\n",
       "    <tr>\n",
       "      <td>20</td>\n",
       "      <td>1.04</td>\n",
       "      <td>3</td>\n",
       "    </tr>\n",
       "    <tr>\n",
       "      <td>21</td>\n",
       "      <td>0.88</td>\n",
       "      <td>1</td>\n",
       "    </tr>\n",
       "    <tr>\n",
       "      <td>22</td>\n",
       "      <td>0.83</td>\n",
       "      <td>1</td>\n",
       "    </tr>\n",
       "    <tr>\n",
       "      <td>23</td>\n",
       "      <td>0.79</td>\n",
       "      <td>1</td>\n",
       "    </tr>\n",
       "    <tr>\n",
       "      <td>24</td>\n",
       "      <td>0.75</td>\n",
       "      <td>1</td>\n",
       "    </tr>\n",
       "    <tr>\n",
       "      <td>25</td>\n",
       "      <td>0.71</td>\n",
       "      <td>3</td>\n",
       "    </tr>\n",
       "    <tr>\n",
       "      <td>26</td>\n",
       "      <td>0.62</td>\n",
       "      <td>1</td>\n",
       "    </tr>\n",
       "    <tr>\n",
       "      <td>27</td>\n",
       "      <td>0.58</td>\n",
       "      <td>4</td>\n",
       "    </tr>\n",
       "    <tr>\n",
       "      <td>28</td>\n",
       "      <td>0.54</td>\n",
       "      <td>4</td>\n",
       "    </tr>\n",
       "    <tr>\n",
       "      <td>29</td>\n",
       "      <td>0.50</td>\n",
       "      <td>4</td>\n",
       "    </tr>\n",
       "    <tr>\n",
       "      <td>30</td>\n",
       "      <td>0.46</td>\n",
       "      <td>3</td>\n",
       "    </tr>\n",
       "    <tr>\n",
       "      <td>31</td>\n",
       "      <td>0.42</td>\n",
       "      <td>4</td>\n",
       "    </tr>\n",
       "    <tr>\n",
       "      <td>32</td>\n",
       "      <td>0.38</td>\n",
       "      <td>9</td>\n",
       "    </tr>\n",
       "    <tr>\n",
       "      <td>33</td>\n",
       "      <td>0.33</td>\n",
       "      <td>4</td>\n",
       "    </tr>\n",
       "    <tr>\n",
       "      <td>34</td>\n",
       "      <td>0.29</td>\n",
       "      <td>8</td>\n",
       "    </tr>\n",
       "    <tr>\n",
       "      <td>35</td>\n",
       "      <td>0.25</td>\n",
       "      <td>11</td>\n",
       "    </tr>\n",
       "    <tr>\n",
       "      <td>36</td>\n",
       "      <td>0.21</td>\n",
       "      <td>16</td>\n",
       "    </tr>\n",
       "    <tr>\n",
       "      <td>37</td>\n",
       "      <td>0.17</td>\n",
       "      <td>21</td>\n",
       "    </tr>\n",
       "    <tr>\n",
       "      <td>38</td>\n",
       "      <td>0.12</td>\n",
       "      <td>33</td>\n",
       "    </tr>\n",
       "    <tr>\n",
       "      <td>39</td>\n",
       "      <td>0.08</td>\n",
       "      <td>50</td>\n",
       "    </tr>\n",
       "    <tr>\n",
       "      <td>40</td>\n",
       "      <td>0.04</td>\n",
       "      <td>94</td>\n",
       "    </tr>\n",
       "  </tbody>\n",
       "</table>\n",
       "</div>"
      ],
      "text/plain": [
       "    stop_day  quantity\n",
       "0       9.08         1\n",
       "1       6.58         1\n",
       "2       6.46         1\n",
       "3       5.46         1\n",
       "4       5.29         1\n",
       "5       5.12         1\n",
       "6       4.33         1\n",
       "7       4.04         1\n",
       "8       3.21         1\n",
       "9       3.12         1\n",
       "10      3.00         1\n",
       "11      2.38         1\n",
       "12      1.96         1\n",
       "13      1.92         1\n",
       "14      1.54         1\n",
       "15      1.29         2\n",
       "16      1.21         2\n",
       "17      1.17         2\n",
       "18      1.12         1\n",
       "19      1.08         1\n",
       "20      1.04         3\n",
       "21      0.88         1\n",
       "22      0.83         1\n",
       "23      0.79         1\n",
       "24      0.75         1\n",
       "25      0.71         3\n",
       "26      0.62         1\n",
       "27      0.58         4\n",
       "28      0.54         4\n",
       "29      0.50         4\n",
       "30      0.46         3\n",
       "31      0.42         4\n",
       "32      0.38         9\n",
       "33      0.33         4\n",
       "34      0.29         8\n",
       "35      0.25        11\n",
       "36      0.21        16\n",
       "37      0.17        21\n",
       "38      0.12        33\n",
       "39      0.08        50\n",
       "40      0.04        94"
      ]
     },
     "execution_count": 19,
     "metadata": {},
     "output_type": "execute_result"
    }
   ],
   "source": [
    "#посмотрим сколько длились простои и их количество\n",
    "_df = pd.DataFrame(list_day_stop.value_counts().sort_index(ascending=False).reset_index())\n",
    "_df.columns = ('stop_hour','quantity')\n",
    "_df['stop_day'] = _df['stop_hour']/24\n",
    "_df[['stop_day','quantity']]"
   ]
  },
  {
   "cell_type": "markdown",
   "metadata": {},
   "source": [
    "Как мы видим, один несколько раз производство простаивало вплоть до 9 дней. Много мелких остановов(до 2-3 часов). Но предположим что это связано с локальными сбоями АСУТП. Можно бы было почистить данные на основании этой информации, но это довольно трудоемко в рамках данного проекта."
   ]
  },
  {
   "cell_type": "code",
   "execution_count": 20,
   "metadata": {},
   "outputs": [
    {
     "data": {
      "text/plain": [
       "secondary_cleaner.output.tail_sol        19.25\n",
       "rougher.output.recovery                  10.31\n",
       "rougher.output.recovery_calc              8.64\n",
       "secondary_cleaner.output.tail_pb          7.13\n",
       "secondary_cleaner.output.tail_ag          7.05\n",
       "secondary_cleaner.output.tail_au          7.04\n",
       "rougher.output.tail_ag                    6.19\n",
       "rougher.output.tail_sol                   6.18\n",
       "rougher.output.tail_au                    6.18\n",
       "rougher.input.floatbank11_xanthate        4.74\n",
       "primary_cleaner.output.concentrate_sol    4.50\n",
       "hour                                      4.17\n",
       "final.output.tail_pb                      3.60\n",
       "primary_cleaner.output.tail_sol           3.49\n",
       "rougher.state.floatbank10_e_air           3.37\n",
       "final.output.tail_sol                     3.35\n",
       "rougher.output.concentrate_sol            3.15\n",
       "final.output.concentrate_sol              3.12\n",
       "final.output.tail_ag                      2.85\n",
       "final.output.tail_au                      2.85\n",
       "dtype: float64"
      ]
     },
     "metadata": {},
     "output_type": "display_data"
    },
    {
     "data": {
      "text/plain": [
       "rougher.output.recovery                    4.61\n",
       "final.output.recovery                      2.01\n",
       "rougher.input.feed_sol                     0.82\n",
       "rougher.input.floatbank11_xanthate         0.68\n",
       "secondary_cleaner.state.floatbank3_a_air   0.26\n",
       "primary_cleaner.input.depressant           0.16\n",
       "rougher.input.floatbank11_sulfate          0.16\n",
       "primary_cleaner.input.sulfate              0.13\n",
       "primary_cleaner.input.xanthate             0.13\n",
       "secondary_cleaner.state.floatbank2_b_air   0.09\n",
       "rougher.input.floatbank10_sulfate          0.09\n",
       "rougher.input.feed_rate                    0.09\n",
       "secondary_cleaner.state.floatbank2_a_air   0.05\n",
       "rougher.input.floatbank10_xanthate         0.02\n",
       "rougher.input.feed_au                      0.00\n",
       "rougher.input.feed_size                    0.00\n",
       "rougher.input.feed_ag                      0.00\n",
       "rougher.input.feed_pb                      0.00\n",
       "rougher.state.floatbank10_a_level          0.00\n",
       "primary_cleaner.state.floatbank8_d_level   0.00\n",
       "dtype: float64"
      ]
     },
     "metadata": {},
     "output_type": "display_data"
    }
   ],
   "source": [
    "# удалим данные  в трейне где заполнено не менее 65 признаков  \n",
    "# удалим данные  в трейне где заполнено не менее 50 признаков \n",
    "train.dropna(axis=0,thresh=65,inplace=True)\n",
    "test.dropna(axis=0,thresh=50,inplace=True)\n",
    "\n",
    "# посмотрим, как изменились показатели\n",
    "#train.isnull().sum().sort_values(ascending=False)[:50]\n",
    "missing_values(train)\n",
    "missing_values(test)"
   ]
  },
  {
   "cell_type": "code",
   "execution_count": 21,
   "metadata": {},
   "outputs": [
    {
     "data": {
      "text/plain": [
       "1605"
      ]
     },
     "execution_count": 21,
     "metadata": {},
     "output_type": "execute_result"
    }
   ],
   "source": [
    "train['rougher.output.recovery'].isnull().sum()\n",
    "# Количество пропусков в целевом признаке сократилось с 2800 до 1600\n",
    "# теперь можем приступить к заполнениею"
   ]
  },
  {
   "cell_type": "code",
   "execution_count": 22,
   "metadata": {},
   "outputs": [],
   "source": [
    "#удалим пропуски с целевыми признаками\n",
    "train = train.dropna(subset = ['rougher.output.recovery','final.output.recovery'])\n",
    "test = test.dropna(subset = ['rougher.output.recovery','final.output.recovery'])"
   ]
  },
  {
   "cell_type": "code",
   "execution_count": 23,
   "metadata": {},
   "outputs": [],
   "source": [
    "train.dropna(inplace=True)\n",
    "test.dropna(inplace=True)"
   ]
  },
  {
   "cell_type": "raw",
   "metadata": {},
   "source": [
    "# Заполним пропуски в train, используя метод ближайших соседей\n",
    "\n",
    "#возьмем все столбцы с числами\n",
    "numeric_train = train.select_dtypes(include=np.number).columns.tolist()\n",
    "\n",
    "#KNNImputer \n",
    "imputer_train = KNNImputer(n_neighbors=5) #KNNImputer(n_neighbors=2,add_indicator=True,weights='uniform',missing_values=np.nan)  \n",
    "train_transform = imputer_train.fit_transform(train[numeric_train])\n",
    "_df = pd.DataFrame(train_transform,columns=numeric_train,index= train.index)\n",
    "\n",
    "# посмотрим, какие столбцы остались без трансформации\n",
    "list_not_number = (list(set(train)-set(_df))) \n",
    "print(train.shape, _df.shape)\n",
    "\n",
    "train = pd.concat([train[list_not_number],_df],axis=1)\n",
    "#train[numeric_train] = train[numeric_train].update(_df,overwrite=False)\n",
    "print(train.isnull().sum())\n"
   ]
  },
  {
   "cell_type": "raw",
   "metadata": {},
   "source": [
    "# Заполним пропуски в test, используя метод ближайших соседей\n",
    "\n",
    "#возьмем все столбцы с числами\n",
    "numeric_test = test.select_dtypes(include=np.number).columns.tolist()\n",
    "\n",
    "#KNNImputer \n",
    "imputer_test = KNNImputer(n_neighbors=5) #KNNImputer(n_neighbors=2,add_indicator=True,weights='uniform',missing_values=np.nan)  \n",
    "test_transform = imputer_test.fit_transform(test[numeric_test])\n",
    "_df = pd.DataFrame(test_transform,columns=numeric_test,index= test.index)\n",
    "\n",
    "# посмотрим, какие столбцы остались без трансформации\n",
    "list_not_number = (list(set(test)-set(_df))) \n",
    "print(test.shape, _df.shape)\n",
    "test = pd.concat([test[list_not_number],_df],axis=1)\n",
    "#test[numeric_test] = test[numeric_test].update(_df,overwrite=False)\n",
    "print(test.isnull().sum())\n"
   ]
  },
  {
   "cell_type": "code",
   "execution_count": 24,
   "metadata": {},
   "outputs": [
    {
     "name": "stdout",
     "output_type": "stream",
     "text": [
      "(9857, 55) (5105, 55)\n"
     ]
    }
   ],
   "source": [
    "#скопируем трейн для анализа\n",
    "train_copy = train.copy()\n",
    "\n",
    "#в трейне оставим только те признаки, которые можно использовать в модели для обучения \n",
    "train_set = set(train.columns.to_list())\n",
    "test_set = set(test.columns.to_list())\n",
    "train_and_test = list(train_set & test_set)\n",
    "train = train[train_and_test]\n",
    "print(train.shape,test.shape)"
   ]
  },
  {
   "cell_type": "markdown",
   "metadata": {},
   "source": [
    "Промежуточные итоги:\n",
    "- проверили датасэты на дубликаты \n",
    "- Проанализировали различия в train и test по сравнению с исходными данными full. Добавили целевые признаки в test, и убрали признаки на которых нельзя обучать модель из train\n",
    "- проверили, что обогащение рассчитывается корректно\n",
    "- посчитали значение метрики MAE между нашими расчетами и табличными данными test.\n",
    "- проанализировали признаки, недоступные на тестовой выборке\n",
    "- подобрали порог для удаления данных (чтобы не удалить много лишнего)\n",
    "- поменяли нули  на NAN чтобы можно было в дальнейшем работать с пропусками\n",
    "- поанализировали данные в разрезе Года, Месяца, дней месяца, дней недели, часа. Чтобы попытаться выявить причины простоя\n",
    "- Посмотрели на время просто\n",
    "- заполнили пропуски методом KNN imputer\n"
   ]
  },
  {
   "cell_type": "markdown",
   "metadata": {},
   "source": [
    "## Анализ данных"
   ]
  },
  {
   "cell_type": "markdown",
   "metadata": {},
   "source": [
    "### 2.1 Исследование изменения концентрации элементов на каждом этапе  "
   ]
  },
  {
   "cell_type": "code",
   "execution_count": 25,
   "metadata": {},
   "outputs": [
    {
     "name": "stdout",
     "output_type": "stream",
     "text": [
      "final.output.concentrate_ag\n",
      "final.output.concentrate_pb\n",
      "final.output.concentrate_au\n",
      "primary_cleaner.output.concentrate_ag\n",
      "primary_cleaner.output.concentrate_pb\n",
      "primary_cleaner.output.concentrate_au\n",
      "rougher.output.concentrate_ag\n",
      "rougher.output.concentrate_pb\n",
      "rougher.output.concentrate_au\n"
     ]
    }
   ],
   "source": [
    "#Посмотритм, как меняется концентрация металлов (Au, Ag, Pb) на различных этапах очистки\n",
    "#выберем инетересующие нас признаки отбросив хвосты и взяв только выход\n",
    "for column in train_copy.columns:\n",
    "    for metall in ['au','ag','pb']:        \n",
    "        if (column.find(metall))!=-1:\n",
    "            if column.find('output') > 0 and column.find('tail')==-1:\n",
    "                print(column)"
   ]
  },
  {
   "cell_type": "code",
   "execution_count": 26,
   "metadata": {},
   "outputs": [
    {
     "data": {
      "image/png": "[encoded data removed]",
      "text/plain": [
       "<Figure size 720x288 with 1 Axes>"
      ]
     },
     "metadata": {
      "needs_background": "light"
     },
     "output_type": "display_data"
    },
    {
     "data": {
      "image/png": "[encoded data removed]",
      "text/plain": [
       "<Figure size 720x288 with 1 Axes>"
      ]
     },
     "metadata": {
      "needs_background": "light"
     },
     "output_type": "display_data"
    },
    {
     "data": {
      "image/png": "[encoded data removed]",
      "text/plain": [
       "<Figure size 720x288 with 1 Axes>"
      ]
     },
     "metadata": {
      "needs_background": "light"
     },
     "output_type": "display_data"
    }
   ],
   "source": [
    "concentrate = {'ag':['rougher.output.concentrate_ag','primary_cleaner.output.concentrate_ag','final.output.concentrate_ag'],   \n",
    "                'pb':['rougher.output.concentrate_pb','primary_cleaner.output.concentrate_pb','final.output.concentrate_pb'],   \n",
    "                 'au':['rougher.output.concentrate_au','primary_cleaner.output.concentrate_au','final.output.concentrate_au'] }   \n",
    "# Посмотрим как меняется концентрация серебра на различных этапах очистки \n",
    "\n",
    "for key in concentrate:\n",
    "    f, ax = plt.subplots(figsize=(10, 4))  \n",
    "    for stage in concentrate[key]:\n",
    "        sns.distplot(train_copy[stage],label = stage)\n",
    "    ax.set(xlabel=f\"уровень концентрации {key}\",ylabel=\"Вероятность проявления\")\n",
    "    plt.legend()\n",
    "    plt.show()   "
   ]
  },
  {
   "cell_type": "markdown",
   "metadata": {},
   "source": [
    "<div class=\"alert alert-success\">\n",
    "    \n",
    "**Комментарий ревьюера**\n",
    "    \n",
    "Визуализация супер)\n",
    "</div>"
   ]
  },
  {
   "cell_type": "markdown",
   "metadata": {},
   "source": [
    "``Серебро``\n",
    "<br>Как мы видим на каждом этапе укровень концентрации серебра уменьшается. Оно и понятно, наша цель - получить больше золота. Так же есть пики в районе нуля, нужно будет их обработать дальше.\n",
    "\n",
    "``Cвинец``\n",
    "<br> Так же есть выбросы в районе нуля. Концентрация после флотации немного поднялась\n",
    "\n",
    "``Золото``\n",
    "<br> Так же есть выбросы в районе нуля. Но их меньше, чем в свинце и серебре. Отчетливо видно, что на каждом этапе поднимается концентрация, интересующего нас металла."
   ]
  },
  {
   "cell_type": "markdown",
   "metadata": {},
   "source": [
    "### Анализ распределения размеров гранул на обучающей и тестовой выборках"
   ]
  },
  {
   "cell_type": "markdown",
   "metadata": {},
   "source": [
    "Сравним распределения размеров гранул сырья на обучающей и тестовой выборках"
   ]
  },
  {
   "cell_type": "code",
   "execution_count": 27,
   "metadata": {},
   "outputs": [
    {
     "name": "stdout",
     "output_type": "stream",
     "text": [
      "primary_cleaner.input.feed_size\n",
      "rougher.input.feed_size\n"
     ]
    }
   ],
   "source": [
    "# найдем интересующие нас признаки\n",
    "for column in train_copy.columns:\n",
    "      if (column.find('feed_size'))!=-1:\n",
    "            print(column)"
   ]
  },
  {
   "cell_type": "code",
   "execution_count": 28,
   "metadata": {},
   "outputs": [
    {
     "data": {
      "image/png": "[encoded data removed]",
      "text/plain": [
       "<Figure size 720x288 with 1 Axes>"
      ]
     },
     "metadata": {
      "needs_background": "light"
     },
     "output_type": "display_data"
    },
    {
     "data": {
      "image/png": "[encoded data removed]",
      "text/plain": [
       "<Figure size 720x288 with 1 Axes>"
      ]
     },
     "metadata": {
      "needs_background": "light"
     },
     "output_type": "display_data"
    },
    {
     "data": {
      "image/png": "[encoded data removed]",
      "text/plain": [
       "<Figure size 720x288 with 1 Axes>"
      ]
     },
     "metadata": {
      "needs_background": "light"
     },
     "output_type": "display_data"
    },
    {
     "data": {
      "image/png": "[encoded data removed]",
      "text/plain": [
       "<Figure size 720x288 with 1 Axes>"
      ]
     },
     "metadata": {
      "needs_background": "light"
     },
     "output_type": "display_data"
    }
   ],
   "source": [
    "# Посмотрим на распределения размеров гранул сырья на обучающей и тестовой выборках \n",
    "#на этапах флотациии и первичной очистки\n",
    "\n",
    "def feed_size(column):\n",
    "    f, ax = plt.subplots(figsize=(10, 4))\n",
    "    sns.distplot(train[column],bins=150,label='train');\n",
    "    sns.distplot(test[column],bins=150,label='test');\n",
    "    plt.legend()\n",
    "    ax.set(xlim=(0, 150),xlabel='Размер гранул сырья',ylabel='Вероятность проявления',\n",
    "           title=f'Распределения размеров гранул сырья на этапе {column} ' )\n",
    "    plt.show()\n",
    "    \n",
    "    \n",
    "feed_size('rougher.input.feed_size')\n",
    "feed_size('primary_cleaner.input.feed_size')\n",
    "feed_size('rougher.output.recovery')\n",
    "feed_size('final.output.recovery')\n"
   ]
  },
  {
   "cell_type": "markdown",
   "metadata": {},
   "source": [
    "На этапе первичной обработки с распределением гранул все впорядке. Но на этапе флотации, когда приходит сырье -видна разность распределений и средних в выборках. В трейне и тесте видны тяжелые хвосты, но на тесте он больше. Нужно задать вопрос тому кто давал данные, почему так поделили выборку на трейн и тест."
   ]
  },
  {
   "cell_type": "markdown",
   "metadata": {},
   "source": [
    "### Исследование суммарных концентраций"
   ]
  },
  {
   "cell_type": "markdown",
   "metadata": {},
   "source": [
    "Исследуем суммарную концентрацию всех веществ на разных стадиях: в сырье, в черновом и финальном концентратах"
   ]
  },
  {
   "cell_type": "code",
   "execution_count": 29,
   "metadata": {},
   "outputs": [
    {
     "name": "stdout",
     "output_type": "stream",
     "text": [
      "final.output.concentrate_ag\n",
      "final.output.concentrate_pb\n",
      "final.output.concentrate_sol\n",
      "final.output.concentrate_au\n",
      "primary_cleaner.output.concentrate_ag\n",
      "primary_cleaner.output.concentrate_pb\n",
      "primary_cleaner.output.concentrate_sol\n",
      "primary_cleaner.output.concentrate_au\n",
      "rougher.output.concentrate_ag\n",
      "rougher.output.concentrate_pb\n",
      "rougher.output.concentrate_sol\n",
      "rougher.output.concentrate_au\n"
     ]
    }
   ],
   "source": [
    "for column in train_copy.columns:\n",
    "    for metall in ['au','ag','pb','sol']:        \n",
    "        if (column.find(metall))!=-1:\n",
    "            if column.find('output') > 0 and column.find('tail')==-1:\n",
    "                print(column)"
   ]
  },
  {
   "cell_type": "code",
   "execution_count": 30,
   "metadata": {},
   "outputs": [
    {
     "name": "stdout",
     "output_type": "stream",
     "text": [
      "final.output.concentrate_ag\n",
      "final.output.concentrate_pb\n",
      "final.output.concentrate_sol\n",
      "final.output.concentrate_au\n",
      "primary_cleaner.output.concentrate_ag\n",
      "primary_cleaner.output.concentrate_pb\n",
      "primary_cleaner.output.concentrate_sol\n",
      "primary_cleaner.output.concentrate_au\n",
      "rougher.calculation.sulfate_to_au_concentrate\n",
      "rougher.output.concentrate_ag\n",
      "rougher.output.concentrate_pb\n",
      "rougher.output.concentrate_sol\n",
      "rougher.output.concentrate_au\n"
     ]
    }
   ],
   "source": [
    "# посмотрим у скольки веществ измеряют конецентрацию\n",
    "for column in train_copy.columns:\n",
    "    if (column.find('state'))==-1 and column.find('concentrate')!=-1:\n",
    "        for substance in ['au','ag','pb','sol']:\n",
    "            if column.find(substance)!=-1: \n",
    "                print(column)\n",
    "concentrate = {'ag':['rougher.output.concentrate_ag','primary_cleaner.output.concentrate_ag','final.output.concentrate_ag'],   \n",
    "               'pb':['rougher.output.concentrate_pb','primary_cleaner.output.concentrate_pb','final.output.concentrate_pb'],   \n",
    "               'au':['rougher.output.concentrate_au','primary_cleaner.output.concentrate_au','final.output.concentrate_au'], \n",
    "               'sol':['rougher.output.concentrate_sol','primary_cleaner.output.concentrate_sol','final.output.concentrate_sol']}   "
   ]
  },
  {
   "cell_type": "code",
   "execution_count": 31,
   "metadata": {},
   "outputs": [
    {
     "data": {
      "image/png": "[encoded data removed]",
      "text/plain": [
       "<Figure size 576x288 with 1 Axes>"
      ]
     },
     "metadata": {
      "needs_background": "light"
     },
     "output_type": "display_data"
    },
    {
     "data": {
      "image/png": "[encoded data removed]",
      "text/plain": [
       "<Figure size 576x288 with 1 Axes>"
      ]
     },
     "metadata": {
      "needs_background": "light"
     },
     "output_type": "display_data"
    },
    {
     "data": {
      "image/png": "[encoded data removed]",
      "text/plain": [
       "<Figure size 576x288 with 1 Axes>"
      ]
     },
     "metadata": {
      "needs_background": "light"
     },
     "output_type": "display_data"
    },
    {
     "data": {
      "image/png": "[encoded data removed]",
      "text/plain": [
       "<Figure size 576x288 with 1 Axes>"
      ]
     },
     "metadata": {
      "needs_background": "light"
     },
     "output_type": "display_data"
    }
   ],
   "source": [
    "# посчитаем суммы концентраций метал\n",
    "for key in concentrate:\n",
    "    train_copy[key] = train_copy[concentrate[key][0]] +train_copy[concentrate[key][1]] +train_copy[concentrate[key][2]]\n",
    "keys = list(concentrate.keys())\n",
    "\n",
    "#построим диаграммы плотности распределений по концентрату каждого ведества\n",
    "for key in keys:\n",
    "    f, ax = plt.subplots(figsize=(8, 4))\n",
    "    sns.distplot(train_copy[key])\n",
    "    #sns.distplot(test[key])\n",
    "    ax.set(xlabel=f'Суммарная концентрация по вещенству {key}',ylabel='Вероятность проявления',\n",
    "           title=f'Суммарная концентрация по вещенству {key}' )\n",
    "    plt.show()\n"
   ]
  },
  {
   "cell_type": "markdown",
   "metadata": {},
   "source": [
    "Заметили аномальные значения в суммарном распределении или нет? Если они есть, стоит ли их удалять из обеих выборок? Опишите выводы и удалите аномалии."
   ]
  },
  {
   "cell_type": "markdown",
   "metadata": {},
   "source": [
    "### Анализ и обработка аномальных значений"
   ]
  },
  {
   "cell_type": "raw",
   "metadata": {},
   "source": [
    "#Заметим что нам попадаются почти нулевые значения, это очевидно пропуски, заменим их на NaN\n",
    "def replace_low_value(df):\n",
    "    \n",
    "    numeric_df = df.select_dtypes(include=np.number).columns.tolist()\n",
    "    for column in df[numeric_df].columns:\n",
    "        df.loc[((df[column] < 0.1)&(df[column] > 0)),column] = np.nan\n",
    "    print(df.shape)\n",
    "    print(df.isnull().sum())\n",
    "    df = KNNImputer_df(df,numeric_df)\n",
    "    print(df.isnull().sum())\n",
    "    print(df.shape)\n",
    "    return df \n",
    "\n",
    "# Заполним пропуски в df, используя метод ближайших соседей\n",
    "def KNNImputer_df(df,numeric_df):\n",
    "    imputer_df = KNNImputer(n_neighbors=5)\n",
    "    df_transform = imputer_df.fit_transform(df[numeric_df])\n",
    "    _df = pd.DataFrame(df_transform,columns=numeric_df,index= df.index)\n",
    "    df = pd.concat([df['date'],_df],axis=1)\n",
    "    return df\n",
    "# вызовем заполнение пропусков значений, которые рядом с нулем\n",
    "#train = replace_low_value(train)\n",
    "#test = replace_low_value(test)"
   ]
  },
  {
   "cell_type": "markdown",
   "metadata": {},
   "source": [
    "В данном случае нужно анализировать диапазон каждого признака и понимать тех. процесс, чтобы удалять признаки близкие к нулю. Поэтому мы не буедм удалять значения близкие к нулю для всего датафрэйма. Необходимы дополнительные консультации с аналитиками и экспертами в доменной облати. "
   ]
  },
  {
   "cell_type": "raw",
   "metadata": {},
   "source": [
    "#Проверим данные на мультиколинеарность\n",
    "train.corr().unstack().sort_values().drop_duplicates().sort_values(ascending=False)[0:40]"
   ]
  },
  {
   "cell_type": "markdown",
   "metadata": {},
   "source": [
    "Как видим много коллинеарных признаков с состояниями, не будем пока принимать решение об удалении признаков."
   ]
  },
  {
   "cell_type": "markdown",
   "metadata": {},
   "source": [
    "## 3. Модель"
   ]
  },
  {
   "cell_type": "markdown",
   "metadata": {},
   "source": [
    "### 3.1 Напишем функцию для вычисления итоговой sMAPE."
   ]
  },
  {
   "cell_type": "code",
   "execution_count": 32,
   "metadata": {},
   "outputs": [],
   "source": [
    "def sMAPE(actual,forecast):\n",
    "    sMAPE= 1/len(actual) * np.sum(2 * np.abs(forecast-actual) / (np.abs(actual) + np.abs(forecast))*100)\n",
    "    return sMAPE\n",
    "#actual = np.array([12, 13, 14, 15, 15,22, 27])\n",
    "#forecast = np.array([11, 13, 14, 14, 15, 16, 18])\n",
    "#sMAPE = 0.25*sMAPE(actual,forecast)+0.75*sMAPE(actual,forecast)\n",
    "#print('{:.2f}'.format(sMAPE))"
   ]
  },
  {
   "cell_type": "markdown",
   "metadata": {},
   "source": [
    "### 3.2 Обучим разные модели и оценим их качество кросс-валидацией. "
   ]
  },
  {
   "cell_type": "code",
   "execution_count": 33,
   "metadata": {},
   "outputs": [],
   "source": [
    "# перемешаем данные для модели\n",
    "train = train.sample(frac=1).reset_index(drop=True)\n",
    "test = test.sample(frac=1).reset_index(drop=True)"
   ]
  },
  {
   "cell_type": "code",
   "execution_count": 34,
   "metadata": {},
   "outputs": [
    {
     "data": {
      "text/plain": [
       "Index(['rougher.input.floatbank11_xanthate',\n",
       "       'rougher.state.floatbank10_e_level',\n",
       "       'primary_cleaner.state.floatbank8_b_air',\n",
       "       'rougher.state.floatbank10_b_air', 'rougher.state.floatbank10_d_level',\n",
       "       'rougher.input.feed_au', 'secondary_cleaner.state.floatbank4_a_air',\n",
       "       'rougher.input.feed_pb', 'rougher.state.floatbank10_a_air',\n",
       "       'rougher.state.floatbank10_d_air', 'rougher.input.floatbank10_xanthate',\n",
       "       'rougher.input.floatbank10_sulfate',\n",
       "       'secondary_cleaner.state.floatbank3_b_air',\n",
       "       'primary_cleaner.state.floatbank8_d_level',\n",
       "       'primary_cleaner.input.xanthate',\n",
       "       'secondary_cleaner.state.floatbank4_b_level', 'rougher.input.feed_size',\n",
       "       'primary_cleaner.state.floatbank8_d_air',\n",
       "       'secondary_cleaner.state.floatbank6_a_air',\n",
       "       'rougher.state.floatbank10_c_level',\n",
       "       'rougher.input.floatbank11_sulfate',\n",
       "       'secondary_cleaner.state.floatbank5_b_air',\n",
       "       'secondary_cleaner.state.floatbank3_b_level',\n",
       "       'secondary_cleaner.state.floatbank3_a_level',\n",
       "       'primary_cleaner.input.depressant', 'rougher.state.floatbank10_b_level',\n",
       "       'rougher.input.feed_sol', 'rougher.state.floatbank10_f_level',\n",
       "       'secondary_cleaner.state.floatbank4_a_level',\n",
       "       'secondary_cleaner.state.floatbank2_b_level',\n",
       "       'secondary_cleaner.state.floatbank2_a_air',\n",
       "       'primary_cleaner.state.floatbank8_c_level',\n",
       "       'secondary_cleaner.state.floatbank6_a_level', 'rougher.input.feed_rate',\n",
       "       'secondary_cleaner.state.floatbank2_b_air',\n",
       "       'secondary_cleaner.state.floatbank5_a_level',\n",
       "       'rougher.state.floatbank10_e_air', 'rougher.input.feed_ag',\n",
       "       'final.output.recovery', 'secondary_cleaner.state.floatbank3_a_air',\n",
       "       'date', 'primary_cleaner.state.floatbank8_a_air',\n",
       "       'primary_cleaner.input.sulfate',\n",
       "       'primary_cleaner.state.floatbank8_a_level',\n",
       "       'primary_cleaner.input.feed_size', 'rougher.output.recovery',\n",
       "       'secondary_cleaner.state.floatbank5_a_air',\n",
       "       'rougher.state.floatbank10_f_air',\n",
       "       'primary_cleaner.state.floatbank8_b_level',\n",
       "       'secondary_cleaner.state.floatbank4_b_air',\n",
       "       'secondary_cleaner.state.floatbank2_a_level',\n",
       "       'primary_cleaner.state.floatbank8_c_air',\n",
       "       'secondary_cleaner.state.floatbank5_b_level',\n",
       "       'rougher.state.floatbank10_a_level', 'rougher.state.floatbank10_c_air'],\n",
       "      dtype='object')"
      ]
     },
     "execution_count": 34,
     "metadata": {},
     "output_type": "execute_result"
    }
   ],
   "source": [
    "train.columns"
   ]
  },
  {
   "cell_type": "code",
   "execution_count": 35,
   "metadata": {},
   "outputs": [],
   "source": [
    "def smape_cross_final(df,model):\n",
    "    no_rouher = filter(lambda x: x.find('rougher'),test.columns.to_list())\n",
    "    rouher =  list(set(test.columns)-set(no_rouher))\n",
    "    feature = df.drop(['secondary_cleaner.state.floatbank6_a_level','date','rougher.output.recovery','final.output.recovery']+rouher ,axis=1)\n",
    "    target = df['final.output.recovery']\n",
    "    return (abs(np.mean(cross_val_score(model, feature,target,scoring=make_scorer(sMAPE, greater_is_better=False), cv=5,n_jobs=-1))))\n",
    "\n",
    "def smape_cross_rougher(df,model):\n",
    "    no_rouher = filter(lambda x: x.find('rougher'),test.columns.to_list())\n",
    "    no_rouher = list(no_rouher)\n",
    "    feature = df.drop(['secondary_cleaner.state.floatbank6_a_level','date','final.output.recovery']+no_rouher ,axis=1)\n",
    "    target = df['rougher.output.recovery']\n",
    "    return (abs(np.mean(cross_val_score(model, feature,target,scoring=make_scorer(sMAPE, greater_is_better=False), cv=5,n_jobs=-1))))"
   ]
  },
  {
   "cell_type": "code",
   "execution_count": 36,
   "metadata": {},
   "outputs": [],
   "source": [
    "#Посчитаем окончательное sMAPE \n",
    "def ultimate_sMAPE(model,type_model):\n",
    "    sMAPE_rougher = smape_cross_rougher(train,model)\n",
    "    sMAPE_final= smape_cross_final(train,model)\n",
    "    print('sMAPE rougher для модели {} равно {}'.format(type_model,smape_cross_rougher(train,model)))\n",
    "    print('sMAPE final для модели {} равно {:.2f}'.format(type_model,smape_cross_final(train,model)))\n",
    "    print('Итоговое sMAPE  для модели {} равно {:.2f}'.format(type_model,(sMAPE_rougher*0.25 + sMAPE_final*0.75)))    "
   ]
  },
  {
   "cell_type": "markdown",
   "metadata": {},
   "source": [
    "### Посмотрим на модели"
   ]
  },
  {
   "cell_type": "raw",
   "metadata": {},
   "source": [
    "%%time\n",
    "model_DT = DecisionTreeRegressor()\n",
    "ultimate_sMAPE(model_DT,'DecisionTreeRegressor')\n",
    "print()"
   ]
  },
  {
   "cell_type": "code",
   "execution_count": 37,
   "metadata": {},
   "outputs": [
    {
     "name": "stdout",
     "output_type": "stream",
     "text": [
      "sMAPE rougher для модели LinearRegression равно 3.685167046407546e-14\n",
      "sMAPE final для модели LinearRegression равно 7.27\n",
      "Итоговое sMAPE  для модели LinearRegression равно 5.45\n",
      "\n",
      "CPU times: user 1.99 s, sys: 2.45 s, total: 4.44 s\n",
      "Wall time: 4.4 s\n"
     ]
    }
   ],
   "source": [
    "%%time\n",
    "model_LR = LinearRegression()\n",
    "ultimate_sMAPE(model_LR,'LinearRegression')\n",
    "print()"
   ]
  },
  {
   "cell_type": "raw",
   "metadata": {},
   "source": [
    "%%time\n",
    "model_RF = RandomForestRegressor()\n",
    "ultimate_sMAPE(model_RF,'RandomForestRegressor')\n",
    "print()"
   ]
  },
  {
   "cell_type": "code",
   "execution_count": 38,
   "metadata": {},
   "outputs": [
    {
     "name": "stdout",
     "output_type": "stream",
     "text": [
      "sMAPE rougher для модели DummyRegressor равно 6.952636343180269\n",
      "sMAPE final для модели DummyRegressor равно 8.93\n",
      "Итоговое sMAPE  для модели DummyRegressor равно 8.43\n",
      "\n",
      "CPU times: user 118 ms, sys: 39.5 ms, total: 157 ms\n",
      "Wall time: 202 ms\n"
     ]
    }
   ],
   "source": [
    "%%time\n",
    "dummy_clf = DummyRegressor()\n",
    "ultimate_sMAPE(dummy_clf,'DummyRegressor')\n",
    "print()"
   ]
  },
  {
   "cell_type": "markdown",
   "metadata": {},
   "source": [
    "Лучший результат показала линейная регрессия. Различные методы предобработки данных за исключением удаления явных нулей и пропусков не принесли результатов по улучшению метрик"
   ]
  },
  {
   "cell_type": "code",
   "execution_count": 39,
   "metadata": {},
   "outputs": [],
   "source": [
    "# Проверим данные на тестовой выборке"
   ]
  },
  {
   "cell_type": "code",
   "execution_count": 40,
   "metadata": {},
   "outputs": [],
   "source": [
    "def get_train_test_rougher():\n",
    "    #no_rouher = filter(lambda x: x.find('rougher'),train.columns.to_list())\n",
    "    #no_rouher = list(no_rouher)\n",
    "    features_train = train.drop(['date','final.output.recovery','rougher.output.recovery'] ,axis=1)\n",
    "    target_train = train['rougher.output.recovery']\n",
    "    features_test = test.drop(['date','final.output.recovery','rougher.output.recovery'],axis=1)\n",
    "    target_test = test['rougher.output.recovery']\n",
    "    return features_train,target_train,features_test,target_test\n",
    "\n",
    "def get_train_test_final():\n",
    "    no_rouher = filter(lambda x: x.find('rougher'),train.columns.to_list())\n",
    "    rouher =  list(set(test.columns)-set(no_rouher))\n",
    "    features_train = train.drop(['secondary_cleaner.state.floatbank6_a_level','date','final.output.recovery']+rouher ,axis=1)\n",
    "    target_train = train['final.output.recovery']\n",
    "    features_test = test.drop(['secondary_cleaner.state.floatbank6_a_level','date','final.output.recovery']+rouher ,axis=1)\n",
    "    target_test = test['final.output.recovery']\n",
    "    return features_train,target_train,features_test,target_test"
   ]
  },
  {
   "cell_type": "raw",
   "metadata": {},
   "source": [
    "def get_train_test_rougher():\n",
    "    no_rouher = filter(lambda x: x.find('rougher'),train.columns.to_list())\n",
    "    no_rouher = list(no_rouher)\n",
    "    features_train = train.drop(['secondary_cleaner.state.floatbank6_a_level','date','final.output.recovery']+no_rouher ,axis=1)\n",
    "    target_train = train['rougher.output.recovery']\n",
    "    features_test = test.drop(['secondary_cleaner.state.floatbank6_a_level','date','final.output.recovery']+no_rouher ,axis=1)\n",
    "    target_test = test['rougher.output.recovery']\n",
    "    return features_train,target_train,features_test,target_test\n",
    "\n",
    "def get_train_test_final():\n",
    "    no_rouher = filter(lambda x: x.find('rougher'),train.columns.to_list())\n",
    "    rouher =  list(set(test.columns)-set(no_rouher))\n",
    "    features_train = train.drop(['secondary_cleaner.state.floatbank6_a_level','date','rougher.output.recovery','final.output.recovery']+rouher ,axis=1)\n",
    "    target_train = train['final.output.recovery']\n",
    "    features_test = test.drop(['secondary_cleaner.state.floatbank6_a_level','date','rougher.output.recovery','final.output.recovery']+rouher ,axis=1)\n",
    "    target_test = test['final.output.recovery']\n",
    "    return features_train,target_train,features_test,target_test"
   ]
  },
  {
   "cell_type": "code",
   "execution_count": 41,
   "metadata": {},
   "outputs": [],
   "source": [
    "#упорядочим признаки, чтобы модель работала корректно\n",
    "train = train.sort_index(axis=1)\n",
    "test = test.sort_index(axis=1)"
   ]
  },
  {
   "cell_type": "code",
   "execution_count": 45,
   "metadata": {},
   "outputs": [
    {
     "name": "stdout",
     "output_type": "stream",
     "text": [
      "rougher sMAPE 4.797369886901789\n",
      "Final sMAPE 4.797369886901789\n",
      "Итоговое sMAPE   равно 4.80\n"
     ]
    }
   ],
   "source": [
    "# посчитаем sMAPE для rougher\n",
    "features_train,target_train,features_test,target_test = get_train_test_rougher()\n",
    "model_LR_R = LinearRegression()\n",
    "model_LR_R.fit(features_train,target_train)\n",
    "predicted_test = model_LR_R.predict(features_test)\n",
    "sMAPE_rougher = sMAPE(target_test,predicted_test)\n",
    "print('rougher sMAPE',sMAPE_rougher)\n",
    "model_LR_F = LinearRegression()\n",
    "model_LR_F.fit(features_train,target_train)\n",
    "predicted_test = model_LR_F.predict(features_test)\n",
    "sMAPE_final = sMAPE(target_test,predicted_test)\n",
    "print('Final sMAPE',sMAPE_final)\n",
    "\n",
    "# посчитаем sMAPE для final\n",
    "features_train,target_train,features_test,target_test = get_train_test_final()\n",
    "print('Итоговое sMAPE   равно {:.2f}'.format((sMAPE_rougher*0.25 + sMAPE_final*0.75))) "
   ]
  },
  {
   "cell_type": "markdown",
   "metadata": {},
   "source": [
    "## Чек-лист готовности проекта"
   ]
  },
  {
   "cell_type": "markdown",
   "metadata": {},
   "source": [
    "- [x]  Jupyter Notebook открыт\n",
    "- [x]  Весь код выполняется без ошибок\n",
    "- [x]  Ячейки с кодом расположены в порядке выполнения\n",
    "- [x]  Выполнен шаг 1: данные подготовлены\n",
    "    - [x]  Проверена формула вычисления эффективности обогащения\n",
    "    - [x]  Проанализированы признаки, недоступные в тестовой выборке\n",
    "    - [x]  Проведена предобработка данных\n",
    "- [x]  Выполнен шаг 2: данные проанализированы\n",
    "    - [x]  Исследовано изменение концентрации элементов на каждом этапе\n",
    "    - [x]  Проанализированы распределения размеров гранул на обучающей и тестовой выборках\n",
    "    - [x]  Исследованы суммарные концентрации\n",
    "    - [x]  Проанализированы и обработаны аномальные значения\n",
    "- [x]  Выполнен шаг 3: построена модель прогнозирования\n",
    "    - [x]  Написана функция для вычисления итогового *sMAPE*\n",
    "    - [x]  Обучено и проверено несколько моделей\n",
    "    - [x]  Выбрана лучшая модель, её качество проверено на тестовой выборке"
   ]
  }
 ],
 "metadata": {
  "kernelspec": {
   "display_name": "Python 3 (ipykernel)",
   "language": "python",
   "name": "python3"
  },
  "language_info": {
   "codemirror_mode": {
    "name": "ipython",
    "version": 3
   },
   "file_extension": ".py",
   "mimetype": "text/x-python",
   "name": "python",
   "nbconvert_exporter": "python",
   "pygments_lexer": "ipython3",
   "version": "3.8.8"
  },
  "toc": {
   "base_numbering": 1,
   "nav_menu": {},
   "number_sections": false,
   "sideBar": false,
   "skip_h1_title": false,
   "title_cell": "Содержание",
   "title_sidebar": "Contents",
   "toc_cell": false,
   "toc_position": {
    "height": "100px",
    "left": "1173.89px",
    "top": "877.778px",
    "width": "165px"
   },
   "toc_section_display": false,
   "toc_window_display": false
  }
 },
 "nbformat": 4,
 "nbformat_minor": 2
}
