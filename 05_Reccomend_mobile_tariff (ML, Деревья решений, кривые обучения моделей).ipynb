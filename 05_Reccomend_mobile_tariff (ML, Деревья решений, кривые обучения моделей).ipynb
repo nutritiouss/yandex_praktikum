{
 "cells": [
  {
   "cell_type": "markdown",
   "metadata": {},
   "source": [
    "# Рекомендация тарифов"
   ]
  },
  {
   "cell_type": "markdown",
   "metadata": {},
   "source": [
    "В вашем распоряжении данные о поведении клиентов, которые уже перешли на эти тарифы (из проекта курса «Статистический анализ данных»). Нужно построить модель для задачи классификации, которая выберет подходящий тариф. Предобработка данных не понадобится — вы её уже сделали.\n",
    "\n",
    "Постройте модель с максимально большим значением *accuracy*. Чтобы сдать проект успешно, нужно довести долю правильных ответов по крайней мере до 0.75. Проверьте *accuracy* на тестовой выборке самостоятельно.\n",
    "\n",
    "Описание данных\n",
    "Каждый объект в наборе данных — это информация о поведении одного пользователя за месяц. Известно:\n",
    "•\tсalls — количество звонков,\n",
    "•\tminutes — суммарная длительность звонков в минутах,\n",
    "•\tmessages — количество sms-сообщений,\n",
    "•\tmb_used — израсходованный интернет-трафик в Мб,\n",
    "•\tis_ultra — каким тарифом пользовался в течение месяца («Ультра» — 1, «Смарт» — 0).\n",
    "\n",
    "**Оглавление:** <a id=\"toc\"></a>\n",
    "1. [Откроем и изучим файл](#15)\n",
    "2. [Разобьем данные на выборки](#25)\n",
    "3. [Исследуем модели](#35)\n",
    "4. [Проверим модели на тестовой выборке](#45)\n",
    "5. [Проверим модели на адекватность](#55)\n"
   ]
  },
  {
   "cell_type": "markdown",
   "metadata": {},
   "source": [
    "## Откройте и изучите файл <a id=\"15\"></a>"
   ]
  },
  {
   "cell_type": "code",
   "execution_count": 1,
   "metadata": {},
   "outputs": [],
   "source": [
    "import pandas as pd\n",
    "import numpy as np\n",
    "from IPython.display import display\n",
    "%matplotlib inline\n",
    "import seaborn as sns\n",
    "import matplotlib.pyplot as plt\n",
    "\n",
    "from sklearn.tree import DecisionTreeClassifier\n",
    "from sklearn.tree import export_graphviz \n",
    "from sklearn.metrics import accuracy_score\n",
    "from sklearn.linear_model import LogisticRegression\n",
    "#import warnings\n",
    "#warnings.simplefilter('ignore')\n",
    "\n",
    "# будем отображать только 2 знака после запятой\n",
    "pd.set_option(\"precision\", 2)"
   ]
  },
  {
   "cell_type": "code",
   "execution_count": 3,
   "metadata": {},
   "outputs": [],
   "source": [
    "df = pd.read_csv(\"https://code.s3.yandex.net/datasets/users_behavior.csv\")"
   ]
  },
  {
   "cell_type": "code",
   "execution_count": 4,
   "metadata": {},
   "outputs": [
    {
     "name": "stdout",
     "output_type": "stream",
     "text": [
      "<class 'pandas.core.frame.DataFrame'>\n",
      "RangeIndex: 3214 entries, 0 to 3213\n",
      "Data columns (total 5 columns):\n",
      "calls       3214 non-null float64\n",
      "minutes     3214 non-null float64\n",
      "messages    3214 non-null float64\n",
      "mb_used     3214 non-null float64\n",
      "is_ultra    3214 non-null int64\n",
      "dtypes: float64(4), int64(1)\n",
      "memory usage: 125.7 KB\n"
     ]
    }
   ],
   "source": [
    "df.info()"
   ]
  },
  {
   "cell_type": "markdown",
   "metadata": {},
   "source": [
    "В датасэте 3214 записей, пропусков нет , "
   ]
  },
  {
   "cell_type": "code",
   "execution_count": 5,
   "metadata": {},
   "outputs": [
    {
     "data": {
      "text/html": [
       "<div>\n",
       "<style scoped>\n",
       "    .dataframe tbody tr th:only-of-type {\n",
       "        vertical-align: middle;\n",
       "    }\n",
       "\n",
       "    .dataframe tbody tr th {\n",
       "        vertical-align: top;\n",
       "    }\n",
       "\n",
       "    .dataframe thead th {\n",
       "        text-align: right;\n",
       "    }\n",
       "</style>\n",
       "<table border=\"1\" class=\"dataframe\">\n",
       "  <thead>\n",
       "    <tr style=\"text-align: right;\">\n",
       "      <th></th>\n",
       "      <th>calls</th>\n",
       "      <th>minutes</th>\n",
       "      <th>messages</th>\n",
       "      <th>mb_used</th>\n",
       "      <th>is_ultra</th>\n",
       "    </tr>\n",
       "  </thead>\n",
       "  <tbody>\n",
       "    <tr>\n",
       "      <td>3209</td>\n",
       "      <td>122.0</td>\n",
       "      <td>910.98</td>\n",
       "      <td>20.0</td>\n",
       "      <td>35124.90</td>\n",
       "      <td>1</td>\n",
       "    </tr>\n",
       "    <tr>\n",
       "      <td>3210</td>\n",
       "      <td>25.0</td>\n",
       "      <td>190.36</td>\n",
       "      <td>0.0</td>\n",
       "      <td>3275.61</td>\n",
       "      <td>0</td>\n",
       "    </tr>\n",
       "    <tr>\n",
       "      <td>3211</td>\n",
       "      <td>97.0</td>\n",
       "      <td>634.44</td>\n",
       "      <td>70.0</td>\n",
       "      <td>13974.06</td>\n",
       "      <td>0</td>\n",
       "    </tr>\n",
       "    <tr>\n",
       "      <td>3212</td>\n",
       "      <td>64.0</td>\n",
       "      <td>462.32</td>\n",
       "      <td>90.0</td>\n",
       "      <td>31239.78</td>\n",
       "      <td>0</td>\n",
       "    </tr>\n",
       "    <tr>\n",
       "      <td>3213</td>\n",
       "      <td>80.0</td>\n",
       "      <td>566.09</td>\n",
       "      <td>6.0</td>\n",
       "      <td>29480.52</td>\n",
       "      <td>1</td>\n",
       "    </tr>\n",
       "  </tbody>\n",
       "</table>\n",
       "</div>"
      ],
      "text/plain": [
       "      calls  minutes  messages   mb_used  is_ultra\n",
       "3209  122.0   910.98      20.0  35124.90         1\n",
       "3210   25.0   190.36       0.0   3275.61         0\n",
       "3211   97.0   634.44      70.0  13974.06         0\n",
       "3212   64.0   462.32      90.0  31239.78         0\n",
       "3213   80.0   566.09       6.0  29480.52         1"
      ]
     },
     "metadata": {},
     "output_type": "display_data"
    }
   ],
   "source": [
    "display(df.tail())"
   ]
  },
  {
   "cell_type": "code",
   "execution_count": 6,
   "metadata": {},
   "outputs": [
    {
     "data": {
      "text/plain": [
       "0"
      ]
     },
     "execution_count": 6,
     "metadata": {},
     "output_type": "execute_result"
    }
   ],
   "source": [
    "# проверим есть ли дубликаты\n",
    "df.duplicated().sum()"
   ]
  },
  {
   "cell_type": "code",
   "execution_count": 7,
   "metadata": {},
   "outputs": [
    {
     "data": {
      "text/plain": [
       "False"
      ]
     },
     "execution_count": 7,
     "metadata": {},
     "output_type": "execute_result"
    }
   ],
   "source": [
    "# проверим, есть ли в датасэте отридцательные значения\n",
    "(df.values < 0).any()"
   ]
  },
  {
   "cell_type": "code",
   "execution_count": 8,
   "metadata": {
    "scrolled": true
   },
   "outputs": [
    {
     "name": "stdout",
     "output_type": "stream",
     "text": [
      "В столбце calls нулевых значений\n",
      "40\n",
      "В столбце minutes нулевых значений\n",
      "40\n",
      "В столбце messages нулевых значений\n",
      "497\n",
      "В столбце mb_used нулевых значений\n",
      "11\n"
     ]
    }
   ],
   "source": [
    "# заметим, что есть нулевые значения. Посмотрим сколько их.\n",
    "for column in df.columns:\n",
    "    if column!= 'is_ultra':\n",
    "        print('В столбце {} нулевых значений'.format(column))\n",
    "        print(df[df[column]==0]['calls'].count())    "
   ]
  },
  {
   "cell_type": "markdown",
   "metadata": {},
   "source": [
    "В некоторых месяцах абоненты не звонили и не пользовались интернетом. Но таких мало.\n",
    "Но намного больше тех кто не отправлял ни одной смс в месяц."
   ]
  },
  {
   "cell_type": "code",
   "execution_count": 9,
   "metadata": {},
   "outputs": [],
   "source": [
    "df['is_ultra'] = df['is_ultra'].astype('bool')"
   ]
  },
  {
   "cell_type": "code",
   "execution_count": 10,
   "metadata": {},
   "outputs": [
    {
     "data": {
      "text/html": [
       "<div>\n",
       "<style scoped>\n",
       "    .dataframe tbody tr th:only-of-type {\n",
       "        vertical-align: middle;\n",
       "    }\n",
       "\n",
       "    .dataframe tbody tr th {\n",
       "        vertical-align: top;\n",
       "    }\n",
       "\n",
       "    .dataframe thead th {\n",
       "        text-align: right;\n",
       "    }\n",
       "</style>\n",
       "<table border=\"1\" class=\"dataframe\">\n",
       "  <thead>\n",
       "    <tr style=\"text-align: right;\">\n",
       "      <th></th>\n",
       "      <th>calls</th>\n",
       "      <th>minutes</th>\n",
       "      <th>messages</th>\n",
       "      <th>mb_used</th>\n",
       "      <th>is_ultra</th>\n",
       "    </tr>\n",
       "  </thead>\n",
       "  <tbody>\n",
       "    <tr>\n",
       "      <td>count</td>\n",
       "      <td>3214.00</td>\n",
       "      <td>3214.00</td>\n",
       "      <td>3214.00</td>\n",
       "      <td>3214.00</td>\n",
       "      <td>3214</td>\n",
       "    </tr>\n",
       "    <tr>\n",
       "      <td>unique</td>\n",
       "      <td>NaN</td>\n",
       "      <td>NaN</td>\n",
       "      <td>NaN</td>\n",
       "      <td>NaN</td>\n",
       "      <td>2</td>\n",
       "    </tr>\n",
       "    <tr>\n",
       "      <td>top</td>\n",
       "      <td>NaN</td>\n",
       "      <td>NaN</td>\n",
       "      <td>NaN</td>\n",
       "      <td>NaN</td>\n",
       "      <td>False</td>\n",
       "    </tr>\n",
       "    <tr>\n",
       "      <td>freq</td>\n",
       "      <td>NaN</td>\n",
       "      <td>NaN</td>\n",
       "      <td>NaN</td>\n",
       "      <td>NaN</td>\n",
       "      <td>2229</td>\n",
       "    </tr>\n",
       "    <tr>\n",
       "      <td>mean</td>\n",
       "      <td>63.04</td>\n",
       "      <td>438.21</td>\n",
       "      <td>38.28</td>\n",
       "      <td>17207.67</td>\n",
       "      <td>NaN</td>\n",
       "    </tr>\n",
       "    <tr>\n",
       "      <td>std</td>\n",
       "      <td>33.24</td>\n",
       "      <td>234.57</td>\n",
       "      <td>36.15</td>\n",
       "      <td>7570.97</td>\n",
       "      <td>NaN</td>\n",
       "    </tr>\n",
       "    <tr>\n",
       "      <td>min</td>\n",
       "      <td>0.00</td>\n",
       "      <td>0.00</td>\n",
       "      <td>0.00</td>\n",
       "      <td>0.00</td>\n",
       "      <td>NaN</td>\n",
       "    </tr>\n",
       "    <tr>\n",
       "      <td>25%</td>\n",
       "      <td>40.00</td>\n",
       "      <td>274.58</td>\n",
       "      <td>9.00</td>\n",
       "      <td>12491.90</td>\n",
       "      <td>NaN</td>\n",
       "    </tr>\n",
       "    <tr>\n",
       "      <td>50%</td>\n",
       "      <td>62.00</td>\n",
       "      <td>430.60</td>\n",
       "      <td>30.00</td>\n",
       "      <td>16943.24</td>\n",
       "      <td>NaN</td>\n",
       "    </tr>\n",
       "    <tr>\n",
       "      <td>75%</td>\n",
       "      <td>82.00</td>\n",
       "      <td>571.93</td>\n",
       "      <td>57.00</td>\n",
       "      <td>21424.70</td>\n",
       "      <td>NaN</td>\n",
       "    </tr>\n",
       "    <tr>\n",
       "      <td>max</td>\n",
       "      <td>244.00</td>\n",
       "      <td>1632.06</td>\n",
       "      <td>224.00</td>\n",
       "      <td>49745.73</td>\n",
       "      <td>NaN</td>\n",
       "    </tr>\n",
       "  </tbody>\n",
       "</table>\n",
       "</div>"
      ],
      "text/plain": [
       "          calls  minutes  messages   mb_used is_ultra\n",
       "count   3214.00  3214.00   3214.00   3214.00     3214\n",
       "unique      NaN      NaN       NaN       NaN        2\n",
       "top         NaN      NaN       NaN       NaN    False\n",
       "freq        NaN      NaN       NaN       NaN     2229\n",
       "mean      63.04   438.21     38.28  17207.67      NaN\n",
       "std       33.24   234.57     36.15   7570.97      NaN\n",
       "min        0.00     0.00      0.00      0.00      NaN\n",
       "25%       40.00   274.58      9.00  12491.90      NaN\n",
       "50%       62.00   430.60     30.00  16943.24      NaN\n",
       "75%       82.00   571.93     57.00  21424.70      NaN\n",
       "max      244.00  1632.06    224.00  49745.73      NaN"
      ]
     },
     "execution_count": 10,
     "metadata": {},
     "output_type": "execute_result"
    }
   ],
   "source": [
    "df.describe(include=['float64','bool'])"
   ]
  },
  {
   "cell_type": "markdown",
   "metadata": {},
   "source": [
    "Проведем краткую статистическую оценку:\n",
    "- `calls` Среднее почти совпадает с медианой. Есть надежда что распределение нормальное. СКО 33, довольно высокое при среднем 63. Данные вполне адекватны за месяц можно сделать 244 звонка.\n",
    "- `minutes` Среднее почти совпадает с медианой. Есть надежда что распределение нормальное. СКО 234, довольно высокое при среднем 430. Данные вполне адекватны за месяц можно проговорить 1632 минуты. Хотя это почти целый час в день.\n",
    "- `messages` Среднее почти не совсем с медианой. СКО большое 36, очень высокое при среднем 38. Данные вполне адекватны за месяц можно послать 244 смс.\n",
    "- `mb_used` Среднее почти совпадает с медианой. Есть надежда что распределение нормальное. СКО 7,5 гб, довольно высокое при среднем 17 гб. Данные вполне адекватны за месяц можно потратить 49 гигабайт.\n",
    "\n",
    "данные обрезать не будем, т.к при изменение выборки сможет нам помешать добиться высокой точности и противоречит заданию"
   ]
  },
  {
   "cell_type": "code",
   "execution_count": 11,
   "metadata": {},
   "outputs": [
    {
     "data": {
      "text/plain": [
       "False    0.69\n",
       "True     0.31\n",
       "Name: is_ultra, dtype: float64"
      ]
     },
     "execution_count": 11,
     "metadata": {},
     "output_type": "execute_result"
    }
   ],
   "source": [
    "df['is_ultra'].value_counts(normalize=True)"
   ]
  },
  {
   "cell_type": "markdown",
   "metadata": {},
   "source": [
    "Ввыбрке в основном представлены пользователи с тарифом 'Smart'"
   ]
  },
  {
   "cell_type": "code",
   "execution_count": 12,
   "metadata": {},
   "outputs": [
    {
     "data": {
      "image/png": "[encoded data removed]",
      "text/plain": [
       "<Figure size 432x288 with 1 Axes>"
      ]
     },
     "metadata": {
      "needs_background": "light"
     },
     "output_type": "display_data"
    }
   ],
   "source": [
    "pd.crosstab(df['is_ultra'], df['mb_used'].sum()).plot(kind='bar',label = 'tarif',legend=True);\n",
    "plt.title('our tarifs');"
   ]
  },
  {
   "cell_type": "code",
   "execution_count": 13,
   "metadata": {},
   "outputs": [
    {
     "data": {
      "text/plain": [
       "False    0.69\n",
       "True     0.31\n",
       "Name: is_ultra, dtype: float64"
      ]
     },
     "execution_count": 13,
     "metadata": {},
     "output_type": "execute_result"
    }
   ],
   "source": [
    "df['is_ultra'].value_counts(normalize =True)"
   ]
  },
  {
   "cell_type": "code",
   "execution_count": 14,
   "metadata": {},
   "outputs": [
    {
     "data": {
      "text/plain": [
       "['calls', 'minutes', 'mb_used', 'messages']"
      ]
     },
     "execution_count": 14,
     "metadata": {},
     "output_type": "execute_result"
    }
   ],
   "source": [
    "list(set(df.columns)-set(['is_ultra']))"
   ]
  },
  {
   "cell_type": "code",
   "execution_count": 15,
   "metadata": {},
   "outputs": [
    {
     "data": {
      "text/html": [
       "<div>\n",
       "<style scoped>\n",
       "    .dataframe tbody tr th:only-of-type {\n",
       "        vertical-align: middle;\n",
       "    }\n",
       "\n",
       "    .dataframe tbody tr th {\n",
       "        vertical-align: top;\n",
       "    }\n",
       "\n",
       "    .dataframe thead th {\n",
       "        text-align: right;\n",
       "    }\n",
       "</style>\n",
       "<table border=\"1\" class=\"dataframe\">\n",
       "  <thead>\n",
       "    <tr style=\"text-align: right;\">\n",
       "      <th></th>\n",
       "      <th>calls</th>\n",
       "      <th>minutes</th>\n",
       "      <th>messages</th>\n",
       "      <th>mb_used</th>\n",
       "      <th>is_ultra</th>\n",
       "    </tr>\n",
       "  </thead>\n",
       "  <tbody>\n",
       "    <tr>\n",
       "      <td>calls</td>\n",
       "      <td>1.00</td>\n",
       "      <td>0.98</td>\n",
       "      <td>0.18</td>\n",
       "      <td>0.29</td>\n",
       "      <td>0.21</td>\n",
       "    </tr>\n",
       "    <tr>\n",
       "      <td>minutes</td>\n",
       "      <td>0.98</td>\n",
       "      <td>1.00</td>\n",
       "      <td>0.17</td>\n",
       "      <td>0.28</td>\n",
       "      <td>0.21</td>\n",
       "    </tr>\n",
       "    <tr>\n",
       "      <td>messages</td>\n",
       "      <td>0.18</td>\n",
       "      <td>0.17</td>\n",
       "      <td>1.00</td>\n",
       "      <td>0.20</td>\n",
       "      <td>0.20</td>\n",
       "    </tr>\n",
       "    <tr>\n",
       "      <td>mb_used</td>\n",
       "      <td>0.29</td>\n",
       "      <td>0.28</td>\n",
       "      <td>0.20</td>\n",
       "      <td>1.00</td>\n",
       "      <td>0.20</td>\n",
       "    </tr>\n",
       "    <tr>\n",
       "      <td>is_ultra</td>\n",
       "      <td>0.21</td>\n",
       "      <td>0.21</td>\n",
       "      <td>0.20</td>\n",
       "      <td>0.20</td>\n",
       "      <td>1.00</td>\n",
       "    </tr>\n",
       "  </tbody>\n",
       "</table>\n",
       "</div>"
      ],
      "text/plain": [
       "          calls  minutes  messages  mb_used  is_ultra\n",
       "calls      1.00     0.98      0.18     0.29      0.21\n",
       "minutes    0.98     1.00      0.17     0.28      0.21\n",
       "messages   0.18     0.17      1.00     0.20      0.20\n",
       "mb_used    0.29     0.28      0.20     1.00      0.20\n",
       "is_ultra   0.21     0.21      0.20     0.20      1.00"
      ]
     },
     "execution_count": 15,
     "metadata": {},
     "output_type": "execute_result"
    }
   ],
   "source": [
    "df.corr()"
   ]
  },
  {
   "cell_type": "code",
   "execution_count": 16,
   "metadata": {},
   "outputs": [
    {
     "data": {
      "text/html": [
       "<div>\n",
       "<style scoped>\n",
       "    .dataframe tbody tr th:only-of-type {\n",
       "        vertical-align: middle;\n",
       "    }\n",
       "\n",
       "    .dataframe tbody tr th {\n",
       "        vertical-align: top;\n",
       "    }\n",
       "\n",
       "    .dataframe thead th {\n",
       "        text-align: right;\n",
       "    }\n",
       "</style>\n",
       "<table border=\"1\" class=\"dataframe\">\n",
       "  <thead>\n",
       "    <tr style=\"text-align: right;\">\n",
       "      <th></th>\n",
       "      <th>calls</th>\n",
       "      <th>minutes</th>\n",
       "      <th>messages</th>\n",
       "      <th>mb_used</th>\n",
       "      <th>is_ultra</th>\n",
       "    </tr>\n",
       "  </thead>\n",
       "  <tbody>\n",
       "    <tr>\n",
       "      <td>calls</td>\n",
       "      <td>1.00</td>\n",
       "      <td>0.98</td>\n",
       "      <td>0.16</td>\n",
       "      <td>0.25</td>\n",
       "      <td>0.16</td>\n",
       "    </tr>\n",
       "    <tr>\n",
       "      <td>minutes</td>\n",
       "      <td>0.98</td>\n",
       "      <td>1.00</td>\n",
       "      <td>0.15</td>\n",
       "      <td>0.25</td>\n",
       "      <td>0.16</td>\n",
       "    </tr>\n",
       "    <tr>\n",
       "      <td>messages</td>\n",
       "      <td>0.16</td>\n",
       "      <td>0.15</td>\n",
       "      <td>1.00</td>\n",
       "      <td>0.14</td>\n",
       "      <td>0.11</td>\n",
       "    </tr>\n",
       "    <tr>\n",
       "      <td>mb_used</td>\n",
       "      <td>0.25</td>\n",
       "      <td>0.25</td>\n",
       "      <td>0.14</td>\n",
       "      <td>1.00</td>\n",
       "      <td>0.15</td>\n",
       "    </tr>\n",
       "    <tr>\n",
       "      <td>is_ultra</td>\n",
       "      <td>0.16</td>\n",
       "      <td>0.16</td>\n",
       "      <td>0.11</td>\n",
       "      <td>0.15</td>\n",
       "      <td>1.00</td>\n",
       "    </tr>\n",
       "  </tbody>\n",
       "</table>\n",
       "</div>"
      ],
      "text/plain": [
       "          calls  minutes  messages  mb_used  is_ultra\n",
       "calls      1.00     0.98      0.16     0.25      0.16\n",
       "minutes    0.98     1.00      0.15     0.25      0.16\n",
       "messages   0.16     0.15      1.00     0.14      0.11\n",
       "mb_used    0.25     0.25      0.14     1.00      0.15\n",
       "is_ultra   0.16     0.16      0.11     0.15      1.00"
      ]
     },
     "execution_count": 16,
     "metadata": {},
     "output_type": "execute_result"
    }
   ],
   "source": [
    "df.corr(method='spearman')"
   ]
  },
  {
   "cell_type": "code",
   "execution_count": 17,
   "metadata": {},
   "outputs": [
    {
     "data": {
      "text/html": [
       "<div>\n",
       "<style scoped>\n",
       "    .dataframe tbody tr th:only-of-type {\n",
       "        vertical-align: middle;\n",
       "    }\n",
       "\n",
       "    .dataframe tbody tr th {\n",
       "        vertical-align: top;\n",
       "    }\n",
       "\n",
       "    .dataframe thead th {\n",
       "        text-align: right;\n",
       "    }\n",
       "</style>\n",
       "<table border=\"1\" class=\"dataframe\">\n",
       "  <thead>\n",
       "    <tr style=\"text-align: right;\">\n",
       "      <th></th>\n",
       "      <th>calls</th>\n",
       "      <th>minutes</th>\n",
       "      <th>messages</th>\n",
       "      <th>mb_used</th>\n",
       "      <th>is_ultra</th>\n",
       "    </tr>\n",
       "  </thead>\n",
       "  <tbody>\n",
       "    <tr>\n",
       "      <td>calls</td>\n",
       "      <td>1.00</td>\n",
       "      <td>0.88</td>\n",
       "      <td>0.11</td>\n",
       "      <td>0.18</td>\n",
       "      <td>0.13</td>\n",
       "    </tr>\n",
       "    <tr>\n",
       "      <td>minutes</td>\n",
       "      <td>0.88</td>\n",
       "      <td>1.00</td>\n",
       "      <td>0.11</td>\n",
       "      <td>0.17</td>\n",
       "      <td>0.13</td>\n",
       "    </tr>\n",
       "    <tr>\n",
       "      <td>messages</td>\n",
       "      <td>0.11</td>\n",
       "      <td>0.11</td>\n",
       "      <td>1.00</td>\n",
       "      <td>0.10</td>\n",
       "      <td>0.09</td>\n",
       "    </tr>\n",
       "    <tr>\n",
       "      <td>mb_used</td>\n",
       "      <td>0.18</td>\n",
       "      <td>0.17</td>\n",
       "      <td>0.10</td>\n",
       "      <td>1.00</td>\n",
       "      <td>0.13</td>\n",
       "    </tr>\n",
       "    <tr>\n",
       "      <td>is_ultra</td>\n",
       "      <td>0.13</td>\n",
       "      <td>0.13</td>\n",
       "      <td>0.09</td>\n",
       "      <td>0.13</td>\n",
       "      <td>1.00</td>\n",
       "    </tr>\n",
       "  </tbody>\n",
       "</table>\n",
       "</div>"
      ],
      "text/plain": [
       "          calls  minutes  messages  mb_used  is_ultra\n",
       "calls      1.00     0.88      0.11     0.18      0.13\n",
       "minutes    0.88     1.00      0.11     0.17      0.13\n",
       "messages   0.11     0.11      1.00     0.10      0.09\n",
       "mb_used    0.18     0.17      0.10     1.00      0.13\n",
       "is_ultra   0.13     0.13      0.09     0.13      1.00"
      ]
     },
     "execution_count": 17,
     "metadata": {},
     "output_type": "execute_result"
    }
   ],
   "source": [
    "df.corr(method='kendall')"
   ]
  },
  {
   "cell_type": "markdown",
   "metadata": {},
   "source": [
    "## Разбейте данные на выборки <a id=\"25\"></a>"
   ]
  },
  {
   "cell_type": "code",
   "execution_count": 18,
   "metadata": {},
   "outputs": [],
   "source": [
    "from sklearn.model_selection import train_test_split\n",
    "df_train,df_test_valid = train_test_split(df,test_size=0.4,random_state=890)"
   ]
  },
  {
   "cell_type": "code",
   "execution_count": 19,
   "metadata": {},
   "outputs": [
    {
     "name": "stdout",
     "output_type": "stream",
     "text": [
      "60% 40%\n"
     ]
    }
   ],
   "source": [
    "# проверим, корректно ли поделились наши выборки\n",
    "def test_percent(df1,df2):\n",
    "    p1=df1.shape[0]/df.shape[0]\n",
    "    p2 = df2.shape[0]/df.shape[0]\n",
    "    print('{:.0%} {:.0%}'.format(p1,p2))\n",
    "test_percent(df_train,df_test_valid)"
   ]
  },
  {
   "cell_type": "code",
   "execution_count": 20,
   "metadata": {},
   "outputs": [
    {
     "name": "stdout",
     "output_type": "stream",
     "text": [
      "20% 20%\n"
     ]
    }
   ],
   "source": [
    "#поделим тестовую и валидационную выборки пополам\n",
    "df_test,df_valid = train_test_split(df_test_valid,test_size=0.5,random_state=890)\n",
    "test_percent(df_test,df_valid)"
   ]
  },
  {
   "cell_type": "code",
   "execution_count": 21,
   "metadata": {
    "scrolled": true
   },
   "outputs": [
    {
     "name": "stdout",
     "output_type": "stream",
     "text": [
      "1928\n",
      "[[0.6889580093312597, 0.3110419906687403]]\n",
      "643\n",
      "[[0.6889580093312597, 0.3110419906687403]]\n",
      "643\n",
      "[[0.6889580093312597, 0.3110419906687403]]\n"
     ]
    }
   ],
   "source": [
    "#проверим стратификацию поделенных выборок\n",
    "# не наблюдается ли перекоса\n",
    "def ratio_ultra(_df):\n",
    "    print(_df.shape[0])\n",
    "    _df=df_test['is_ultra'].value_counts(normalize=True)\n",
    "    _list = []\n",
    "    _list.append([_df.iloc[0],_df.iloc[1]])\n",
    "    print(_list)\n",
    "ratio_ultra(df_train) \n",
    "ratio_ultra(df_test)  \n",
    "ratio_ultra(df_valid) "
   ]
  },
  {
   "cell_type": "markdown",
   "metadata": {},
   "source": [
    "Все впорядке, модели поделились корректно."
   ]
  },
  {
   "cell_type": "code",
   "execution_count": 22,
   "metadata": {},
   "outputs": [],
   "source": [
    "#подготовим выборки для загрузки в модель\n",
    "# по этим данным будут учится наши модели. \n",
    "#Далее будем считать точность прогноза,сравнивая с исходными выборками\n",
    "train_features = df_train.drop('is_ultra',axis=1)\n",
    "train_target = df_train['is_ultra']\n",
    "\n",
    "valid_features = df_valid.drop('is_ultra',axis=1)\n",
    "valid_target = df_valid['is_ultra']\n",
    "\n",
    "test_features = df_test.drop('is_ultra',axis=1)\n",
    "test_target = df_test['is_ultra']\n",
    "\n",
    "#подготовим данные для кросс валидации\n",
    "cv_features = df.drop('is_ultra',axis=1)\n",
    "cv_target = df['is_ultra']"
   ]
  },
  {
   "cell_type": "markdown",
   "metadata": {},
   "source": [
    "## Исследуйте модели <a id=\"35\"></a>"
   ]
  },
  {
   "cell_type": "markdown",
   "metadata": {},
   "source": [
    "**DecisionTreeClassifier**"
   ]
  },
  {
   "cell_type": "code",
   "execution_count": 23,
   "metadata": {},
   "outputs": [],
   "source": [
    "# создадим модель \"Дерево решений\"\n",
    "accuracy_valid_dict_DT={}\n",
    "accuracy_test_dict_DT={}\n",
    "for depth in range (1,50):\n",
    "    model_DT = DecisionTreeClassifier(random_state=890,max_depth=depth)\n",
    "    model_DT.fit(train_features,train_target)\n",
    "    #на валидационной\n",
    "    valid_predict = model_DT.predict(valid_features)\n",
    "    accuracy_valid = accuracy_score(valid_predict,valid_target)\n",
    "    accuracy_valid_dict_DT[depth]=accuracy_valid\n",
    "    #на тестовой\n",
    "    test_predict = model_DT.predict(test_features)\n",
    "    accuracy_test = accuracy_score(test_predict,test_target)\n",
    "    accuracy_test_dict_DT[depth]=accuracy_test"
   ]
  },
  {
   "cell_type": "code",
   "execution_count": 24,
   "metadata": {},
   "outputs": [
    {
     "data": {
      "text/html": [
       "<div>\n",
       "<style scoped>\n",
       "    .dataframe tbody tr th:only-of-type {\n",
       "        vertical-align: middle;\n",
       "    }\n",
       "\n",
       "    .dataframe tbody tr th {\n",
       "        vertical-align: top;\n",
       "    }\n",
       "\n",
       "    .dataframe thead th {\n",
       "        text-align: right;\n",
       "    }\n",
       "</style>\n",
       "<table border=\"1\" class=\"dataframe\">\n",
       "  <thead>\n",
       "    <tr style=\"text-align: right;\">\n",
       "      <th></th>\n",
       "      <th>0</th>\n",
       "    </tr>\n",
       "  </thead>\n",
       "  <tbody>\n",
       "    <tr>\n",
       "      <td>3</td>\n",
       "      <td>0.81</td>\n",
       "    </tr>\n",
       "    <tr>\n",
       "      <td>2</td>\n",
       "      <td>0.79</td>\n",
       "    </tr>\n",
       "    <tr>\n",
       "      <td>9</td>\n",
       "      <td>0.79</td>\n",
       "    </tr>\n",
       "    <tr>\n",
       "      <td>4</td>\n",
       "      <td>0.79</td>\n",
       "    </tr>\n",
       "    <tr>\n",
       "      <td>6</td>\n",
       "      <td>0.79</td>\n",
       "    </tr>\n",
       "  </tbody>\n",
       "</table>\n",
       "</div>"
      ],
      "text/plain": [
       "      0\n",
       "3  0.81\n",
       "2  0.79\n",
       "9  0.79\n",
       "4  0.79\n",
       "6  0.79"
      ]
     },
     "metadata": {},
     "output_type": "display_data"
    },
    {
     "data": {
      "image/png": "[encoded data removed]",
      "text/plain": [
       "<Figure size 432x288 with 1 Axes>"
      ]
     },
     "metadata": {
      "needs_background": "light"
     },
     "output_type": "display_data"
    }
   ],
   "source": [
    "def draw_accuracy_DT(accuracy_dict):\n",
    "    global df1\n",
    "    df1 = pd.DataFrame.from_dict(accuracy_dict,orient='index')\n",
    "    display(df1.sort_values(by=df1.columns[0],ascending=False ).head())\n",
    "    #display(df1[df.columns[0]].max())\n",
    "draw_accuracy_DT(accuracy_valid_dict_DT)\n",
    "ax1= plt.plot(df1)"
   ]
  },
  {
   "cell_type": "markdown",
   "metadata": {},
   "source": [
    "При обучении модели \"Дерево решений\" `DecisionTreeClassifier` и тестирования на валидационной выборке заметили небольшое повышение качества классификации абонента с глубиной дерева 3, но дальше видим неизбежный спад. В данном случае мне кажется качество не повышается, т.к. мало признаков и дереву не откуда брать комбинации по условиям. А при глубине дерева в 32 качество перестает снижаться и модель перестает учиться совсем. Возможно подбор других гиперпараметров поможет нам."
   ]
  },
  {
   "cell_type": "code",
   "execution_count": 25,
   "metadata": {},
   "outputs": [],
   "source": [
    "model_tree = DecisionTreeClassifier(random_state=890,max_depth=3)\n",
    "model_tree.fit(train_features,train_target)\n",
    "train_features.columns\n",
    "export_graphviz(model_tree, feature_names=['calls', 'minutes', 'messages', 'mb_used'], \n",
    "out_file='./img/deep_toy_tree.dot', filled=True)\n",
    "#!dot -Tpng './img/deep_toy_tree.dot' -o './img/deep_toy_tree.png'"
   ]
  },
  {
   "cell_type": "code",
   "execution_count": 26,
   "metadata": {},
   "outputs": [
    {
     "data": {
      "image/png": "[encoded data removed]",
      "text/plain": [
       "<IPython.core.display.Image object>"
      ]
     },
     "execution_count": 26,
     "metadata": {},
     "output_type": "execute_result"
    }
   ],
   "source": [
    "# мы построили дерево онлайн \n",
    "from IPython import display\n",
    "display.Image(\"https://b.radikal.ru/b01/2103/0f/8e5c4af9b3b4.png\")\n",
    "#display.Image(\"./sdv_featured_image.png\")"
   ]
  },
  {
   "cell_type": "markdown",
   "metadata": {},
   "source": [
    "В данноый модели у нас есть 4 признака `['calls', 'minutes', 'messages', 'mb_used']` по которым строится дерево решений. Методом перебора мы ранее определили что с глубиной 3 качество модели `accurancy` на валидационной выборке показало максимальный результат.\n",
    "-  На выходе мы получили 8 условных классов, в один из которых будет попадать новый элемент из валидационной выборки, когда мы будем проводить валидацию.\n",
    "- Классы разделены цветом - оранжевый `ultra`, голубой `smart`. Как мы видим еще есть светло-голубые цвета, это значит что модель на данном уровне декомпозиции не может принять однозначного решения и на следующем листе может быть уточнение. Но декомпозиция вглубь может привести к переобучению выборки на тестовых данных и снизит качество модели.\n",
    "- В скобках указаны количество объектов в каждом классе`[ultra,smart]`после классификации. Т.е. изначально в выборке соотношение [1340,588] На основании пары объектов`[ultra,smart]`  считается критерий`gini` неопределенность (энтропия), которую уменьшает правило разбиения `mb_used <= 26262.681` и мы получаем новые 2 подклассы. Напирмер в листе дерева [0,33] неопределенность равна нулю, т.е. все объекты по данному дереву решений из тренировочной выборки были отнесены к тарифу `smart`. Чем меньше неопределенность - тем лучше, но не будем забывать о переобучении, т.к. на валидационной и тестовой выборке на существующем дереве мы получим другие коэфициенты `gini`, хотя правила останутся теми же.\n",
    "- Ну и самое главное это правила по которым формируется дерево. Напомним, у нас есть 4 признака `['calls', 'minutes', 'messages', 'mb_used']`. Дерево решений строится исходя из критерия `gini`. Берется комбинация признаков и их значений и подбирается такой критерий `gini`, который максимально уменьшает неопределенность. Т.е `mb_used <= 26262.681` в выборке будет самым важным критерием, разделяющих поведение абонентов.\n",
    "- Далее в вершине дерева создаются 2 новых класса и опять ищем критерий, который максимально снизит неопределенность, т.е. при какой комбинации признаков и их значений критерий `gini` будет самый высокий для данной подвыборки. В следующих двух вершинах ужен берутся други признаки и их значения `minutes <= 744.375`  и `mb_used <= 31800.97` по которым строятся новые потомки дерева и т.д. пока не достигнем заявленной глубины."
   ]
  },
  {
   "cell_type": "raw",
   "metadata": {},
   "source": [
    "#plt.rcParams['figure.figsize'] = (10,8)\n",
    "plt.scatter(train_data[:, 0], train_data[:, 1], c=train_labels, s=100, \n",
    "cmap='autumn', edgecolors='black', linewidth=1.5);\n",
    "plt.plot(range(-2,5), range(4,-3,-1));"
   ]
  },
  {
   "cell_type": "raw",
   "metadata": {},
   "source": [
    "#проведем кросс валидацию\n",
    "from sklearn.model_selection import cross_val_score\n",
    "np.mean(cross_val_score(model_tree, valid_features, valid_target, cv=20))"
   ]
  },
  {
   "cell_type": "markdown",
   "metadata": {},
   "source": [
    "**KNeighborsClassifier**"
   ]
  },
  {
   "cell_type": "code",
   "execution_count": 27,
   "metadata": {},
   "outputs": [
    {
     "name": "stdout",
     "output_type": "stream",
     "text": [
      "Максимальное accuracy 77.76% достигается при параметре n_neighbors = 13 на отложенной выборке\n"
     ]
    }
   ],
   "source": [
    "from sklearn.model_selection import cross_val_score\n",
    "neigbors = list(range(1,20)) +list(range(20,100,5))\n",
    "from sklearn.neighbors import KNeighborsClassifier\n",
    "neighbors_list = []\n",
    "for neighbor in neigbors:\n",
    "    knn_model = KNeighborsClassifier(n_neighbors =neighbor )\n",
    "    #hold-out(отложенная выборка)\n",
    "    knn_model.fit(train_features,train_target)\n",
    "    valid_predict_KNN = knn_model.predict(valid_features)\n",
    "    accuracy_valid = accuracy_score(valid_predict_KNN,valid_target)\n",
    "    #cv - cross-validation(k-fold validation) на всей выборке и на тренировочной\n",
    "    cross_valid_knn_total = np.mean(cross_val_score(knn_model,cv_features,cv_target,cv=10))\n",
    "    cross_valid_knn = np.mean(cross_val_score(knn_model,train_features,train_target,cv=10))\n",
    "    #append\n",
    "    neighbors_list.append([neighbor,accuracy_valid,cross_valid_knn_total,cross_valid_knn])\n",
    "df_neigbors = pd.DataFrame(neighbors_list,columns=['neighbor','accuracy_valid','cross_valid_knn_total','cross_valid_knn'])\n",
    "_accuracy_valid =df_neigbors.sort_values(by='accuracy_valid',ascending=False).head(1).loc[:,['neighbor','accuracy_valid']]\n",
    "print('Максимальное accuracy {:.2%} достигается при параметре n_neighbors = {:.0f} на отложенной выборке'\\\n",
    "      .format(_accuracy_valid.values[0][1],_accuracy_valid.values[0][0]))\n"
   ]
  },
  {
   "cell_type": "raw",
   "metadata": {},
   "source": [
    "from sklearn.model_selection import GridSearchCV\n",
    "knn_params = {\"n_neighbors\": range(5, 30, 5)}  # + list(range(50, 100, 10))}\n",
    "knn_grid = GridSearchCV(knn_model,knn_params,cv=5)\n",
    "#print(knn_grid)"
   ]
  },
  {
   "cell_type": "raw",
   "metadata": {},
   "source": [
    "%%time\n",
    "knn_grid.fit(train_features,train_target);\n",
    "knn_grid.best_score_, knn_grid"
   ]
  },
  {
   "cell_type": "markdown",
   "metadata": {},
   "source": [
    "**RandomForestClassifier**"
   ]
  },
  {
   "cell_type": "code",
   "execution_count": 28,
   "metadata": {},
   "outputs": [],
   "source": [
    "# попробуем обучить модель \"случайный лес\" для предсказания тарифа"
   ]
  },
  {
   "cell_type": "code",
   "execution_count": 29,
   "metadata": {},
   "outputs": [
    {
     "name": "stdout",
     "output_type": "stream",
     "text": [
      "CPU times: user 11.8 s, sys: 54.8 ms, total: 11.8 s\n",
      "Wall time: 13.4 s\n"
     ]
    }
   ],
   "source": [
    "%%time \n",
    "from sklearn.ensemble import RandomForestClassifier\n",
    "score_valid_dict_RFC={}\n",
    "score_test_dict_RFC={}\n",
    "score_valid_list = []\n",
    "score_test_list = []\n",
    "for depth in range(8,14):\n",
    "    for est in range(1, 70,5):#(1, 200,5)\n",
    "        model_RFC = RandomForestClassifier(random_state=890,\\\n",
    "                                           n_estimators=est,max_depth=depth)\n",
    "        model_RFC.fit(train_features,train_target)\n",
    "        #valid_predict = model_RFC.predict(valid_features)\n",
    "        score_valid = model_RFC.score(valid_features,valid_target)\n",
    "        score_test = model_RFC.score(test_features,test_target)\n",
    "        #запишем в словарь\n",
    "        #score_valid_dict_RFC[est]=score_valid\n",
    "        #score_test_dict_RFC[est]=score_test\n",
    "        score_valid_list.append([est,depth,score_valid])\n",
    "        score_test_list.append([est,depth,score_test])\n",
    "#print(score_valid_dict_RFC,score_test_dict_RFC)"
   ]
  },
  {
   "cell_type": "code",
   "execution_count": 30,
   "metadata": {},
   "outputs": [],
   "source": [
    "from sklearn.metrics import confusion_matrix\n",
    "cnf_matrix = confusion_matrix(valid_predict_KNN ,valid_target)"
   ]
  },
  {
   "cell_type": "code",
   "execution_count": 31,
   "metadata": {},
   "outputs": [
    {
     "data": {
      "text/plain": [
       "51    3\n",
       "56    2\n",
       "46    1\n",
       "61    1\n",
       "41    1\n",
       "36    1\n",
       "66    1\n",
       "Name: est, dtype: int64"
      ]
     },
     "metadata": {},
     "output_type": "display_data"
    },
    {
     "data": {
      "text/plain": [
       "9     9\n",
       "10    8\n",
       "8     5\n",
       "13    4\n",
       "11    4\n",
       "Name: depth, dtype: int64"
      ]
     },
     "metadata": {},
     "output_type": "display_data"
    },
    {
     "data": {
      "text/html": [
       "<div>\n",
       "<style scoped>\n",
       "    .dataframe tbody tr th:only-of-type {\n",
       "        vertical-align: middle;\n",
       "    }\n",
       "\n",
       "    .dataframe tbody tr th {\n",
       "        vertical-align: top;\n",
       "    }\n",
       "\n",
       "    .dataframe thead th {\n",
       "        text-align: right;\n",
       "    }\n",
       "</style>\n",
       "<table border=\"1\" class=\"dataframe\">\n",
       "  <thead>\n",
       "    <tr style=\"text-align: right;\">\n",
       "      <th></th>\n",
       "      <th>est</th>\n",
       "      <th>depth</th>\n",
       "      <th>score</th>\n",
       "    </tr>\n",
       "  </thead>\n",
       "  <tbody>\n",
       "    <tr>\n",
       "      <td>25</td>\n",
       "      <td>56</td>\n",
       "      <td>9</td>\n",
       "      <td>0.84</td>\n",
       "    </tr>\n",
       "    <tr>\n",
       "      <td>24</td>\n",
       "      <td>51</td>\n",
       "      <td>9</td>\n",
       "      <td>0.84</td>\n",
       "    </tr>\n",
       "    <tr>\n",
       "      <td>37</td>\n",
       "      <td>46</td>\n",
       "      <td>10</td>\n",
       "      <td>0.83</td>\n",
       "    </tr>\n",
       "    <tr>\n",
       "      <td>38</td>\n",
       "      <td>51</td>\n",
       "      <td>10</td>\n",
       "      <td>0.83</td>\n",
       "    </tr>\n",
       "    <tr>\n",
       "      <td>22</td>\n",
       "      <td>41</td>\n",
       "      <td>9</td>\n",
       "      <td>0.83</td>\n",
       "    </tr>\n",
       "    <tr>\n",
       "      <td>39</td>\n",
       "      <td>56</td>\n",
       "      <td>10</td>\n",
       "      <td>0.83</td>\n",
       "    </tr>\n",
       "    <tr>\n",
       "      <td>35</td>\n",
       "      <td>36</td>\n",
       "      <td>10</td>\n",
       "      <td>0.83</td>\n",
       "    </tr>\n",
       "    <tr>\n",
       "      <td>27</td>\n",
       "      <td>66</td>\n",
       "      <td>9</td>\n",
       "      <td>0.83</td>\n",
       "    </tr>\n",
       "    <tr>\n",
       "      <td>40</td>\n",
       "      <td>61</td>\n",
       "      <td>10</td>\n",
       "      <td>0.83</td>\n",
       "    </tr>\n",
       "    <tr>\n",
       "      <td>10</td>\n",
       "      <td>51</td>\n",
       "      <td>8</td>\n",
       "      <td>0.83</td>\n",
       "    </tr>\n",
       "  </tbody>\n",
       "</table>\n",
       "</div>"
      ],
      "text/plain": [
       "    est  depth  score\n",
       "25   56      9   0.84\n",
       "24   51      9   0.84\n",
       "37   46     10   0.83\n",
       "38   51     10   0.83\n",
       "22   41      9   0.83\n",
       "39   56     10   0.83\n",
       "35   36     10   0.83\n",
       "27   66      9   0.83\n",
       "40   61     10   0.83\n",
       "10   51      8   0.83"
      ]
     },
     "metadata": {},
     "output_type": "display_data"
    }
   ],
   "source": [
    "from IPython.display import display\n",
    "#df3 =pd.DataFrame(score_valid_list).sort_values(by =df3.columns[2],ascending=False).head()\n",
    "df1 =pd.DataFrame(score_valid_list)\n",
    "df1.set_axis(['est','depth','score'],axis=1,inplace=True)\n",
    "#посмотрим в каком разрезе нам строить графики\n",
    "#с какими типами гиперпараметров мы получили больше качественных моделей\n",
    "display(df1.sort_values(by ='score',ascending=False).head(10)['est'].value_counts())\n",
    "display(df1.sort_values(by ='score',ascending=False).head(30)['depth'].value_counts())\n",
    "display(df1.sort_values(by='score',ascending=False).head(10))\n",
    "\n"
   ]
  },
  {
   "cell_type": "code",
   "execution_count": 32,
   "metadata": {},
   "outputs": [
    {
     "data": {
      "image/png": "[encoded data removed]",
      "text/plain": [
       "<Figure size 432x288 with 1 Axes>"
      ]
     },
     "metadata": {
      "needs_background": "light"
     },
     "output_type": "display_data"
    },
    {
     "name": "stdout",
     "output_type": "stream",
     "text": [
      "Максимальная точность, которую мы смогли получить с помощью алгоритма случайный лес 83.67% \n"
     ]
    }
   ],
   "source": [
    "# для анализа мы выбрали разрез по глубине деревьев\n",
    "# заметим что в основном большая точность у деревьев с глубиной 8,9,10\n",
    "\n",
    "ax1 = df1.query('depth==8').plot(x='est',y='score',kind='line',label='depth=8');\n",
    "ax2 = df1.query('depth==9').plot(x='est',y='score',kind='line',ax=ax1,label='depth=9');    \n",
    "ax2 = df1.query('depth==10').plot(x='est',y='score',kind='line',ax=ax1,label='depth=10');\n",
    "plt.show()\n",
    "print('Максимальная точность, которую мы смогли получить с помощью алгоритма случайный лес {:.2%} '\\\n",
    "      .format(df1['score'].max()))\n"
   ]
  },
  {
   "cell_type": "markdown",
   "metadata": {},
   "source": [
    "Как мы видим при количестве деревьев в лесу `n_estimator` в районе 35-60 модель выдает лучшие показания по качеству `accuracy` "
   ]
  },
  {
   "cell_type": "markdown",
   "metadata": {},
   "source": [
    "**LogisticRegression**"
   ]
  },
  {
   "cell_type": "code",
   "execution_count": 33,
   "metadata": {},
   "outputs": [
    {
     "name": "stderr",
     "output_type": "stream",
     "text": [
      "/opt/conda/lib/python3.7/site-packages/sklearn/linear_model/logistic.py:432: FutureWarning: Default solver will be changed to 'lbfgs' in 0.22. Specify a solver to silence this warning.\n",
      "  FutureWarning)\n"
     ]
    }
   ],
   "source": [
    "accuracy_test_dict_LR = {}\n",
    "accuracy_valid_dict_LR = {}\n",
    "\n",
    "model_LR = LogisticRegression(random_state=890)\n",
    "model_LR.fit(train_features,train_target);\n",
    "valid_predict = model_LR.predict(valid_features)\n",
    "#на валидационной\n",
    "valid_predict = model_LR.predict(valid_features)\n",
    "accuracy_valid_LR = accuracy_score(valid_predict,valid_target)\n",
    "#accuracy_test_dict_LR[depth]=accuracy_valid\n",
    "#на тестовой\n",
    "test_predict = model_LR.predict(test_features)\n",
    "accuracy_test_LR = accuracy_score(test_predict,test_target)\n",
    "#accuracy_valid_dict_LR[depth]=accuracy_test"
   ]
  },
  {
   "cell_type": "code",
   "execution_count": 34,
   "metadata": {},
   "outputs": [
    {
     "name": "stdout",
     "output_type": "stream",
     "text": [
      "Качество на валидационной выборке 74.49%\n"
     ]
    }
   ],
   "source": [
    "print('Качество на валидационной выборке {:.2%}'\n",
    "      .format(accuracy_valid_LR))"
   ]
  },
  {
   "cell_type": "markdown",
   "metadata": {},
   "source": [
    "## Проверьте модель на тестовой выборке <a id=\"45\"></a>"
   ]
  },
  {
   "cell_type": "markdown",
   "metadata": {},
   "source": [
    "**DecisionTreeClassifier**"
   ]
  },
  {
   "cell_type": "code",
   "execution_count": 35,
   "metadata": {},
   "outputs": [
    {
     "data": {
      "text/html": [
       "<div>\n",
       "<style scoped>\n",
       "    .dataframe tbody tr th:only-of-type {\n",
       "        vertical-align: middle;\n",
       "    }\n",
       "\n",
       "    .dataframe tbody tr th {\n",
       "        vertical-align: top;\n",
       "    }\n",
       "\n",
       "    .dataframe thead th {\n",
       "        text-align: right;\n",
       "    }\n",
       "</style>\n",
       "<table border=\"1\" class=\"dataframe\">\n",
       "  <thead>\n",
       "    <tr style=\"text-align: right;\">\n",
       "      <th></th>\n",
       "      <th>0</th>\n",
       "    </tr>\n",
       "  </thead>\n",
       "  <tbody>\n",
       "    <tr>\n",
       "      <td>6</td>\n",
       "      <td>0.79</td>\n",
       "    </tr>\n",
       "    <tr>\n",
       "      <td>7</td>\n",
       "      <td>0.79</td>\n",
       "    </tr>\n",
       "    <tr>\n",
       "      <td>10</td>\n",
       "      <td>0.79</td>\n",
       "    </tr>\n",
       "    <tr>\n",
       "      <td>5</td>\n",
       "      <td>0.79</td>\n",
       "    </tr>\n",
       "    <tr>\n",
       "      <td>9</td>\n",
       "      <td>0.79</td>\n",
       "    </tr>\n",
       "  </tbody>\n",
       "</table>\n",
       "</div>"
      ],
      "text/plain": [
       "       0\n",
       "6   0.79\n",
       "7   0.79\n",
       "10  0.79\n",
       "5   0.79\n",
       "9   0.79"
      ]
     },
     "metadata": {},
     "output_type": "display_data"
    },
    {
     "data": {
      "image/png": "[encoded data removed]",
      "text/plain": [
       "<Figure size 432x288 with 1 Axes>"
      ]
     },
     "metadata": {
      "needs_background": "light"
     },
     "output_type": "display_data"
    }
   ],
   "source": [
    "#посмотрим точность на тестовой выборке\n",
    "draw_accuracy_DT(accuracy_test_dict_DT)\n",
    "#подготовим данные по accuracy на тестовых и валидационных выборках\n",
    "df1 = pd.DataFrame.from_dict(accuracy_valid_dict_DT,orient='index')\n",
    "df2 = pd.DataFrame.from_dict(accuracy_test_dict_DT,orient='index')\n",
    "#построим график\n",
    "plt.plot(df1)\n",
    "plt.plot(df2,'r--')\n",
    "plt.title('Точность предсказания модели')\n",
    "plt.xlabel('Глубина дерева');\n",
    "plt.ylabel('Accuracy');\n",
    "plt.legend(['valid','test']);"
   ]
  },
  {
   "cell_type": "markdown",
   "metadata": {},
   "source": [
    "График схож с валидационной, но здесь мы не достигаем высокой точности предсказания, как на валидационной выборке. Как мы видим, переобучение модели сдесь тоже наступает при глубине дерева более 12."
   ]
  },
  {
   "cell_type": "markdown",
   "metadata": {},
   "source": [
    "**KNeighborsClassifier**"
   ]
  },
  {
   "cell_type": "code",
   "execution_count": 36,
   "metadata": {},
   "outputs": [
    {
     "name": "stdout",
     "output_type": "stream",
     "text": [
      "Максимальное accuracy 77.76% достигается при параметре n_neighbors = 13 на отложенной выборке\n",
      "Максимальное accuracy 77.10% достигается при параметре n_neighbors = 8 при кросс валидации на всех данных\n",
      "Максимальное accuracy 76.82% достигается при параметре n_neighbors = 11 при кросс валидации только на тренировочных данных\n"
     ]
    }
   ],
   "source": [
    "_accuracy_valid =df_neigbors.sort_values(by='accuracy_valid',ascending=False).head(1).loc[:,['neighbor','accuracy_valid']]\n",
    "print('Максимальное accuracy {:.2%} достигается при параметре n_neighbors = {:.0f} на отложенной выборке'\\\n",
    "      .format(_accuracy_valid.values[0][1],_accuracy_valid.values[0][0]))\n",
    "_accuracy_valid =df_neigbors.sort_values(by='cross_valid_knn_total',ascending=False).head(1).loc[:,['neighbor','cross_valid_knn_total']]\n",
    "print('Максимальное accuracy {:.2%} достигается при параметре n_neighbors = {:.0f} при кросс валидации на всех данных'\\\n",
    "      .format(_accuracy_valid.values[0][1],_accuracy_valid.values[0][0]))\n",
    "_accuracy_valid =df_neigbors.sort_values(by='cross_valid_knn',ascending=False).head(1).loc[:,['neighbor','cross_valid_knn']]\n",
    "print('Максимальное accuracy {:.2%} достигается при параметре n_neighbors = {:.0f} при кросс валидации только на тренировочных данных'\\\n",
    "      .format(_accuracy_valid.values[0][1],_accuracy_valid.values[0][0]))\n",
    "#print('Максимальное accuracy для ТОП-3 элементов при кросс валидации на всех данных  ')\n",
    "#display(df_neigbors.sort_values(by='cross_valid_knn_total',ascending=False).head(3).loc[:,['cross_valid_knn_total']])\n",
    "#print('Максимальное accuracy для ТОП-3 элементов при кросс валидации только на тренировочных данных ')\n",
    "#display(df_neigbors.sort_values(by='cross_valid_knn',ascending=False).head(3).loc[:,['neighbor','cross_valid_knn']])"
   ]
  },
  {
   "cell_type": "code",
   "execution_count": 37,
   "metadata": {
    "scrolled": false
   },
   "outputs": [
    {
     "data": {
      "image/png": "[encoded data removed]",
      "text/plain": [
       "<Figure size 1200x600 with 1 Axes>"
      ]
     },
     "metadata": {
      "needs_background": "light"
     },
     "output_type": "display_data"
    }
   ],
   "source": [
    "#df_neigbors = df_neigbors.iloc[:,1:2]\n",
    "#print(df_neigbors['index'])\n",
    "plt.figure(figsize=(12,6),dpi=100);\n",
    "plt.plot(df_neigbors['neighbor'],df_neigbors['accuracy_valid'],label = 'holdout');\n",
    "plt.plot(df_neigbors['neighbor'],df_neigbors['cross_valid_knn_total'],label = 'cv_total');\n",
    "plt.plot(df_neigbors['neighbor'],df_neigbors['cross_valid_knn'],label = 'cv');\n",
    "plt.legend();"
   ]
  },
  {
   "cell_type": "markdown",
   "metadata": {},
   "source": [
    "Используем для задачи классификации метод ближайших соседей в модели мы перебрали гиперпараметр `n_neighbors` и посмотрели как вдет себя модель при кросс валидации и отложенной выборках и получили следующие результаты:\n",
    "- Максимальное accuracy 77.76% достигается при параметре n_neighbors = 13 на отложенной выборке\n",
    "- Максимальное accuracy 76.70% достигается при параметре n_neighbors = 15 при кросс валидации на всех данных\n",
    "- Максимальное accuracy 76.87% достигается при параметре n_neighbors = 8 при кросс валидации только на тренировочных данных\n",
    "\n",
    "Как видим, если классификация тарифа происходит по 8-15 соседям, алгоритм выдает наиболее качественную модель.\n",
    "Но по сравнению с другими алгоритмами он не дал высокой точности, т.к. мы не нормировали признаки, назначив коэфициенты признакам"
   ]
  },
  {
   "cell_type": "markdown",
   "metadata": {},
   "source": [
    "**LogisticRegression**"
   ]
  },
  {
   "cell_type": "code",
   "execution_count": 38,
   "metadata": {},
   "outputs": [
    {
     "name": "stdout",
     "output_type": "stream",
     "text": [
      "Качество модели \"Логистическая регрессия\" на тестовой выборке равна 74.18%\n"
     ]
    }
   ],
   "source": [
    "print('Качество модели \"Логистическая регрессия\" на тестовой выборке равна {:.2%}'\n",
    "      .format(accuracy_test_LR))\n"
   ]
  },
  {
   "cell_type": "markdown",
   "metadata": {},
   "source": [
    "Т.к. у логистической регрессии в модели мало параметров , то она работает быстро, но точность у нее небольшая. ....."
   ]
  },
  {
   "cell_type": "markdown",
   "metadata": {},
   "source": [
    "**RandomForestClassifier**"
   ]
  },
  {
   "cell_type": "code",
   "execution_count": 39,
   "metadata": {},
   "outputs": [
    {
     "name": "stdout",
     "output_type": "stream",
     "text": [
      "    est  depth  score\n",
      "83   66     13   0.83\n",
      "Качество модели случайный лес на тестовой выборке равно 83.05%\n"
     ]
    }
   ],
   "source": [
    "df2 =pd.DataFrame(score_test_list)\n",
    "df2.set_axis(['est','depth','score'],axis=1,inplace=True)\n",
    "print(df2.sort_values(by='score',ascending=False).head(1))\n",
    "print('Качество модели случайный лес на тестовой выборке равно {:.2%}'.\\\n",
    "      format(df2.score.max()))"
   ]
  },
  {
   "cell_type": "markdown",
   "metadata": {},
   "source": [
    "__Общий вывод:__\n",
    "- Качество модели \"Дерево решений\" на тестовой выборке равна 79.32%\n",
    "- Качество модели \"Логистическая регрессия\" на тестовой выборке равна 74.18%\n",
    "- Качество модели \"Случайный лес\" на тестовой выборке равно  83.05%\n",
    " \n",
    "Качество моделей на тестовой выборке , меньше чем на валидационной. Немного непонятно с чем это связано.\n"
   ]
  },
  {
   "cell_type": "markdown",
   "metadata": {},
   "source": [
    "## Проверим модели на адекватность <a id=\"55\"></a>"
   ]
  },
  {
   "cell_type": "markdown",
   "metadata": {},
   "source": [
    "Сравненим модели с dummyClassifier  необходимо чтобы понять, что наша модель не хуже чем примитивная модель. Нужно узнать,что точность модели не близка к случайной, возможно мы некорректнно подобрали гиперпараметры или выбрали саму модель для данной задачи."
   ]
  },
  {
   "cell_type": "code",
   "execution_count": 40,
   "metadata": {},
   "outputs": [
    {
     "name": "stdout",
     "output_type": "stream",
     "text": [
      "Качество на примитивной модели на данной выборке равно: 0.60\n"
     ]
    }
   ],
   "source": [
    "from sklearn.dummy import DummyClassifier\n",
    "clf = DummyClassifier(strategy='stratified', random_state=890)\n",
    "clf.fit(train_features,train_target)\n",
    "#print(clf.get_params())\n",
    "print('Качество на примитивной модели на данной выборке равно: %.2f'%clf.score(valid_predict,valid_target))"
   ]
  },
  {
   "cell_type": "markdown",
   "metadata": {},
   "source": [
    "Качество модели ``RandomForestClassifier`` превышает качество модели ``DummyClassifier`` поэтому мы смело можем предполагать что наша модель эффективней, чем просто случайно назначать пользователю один из тарифов."
   ]
  },
  {
   "cell_type": "markdown",
   "metadata": {},
   "source": [
    "## Чек-лист готовности проекта"
   ]
  },
  {
   "cell_type": "markdown",
   "metadata": {},
   "source": [
    "Поставьте 'x' в выполненных пунктах. Далее нажмите Shift+Enter."
   ]
  },
  {
   "cell_type": "markdown",
   "metadata": {},
   "source": [
    "- [x] Jupyter Notebook открыт\n",
    "- [x] Весь код исполняется без ошибок\n",
    "- [x] Ячейки с кодом расположены в порядке исполнения\n",
    "- [x] Выполнено задание 1: данные загружены и изучены\n",
    "- [x] Выполнено задание 2: данные разбиты на три выборки\n",
    "- [x] Выполнено задание 3: проведено исследование моделей\n",
    "    - [x] Рассмотрено больше одной модели\n",
    "    - [x] Рассмотрено хотя бы 3 значения гипепараметров для какой-нибудь модели\n",
    "    - [x] Написаны выводы по результатам исследования\n",
    "- [x] Выполнено задание 3: Проведено тестирование\n",
    "- [x] Удалось достичь accuracy не меньше 0.75\n"
   ]
  }
 ],
 "metadata": {
  "kernelspec": {
   "display_name": "Python 3",
   "language": "python",
   "name": "python3"
  },
  "language_info": {
   "codemirror_mode": {
    "name": "ipython",
    "version": 3
   },
   "file_extension": ".py",
   "mimetype": "text/x-python",
   "name": "python",
   "nbconvert_exporter": "python",
   "pygments_lexer": "ipython3",
   "version": "3.8.5"
  },
  "toc": {
   "base_numbering": 1,
   "nav_menu": {},
   "number_sections": true,
   "sideBar": true,
   "skip_h1_title": true,
   "title_cell": "Table of Contents",
   "title_sidebar": "Contents",
   "toc_cell": false,
   "toc_position": {},
   "toc_section_display": true,
   "toc_window_display": false
  }
 },
 "nbformat": 4,
 "nbformat_minor": 2
}
